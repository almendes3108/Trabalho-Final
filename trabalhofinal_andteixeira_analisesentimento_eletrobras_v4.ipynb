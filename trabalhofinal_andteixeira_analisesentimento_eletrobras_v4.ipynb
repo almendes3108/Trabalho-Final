{
  "nbformat": 4,
  "nbformat_minor": 0,
  "metadata": {
    "colab": {
      "provenance": [],
      "collapsed_sections": [
        "p1CXkDTXVM4O",
        "ehAPzUVeWSmt"
      ]
    },
    "kernelspec": {
      "name": "python3",
      "display_name": "Python 3"
    },
    "language_info": {
      "name": "python"
    }
  },
  "cells": [
    {
      "cell_type": "markdown",
      "source": [
        "#  Introdução\n",
        "\n",
        "A extração de dados do Twitter pode ser uma ferramenta valiosa para as empresas públicas que buscam compreender melhor o sentimento e as necessidades dos cidadãos. Com bilhões de tweets sendo publicados diariamente, o Twitter oferece uma riqueza de informações que as empresas públicas podem usar para melhorar a visão e o objetivo da empresa para a sociedade.\n"
      ],
      "metadata": {
        "id": "p0S2NyDqUduh"
      }
    },
    {
      "cell_type": "markdown",
      "source": [
        "Importando as Bibliotecas necessárias para a extração dos dados, tratamento dos dados, análise dos dados e treinamento de modelos"
      ],
      "metadata": {
        "id": "UJwWiubSUu91"
      }
    },
    {
      "cell_type": "code",
      "execution_count": 68,
      "metadata": {
        "colab": {
          "base_uri": "https://localhost:8080/"
        },
        "id": "Z74rD0hgTfap",
        "outputId": "4961e756-1ae3-4850-882e-28a798c0d429"
      },
      "outputs": [
        {
          "output_type": "stream",
          "name": "stdout",
          "text": [
            "Looking in indexes: https://pypi.org/simple, https://us-python.pkg.dev/colab-wheels/public/simple/\n",
            "Requirement already satisfied: tweepy in /usr/local/lib/python3.9/dist-packages (4.13.0)\n",
            "Requirement already satisfied: requests-oauthlib<2,>=1.2.0 in /usr/local/lib/python3.9/dist-packages (from tweepy) (1.3.1)\n",
            "Requirement already satisfied: oauthlib<4,>=3.2.0 in /usr/local/lib/python3.9/dist-packages (from tweepy) (3.2.2)\n",
            "Requirement already satisfied: requests<3,>=2.27.0 in /usr/local/lib/python3.9/dist-packages (from tweepy) (2.27.1)\n",
            "Requirement already satisfied: urllib3<1.27,>=1.21.1 in /usr/local/lib/python3.9/dist-packages (from requests<3,>=2.27.0->tweepy) (1.26.15)\n",
            "Requirement already satisfied: idna<4,>=2.5 in /usr/local/lib/python3.9/dist-packages (from requests<3,>=2.27.0->tweepy) (3.4)\n",
            "Requirement already satisfied: charset-normalizer~=2.0.0 in /usr/local/lib/python3.9/dist-packages (from requests<3,>=2.27.0->tweepy) (2.0.12)\n",
            "Requirement already satisfied: certifi>=2017.4.17 in /usr/local/lib/python3.9/dist-packages (from requests<3,>=2.27.0->tweepy) (2022.12.7)\n"
          ]
        }
      ],
      "source": [
        "!pip3 install tweepy --upgrade"
      ]
    },
    {
      "cell_type": "code",
      "source": [
        "!pip install nltk\n",
        "import nltk"
      ],
      "metadata": {
        "colab": {
          "base_uri": "https://localhost:8080/"
        },
        "id": "ocTqqzbZWwzB",
        "outputId": "70ab9a51-164c-417e-f6d3-d738344b1664"
      },
      "execution_count": 69,
      "outputs": [
        {
          "output_type": "stream",
          "name": "stdout",
          "text": [
            "Looking in indexes: https://pypi.org/simple, https://us-python.pkg.dev/colab-wheels/public/simple/\n",
            "Requirement already satisfied: nltk in /usr/local/lib/python3.9/dist-packages (3.8.1)\n",
            "Requirement already satisfied: regex>=2021.8.3 in /usr/local/lib/python3.9/dist-packages (from nltk) (2022.10.31)\n",
            "Requirement already satisfied: click in /usr/local/lib/python3.9/dist-packages (from nltk) (8.1.3)\n",
            "Requirement already satisfied: joblib in /usr/local/lib/python3.9/dist-packages (from nltk) (1.2.0)\n",
            "Requirement already satisfied: tqdm in /usr/local/lib/python3.9/dist-packages (from nltk) (4.65.0)\n"
          ]
        }
      ]
    },
    {
      "cell_type": "code",
      "source": [
        "!pip install wordcloud\n",
        "from wordcloud import WordCloud"
      ],
      "metadata": {
        "colab": {
          "base_uri": "https://localhost:8080/"
        },
        "id": "1oFjPExAXa6_",
        "outputId": "357c1eaf-3fb5-426c-d8b9-45325fabb55d"
      },
      "execution_count": 70,
      "outputs": [
        {
          "output_type": "stream",
          "name": "stdout",
          "text": [
            "Looking in indexes: https://pypi.org/simple, https://us-python.pkg.dev/colab-wheels/public/simple/\n",
            "Requirement already satisfied: wordcloud in /usr/local/lib/python3.9/dist-packages (1.8.2.2)\n",
            "Requirement already satisfied: matplotlib in /usr/local/lib/python3.9/dist-packages (from wordcloud) (3.7.1)\n",
            "Requirement already satisfied: pillow in /usr/local/lib/python3.9/dist-packages (from wordcloud) (8.4.0)\n",
            "Requirement already satisfied: numpy>=1.6.1 in /usr/local/lib/python3.9/dist-packages (from wordcloud) (1.22.4)\n",
            "Requirement already satisfied: packaging>=20.0 in /usr/local/lib/python3.9/dist-packages (from matplotlib->wordcloud) (23.1)\n",
            "Requirement already satisfied: pyparsing>=2.3.1 in /usr/local/lib/python3.9/dist-packages (from matplotlib->wordcloud) (3.0.9)\n",
            "Requirement already satisfied: fonttools>=4.22.0 in /usr/local/lib/python3.9/dist-packages (from matplotlib->wordcloud) (4.39.3)\n",
            "Requirement already satisfied: importlib-resources>=3.2.0 in /usr/local/lib/python3.9/dist-packages (from matplotlib->wordcloud) (5.12.0)\n",
            "Requirement already satisfied: python-dateutil>=2.7 in /usr/local/lib/python3.9/dist-packages (from matplotlib->wordcloud) (2.8.2)\n",
            "Requirement already satisfied: kiwisolver>=1.0.1 in /usr/local/lib/python3.9/dist-packages (from matplotlib->wordcloud) (1.4.4)\n",
            "Requirement already satisfied: cycler>=0.10 in /usr/local/lib/python3.9/dist-packages (from matplotlib->wordcloud) (0.11.0)\n",
            "Requirement already satisfied: contourpy>=1.0.1 in /usr/local/lib/python3.9/dist-packages (from matplotlib->wordcloud) (1.0.7)\n",
            "Requirement already satisfied: zipp>=3.1.0 in /usr/local/lib/python3.9/dist-packages (from importlib-resources>=3.2.0->matplotlib->wordcloud) (3.15.0)\n",
            "Requirement already satisfied: six>=1.5 in /usr/local/lib/python3.9/dist-packages (from python-dateutil>=2.7->matplotlib->wordcloud) (1.16.0)\n"
          ]
        }
      ]
    },
    {
      "cell_type": "code",
      "source": [
        "import tweepy\n",
        "import numpy as np\n",
        "import pandas as pd\n",
        "import re\n",
        "import string\n",
        "import matplotlib.pyplot as plt\n",
        "from textblob import TextBlob\n",
        "#from google.colab                    import drive\n",
        "from nltk.corpus                     import stopwords\n",
        "nltk.download('punkt')\n",
        "from nltk.tokenize                   import word_tokenize\n",
        "import nltk\n",
        "nltk.download('vader_lexicon')\n",
        "from collections import Counter\n",
        "from nltk.tag import pos_tag\n",
        "from sklearn.feature_extraction.text import CountVectorizer\n",
        "from sklearn.naive_bayes             import MultinomialNB\n",
        "from sklearn                         import metrics\n",
        "from sklearn.model_selection         import cross_val_predict\n",
        "from sklearn.ensemble                import RandomForestClassifier\n",
        "from sklearn.feature_extraction.text import TfidfVectorizer\n",
        "from sklearn.model_selection import train_test_split\n",
        "from sklearn.svm import SVC\n",
        "from sklearn.metrics import classification_report\n",
        "from sklearn.metrics import accuracy_score"
      ],
      "metadata": {
        "id": "xskg2G2sTtq8",
        "colab": {
          "base_uri": "https://localhost:8080/"
        },
        "outputId": "6f00038c-dcf9-4193-e48f-80f599b251db"
      },
      "execution_count": 71,
      "outputs": [
        {
          "output_type": "stream",
          "name": "stderr",
          "text": [
            "[nltk_data] Downloading package punkt to /root/nltk_data...\n",
            "[nltk_data]   Package punkt is already up-to-date!\n",
            "[nltk_data] Downloading package vader_lexicon to /root/nltk_data...\n",
            "[nltk_data]   Package vader_lexicon is already up-to-date!\n"
          ]
        }
      ]
    },
    {
      "cell_type": "markdown",
      "source": [
        "# Chave de acesso para extração de dados via API do Twitter\n"
      ],
      "metadata": {
        "id": "p1CXkDTXVM4O"
      }
    },
    {
      "cell_type": "code",
      "source": [
        "#Chave\n",
        "bearer_token = \"AAAAAAAAAAAAAAAAAAAAAGJrlgEAAAAAbwqHxRmdRHG1qqeZTzx7OrESAig%3D4QiKcBbjpuEmOXMRala40QU0D2QSEWEPIVyIRKcjlG29JDgACA\"\n",
        "\n",
        "client = tweepy.Client(bearer_token=bearer_token)"
      ],
      "metadata": {
        "id": "n97hZq-wT2IH"
      },
      "execution_count": 72,
      "outputs": []
    },
    {
      "cell_type": "code",
      "source": [
        "df2 = pd.DataFrame(columns=['ID', 'text'])"
      ],
      "metadata": {
        "id": "fh92u59ooxip"
      },
      "execution_count": 73,
      "outputs": []
    },
    {
      "cell_type": "markdown",
      "source": [
        "Método usado para extração dos dados do Twitter"
      ],
      "metadata": {
        "id": "BF4RQ3RfV2bp"
      }
    },
    {
      "cell_type": "code",
      "source": [
        "public_tweets = tweepy.Paginator(client.search_recent_tweets, query='eletrobras', \n",
        "                              max_results=100).flatten(limit=2000)"
      ],
      "metadata": {
        "id": "x0mt9aHPMgp3"
      },
      "execution_count": 74,
      "outputs": []
    },
    {
      "cell_type": "code",
      "source": [
        "analysis = None"
      ],
      "metadata": {
        "id": "rXLhRxa5Mql_"
      },
      "execution_count": 75,
      "outputs": []
    },
    {
      "cell_type": "code",
      "source": [
        "count = 0\n",
        "for tweet in public_tweets:\n",
        "  analysis = TextBlob(tweet.text)\n",
        "  \n",
        "  df2.loc[count] = [tweet.id]+[tweet.text]\n",
        "  \n",
        "  count += 1"
      ],
      "metadata": {
        "id": "rZTY-PFlncbB"
      },
      "execution_count": 76,
      "outputs": []
    },
    {
      "cell_type": "code",
      "source": [
        "df2.head(100)"
      ],
      "metadata": {
        "colab": {
          "base_uri": "https://localhost:8080/",
          "height": 0
        },
        "id": "dKAHh_0rMbQD",
        "outputId": "664910cc-d0fe-465d-b732-60e5d40bf799"
      },
      "execution_count": 77,
      "outputs": [
        {
          "output_type": "execute_result",
          "data": {
            "text/plain": [
              "                     ID                                               text\n",
              "0   1650289032478195714  Eletrobras is the giant of the Brazilian elect...\n",
              "1   1650288735785824256  The Eletrobras is big , It is Great , It is fr...\n",
              "2   1650288543258771458  renationalize Eletrobras and Petrobras for yes...\n",
              "3   1650288162302840833  Absurd what happened 🤬 yes, take back control ...\n",
              "4   1650287640338477057  Tem que reverter a privatização da Eletrobrás SIM\n",
              "..                  ...                                                ...\n",
              "95  1650246933301084161  RT @requiaooficial: Janja entrou numa loja em ...\n",
              "96  1650246231489228800  RT @EdsonFilho74: ESTOU COM JANJA!\\nPorquê ela...\n",
              "97  1650245741808328705  RT @requiaooficial: Janja entrou numa loja em ...\n",
              "98  1650244063231111168  RT @requiaooficial: Janja entrou numa loja em ...\n",
              "99  1650243808011927553  RT @requiaooficial: Janja entrou numa loja em ...\n",
              "\n",
              "[100 rows x 2 columns]"
            ],
            "text/html": [
              "\n",
              "  <div id=\"df-1f4ee728-22b7-4df1-a1e6-82ba15900b70\">\n",
              "    <div class=\"colab-df-container\">\n",
              "      <div>\n",
              "<style scoped>\n",
              "    .dataframe tbody tr th:only-of-type {\n",
              "        vertical-align: middle;\n",
              "    }\n",
              "\n",
              "    .dataframe tbody tr th {\n",
              "        vertical-align: top;\n",
              "    }\n",
              "\n",
              "    .dataframe thead th {\n",
              "        text-align: right;\n",
              "    }\n",
              "</style>\n",
              "<table border=\"1\" class=\"dataframe\">\n",
              "  <thead>\n",
              "    <tr style=\"text-align: right;\">\n",
              "      <th></th>\n",
              "      <th>ID</th>\n",
              "      <th>text</th>\n",
              "    </tr>\n",
              "  </thead>\n",
              "  <tbody>\n",
              "    <tr>\n",
              "      <th>0</th>\n",
              "      <td>1650289032478195714</td>\n",
              "      <td>Eletrobras is the giant of the Brazilian elect...</td>\n",
              "    </tr>\n",
              "    <tr>\n",
              "      <th>1</th>\n",
              "      <td>1650288735785824256</td>\n",
              "      <td>The Eletrobras is big , It is Great , It is fr...</td>\n",
              "    </tr>\n",
              "    <tr>\n",
              "      <th>2</th>\n",
              "      <td>1650288543258771458</td>\n",
              "      <td>renationalize Eletrobras and Petrobras for yes...</td>\n",
              "    </tr>\n",
              "    <tr>\n",
              "      <th>3</th>\n",
              "      <td>1650288162302840833</td>\n",
              "      <td>Absurd what happened 🤬 yes, take back control ...</td>\n",
              "    </tr>\n",
              "    <tr>\n",
              "      <th>4</th>\n",
              "      <td>1650287640338477057</td>\n",
              "      <td>Tem que reverter a privatização da Eletrobrás SIM</td>\n",
              "    </tr>\n",
              "    <tr>\n",
              "      <th>...</th>\n",
              "      <td>...</td>\n",
              "      <td>...</td>\n",
              "    </tr>\n",
              "    <tr>\n",
              "      <th>95</th>\n",
              "      <td>1650246933301084161</td>\n",
              "      <td>RT @requiaooficial: Janja entrou numa loja em ...</td>\n",
              "    </tr>\n",
              "    <tr>\n",
              "      <th>96</th>\n",
              "      <td>1650246231489228800</td>\n",
              "      <td>RT @EdsonFilho74: ESTOU COM JANJA!\\nPorquê ela...</td>\n",
              "    </tr>\n",
              "    <tr>\n",
              "      <th>97</th>\n",
              "      <td>1650245741808328705</td>\n",
              "      <td>RT @requiaooficial: Janja entrou numa loja em ...</td>\n",
              "    </tr>\n",
              "    <tr>\n",
              "      <th>98</th>\n",
              "      <td>1650244063231111168</td>\n",
              "      <td>RT @requiaooficial: Janja entrou numa loja em ...</td>\n",
              "    </tr>\n",
              "    <tr>\n",
              "      <th>99</th>\n",
              "      <td>1650243808011927553</td>\n",
              "      <td>RT @requiaooficial: Janja entrou numa loja em ...</td>\n",
              "    </tr>\n",
              "  </tbody>\n",
              "</table>\n",
              "<p>100 rows × 2 columns</p>\n",
              "</div>\n",
              "      <button class=\"colab-df-convert\" onclick=\"convertToInteractive('df-1f4ee728-22b7-4df1-a1e6-82ba15900b70')\"\n",
              "              title=\"Convert this dataframe to an interactive table.\"\n",
              "              style=\"display:none;\">\n",
              "        \n",
              "  <svg xmlns=\"http://www.w3.org/2000/svg\" height=\"24px\"viewBox=\"0 0 24 24\"\n",
              "       width=\"24px\">\n",
              "    <path d=\"M0 0h24v24H0V0z\" fill=\"none\"/>\n",
              "    <path d=\"M18.56 5.44l.94 2.06.94-2.06 2.06-.94-2.06-.94-.94-2.06-.94 2.06-2.06.94zm-11 1L8.5 8.5l.94-2.06 2.06-.94-2.06-.94L8.5 2.5l-.94 2.06-2.06.94zm10 10l.94 2.06.94-2.06 2.06-.94-2.06-.94-.94-2.06-.94 2.06-2.06.94z\"/><path d=\"M17.41 7.96l-1.37-1.37c-.4-.4-.92-.59-1.43-.59-.52 0-1.04.2-1.43.59L10.3 9.45l-7.72 7.72c-.78.78-.78 2.05 0 2.83L4 21.41c.39.39.9.59 1.41.59.51 0 1.02-.2 1.41-.59l7.78-7.78 2.81-2.81c.8-.78.8-2.07 0-2.86zM5.41 20L4 18.59l7.72-7.72 1.47 1.35L5.41 20z\"/>\n",
              "  </svg>\n",
              "      </button>\n",
              "      \n",
              "  <style>\n",
              "    .colab-df-container {\n",
              "      display:flex;\n",
              "      flex-wrap:wrap;\n",
              "      gap: 12px;\n",
              "    }\n",
              "\n",
              "    .colab-df-convert {\n",
              "      background-color: #E8F0FE;\n",
              "      border: none;\n",
              "      border-radius: 50%;\n",
              "      cursor: pointer;\n",
              "      display: none;\n",
              "      fill: #1967D2;\n",
              "      height: 32px;\n",
              "      padding: 0 0 0 0;\n",
              "      width: 32px;\n",
              "    }\n",
              "\n",
              "    .colab-df-convert:hover {\n",
              "      background-color: #E2EBFA;\n",
              "      box-shadow: 0px 1px 2px rgba(60, 64, 67, 0.3), 0px 1px 3px 1px rgba(60, 64, 67, 0.15);\n",
              "      fill: #174EA6;\n",
              "    }\n",
              "\n",
              "    [theme=dark] .colab-df-convert {\n",
              "      background-color: #3B4455;\n",
              "      fill: #D2E3FC;\n",
              "    }\n",
              "\n",
              "    [theme=dark] .colab-df-convert:hover {\n",
              "      background-color: #434B5C;\n",
              "      box-shadow: 0px 1px 3px 1px rgba(0, 0, 0, 0.15);\n",
              "      filter: drop-shadow(0px 1px 2px rgba(0, 0, 0, 0.3));\n",
              "      fill: #FFFFFF;\n",
              "    }\n",
              "  </style>\n",
              "\n",
              "      <script>\n",
              "        const buttonEl =\n",
              "          document.querySelector('#df-1f4ee728-22b7-4df1-a1e6-82ba15900b70 button.colab-df-convert');\n",
              "        buttonEl.style.display =\n",
              "          google.colab.kernel.accessAllowed ? 'block' : 'none';\n",
              "\n",
              "        async function convertToInteractive(key) {\n",
              "          const element = document.querySelector('#df-1f4ee728-22b7-4df1-a1e6-82ba15900b70');\n",
              "          const dataTable =\n",
              "            await google.colab.kernel.invokeFunction('convertToInteractive',\n",
              "                                                     [key], {});\n",
              "          if (!dataTable) return;\n",
              "\n",
              "          const docLinkHtml = 'Like what you see? Visit the ' +\n",
              "            '<a target=\"_blank\" href=https://colab.research.google.com/notebooks/data_table.ipynb>data table notebook</a>'\n",
              "            + ' to learn more about interactive tables.';\n",
              "          element.innerHTML = '';\n",
              "          dataTable['output_type'] = 'display_data';\n",
              "          await google.colab.output.renderOutput(dataTable, element);\n",
              "          const docLink = document.createElement('div');\n",
              "          docLink.innerHTML = docLinkHtml;\n",
              "          element.appendChild(docLink);\n",
              "        }\n",
              "      </script>\n",
              "    </div>\n",
              "  </div>\n",
              "  "
            ]
          },
          "metadata": {},
          "execution_count": 77
        }
      ]
    },
    {
      "cell_type": "markdown",
      "source": [
        "Expressão regular para remover toda a pontuação"
      ],
      "metadata": {
        "id": "eInLUDVtWHgE"
      }
    },
    {
      "cell_type": "code",
      "source": [
        "# Essa expressão regular remove toda a pontuação\n",
        "punc_re = lambda x: re.sub('[%s]' % re.escape(string.punctuation), ' ', x)\n",
        "df2['text'] = df2.text.map(punc_re)"
      ],
      "metadata": {
        "id": "oC2qKVBQMlp5"
      },
      "execution_count": 78,
      "outputs": []
    },
    {
      "cell_type": "markdown",
      "source": [
        "Expressão Regular para remoção de palavras com números e colocar as palavras em minúsculas"
      ],
      "metadata": {
        "id": "Ouy2uPOCXBt1"
      }
    },
    {
      "cell_type": "code",
      "source": [
        "# Essa expressão regular remove todas as palavras com números e também torna todas as palavras em minúsculas\n",
        "lower_alpha = lambda x: re.sub(r\"\"\"\\w*\\d\\w*\"\"\", ' ', x.lower())\n",
        "df2['text'] = df2.text.map(lower_alpha)"
      ],
      "metadata": {
        "id": "yXnViIbFW-XW"
      },
      "execution_count": 79,
      "outputs": []
    },
    {
      "cell_type": "markdown",
      "source": [
        "Tokenização"
      ],
      "metadata": {
        "id": "pTea318WWPUV"
      }
    },
    {
      "cell_type": "code",
      "source": [
        "#faz uso do nltk.download('punkt')\n",
        "#from nltk.tokenize import word_tokenize\n",
        "\n",
        "df2['tokens'] = df2.text.map(word_tokenize)\n",
        "df2.head()"
      ],
      "metadata": {
        "colab": {
          "base_uri": "https://localhost:8080/",
          "height": 0
        },
        "id": "cU5QTeyEMbGh",
        "outputId": "aad43ac9-f18c-4056-d77d-dd1f3e48b4a8"
      },
      "execution_count": 80,
      "outputs": [
        {
          "output_type": "execute_result",
          "data": {
            "text/plain": [
              "                    ID                                               text  \\\n",
              "0  1650289032478195714  eletrobras is the giant of the brazilian elect...   \n",
              "1  1650288735785824256  the eletrobras is big   it is great   it is fr...   \n",
              "2  1650288543258771458  renationalize eletrobras and petrobras for yes...   \n",
              "3  1650288162302840833  absurd what happened 🤬 yes  take back control ...   \n",
              "4  1650287640338477057  tem que reverter a privatização da eletrobrás sim   \n",
              "\n",
              "                                              tokens  \n",
              "0  [eletrobras, is, the, giant, of, the, brazilia...  \n",
              "1  [the, eletrobras, is, big, it, is, great, it, ...  \n",
              "2  [renationalize, eletrobras, and, petrobras, fo...  \n",
              "3  [absurd, what, happened, 🤬, yes, take, back, c...  \n",
              "4  [tem, que, reverter, a, privatização, da, elet...  "
            ],
            "text/html": [
              "\n",
              "  <div id=\"df-598eccb8-e41f-49c1-9e1e-48e0a41d2890\">\n",
              "    <div class=\"colab-df-container\">\n",
              "      <div>\n",
              "<style scoped>\n",
              "    .dataframe tbody tr th:only-of-type {\n",
              "        vertical-align: middle;\n",
              "    }\n",
              "\n",
              "    .dataframe tbody tr th {\n",
              "        vertical-align: top;\n",
              "    }\n",
              "\n",
              "    .dataframe thead th {\n",
              "        text-align: right;\n",
              "    }\n",
              "</style>\n",
              "<table border=\"1\" class=\"dataframe\">\n",
              "  <thead>\n",
              "    <tr style=\"text-align: right;\">\n",
              "      <th></th>\n",
              "      <th>ID</th>\n",
              "      <th>text</th>\n",
              "      <th>tokens</th>\n",
              "    </tr>\n",
              "  </thead>\n",
              "  <tbody>\n",
              "    <tr>\n",
              "      <th>0</th>\n",
              "      <td>1650289032478195714</td>\n",
              "      <td>eletrobras is the giant of the brazilian elect...</td>\n",
              "      <td>[eletrobras, is, the, giant, of, the, brazilia...</td>\n",
              "    </tr>\n",
              "    <tr>\n",
              "      <th>1</th>\n",
              "      <td>1650288735785824256</td>\n",
              "      <td>the eletrobras is big   it is great   it is fr...</td>\n",
              "      <td>[the, eletrobras, is, big, it, is, great, it, ...</td>\n",
              "    </tr>\n",
              "    <tr>\n",
              "      <th>2</th>\n",
              "      <td>1650288543258771458</td>\n",
              "      <td>renationalize eletrobras and petrobras for yes...</td>\n",
              "      <td>[renationalize, eletrobras, and, petrobras, fo...</td>\n",
              "    </tr>\n",
              "    <tr>\n",
              "      <th>3</th>\n",
              "      <td>1650288162302840833</td>\n",
              "      <td>absurd what happened 🤬 yes  take back control ...</td>\n",
              "      <td>[absurd, what, happened, 🤬, yes, take, back, c...</td>\n",
              "    </tr>\n",
              "    <tr>\n",
              "      <th>4</th>\n",
              "      <td>1650287640338477057</td>\n",
              "      <td>tem que reverter a privatização da eletrobrás sim</td>\n",
              "      <td>[tem, que, reverter, a, privatização, da, elet...</td>\n",
              "    </tr>\n",
              "  </tbody>\n",
              "</table>\n",
              "</div>\n",
              "      <button class=\"colab-df-convert\" onclick=\"convertToInteractive('df-598eccb8-e41f-49c1-9e1e-48e0a41d2890')\"\n",
              "              title=\"Convert this dataframe to an interactive table.\"\n",
              "              style=\"display:none;\">\n",
              "        \n",
              "  <svg xmlns=\"http://www.w3.org/2000/svg\" height=\"24px\"viewBox=\"0 0 24 24\"\n",
              "       width=\"24px\">\n",
              "    <path d=\"M0 0h24v24H0V0z\" fill=\"none\"/>\n",
              "    <path d=\"M18.56 5.44l.94 2.06.94-2.06 2.06-.94-2.06-.94-.94-2.06-.94 2.06-2.06.94zm-11 1L8.5 8.5l.94-2.06 2.06-.94-2.06-.94L8.5 2.5l-.94 2.06-2.06.94zm10 10l.94 2.06.94-2.06 2.06-.94-2.06-.94-.94-2.06-.94 2.06-2.06.94z\"/><path d=\"M17.41 7.96l-1.37-1.37c-.4-.4-.92-.59-1.43-.59-.52 0-1.04.2-1.43.59L10.3 9.45l-7.72 7.72c-.78.78-.78 2.05 0 2.83L4 21.41c.39.39.9.59 1.41.59.51 0 1.02-.2 1.41-.59l7.78-7.78 2.81-2.81c.8-.78.8-2.07 0-2.86zM5.41 20L4 18.59l7.72-7.72 1.47 1.35L5.41 20z\"/>\n",
              "  </svg>\n",
              "      </button>\n",
              "      \n",
              "  <style>\n",
              "    .colab-df-container {\n",
              "      display:flex;\n",
              "      flex-wrap:wrap;\n",
              "      gap: 12px;\n",
              "    }\n",
              "\n",
              "    .colab-df-convert {\n",
              "      background-color: #E8F0FE;\n",
              "      border: none;\n",
              "      border-radius: 50%;\n",
              "      cursor: pointer;\n",
              "      display: none;\n",
              "      fill: #1967D2;\n",
              "      height: 32px;\n",
              "      padding: 0 0 0 0;\n",
              "      width: 32px;\n",
              "    }\n",
              "\n",
              "    .colab-df-convert:hover {\n",
              "      background-color: #E2EBFA;\n",
              "      box-shadow: 0px 1px 2px rgba(60, 64, 67, 0.3), 0px 1px 3px 1px rgba(60, 64, 67, 0.15);\n",
              "      fill: #174EA6;\n",
              "    }\n",
              "\n",
              "    [theme=dark] .colab-df-convert {\n",
              "      background-color: #3B4455;\n",
              "      fill: #D2E3FC;\n",
              "    }\n",
              "\n",
              "    [theme=dark] .colab-df-convert:hover {\n",
              "      background-color: #434B5C;\n",
              "      box-shadow: 0px 1px 3px 1px rgba(0, 0, 0, 0.15);\n",
              "      filter: drop-shadow(0px 1px 2px rgba(0, 0, 0, 0.3));\n",
              "      fill: #FFFFFF;\n",
              "    }\n",
              "  </style>\n",
              "\n",
              "      <script>\n",
              "        const buttonEl =\n",
              "          document.querySelector('#df-598eccb8-e41f-49c1-9e1e-48e0a41d2890 button.colab-df-convert');\n",
              "        buttonEl.style.display =\n",
              "          google.colab.kernel.accessAllowed ? 'block' : 'none';\n",
              "\n",
              "        async function convertToInteractive(key) {\n",
              "          const element = document.querySelector('#df-598eccb8-e41f-49c1-9e1e-48e0a41d2890');\n",
              "          const dataTable =\n",
              "            await google.colab.kernel.invokeFunction('convertToInteractive',\n",
              "                                                     [key], {});\n",
              "          if (!dataTable) return;\n",
              "\n",
              "          const docLinkHtml = 'Like what you see? Visit the ' +\n",
              "            '<a target=\"_blank\" href=https://colab.research.google.com/notebooks/data_table.ipynb>data table notebook</a>'\n",
              "            + ' to learn more about interactive tables.';\n",
              "          element.innerHTML = '';\n",
              "          dataTable['output_type'] = 'display_data';\n",
              "          await google.colab.output.renderOutput(dataTable, element);\n",
              "          const docLink = document.createElement('div');\n",
              "          docLink.innerHTML = docLinkHtml;\n",
              "          element.appendChild(docLink);\n",
              "        }\n",
              "      </script>\n",
              "    </div>\n",
              "  </div>\n",
              "  "
            ]
          },
          "metadata": {},
          "execution_count": 80
        }
      ]
    },
    {
      "cell_type": "markdown",
      "source": [
        "# Análise de Sentimento\n",
        "\n",
        "A análise de sentimento é importante para rotularmos as saídas dos textos extraídos de nossa base de dados. Para tal função , usamos uma biblioteca de processamento de linguagem natural chamada NLTK (Natural Language Toolkit), importando ferramentas para a possibilidade de análise."
      ],
      "metadata": {
        "id": "ehAPzUVeWSmt"
      }
    },
    {
      "cell_type": "code",
      "source": [
        "from nltk.sentiment import SentimentIntensityAnalyzer\n"
      ],
      "metadata": {
        "id": "sVvEaMcOSl5Y"
      },
      "execution_count": 81,
      "outputs": []
    },
    {
      "cell_type": "code",
      "source": [
        "import nltk\n",
        "nltk.download('vader_lexicon')"
      ],
      "metadata": {
        "colab": {
          "base_uri": "https://localhost:8080/"
        },
        "id": "DW_SxP9vS-vS",
        "outputId": "d3d66e01-8d58-46f1-f623-6242e23497b7"
      },
      "execution_count": 82,
      "outputs": [
        {
          "output_type": "stream",
          "name": "stderr",
          "text": [
            "[nltk_data] Downloading package vader_lexicon to /root/nltk_data...\n",
            "[nltk_data]   Package vader_lexicon is already up-to-date!\n"
          ]
        },
        {
          "output_type": "execute_result",
          "data": {
            "text/plain": [
              "True"
            ]
          },
          "metadata": {},
          "execution_count": 82
        }
      ]
    },
    {
      "cell_type": "code",
      "source": [
        "from nltk.tokenize import TweetTokenizer\n"
      ],
      "metadata": {
        "id": "6KX-7cXodJQ5"
      },
      "execution_count": 83,
      "outputs": []
    },
    {
      "cell_type": "code",
      "source": [
        "sia = SentimentIntensityAnalyzer()"
      ],
      "metadata": {
        "id": "oqJZDCHyS2lY"
      },
      "execution_count": 84,
      "outputs": []
    },
    {
      "cell_type": "code",
      "source": [
        "def analisar_sentimento2(texto):\n",
        "    tokens = TweetTokenizer(texto)\n",
        "    score = sia.polarity_scores(texto)\n",
        "    return score['compound']\n"
      ],
      "metadata": {
        "id": "Mcm5rUtmSaZ3"
      },
      "execution_count": 85,
      "outputs": []
    },
    {
      "cell_type": "code",
      "source": [
        "df2['Pontuacao2'] = df2['text'].apply(analisar_sentimento2)"
      ],
      "metadata": {
        "id": "eeQMX4VnSguP"
      },
      "execution_count": 86,
      "outputs": []
    },
    {
      "cell_type": "code",
      "source": [
        "df2.head(16)"
      ],
      "metadata": {
        "colab": {
          "base_uri": "https://localhost:8080/",
          "height": 0
        },
        "id": "46ThKz8NdNn9",
        "outputId": "dca825a1-010b-422e-a34e-f28205dfbead"
      },
      "execution_count": 87,
      "outputs": [
        {
          "output_type": "execute_result",
          "data": {
            "text/plain": [
              "                     ID                                               text  \\\n",
              "0   1650289032478195714  eletrobras is the giant of the brazilian elect...   \n",
              "1   1650288735785824256  the eletrobras is big   it is great   it is fr...   \n",
              "2   1650288543258771458  renationalize eletrobras and petrobras for yes...   \n",
              "3   1650288162302840833  absurd what happened 🤬 yes  take back control ...   \n",
              "4   1650287640338477057  tem que reverter a privatização da eletrobrás sim   \n",
              "5   1650287585250406402  rt      jornaldacultura bercovici  falta vonta...   \n",
              "6   1650287348582608896  rt     estou com janja \\nporquê ela é filiada ...   \n",
              "7   1650286803545358338       i completed   years inside eletrobras furnas   \n",
              "8   1650286674029445127                         i love eletrobras   furnas   \n",
              "9   1650286588515983360  with increased rainfall  brazil reduced the hy...   \n",
              "10  1650286122633773062  eletrobras announces   voluntary dismissal pla...   \n",
              "11  1650285833797218304  adhesion to the eletrobras voluntary dismissal...   \n",
              "12  1650285760686219264  rt  requiaooficial  janja entrou numa loja em ...   \n",
              "13  1650285689966149634  state owned companies lost brl   billion in ma...   \n",
              "14  1650285434713325569  lula diz que vai pedir revisão do contrato de ...   \n",
              "15  1650285243981496321  eletrobras anuncia processo seletivo para   va...   \n",
              "\n",
              "                                               tokens  Pontuacao2  \n",
              "0   [eletrobras, is, the, giant, of, the, brazilia...      0.5574  \n",
              "1   [the, eletrobras, is, big, it, is, great, it, ...      0.6249  \n",
              "2   [renationalize, eletrobras, and, petrobras, fo...      0.4215  \n",
              "3   [absurd, what, happened, 🤬, yes, take, back, c...      0.4019  \n",
              "4   [tem, que, reverter, a, privatização, da, elet...      0.0000  \n",
              "5   [rt, jornaldacultura, bercovici, falta, vontad...      0.0000  \n",
              "6   [rt, estou, com, janja, porquê, ela, é, filiad...      0.0000  \n",
              "7   [i, completed, years, inside, eletrobras, furnas]      0.0000  \n",
              "8                       [i, love, eletrobras, furnas]      0.6369  \n",
              "9   [with, increased, rainfall, brazil, reduced, t...      0.4767  \n",
              "10  [eletrobras, announces, voluntary, dismissal, ...     -0.5849  \n",
              "11  [adhesion, to, the, eletrobras, voluntary, dis...      0.0000  \n",
              "12  [rt, requiaooficial, janja, entrou, numa, loja...      0.0000  \n",
              "13  [state, owned, companies, lost, brl, billion, ...      0.0129  \n",
              "14  [lula, diz, que, vai, pedir, revisão, do, cont...      0.7650  \n",
              "15  [eletrobras, anuncia, processo, seletivo, para...     -0.6705  "
            ],
            "text/html": [
              "\n",
              "  <div id=\"df-1c7cda75-0802-41de-96b9-729147bf1504\">\n",
              "    <div class=\"colab-df-container\">\n",
              "      <div>\n",
              "<style scoped>\n",
              "    .dataframe tbody tr th:only-of-type {\n",
              "        vertical-align: middle;\n",
              "    }\n",
              "\n",
              "    .dataframe tbody tr th {\n",
              "        vertical-align: top;\n",
              "    }\n",
              "\n",
              "    .dataframe thead th {\n",
              "        text-align: right;\n",
              "    }\n",
              "</style>\n",
              "<table border=\"1\" class=\"dataframe\">\n",
              "  <thead>\n",
              "    <tr style=\"text-align: right;\">\n",
              "      <th></th>\n",
              "      <th>ID</th>\n",
              "      <th>text</th>\n",
              "      <th>tokens</th>\n",
              "      <th>Pontuacao2</th>\n",
              "    </tr>\n",
              "  </thead>\n",
              "  <tbody>\n",
              "    <tr>\n",
              "      <th>0</th>\n",
              "      <td>1650289032478195714</td>\n",
              "      <td>eletrobras is the giant of the brazilian elect...</td>\n",
              "      <td>[eletrobras, is, the, giant, of, the, brazilia...</td>\n",
              "      <td>0.5574</td>\n",
              "    </tr>\n",
              "    <tr>\n",
              "      <th>1</th>\n",
              "      <td>1650288735785824256</td>\n",
              "      <td>the eletrobras is big   it is great   it is fr...</td>\n",
              "      <td>[the, eletrobras, is, big, it, is, great, it, ...</td>\n",
              "      <td>0.6249</td>\n",
              "    </tr>\n",
              "    <tr>\n",
              "      <th>2</th>\n",
              "      <td>1650288543258771458</td>\n",
              "      <td>renationalize eletrobras and petrobras for yes...</td>\n",
              "      <td>[renationalize, eletrobras, and, petrobras, fo...</td>\n",
              "      <td>0.4215</td>\n",
              "    </tr>\n",
              "    <tr>\n",
              "      <th>3</th>\n",
              "      <td>1650288162302840833</td>\n",
              "      <td>absurd what happened 🤬 yes  take back control ...</td>\n",
              "      <td>[absurd, what, happened, 🤬, yes, take, back, c...</td>\n",
              "      <td>0.4019</td>\n",
              "    </tr>\n",
              "    <tr>\n",
              "      <th>4</th>\n",
              "      <td>1650287640338477057</td>\n",
              "      <td>tem que reverter a privatização da eletrobrás sim</td>\n",
              "      <td>[tem, que, reverter, a, privatização, da, elet...</td>\n",
              "      <td>0.0000</td>\n",
              "    </tr>\n",
              "    <tr>\n",
              "      <th>5</th>\n",
              "      <td>1650287585250406402</td>\n",
              "      <td>rt      jornaldacultura bercovici  falta vonta...</td>\n",
              "      <td>[rt, jornaldacultura, bercovici, falta, vontad...</td>\n",
              "      <td>0.0000</td>\n",
              "    </tr>\n",
              "    <tr>\n",
              "      <th>6</th>\n",
              "      <td>1650287348582608896</td>\n",
              "      <td>rt     estou com janja \\nporquê ela é filiada ...</td>\n",
              "      <td>[rt, estou, com, janja, porquê, ela, é, filiad...</td>\n",
              "      <td>0.0000</td>\n",
              "    </tr>\n",
              "    <tr>\n",
              "      <th>7</th>\n",
              "      <td>1650286803545358338</td>\n",
              "      <td>i completed   years inside eletrobras furnas</td>\n",
              "      <td>[i, completed, years, inside, eletrobras, furnas]</td>\n",
              "      <td>0.0000</td>\n",
              "    </tr>\n",
              "    <tr>\n",
              "      <th>8</th>\n",
              "      <td>1650286674029445127</td>\n",
              "      <td>i love eletrobras   furnas</td>\n",
              "      <td>[i, love, eletrobras, furnas]</td>\n",
              "      <td>0.6369</td>\n",
              "    </tr>\n",
              "    <tr>\n",
              "      <th>9</th>\n",
              "      <td>1650286588515983360</td>\n",
              "      <td>with increased rainfall  brazil reduced the hy...</td>\n",
              "      <td>[with, increased, rainfall, brazil, reduced, t...</td>\n",
              "      <td>0.4767</td>\n",
              "    </tr>\n",
              "    <tr>\n",
              "      <th>10</th>\n",
              "      <td>1650286122633773062</td>\n",
              "      <td>eletrobras announces   voluntary dismissal pla...</td>\n",
              "      <td>[eletrobras, announces, voluntary, dismissal, ...</td>\n",
              "      <td>-0.5849</td>\n",
              "    </tr>\n",
              "    <tr>\n",
              "      <th>11</th>\n",
              "      <td>1650285833797218304</td>\n",
              "      <td>adhesion to the eletrobras voluntary dismissal...</td>\n",
              "      <td>[adhesion, to, the, eletrobras, voluntary, dis...</td>\n",
              "      <td>0.0000</td>\n",
              "    </tr>\n",
              "    <tr>\n",
              "      <th>12</th>\n",
              "      <td>1650285760686219264</td>\n",
              "      <td>rt  requiaooficial  janja entrou numa loja em ...</td>\n",
              "      <td>[rt, requiaooficial, janja, entrou, numa, loja...</td>\n",
              "      <td>0.0000</td>\n",
              "    </tr>\n",
              "    <tr>\n",
              "      <th>13</th>\n",
              "      <td>1650285689966149634</td>\n",
              "      <td>state owned companies lost brl   billion in ma...</td>\n",
              "      <td>[state, owned, companies, lost, brl, billion, ...</td>\n",
              "      <td>0.0129</td>\n",
              "    </tr>\n",
              "    <tr>\n",
              "      <th>14</th>\n",
              "      <td>1650285434713325569</td>\n",
              "      <td>lula diz que vai pedir revisão do contrato de ...</td>\n",
              "      <td>[lula, diz, que, vai, pedir, revisão, do, cont...</td>\n",
              "      <td>0.7650</td>\n",
              "    </tr>\n",
              "    <tr>\n",
              "      <th>15</th>\n",
              "      <td>1650285243981496321</td>\n",
              "      <td>eletrobras anuncia processo seletivo para   va...</td>\n",
              "      <td>[eletrobras, anuncia, processo, seletivo, para...</td>\n",
              "      <td>-0.6705</td>\n",
              "    </tr>\n",
              "  </tbody>\n",
              "</table>\n",
              "</div>\n",
              "      <button class=\"colab-df-convert\" onclick=\"convertToInteractive('df-1c7cda75-0802-41de-96b9-729147bf1504')\"\n",
              "              title=\"Convert this dataframe to an interactive table.\"\n",
              "              style=\"display:none;\">\n",
              "        \n",
              "  <svg xmlns=\"http://www.w3.org/2000/svg\" height=\"24px\"viewBox=\"0 0 24 24\"\n",
              "       width=\"24px\">\n",
              "    <path d=\"M0 0h24v24H0V0z\" fill=\"none\"/>\n",
              "    <path d=\"M18.56 5.44l.94 2.06.94-2.06 2.06-.94-2.06-.94-.94-2.06-.94 2.06-2.06.94zm-11 1L8.5 8.5l.94-2.06 2.06-.94-2.06-.94L8.5 2.5l-.94 2.06-2.06.94zm10 10l.94 2.06.94-2.06 2.06-.94-2.06-.94-.94-2.06-.94 2.06-2.06.94z\"/><path d=\"M17.41 7.96l-1.37-1.37c-.4-.4-.92-.59-1.43-.59-.52 0-1.04.2-1.43.59L10.3 9.45l-7.72 7.72c-.78.78-.78 2.05 0 2.83L4 21.41c.39.39.9.59 1.41.59.51 0 1.02-.2 1.41-.59l7.78-7.78 2.81-2.81c.8-.78.8-2.07 0-2.86zM5.41 20L4 18.59l7.72-7.72 1.47 1.35L5.41 20z\"/>\n",
              "  </svg>\n",
              "      </button>\n",
              "      \n",
              "  <style>\n",
              "    .colab-df-container {\n",
              "      display:flex;\n",
              "      flex-wrap:wrap;\n",
              "      gap: 12px;\n",
              "    }\n",
              "\n",
              "    .colab-df-convert {\n",
              "      background-color: #E8F0FE;\n",
              "      border: none;\n",
              "      border-radius: 50%;\n",
              "      cursor: pointer;\n",
              "      display: none;\n",
              "      fill: #1967D2;\n",
              "      height: 32px;\n",
              "      padding: 0 0 0 0;\n",
              "      width: 32px;\n",
              "    }\n",
              "\n",
              "    .colab-df-convert:hover {\n",
              "      background-color: #E2EBFA;\n",
              "      box-shadow: 0px 1px 2px rgba(60, 64, 67, 0.3), 0px 1px 3px 1px rgba(60, 64, 67, 0.15);\n",
              "      fill: #174EA6;\n",
              "    }\n",
              "\n",
              "    [theme=dark] .colab-df-convert {\n",
              "      background-color: #3B4455;\n",
              "      fill: #D2E3FC;\n",
              "    }\n",
              "\n",
              "    [theme=dark] .colab-df-convert:hover {\n",
              "      background-color: #434B5C;\n",
              "      box-shadow: 0px 1px 3px 1px rgba(0, 0, 0, 0.15);\n",
              "      filter: drop-shadow(0px 1px 2px rgba(0, 0, 0, 0.3));\n",
              "      fill: #FFFFFF;\n",
              "    }\n",
              "  </style>\n",
              "\n",
              "      <script>\n",
              "        const buttonEl =\n",
              "          document.querySelector('#df-1c7cda75-0802-41de-96b9-729147bf1504 button.colab-df-convert');\n",
              "        buttonEl.style.display =\n",
              "          google.colab.kernel.accessAllowed ? 'block' : 'none';\n",
              "\n",
              "        async function convertToInteractive(key) {\n",
              "          const element = document.querySelector('#df-1c7cda75-0802-41de-96b9-729147bf1504');\n",
              "          const dataTable =\n",
              "            await google.colab.kernel.invokeFunction('convertToInteractive',\n",
              "                                                     [key], {});\n",
              "          if (!dataTable) return;\n",
              "\n",
              "          const docLinkHtml = 'Like what you see? Visit the ' +\n",
              "            '<a target=\"_blank\" href=https://colab.research.google.com/notebooks/data_table.ipynb>data table notebook</a>'\n",
              "            + ' to learn more about interactive tables.';\n",
              "          element.innerHTML = '';\n",
              "          dataTable['output_type'] = 'display_data';\n",
              "          await google.colab.output.renderOutput(dataTable, element);\n",
              "          const docLink = document.createElement('div');\n",
              "          docLink.innerHTML = docLinkHtml;\n",
              "          element.appendChild(docLink);\n",
              "        }\n",
              "      </script>\n",
              "    </div>\n",
              "  </div>\n",
              "  "
            ]
          },
          "metadata": {},
          "execution_count": 87
        }
      ]
    },
    {
      "cell_type": "markdown",
      "source": [
        "Função para rotular os resultados obtidos pela Pontuação"
      ],
      "metadata": {
        "id": "2y7kabkJWl-4"
      }
    },
    {
      "cell_type": "code",
      "source": [
        "# Define uma função de mapeamento\n",
        "def mapear_valor(valor):\n",
        "    if valor > 0:\n",
        "        return 'Positivo'\n",
        "    elif valor < 0:\n",
        "        return 'Negativo'\n",
        "    else:\n",
        "        return 'Neutro'\n"
      ],
      "metadata": {
        "id": "oKKWAhrLW3n9"
      },
      "execution_count": 88,
      "outputs": []
    },
    {
      "cell_type": "code",
      "source": [
        "df2['Pontuacao2'] = df2['Pontuacao2'].astype(float)"
      ],
      "metadata": {
        "id": "sjM4bmPfbg_l"
      },
      "execution_count": 89,
      "outputs": []
    },
    {
      "cell_type": "code",
      "source": [
        "df2.head()"
      ],
      "metadata": {
        "id": "cwgqHcnRbxaC",
        "colab": {
          "base_uri": "https://localhost:8080/",
          "height": 0
        },
        "outputId": "46e4c4df-bad9-4ad8-b018-ee780d94899f"
      },
      "execution_count": 90,
      "outputs": [
        {
          "output_type": "execute_result",
          "data": {
            "text/plain": [
              "                    ID                                               text  \\\n",
              "0  1650289032478195714  eletrobras is the giant of the brazilian elect...   \n",
              "1  1650288735785824256  the eletrobras is big   it is great   it is fr...   \n",
              "2  1650288543258771458  renationalize eletrobras and petrobras for yes...   \n",
              "3  1650288162302840833  absurd what happened 🤬 yes  take back control ...   \n",
              "4  1650287640338477057  tem que reverter a privatização da eletrobrás sim   \n",
              "\n",
              "                                              tokens  Pontuacao2  \n",
              "0  [eletrobras, is, the, giant, of, the, brazilia...      0.5574  \n",
              "1  [the, eletrobras, is, big, it, is, great, it, ...      0.6249  \n",
              "2  [renationalize, eletrobras, and, petrobras, fo...      0.4215  \n",
              "3  [absurd, what, happened, 🤬, yes, take, back, c...      0.4019  \n",
              "4  [tem, que, reverter, a, privatização, da, elet...      0.0000  "
            ],
            "text/html": [
              "\n",
              "  <div id=\"df-d0515e27-523d-4cc3-a447-17cebef91a9a\">\n",
              "    <div class=\"colab-df-container\">\n",
              "      <div>\n",
              "<style scoped>\n",
              "    .dataframe tbody tr th:only-of-type {\n",
              "        vertical-align: middle;\n",
              "    }\n",
              "\n",
              "    .dataframe tbody tr th {\n",
              "        vertical-align: top;\n",
              "    }\n",
              "\n",
              "    .dataframe thead th {\n",
              "        text-align: right;\n",
              "    }\n",
              "</style>\n",
              "<table border=\"1\" class=\"dataframe\">\n",
              "  <thead>\n",
              "    <tr style=\"text-align: right;\">\n",
              "      <th></th>\n",
              "      <th>ID</th>\n",
              "      <th>text</th>\n",
              "      <th>tokens</th>\n",
              "      <th>Pontuacao2</th>\n",
              "    </tr>\n",
              "  </thead>\n",
              "  <tbody>\n",
              "    <tr>\n",
              "      <th>0</th>\n",
              "      <td>1650289032478195714</td>\n",
              "      <td>eletrobras is the giant of the brazilian elect...</td>\n",
              "      <td>[eletrobras, is, the, giant, of, the, brazilia...</td>\n",
              "      <td>0.5574</td>\n",
              "    </tr>\n",
              "    <tr>\n",
              "      <th>1</th>\n",
              "      <td>1650288735785824256</td>\n",
              "      <td>the eletrobras is big   it is great   it is fr...</td>\n",
              "      <td>[the, eletrobras, is, big, it, is, great, it, ...</td>\n",
              "      <td>0.6249</td>\n",
              "    </tr>\n",
              "    <tr>\n",
              "      <th>2</th>\n",
              "      <td>1650288543258771458</td>\n",
              "      <td>renationalize eletrobras and petrobras for yes...</td>\n",
              "      <td>[renationalize, eletrobras, and, petrobras, fo...</td>\n",
              "      <td>0.4215</td>\n",
              "    </tr>\n",
              "    <tr>\n",
              "      <th>3</th>\n",
              "      <td>1650288162302840833</td>\n",
              "      <td>absurd what happened 🤬 yes  take back control ...</td>\n",
              "      <td>[absurd, what, happened, 🤬, yes, take, back, c...</td>\n",
              "      <td>0.4019</td>\n",
              "    </tr>\n",
              "    <tr>\n",
              "      <th>4</th>\n",
              "      <td>1650287640338477057</td>\n",
              "      <td>tem que reverter a privatização da eletrobrás sim</td>\n",
              "      <td>[tem, que, reverter, a, privatização, da, elet...</td>\n",
              "      <td>0.0000</td>\n",
              "    </tr>\n",
              "  </tbody>\n",
              "</table>\n",
              "</div>\n",
              "      <button class=\"colab-df-convert\" onclick=\"convertToInteractive('df-d0515e27-523d-4cc3-a447-17cebef91a9a')\"\n",
              "              title=\"Convert this dataframe to an interactive table.\"\n",
              "              style=\"display:none;\">\n",
              "        \n",
              "  <svg xmlns=\"http://www.w3.org/2000/svg\" height=\"24px\"viewBox=\"0 0 24 24\"\n",
              "       width=\"24px\">\n",
              "    <path d=\"M0 0h24v24H0V0z\" fill=\"none\"/>\n",
              "    <path d=\"M18.56 5.44l.94 2.06.94-2.06 2.06-.94-2.06-.94-.94-2.06-.94 2.06-2.06.94zm-11 1L8.5 8.5l.94-2.06 2.06-.94-2.06-.94L8.5 2.5l-.94 2.06-2.06.94zm10 10l.94 2.06.94-2.06 2.06-.94-2.06-.94-.94-2.06-.94 2.06-2.06.94z\"/><path d=\"M17.41 7.96l-1.37-1.37c-.4-.4-.92-.59-1.43-.59-.52 0-1.04.2-1.43.59L10.3 9.45l-7.72 7.72c-.78.78-.78 2.05 0 2.83L4 21.41c.39.39.9.59 1.41.59.51 0 1.02-.2 1.41-.59l7.78-7.78 2.81-2.81c.8-.78.8-2.07 0-2.86zM5.41 20L4 18.59l7.72-7.72 1.47 1.35L5.41 20z\"/>\n",
              "  </svg>\n",
              "      </button>\n",
              "      \n",
              "  <style>\n",
              "    .colab-df-container {\n",
              "      display:flex;\n",
              "      flex-wrap:wrap;\n",
              "      gap: 12px;\n",
              "    }\n",
              "\n",
              "    .colab-df-convert {\n",
              "      background-color: #E8F0FE;\n",
              "      border: none;\n",
              "      border-radius: 50%;\n",
              "      cursor: pointer;\n",
              "      display: none;\n",
              "      fill: #1967D2;\n",
              "      height: 32px;\n",
              "      padding: 0 0 0 0;\n",
              "      width: 32px;\n",
              "    }\n",
              "\n",
              "    .colab-df-convert:hover {\n",
              "      background-color: #E2EBFA;\n",
              "      box-shadow: 0px 1px 2px rgba(60, 64, 67, 0.3), 0px 1px 3px 1px rgba(60, 64, 67, 0.15);\n",
              "      fill: #174EA6;\n",
              "    }\n",
              "\n",
              "    [theme=dark] .colab-df-convert {\n",
              "      background-color: #3B4455;\n",
              "      fill: #D2E3FC;\n",
              "    }\n",
              "\n",
              "    [theme=dark] .colab-df-convert:hover {\n",
              "      background-color: #434B5C;\n",
              "      box-shadow: 0px 1px 3px 1px rgba(0, 0, 0, 0.15);\n",
              "      filter: drop-shadow(0px 1px 2px rgba(0, 0, 0, 0.3));\n",
              "      fill: #FFFFFF;\n",
              "    }\n",
              "  </style>\n",
              "\n",
              "      <script>\n",
              "        const buttonEl =\n",
              "          document.querySelector('#df-d0515e27-523d-4cc3-a447-17cebef91a9a button.colab-df-convert');\n",
              "        buttonEl.style.display =\n",
              "          google.colab.kernel.accessAllowed ? 'block' : 'none';\n",
              "\n",
              "        async function convertToInteractive(key) {\n",
              "          const element = document.querySelector('#df-d0515e27-523d-4cc3-a447-17cebef91a9a');\n",
              "          const dataTable =\n",
              "            await google.colab.kernel.invokeFunction('convertToInteractive',\n",
              "                                                     [key], {});\n",
              "          if (!dataTable) return;\n",
              "\n",
              "          const docLinkHtml = 'Like what you see? Visit the ' +\n",
              "            '<a target=\"_blank\" href=https://colab.research.google.com/notebooks/data_table.ipynb>data table notebook</a>'\n",
              "            + ' to learn more about interactive tables.';\n",
              "          element.innerHTML = '';\n",
              "          dataTable['output_type'] = 'display_data';\n",
              "          await google.colab.output.renderOutput(dataTable, element);\n",
              "          const docLink = document.createElement('div');\n",
              "          docLink.innerHTML = docLinkHtml;\n",
              "          element.appendChild(docLink);\n",
              "        }\n",
              "      </script>\n",
              "    </div>\n",
              "  </div>\n",
              "  "
            ]
          },
          "metadata": {},
          "execution_count": 90
        }
      ]
    },
    {
      "cell_type": "code",
      "source": [
        "df2['rotulos'] = df2['Pontuacao2'].apply(mapear_valor)"
      ],
      "metadata": {
        "id": "S_zZWPW6Zk9D"
      },
      "execution_count": 91,
      "outputs": []
    },
    {
      "cell_type": "code",
      "source": [
        "df2.head()"
      ],
      "metadata": {
        "colab": {
          "base_uri": "https://localhost:8080/",
          "height": 0
        },
        "id": "Cpvy_9f6dY7A",
        "outputId": "749319bc-c0bd-406e-ebb1-1f7946d039ab"
      },
      "execution_count": 92,
      "outputs": [
        {
          "output_type": "execute_result",
          "data": {
            "text/plain": [
              "                    ID                                               text  \\\n",
              "0  1650289032478195714  eletrobras is the giant of the brazilian elect...   \n",
              "1  1650288735785824256  the eletrobras is big   it is great   it is fr...   \n",
              "2  1650288543258771458  renationalize eletrobras and petrobras for yes...   \n",
              "3  1650288162302840833  absurd what happened 🤬 yes  take back control ...   \n",
              "4  1650287640338477057  tem que reverter a privatização da eletrobrás sim   \n",
              "\n",
              "                                              tokens  Pontuacao2   rotulos  \n",
              "0  [eletrobras, is, the, giant, of, the, brazilia...      0.5574  Positivo  \n",
              "1  [the, eletrobras, is, big, it, is, great, it, ...      0.6249  Positivo  \n",
              "2  [renationalize, eletrobras, and, petrobras, fo...      0.4215  Positivo  \n",
              "3  [absurd, what, happened, 🤬, yes, take, back, c...      0.4019  Positivo  \n",
              "4  [tem, que, reverter, a, privatização, da, elet...      0.0000    Neutro  "
            ],
            "text/html": [
              "\n",
              "  <div id=\"df-bca7c9a5-d31b-438c-b05b-ab7361730c61\">\n",
              "    <div class=\"colab-df-container\">\n",
              "      <div>\n",
              "<style scoped>\n",
              "    .dataframe tbody tr th:only-of-type {\n",
              "        vertical-align: middle;\n",
              "    }\n",
              "\n",
              "    .dataframe tbody tr th {\n",
              "        vertical-align: top;\n",
              "    }\n",
              "\n",
              "    .dataframe thead th {\n",
              "        text-align: right;\n",
              "    }\n",
              "</style>\n",
              "<table border=\"1\" class=\"dataframe\">\n",
              "  <thead>\n",
              "    <tr style=\"text-align: right;\">\n",
              "      <th></th>\n",
              "      <th>ID</th>\n",
              "      <th>text</th>\n",
              "      <th>tokens</th>\n",
              "      <th>Pontuacao2</th>\n",
              "      <th>rotulos</th>\n",
              "    </tr>\n",
              "  </thead>\n",
              "  <tbody>\n",
              "    <tr>\n",
              "      <th>0</th>\n",
              "      <td>1650289032478195714</td>\n",
              "      <td>eletrobras is the giant of the brazilian elect...</td>\n",
              "      <td>[eletrobras, is, the, giant, of, the, brazilia...</td>\n",
              "      <td>0.5574</td>\n",
              "      <td>Positivo</td>\n",
              "    </tr>\n",
              "    <tr>\n",
              "      <th>1</th>\n",
              "      <td>1650288735785824256</td>\n",
              "      <td>the eletrobras is big   it is great   it is fr...</td>\n",
              "      <td>[the, eletrobras, is, big, it, is, great, it, ...</td>\n",
              "      <td>0.6249</td>\n",
              "      <td>Positivo</td>\n",
              "    </tr>\n",
              "    <tr>\n",
              "      <th>2</th>\n",
              "      <td>1650288543258771458</td>\n",
              "      <td>renationalize eletrobras and petrobras for yes...</td>\n",
              "      <td>[renationalize, eletrobras, and, petrobras, fo...</td>\n",
              "      <td>0.4215</td>\n",
              "      <td>Positivo</td>\n",
              "    </tr>\n",
              "    <tr>\n",
              "      <th>3</th>\n",
              "      <td>1650288162302840833</td>\n",
              "      <td>absurd what happened 🤬 yes  take back control ...</td>\n",
              "      <td>[absurd, what, happened, 🤬, yes, take, back, c...</td>\n",
              "      <td>0.4019</td>\n",
              "      <td>Positivo</td>\n",
              "    </tr>\n",
              "    <tr>\n",
              "      <th>4</th>\n",
              "      <td>1650287640338477057</td>\n",
              "      <td>tem que reverter a privatização da eletrobrás sim</td>\n",
              "      <td>[tem, que, reverter, a, privatização, da, elet...</td>\n",
              "      <td>0.0000</td>\n",
              "      <td>Neutro</td>\n",
              "    </tr>\n",
              "  </tbody>\n",
              "</table>\n",
              "</div>\n",
              "      <button class=\"colab-df-convert\" onclick=\"convertToInteractive('df-bca7c9a5-d31b-438c-b05b-ab7361730c61')\"\n",
              "              title=\"Convert this dataframe to an interactive table.\"\n",
              "              style=\"display:none;\">\n",
              "        \n",
              "  <svg xmlns=\"http://www.w3.org/2000/svg\" height=\"24px\"viewBox=\"0 0 24 24\"\n",
              "       width=\"24px\">\n",
              "    <path d=\"M0 0h24v24H0V0z\" fill=\"none\"/>\n",
              "    <path d=\"M18.56 5.44l.94 2.06.94-2.06 2.06-.94-2.06-.94-.94-2.06-.94 2.06-2.06.94zm-11 1L8.5 8.5l.94-2.06 2.06-.94-2.06-.94L8.5 2.5l-.94 2.06-2.06.94zm10 10l.94 2.06.94-2.06 2.06-.94-2.06-.94-.94-2.06-.94 2.06-2.06.94z\"/><path d=\"M17.41 7.96l-1.37-1.37c-.4-.4-.92-.59-1.43-.59-.52 0-1.04.2-1.43.59L10.3 9.45l-7.72 7.72c-.78.78-.78 2.05 0 2.83L4 21.41c.39.39.9.59 1.41.59.51 0 1.02-.2 1.41-.59l7.78-7.78 2.81-2.81c.8-.78.8-2.07 0-2.86zM5.41 20L4 18.59l7.72-7.72 1.47 1.35L5.41 20z\"/>\n",
              "  </svg>\n",
              "      </button>\n",
              "      \n",
              "  <style>\n",
              "    .colab-df-container {\n",
              "      display:flex;\n",
              "      flex-wrap:wrap;\n",
              "      gap: 12px;\n",
              "    }\n",
              "\n",
              "    .colab-df-convert {\n",
              "      background-color: #E8F0FE;\n",
              "      border: none;\n",
              "      border-radius: 50%;\n",
              "      cursor: pointer;\n",
              "      display: none;\n",
              "      fill: #1967D2;\n",
              "      height: 32px;\n",
              "      padding: 0 0 0 0;\n",
              "      width: 32px;\n",
              "    }\n",
              "\n",
              "    .colab-df-convert:hover {\n",
              "      background-color: #E2EBFA;\n",
              "      box-shadow: 0px 1px 2px rgba(60, 64, 67, 0.3), 0px 1px 3px 1px rgba(60, 64, 67, 0.15);\n",
              "      fill: #174EA6;\n",
              "    }\n",
              "\n",
              "    [theme=dark] .colab-df-convert {\n",
              "      background-color: #3B4455;\n",
              "      fill: #D2E3FC;\n",
              "    }\n",
              "\n",
              "    [theme=dark] .colab-df-convert:hover {\n",
              "      background-color: #434B5C;\n",
              "      box-shadow: 0px 1px 3px 1px rgba(0, 0, 0, 0.15);\n",
              "      filter: drop-shadow(0px 1px 2px rgba(0, 0, 0, 0.3));\n",
              "      fill: #FFFFFF;\n",
              "    }\n",
              "  </style>\n",
              "\n",
              "      <script>\n",
              "        const buttonEl =\n",
              "          document.querySelector('#df-bca7c9a5-d31b-438c-b05b-ab7361730c61 button.colab-df-convert');\n",
              "        buttonEl.style.display =\n",
              "          google.colab.kernel.accessAllowed ? 'block' : 'none';\n",
              "\n",
              "        async function convertToInteractive(key) {\n",
              "          const element = document.querySelector('#df-bca7c9a5-d31b-438c-b05b-ab7361730c61');\n",
              "          const dataTable =\n",
              "            await google.colab.kernel.invokeFunction('convertToInteractive',\n",
              "                                                     [key], {});\n",
              "          if (!dataTable) return;\n",
              "\n",
              "          const docLinkHtml = 'Like what you see? Visit the ' +\n",
              "            '<a target=\"_blank\" href=https://colab.research.google.com/notebooks/data_table.ipynb>data table notebook</a>'\n",
              "            + ' to learn more about interactive tables.';\n",
              "          element.innerHTML = '';\n",
              "          dataTable['output_type'] = 'display_data';\n",
              "          await google.colab.output.renderOutput(dataTable, element);\n",
              "          const docLink = document.createElement('div');\n",
              "          docLink.innerHTML = docLinkHtml;\n",
              "          element.appendChild(docLink);\n",
              "        }\n",
              "      </script>\n",
              "    </div>\n",
              "  </div>\n",
              "  "
            ]
          },
          "metadata": {},
          "execution_count": 92
        }
      ]
    },
    {
      "cell_type": "code",
      "source": [
        "df2.iloc[4]"
      ],
      "metadata": {
        "colab": {
          "base_uri": "https://localhost:8080/"
        },
        "id": "kOZ368LrTYwB",
        "outputId": "fad04b05-26e4-47b4-9eb5-8c43d631b1e2"
      },
      "execution_count": 93,
      "outputs": [
        {
          "output_type": "execute_result",
          "data": {
            "text/plain": [
              "ID                                          1650287640338477057\n",
              "text          tem que reverter a privatização da eletrobrás sim\n",
              "tokens        [tem, que, reverter, a, privatização, da, elet...\n",
              "Pontuacao2                                                  0.0\n",
              "rotulos                                                  Neutro\n",
              "Name: 4, dtype: object"
            ]
          },
          "metadata": {},
          "execution_count": 93
        }
      ]
    },
    {
      "cell_type": "code",
      "source": [],
      "metadata": {
        "id": "S5f3WlBAUJWx"
      },
      "execution_count": 93,
      "outputs": []
    },
    {
      "cell_type": "code",
      "source": [
        "df2.head()"
      ],
      "metadata": {
        "colab": {
          "base_uri": "https://localhost:8080/",
          "height": 0
        },
        "id": "lTDlPZ8EUln3",
        "outputId": "1aa5c709-b2b3-4961-bfd8-b49d97d4b590"
      },
      "execution_count": 94,
      "outputs": [
        {
          "output_type": "execute_result",
          "data": {
            "text/plain": [
              "                    ID                                               text  \\\n",
              "0  1650289032478195714  eletrobras is the giant of the brazilian elect...   \n",
              "1  1650288735785824256  the eletrobras is big   it is great   it is fr...   \n",
              "2  1650288543258771458  renationalize eletrobras and petrobras for yes...   \n",
              "3  1650288162302840833  absurd what happened 🤬 yes  take back control ...   \n",
              "4  1650287640338477057  tem que reverter a privatização da eletrobrás sim   \n",
              "\n",
              "                                              tokens  Pontuacao2   rotulos  \n",
              "0  [eletrobras, is, the, giant, of, the, brazilia...      0.5574  Positivo  \n",
              "1  [the, eletrobras, is, big, it, is, great, it, ...      0.6249  Positivo  \n",
              "2  [renationalize, eletrobras, and, petrobras, fo...      0.4215  Positivo  \n",
              "3  [absurd, what, happened, 🤬, yes, take, back, c...      0.4019  Positivo  \n",
              "4  [tem, que, reverter, a, privatização, da, elet...      0.0000    Neutro  "
            ],
            "text/html": [
              "\n",
              "  <div id=\"df-023c57e9-1b67-4d97-871a-6c937a79beae\">\n",
              "    <div class=\"colab-df-container\">\n",
              "      <div>\n",
              "<style scoped>\n",
              "    .dataframe tbody tr th:only-of-type {\n",
              "        vertical-align: middle;\n",
              "    }\n",
              "\n",
              "    .dataframe tbody tr th {\n",
              "        vertical-align: top;\n",
              "    }\n",
              "\n",
              "    .dataframe thead th {\n",
              "        text-align: right;\n",
              "    }\n",
              "</style>\n",
              "<table border=\"1\" class=\"dataframe\">\n",
              "  <thead>\n",
              "    <tr style=\"text-align: right;\">\n",
              "      <th></th>\n",
              "      <th>ID</th>\n",
              "      <th>text</th>\n",
              "      <th>tokens</th>\n",
              "      <th>Pontuacao2</th>\n",
              "      <th>rotulos</th>\n",
              "    </tr>\n",
              "  </thead>\n",
              "  <tbody>\n",
              "    <tr>\n",
              "      <th>0</th>\n",
              "      <td>1650289032478195714</td>\n",
              "      <td>eletrobras is the giant of the brazilian elect...</td>\n",
              "      <td>[eletrobras, is, the, giant, of, the, brazilia...</td>\n",
              "      <td>0.5574</td>\n",
              "      <td>Positivo</td>\n",
              "    </tr>\n",
              "    <tr>\n",
              "      <th>1</th>\n",
              "      <td>1650288735785824256</td>\n",
              "      <td>the eletrobras is big   it is great   it is fr...</td>\n",
              "      <td>[the, eletrobras, is, big, it, is, great, it, ...</td>\n",
              "      <td>0.6249</td>\n",
              "      <td>Positivo</td>\n",
              "    </tr>\n",
              "    <tr>\n",
              "      <th>2</th>\n",
              "      <td>1650288543258771458</td>\n",
              "      <td>renationalize eletrobras and petrobras for yes...</td>\n",
              "      <td>[renationalize, eletrobras, and, petrobras, fo...</td>\n",
              "      <td>0.4215</td>\n",
              "      <td>Positivo</td>\n",
              "    </tr>\n",
              "    <tr>\n",
              "      <th>3</th>\n",
              "      <td>1650288162302840833</td>\n",
              "      <td>absurd what happened 🤬 yes  take back control ...</td>\n",
              "      <td>[absurd, what, happened, 🤬, yes, take, back, c...</td>\n",
              "      <td>0.4019</td>\n",
              "      <td>Positivo</td>\n",
              "    </tr>\n",
              "    <tr>\n",
              "      <th>4</th>\n",
              "      <td>1650287640338477057</td>\n",
              "      <td>tem que reverter a privatização da eletrobrás sim</td>\n",
              "      <td>[tem, que, reverter, a, privatização, da, elet...</td>\n",
              "      <td>0.0000</td>\n",
              "      <td>Neutro</td>\n",
              "    </tr>\n",
              "  </tbody>\n",
              "</table>\n",
              "</div>\n",
              "      <button class=\"colab-df-convert\" onclick=\"convertToInteractive('df-023c57e9-1b67-4d97-871a-6c937a79beae')\"\n",
              "              title=\"Convert this dataframe to an interactive table.\"\n",
              "              style=\"display:none;\">\n",
              "        \n",
              "  <svg xmlns=\"http://www.w3.org/2000/svg\" height=\"24px\"viewBox=\"0 0 24 24\"\n",
              "       width=\"24px\">\n",
              "    <path d=\"M0 0h24v24H0V0z\" fill=\"none\"/>\n",
              "    <path d=\"M18.56 5.44l.94 2.06.94-2.06 2.06-.94-2.06-.94-.94-2.06-.94 2.06-2.06.94zm-11 1L8.5 8.5l.94-2.06 2.06-.94-2.06-.94L8.5 2.5l-.94 2.06-2.06.94zm10 10l.94 2.06.94-2.06 2.06-.94-2.06-.94-.94-2.06-.94 2.06-2.06.94z\"/><path d=\"M17.41 7.96l-1.37-1.37c-.4-.4-.92-.59-1.43-.59-.52 0-1.04.2-1.43.59L10.3 9.45l-7.72 7.72c-.78.78-.78 2.05 0 2.83L4 21.41c.39.39.9.59 1.41.59.51 0 1.02-.2 1.41-.59l7.78-7.78 2.81-2.81c.8-.78.8-2.07 0-2.86zM5.41 20L4 18.59l7.72-7.72 1.47 1.35L5.41 20z\"/>\n",
              "  </svg>\n",
              "      </button>\n",
              "      \n",
              "  <style>\n",
              "    .colab-df-container {\n",
              "      display:flex;\n",
              "      flex-wrap:wrap;\n",
              "      gap: 12px;\n",
              "    }\n",
              "\n",
              "    .colab-df-convert {\n",
              "      background-color: #E8F0FE;\n",
              "      border: none;\n",
              "      border-radius: 50%;\n",
              "      cursor: pointer;\n",
              "      display: none;\n",
              "      fill: #1967D2;\n",
              "      height: 32px;\n",
              "      padding: 0 0 0 0;\n",
              "      width: 32px;\n",
              "    }\n",
              "\n",
              "    .colab-df-convert:hover {\n",
              "      background-color: #E2EBFA;\n",
              "      box-shadow: 0px 1px 2px rgba(60, 64, 67, 0.3), 0px 1px 3px 1px rgba(60, 64, 67, 0.15);\n",
              "      fill: #174EA6;\n",
              "    }\n",
              "\n",
              "    [theme=dark] .colab-df-convert {\n",
              "      background-color: #3B4455;\n",
              "      fill: #D2E3FC;\n",
              "    }\n",
              "\n",
              "    [theme=dark] .colab-df-convert:hover {\n",
              "      background-color: #434B5C;\n",
              "      box-shadow: 0px 1px 3px 1px rgba(0, 0, 0, 0.15);\n",
              "      filter: drop-shadow(0px 1px 2px rgba(0, 0, 0, 0.3));\n",
              "      fill: #FFFFFF;\n",
              "    }\n",
              "  </style>\n",
              "\n",
              "      <script>\n",
              "        const buttonEl =\n",
              "          document.querySelector('#df-023c57e9-1b67-4d97-871a-6c937a79beae button.colab-df-convert');\n",
              "        buttonEl.style.display =\n",
              "          google.colab.kernel.accessAllowed ? 'block' : 'none';\n",
              "\n",
              "        async function convertToInteractive(key) {\n",
              "          const element = document.querySelector('#df-023c57e9-1b67-4d97-871a-6c937a79beae');\n",
              "          const dataTable =\n",
              "            await google.colab.kernel.invokeFunction('convertToInteractive',\n",
              "                                                     [key], {});\n",
              "          if (!dataTable) return;\n",
              "\n",
              "          const docLinkHtml = 'Like what you see? Visit the ' +\n",
              "            '<a target=\"_blank\" href=https://colab.research.google.com/notebooks/data_table.ipynb>data table notebook</a>'\n",
              "            + ' to learn more about interactive tables.';\n",
              "          element.innerHTML = '';\n",
              "          dataTable['output_type'] = 'display_data';\n",
              "          await google.colab.output.renderOutput(dataTable, element);\n",
              "          const docLink = document.createElement('div');\n",
              "          docLink.innerHTML = docLinkHtml;\n",
              "          element.appendChild(docLink);\n",
              "        }\n",
              "      </script>\n",
              "    </div>\n",
              "  </div>\n",
              "  "
            ]
          },
          "metadata": {},
          "execution_count": 94
        }
      ]
    },
    {
      "cell_type": "code",
      "source": [
        "# Isso cria uma lista enorme combinando todos os valores de tokens\n",
        "word_list = sum(df2.tokens.tolist(), [])\n",
        "\n",
        "word_list[:10]"
      ],
      "metadata": {
        "colab": {
          "base_uri": "https://localhost:8080/"
        },
        "id": "sFIDNLetWSMR",
        "outputId": "aba03e7d-490e-4ef6-ba86-1aa328067ae8"
      },
      "execution_count": 95,
      "outputs": [
        {
          "output_type": "execute_result",
          "data": {
            "text/plain": [
              "['eletrobras',\n",
              " 'is',\n",
              " 'the',\n",
              " 'giant',\n",
              " 'of',\n",
              " 'the',\n",
              " 'brazilian',\n",
              " 'electricity',\n",
              " 'sector',\n",
              " 'fantastic']"
            ]
          },
          "metadata": {},
          "execution_count": 95
        }
      ]
    },
    {
      "cell_type": "code",
      "source": [
        "# Estas são as etapas para encontrar as palavras mais comuns\n",
        "\n",
        "#from collections import Counter\n",
        "\n",
        "# Converte a lista em um dicionário com contagem de valores\n",
        "word_counts = Counter(word_list)\n",
        "\n",
        "# Inverter a chave / valores no dicionário para classificarReverter a chave / valores no dicionário para classificar\n",
        "word_counts = list(zip(word_counts.values(), word_counts.keys()))\n",
        "\n",
        "# Classifique a lista por contagem\n",
        "word_counts = sorted(word_counts, reverse=True)\n",
        "\n",
        "# Imprime as 10 palavras mais comuns\n",
        "word_counts[:10]"
      ],
      "metadata": {
        "colab": {
          "base_uri": "https://localhost:8080/"
        },
        "id": "U0G7O54hWbJT",
        "outputId": "1b1378ad-d92d-4b1f-b56a-8751ad44611d"
      },
      "execution_count": 96,
      "outputs": [
        {
          "output_type": "execute_result",
          "data": {
            "text/plain": [
              "[(3380, 'a'),\n",
              " (3045, 'para'),\n",
              " (1861, 'rt'),\n",
              " (1728, 'o'),\n",
              " (1580, 'não'),\n",
              " (1549, 'foi'),\n",
              " (1548, 'em'),\n",
              " (1537, 'janja'),\n",
              " (1527, 'uma'),\n",
              " (1524, 'requiaooficial')]"
            ]
          },
          "metadata": {},
          "execution_count": 96
        }
      ]
    },
    {
      "cell_type": "code",
      "source": [
        "# A distribuição dos comprimentos das palavras\n",
        "word_lengths = pd.Series([len(x) for x in word_list])\n",
        "\n",
        "ax = word_lengths.hist(bins=15)\n",
        "ax.set(xlabel='Word Lengths', ylabel='Frequency', title='Distribution of Word Length');"
      ],
      "metadata": {
        "colab": {
          "base_uri": "https://localhost:8080/",
          "height": 0
        },
        "id": "kY617f4PWpYP",
        "outputId": "a3887bce-8a68-4ef2-ae46-83ad463b7fd5"
      },
      "execution_count": 97,
      "outputs": [
        {
          "output_type": "display_data",
          "data": {
            "text/plain": [
              "<Figure size 640x480 with 1 Axes>"
            ],
            "image/png": "[encoded data removed]"
          },
          "metadata": {}
        }
      ]
    },
    {
      "cell_type": "code",
      "source": [
        "word_counts[:10]"
      ],
      "metadata": {
        "colab": {
          "base_uri": "https://localhost:8080/"
        },
        "id": "SylM_AaPRODb",
        "outputId": "2a94ff17-f609-4cad-bea6-4cf50f0ca213"
      },
      "execution_count": 98,
      "outputs": [
        {
          "output_type": "execute_result",
          "data": {
            "text/plain": [
              "[(3380, 'a'),\n",
              " (3045, 'para'),\n",
              " (1861, 'rt'),\n",
              " (1728, 'o'),\n",
              " (1580, 'não'),\n",
              " (1549, 'foi'),\n",
              " (1548, 'em'),\n",
              " (1537, 'janja'),\n",
              " (1527, 'uma'),\n",
              " (1524, 'requiaooficial')]"
            ]
          },
          "metadata": {},
          "execution_count": 98
        }
      ]
    },
    {
      "cell_type": "markdown",
      "source": [
        "Uso de Stopwords para extração de palavras úteis na Wordcloud"
      ],
      "metadata": {
        "id": "ENceZ1sZXh8i"
      }
    },
    {
      "cell_type": "code",
      "source": [
        "# Remova as stop words\n",
        "from nltk.corpus import stopwords\n",
        "nltk.download(\"stopwords\")\n",
        "\n",
        "stop_words = stopwords.words('portuguese')\n",
        "stop_words.append('co')\n",
        "stop_words.append('t')\n",
        "stop_words.append('https')\n",
        "stop_words.append('rt')\n",
        "stop_words.append('a')\n",
        "stop_words.append('e')\n",
        "stop_words.append('o')\n",
        "stop_words.append('de')\n",
        "stop_words.append('com')\n",
        "\n",
        "stop_lambda = lambda x: [y for y in x if y not in stop_words]\n",
        "df2['tokens_stop'] = df2.tokens.apply(stop_lambda)\n",
        "df2.head()"
      ],
      "metadata": {
        "colab": {
          "base_uri": "https://localhost:8080/",
          "height": 0
        },
        "id": "KyPfLDIaXRS1",
        "outputId": "35d6561f-3460-4891-d11a-98374e75df3a"
      },
      "execution_count": 99,
      "outputs": [
        {
          "output_type": "stream",
          "name": "stderr",
          "text": [
            "[nltk_data] Downloading package stopwords to /root/nltk_data...\n",
            "[nltk_data]   Package stopwords is already up-to-date!\n"
          ]
        },
        {
          "output_type": "execute_result",
          "data": {
            "text/plain": [
              "                    ID                                               text  \\\n",
              "0  1650289032478195714  eletrobras is the giant of the brazilian elect...   \n",
              "1  1650288735785824256  the eletrobras is big   it is great   it is fr...   \n",
              "2  1650288543258771458  renationalize eletrobras and petrobras for yes...   \n",
              "3  1650288162302840833  absurd what happened 🤬 yes  take back control ...   \n",
              "4  1650287640338477057  tem que reverter a privatização da eletrobrás sim   \n",
              "\n",
              "                                              tokens  Pontuacao2   rotulos  \\\n",
              "0  [eletrobras, is, the, giant, of, the, brazilia...      0.5574  Positivo   \n",
              "1  [the, eletrobras, is, big, it, is, great, it, ...      0.6249  Positivo   \n",
              "2  [renationalize, eletrobras, and, petrobras, fo...      0.4215  Positivo   \n",
              "3  [absurd, what, happened, 🤬, yes, take, back, c...      0.4019  Positivo   \n",
              "4  [tem, que, reverter, a, privatização, da, elet...      0.0000    Neutro   \n",
              "\n",
              "                                         tokens_stop  \n",
              "0  [eletrobras, is, the, giant, of, the, brazilia...  \n",
              "1  [the, eletrobras, is, big, it, is, great, it, ...  \n",
              "2  [renationalize, eletrobras, and, petrobras, ye...  \n",
              "3  [absurd, what, happened, 🤬, yes, take, back, c...  \n",
              "4          [reverter, privatização, eletrobrás, sim]  "
            ],
            "text/html": [
              "\n",
              "  <div id=\"df-7553269b-2476-4cac-89a2-e9b18b776d41\">\n",
              "    <div class=\"colab-df-container\">\n",
              "      <div>\n",
              "<style scoped>\n",
              "    .dataframe tbody tr th:only-of-type {\n",
              "        vertical-align: middle;\n",
              "    }\n",
              "\n",
              "    .dataframe tbody tr th {\n",
              "        vertical-align: top;\n",
              "    }\n",
              "\n",
              "    .dataframe thead th {\n",
              "        text-align: right;\n",
              "    }\n",
              "</style>\n",
              "<table border=\"1\" class=\"dataframe\">\n",
              "  <thead>\n",
              "    <tr style=\"text-align: right;\">\n",
              "      <th></th>\n",
              "      <th>ID</th>\n",
              "      <th>text</th>\n",
              "      <th>tokens</th>\n",
              "      <th>Pontuacao2</th>\n",
              "      <th>rotulos</th>\n",
              "      <th>tokens_stop</th>\n",
              "    </tr>\n",
              "  </thead>\n",
              "  <tbody>\n",
              "    <tr>\n",
              "      <th>0</th>\n",
              "      <td>1650289032478195714</td>\n",
              "      <td>eletrobras is the giant of the brazilian elect...</td>\n",
              "      <td>[eletrobras, is, the, giant, of, the, brazilia...</td>\n",
              "      <td>0.5574</td>\n",
              "      <td>Positivo</td>\n",
              "      <td>[eletrobras, is, the, giant, of, the, brazilia...</td>\n",
              "    </tr>\n",
              "    <tr>\n",
              "      <th>1</th>\n",
              "      <td>1650288735785824256</td>\n",
              "      <td>the eletrobras is big   it is great   it is fr...</td>\n",
              "      <td>[the, eletrobras, is, big, it, is, great, it, ...</td>\n",
              "      <td>0.6249</td>\n",
              "      <td>Positivo</td>\n",
              "      <td>[the, eletrobras, is, big, it, is, great, it, ...</td>\n",
              "    </tr>\n",
              "    <tr>\n",
              "      <th>2</th>\n",
              "      <td>1650288543258771458</td>\n",
              "      <td>renationalize eletrobras and petrobras for yes...</td>\n",
              "      <td>[renationalize, eletrobras, and, petrobras, fo...</td>\n",
              "      <td>0.4215</td>\n",
              "      <td>Positivo</td>\n",
              "      <td>[renationalize, eletrobras, and, petrobras, ye...</td>\n",
              "    </tr>\n",
              "    <tr>\n",
              "      <th>3</th>\n",
              "      <td>1650288162302840833</td>\n",
              "      <td>absurd what happened 🤬 yes  take back control ...</td>\n",
              "      <td>[absurd, what, happened, 🤬, yes, take, back, c...</td>\n",
              "      <td>0.4019</td>\n",
              "      <td>Positivo</td>\n",
              "      <td>[absurd, what, happened, 🤬, yes, take, back, c...</td>\n",
              "    </tr>\n",
              "    <tr>\n",
              "      <th>4</th>\n",
              "      <td>1650287640338477057</td>\n",
              "      <td>tem que reverter a privatização da eletrobrás sim</td>\n",
              "      <td>[tem, que, reverter, a, privatização, da, elet...</td>\n",
              "      <td>0.0000</td>\n",
              "      <td>Neutro</td>\n",
              "      <td>[reverter, privatização, eletrobrás, sim]</td>\n",
              "    </tr>\n",
              "  </tbody>\n",
              "</table>\n",
              "</div>\n",
              "      <button class=\"colab-df-convert\" onclick=\"convertToInteractive('df-7553269b-2476-4cac-89a2-e9b18b776d41')\"\n",
              "              title=\"Convert this dataframe to an interactive table.\"\n",
              "              style=\"display:none;\">\n",
              "        \n",
              "  <svg xmlns=\"http://www.w3.org/2000/svg\" height=\"24px\"viewBox=\"0 0 24 24\"\n",
              "       width=\"24px\">\n",
              "    <path d=\"M0 0h24v24H0V0z\" fill=\"none\"/>\n",
              "    <path d=\"M18.56 5.44l.94 2.06.94-2.06 2.06-.94-2.06-.94-.94-2.06-.94 2.06-2.06.94zm-11 1L8.5 8.5l.94-2.06 2.06-.94-2.06-.94L8.5 2.5l-.94 2.06-2.06.94zm10 10l.94 2.06.94-2.06 2.06-.94-2.06-.94-.94-2.06-.94 2.06-2.06.94z\"/><path d=\"M17.41 7.96l-1.37-1.37c-.4-.4-.92-.59-1.43-.59-.52 0-1.04.2-1.43.59L10.3 9.45l-7.72 7.72c-.78.78-.78 2.05 0 2.83L4 21.41c.39.39.9.59 1.41.59.51 0 1.02-.2 1.41-.59l7.78-7.78 2.81-2.81c.8-.78.8-2.07 0-2.86zM5.41 20L4 18.59l7.72-7.72 1.47 1.35L5.41 20z\"/>\n",
              "  </svg>\n",
              "      </button>\n",
              "      \n",
              "  <style>\n",
              "    .colab-df-container {\n",
              "      display:flex;\n",
              "      flex-wrap:wrap;\n",
              "      gap: 12px;\n",
              "    }\n",
              "\n",
              "    .colab-df-convert {\n",
              "      background-color: #E8F0FE;\n",
              "      border: none;\n",
              "      border-radius: 50%;\n",
              "      cursor: pointer;\n",
              "      display: none;\n",
              "      fill: #1967D2;\n",
              "      height: 32px;\n",
              "      padding: 0 0 0 0;\n",
              "      width: 32px;\n",
              "    }\n",
              "\n",
              "    .colab-df-convert:hover {\n",
              "      background-color: #E2EBFA;\n",
              "      box-shadow: 0px 1px 2px rgba(60, 64, 67, 0.3), 0px 1px 3px 1px rgba(60, 64, 67, 0.15);\n",
              "      fill: #174EA6;\n",
              "    }\n",
              "\n",
              "    [theme=dark] .colab-df-convert {\n",
              "      background-color: #3B4455;\n",
              "      fill: #D2E3FC;\n",
              "    }\n",
              "\n",
              "    [theme=dark] .colab-df-convert:hover {\n",
              "      background-color: #434B5C;\n",
              "      box-shadow: 0px 1px 3px 1px rgba(0, 0, 0, 0.15);\n",
              "      filter: drop-shadow(0px 1px 2px rgba(0, 0, 0, 0.3));\n",
              "      fill: #FFFFFF;\n",
              "    }\n",
              "  </style>\n",
              "\n",
              "      <script>\n",
              "        const buttonEl =\n",
              "          document.querySelector('#df-7553269b-2476-4cac-89a2-e9b18b776d41 button.colab-df-convert');\n",
              "        buttonEl.style.display =\n",
              "          google.colab.kernel.accessAllowed ? 'block' : 'none';\n",
              "\n",
              "        async function convertToInteractive(key) {\n",
              "          const element = document.querySelector('#df-7553269b-2476-4cac-89a2-e9b18b776d41');\n",
              "          const dataTable =\n",
              "            await google.colab.kernel.invokeFunction('convertToInteractive',\n",
              "                                                     [key], {});\n",
              "          if (!dataTable) return;\n",
              "\n",
              "          const docLinkHtml = 'Like what you see? Visit the ' +\n",
              "            '<a target=\"_blank\" href=https://colab.research.google.com/notebooks/data_table.ipynb>data table notebook</a>'\n",
              "            + ' to learn more about interactive tables.';\n",
              "          element.innerHTML = '';\n",
              "          dataTable['output_type'] = 'display_data';\n",
              "          await google.colab.output.renderOutput(dataTable, element);\n",
              "          const docLink = document.createElement('div');\n",
              "          docLink.innerHTML = docLinkHtml;\n",
              "          element.appendChild(docLink);\n",
              "        }\n",
              "      </script>\n",
              "    </div>\n",
              "  </div>\n",
              "  "
            ]
          },
          "metadata": {},
          "execution_count": 99
        }
      ]
    },
    {
      "cell_type": "code",
      "source": [
        "word_list_stop = sum(df2.tokens_stop.tolist(), [])"
      ],
      "metadata": {
        "id": "al8WcAUuSI78"
      },
      "execution_count": 100,
      "outputs": []
    },
    {
      "cell_type": "code",
      "source": [
        "word_list_stop[:10]"
      ],
      "metadata": {
        "colab": {
          "base_uri": "https://localhost:8080/"
        },
        "id": "eKzD7AS0SSGd",
        "outputId": "622eb414-bde1-4919-f046-428c283b9828"
      },
      "execution_count": 101,
      "outputs": [
        {
          "output_type": "execute_result",
          "data": {
            "text/plain": [
              "['eletrobras',\n",
              " 'is',\n",
              " 'the',\n",
              " 'giant',\n",
              " 'of',\n",
              " 'the',\n",
              " 'brazilian',\n",
              " 'electricity',\n",
              " 'sector',\n",
              " 'fantastic']"
            ]
          },
          "metadata": {},
          "execution_count": 101
        }
      ]
    },
    {
      "cell_type": "code",
      "source": [
        "# partes de speech tagging\n",
        "from nltk.tag import pos_tag\n",
        "nltk.download('averaged_perceptron_tagger')\n",
        "pos_lambda = lambda x: nltk.pos_tag(x)\n",
        "df2['tokens_pos'] = (df2.tokens_stop.apply(pos_lambda))\n",
        "df2.head()"
      ],
      "metadata": {
        "colab": {
          "base_uri": "https://localhost:8080/",
          "height": 0
        },
        "id": "-5E4OKoxXmER",
        "outputId": "35cb3892-84c3-4604-9714-69809fe823c2"
      },
      "execution_count": 102,
      "outputs": [
        {
          "output_type": "stream",
          "name": "stderr",
          "text": [
            "[nltk_data] Downloading package averaged_perceptron_tagger to\n",
            "[nltk_data]     /root/nltk_data...\n",
            "[nltk_data]   Package averaged_perceptron_tagger is already up-to-\n",
            "[nltk_data]       date!\n"
          ]
        },
        {
          "output_type": "execute_result",
          "data": {
            "text/plain": [
              "                    ID                                               text  \\\n",
              "0  1650289032478195714  eletrobras is the giant of the brazilian elect...   \n",
              "1  1650288735785824256  the eletrobras is big   it is great   it is fr...   \n",
              "2  1650288543258771458  renationalize eletrobras and petrobras for yes...   \n",
              "3  1650288162302840833  absurd what happened 🤬 yes  take back control ...   \n",
              "4  1650287640338477057  tem que reverter a privatização da eletrobrás sim   \n",
              "\n",
              "                                              tokens  Pontuacao2   rotulos  \\\n",
              "0  [eletrobras, is, the, giant, of, the, brazilia...      0.5574  Positivo   \n",
              "1  [the, eletrobras, is, big, it, is, great, it, ...      0.6249  Positivo   \n",
              "2  [renationalize, eletrobras, and, petrobras, fo...      0.4215  Positivo   \n",
              "3  [absurd, what, happened, 🤬, yes, take, back, c...      0.4019  Positivo   \n",
              "4  [tem, que, reverter, a, privatização, da, elet...      0.0000    Neutro   \n",
              "\n",
              "                                         tokens_stop  \\\n",
              "0  [eletrobras, is, the, giant, of, the, brazilia...   \n",
              "1  [the, eletrobras, is, big, it, is, great, it, ...   \n",
              "2  [renationalize, eletrobras, and, petrobras, ye...   \n",
              "3  [absurd, what, happened, 🤬, yes, take, back, c...   \n",
              "4          [reverter, privatização, eletrobrás, sim]   \n",
              "\n",
              "                                          tokens_pos  \n",
              "0  [(eletrobras, NN), (is, VBZ), (the, DT), (gian...  \n",
              "1  [(the, DT), (eletrobras, NN), (is, VBZ), (big,...  \n",
              "2  [(renationalize, VB), (eletrobras, NNS), (and,...  \n",
              "3  [(absurd, VB), (what, WP), (happened, VBD), (🤬...  \n",
              "4  [(reverter, NN), (privatização, NN), (eletrobr...  "
            ],
            "text/html": [
              "\n",
              "  <div id=\"df-82b32011-2036-49a9-b493-701b3eeb2044\">\n",
              "    <div class=\"colab-df-container\">\n",
              "      <div>\n",
              "<style scoped>\n",
              "    .dataframe tbody tr th:only-of-type {\n",
              "        vertical-align: middle;\n",
              "    }\n",
              "\n",
              "    .dataframe tbody tr th {\n",
              "        vertical-align: top;\n",
              "    }\n",
              "\n",
              "    .dataframe thead th {\n",
              "        text-align: right;\n",
              "    }\n",
              "</style>\n",
              "<table border=\"1\" class=\"dataframe\">\n",
              "  <thead>\n",
              "    <tr style=\"text-align: right;\">\n",
              "      <th></th>\n",
              "      <th>ID</th>\n",
              "      <th>text</th>\n",
              "      <th>tokens</th>\n",
              "      <th>Pontuacao2</th>\n",
              "      <th>rotulos</th>\n",
              "      <th>tokens_stop</th>\n",
              "      <th>tokens_pos</th>\n",
              "    </tr>\n",
              "  </thead>\n",
              "  <tbody>\n",
              "    <tr>\n",
              "      <th>0</th>\n",
              "      <td>1650289032478195714</td>\n",
              "      <td>eletrobras is the giant of the brazilian elect...</td>\n",
              "      <td>[eletrobras, is, the, giant, of, the, brazilia...</td>\n",
              "      <td>0.5574</td>\n",
              "      <td>Positivo</td>\n",
              "      <td>[eletrobras, is, the, giant, of, the, brazilia...</td>\n",
              "      <td>[(eletrobras, NN), (is, VBZ), (the, DT), (gian...</td>\n",
              "    </tr>\n",
              "    <tr>\n",
              "      <th>1</th>\n",
              "      <td>1650288735785824256</td>\n",
              "      <td>the eletrobras is big   it is great   it is fr...</td>\n",
              "      <td>[the, eletrobras, is, big, it, is, great, it, ...</td>\n",
              "      <td>0.6249</td>\n",
              "      <td>Positivo</td>\n",
              "      <td>[the, eletrobras, is, big, it, is, great, it, ...</td>\n",
              "      <td>[(the, DT), (eletrobras, NN), (is, VBZ), (big,...</td>\n",
              "    </tr>\n",
              "    <tr>\n",
              "      <th>2</th>\n",
              "      <td>1650288543258771458</td>\n",
              "      <td>renationalize eletrobras and petrobras for yes...</td>\n",
              "      <td>[renationalize, eletrobras, and, petrobras, fo...</td>\n",
              "      <td>0.4215</td>\n",
              "      <td>Positivo</td>\n",
              "      <td>[renationalize, eletrobras, and, petrobras, ye...</td>\n",
              "      <td>[(renationalize, VB), (eletrobras, NNS), (and,...</td>\n",
              "    </tr>\n",
              "    <tr>\n",
              "      <th>3</th>\n",
              "      <td>1650288162302840833</td>\n",
              "      <td>absurd what happened 🤬 yes  take back control ...</td>\n",
              "      <td>[absurd, what, happened, 🤬, yes, take, back, c...</td>\n",
              "      <td>0.4019</td>\n",
              "      <td>Positivo</td>\n",
              "      <td>[absurd, what, happened, 🤬, yes, take, back, c...</td>\n",
              "      <td>[(absurd, VB), (what, WP), (happened, VBD), (🤬...</td>\n",
              "    </tr>\n",
              "    <tr>\n",
              "      <th>4</th>\n",
              "      <td>1650287640338477057</td>\n",
              "      <td>tem que reverter a privatização da eletrobrás sim</td>\n",
              "      <td>[tem, que, reverter, a, privatização, da, elet...</td>\n",
              "      <td>0.0000</td>\n",
              "      <td>Neutro</td>\n",
              "      <td>[reverter, privatização, eletrobrás, sim]</td>\n",
              "      <td>[(reverter, NN), (privatização, NN), (eletrobr...</td>\n",
              "    </tr>\n",
              "  </tbody>\n",
              "</table>\n",
              "</div>\n",
              "      <button class=\"colab-df-convert\" onclick=\"convertToInteractive('df-82b32011-2036-49a9-b493-701b3eeb2044')\"\n",
              "              title=\"Convert this dataframe to an interactive table.\"\n",
              "              style=\"display:none;\">\n",
              "        \n",
              "  <svg xmlns=\"http://www.w3.org/2000/svg\" height=\"24px\"viewBox=\"0 0 24 24\"\n",
              "       width=\"24px\">\n",
              "    <path d=\"M0 0h24v24H0V0z\" fill=\"none\"/>\n",
              "    <path d=\"M18.56 5.44l.94 2.06.94-2.06 2.06-.94-2.06-.94-.94-2.06-.94 2.06-2.06.94zm-11 1L8.5 8.5l.94-2.06 2.06-.94-2.06-.94L8.5 2.5l-.94 2.06-2.06.94zm10 10l.94 2.06.94-2.06 2.06-.94-2.06-.94-.94-2.06-.94 2.06-2.06.94z\"/><path d=\"M17.41 7.96l-1.37-1.37c-.4-.4-.92-.59-1.43-.59-.52 0-1.04.2-1.43.59L10.3 9.45l-7.72 7.72c-.78.78-.78 2.05 0 2.83L4 21.41c.39.39.9.59 1.41.59.51 0 1.02-.2 1.41-.59l7.78-7.78 2.81-2.81c.8-.78.8-2.07 0-2.86zM5.41 20L4 18.59l7.72-7.72 1.47 1.35L5.41 20z\"/>\n",
              "  </svg>\n",
              "      </button>\n",
              "      \n",
              "  <style>\n",
              "    .colab-df-container {\n",
              "      display:flex;\n",
              "      flex-wrap:wrap;\n",
              "      gap: 12px;\n",
              "    }\n",
              "\n",
              "    .colab-df-convert {\n",
              "      background-color: #E8F0FE;\n",
              "      border: none;\n",
              "      border-radius: 50%;\n",
              "      cursor: pointer;\n",
              "      display: none;\n",
              "      fill: #1967D2;\n",
              "      height: 32px;\n",
              "      padding: 0 0 0 0;\n",
              "      width: 32px;\n",
              "    }\n",
              "\n",
              "    .colab-df-convert:hover {\n",
              "      background-color: #E2EBFA;\n",
              "      box-shadow: 0px 1px 2px rgba(60, 64, 67, 0.3), 0px 1px 3px 1px rgba(60, 64, 67, 0.15);\n",
              "      fill: #174EA6;\n",
              "    }\n",
              "\n",
              "    [theme=dark] .colab-df-convert {\n",
              "      background-color: #3B4455;\n",
              "      fill: #D2E3FC;\n",
              "    }\n",
              "\n",
              "    [theme=dark] .colab-df-convert:hover {\n",
              "      background-color: #434B5C;\n",
              "      box-shadow: 0px 1px 3px 1px rgba(0, 0, 0, 0.15);\n",
              "      filter: drop-shadow(0px 1px 2px rgba(0, 0, 0, 0.3));\n",
              "      fill: #FFFFFF;\n",
              "    }\n",
              "  </style>\n",
              "\n",
              "      <script>\n",
              "        const buttonEl =\n",
              "          document.querySelector('#df-82b32011-2036-49a9-b493-701b3eeb2044 button.colab-df-convert');\n",
              "        buttonEl.style.display =\n",
              "          google.colab.kernel.accessAllowed ? 'block' : 'none';\n",
              "\n",
              "        async function convertToInteractive(key) {\n",
              "          const element = document.querySelector('#df-82b32011-2036-49a9-b493-701b3eeb2044');\n",
              "          const dataTable =\n",
              "            await google.colab.kernel.invokeFunction('convertToInteractive',\n",
              "                                                     [key], {});\n",
              "          if (!dataTable) return;\n",
              "\n",
              "          const docLinkHtml = 'Like what you see? Visit the ' +\n",
              "            '<a target=\"_blank\" href=https://colab.research.google.com/notebooks/data_table.ipynb>data table notebook</a>'\n",
              "            + ' to learn more about interactive tables.';\n",
              "          element.innerHTML = '';\n",
              "          dataTable['output_type'] = 'display_data';\n",
              "          await google.colab.output.renderOutput(dataTable, element);\n",
              "          const docLink = document.createElement('div');\n",
              "          docLink.innerHTML = docLinkHtml;\n",
              "          element.appendChild(docLink);\n",
              "        }\n",
              "      </script>\n",
              "    </div>\n",
              "  </div>\n",
              "  "
            ]
          },
          "metadata": {},
          "execution_count": 102
        }
      ]
    },
    {
      "cell_type": "code",
      "source": [
        "from collections import Counter\n",
        "\n",
        "# Converte a lista em um dicionário com contagem de valores (usando o stop)\n",
        "word_counts_stop = Counter(word_list_stop)\n",
        "a = word_counts_stop\n",
        "\n",
        "# Inverta a chave / valores no dicionário para classificar\n",
        "word_counts_stop = list(zip(word_counts_stop.values(), word_counts_stop.keys()))\n",
        "\n",
        "# Classifique a lista por contagem\n",
        "word_counts_stop = sorted(word_counts_stop, reverse=True)\n",
        "\n",
        "# Imprime as 10 palavras mais comuns\n",
        "word_counts_stop[:10]"
      ],
      "metadata": {
        "colab": {
          "base_uri": "https://localhost:8080/"
        },
        "id": "CrBkYBfwYgrx",
        "outputId": "3c26bfa4-42b5-4793-fee7-4345c3041a16"
      },
      "execution_count": 103,
      "outputs": [
        {
          "output_type": "execute_result",
          "data": {
            "text/plain": [
              "[(1537, 'janja'),\n",
              " (1524, 'requiaooficial'),\n",
              " (1523, 'petrobras'),\n",
              " (1508, 'portugal'),\n",
              " (1507, 'vender'),\n",
              " (1505, 'comprar'),\n",
              " (1504, 'marido'),\n",
              " (1503, 'loja'),\n",
              " (1503, 'gravata'),\n",
              " (1502, 'entrou')]"
            ]
          },
          "metadata": {},
          "execution_count": 103
        }
      ]
    },
    {
      "cell_type": "markdown",
      "source": [
        "# Nuvem de Palavras \n",
        "\n",
        "Wordcloud – em português, nuvem de palavras ou nuvem de tags – é um tipo de visualização de dados muito poderoso e ferramenta de Data Science usado quando estamos trabalhando com textos, documentos, pesquisas, entre outras."
      ],
      "metadata": {
        "id": "oSJl2qW8XxOp"
      }
    },
    {
      "cell_type": "code",
      "source": [
        "text = word_list_stop\n",
        "wordcloud = WordCloud(width=1600, height=800, max_font_size=200).fit_words(a)\n",
        "# wordcloud = WordCloud(width=1600, height=800, max_font_size=200).generate(text)\n",
        "plt.figure(figsize=(12,10))\n",
        "plt.imshow(wordcloud, interpolation='bilinear')\n",
        "plt.axis(\"off\")\n",
        "plt.show()"
      ],
      "metadata": {
        "colab": {
          "base_uri": "https://localhost:8080/",
          "height": 501
        },
        "id": "I4sWIPxVY6yU",
        "outputId": "2b60c444-b52d-4fd0-c9a7-b3dacf1442ea"
      },
      "execution_count": 104,
      "outputs": [
        {
          "output_type": "display_data",
          "data": {
            "text/plain": [
              "<Figure size 1200x1000 with 1 Axes>"
            ],
            "image/png": "[encoded data removed]"
          },
          "metadata": {}
        }
      ]
    },
    {
      "cell_type": "markdown",
      "source": [
        "# Extração de dados em um excel"
      ],
      "metadata": {
        "id": "eu8-gS7lX2vB"
      }
    },
    {
      "cell_type": "code",
      "source": [
        "file_name = 'Basededados_twitter_eletrobras.xlsx'\n",
        "df2.to_excel(file_name)"
      ],
      "metadata": {
        "id": "X8eRIb3hZ7zM"
      },
      "execution_count": 105,
      "outputs": []
    },
    {
      "cell_type": "markdown",
      "source": [
        "# Modelagem\n",
        "\n",
        "Foram gerados 4 modelos de classificação:\n",
        "\n",
        "- Multinomial Naive Bayes\n",
        "- Multnomial usando Bigrams\n",
        "- Random Forest\n",
        "- Support Vector Machine"
      ],
      "metadata": {
        "id": "Eqm8RAWaX9t5"
      }
    },
    {
      "cell_type": "markdown",
      "source": [
        "## Multinomial Naive Bayes"
      ],
      "metadata": {
        "id": "t8SXOPvkYNMv"
      }
    },
    {
      "cell_type": "markdown",
      "source": [
        "Separação de bases de treinamento e base de testes"
      ],
      "metadata": {
        "id": "jbnED6JWkz2k"
      }
    },
    {
      "cell_type": "code",
      "source": [
        "X_train, X_test, y_train, y_test = train_test_split(df2['text'], df2['rotulos'], test_size=0.2)"
      ],
      "metadata": {
        "id": "OOL3KVt0egjq"
      },
      "execution_count": 106,
      "outputs": []
    },
    {
      "cell_type": "code",
      "source": [
        "vectorizer = CountVectorizer(analyzer = \"word\", tokenizer = None, preprocessor = None,stop_words = stop_words, max_features = 5000)\n",
        "\n",
        "X_train_vectors = vectorizer.fit_transform(X_train)\n",
        "X_test_vectors = vectorizer.transform(X_test)\n",
        "\n"
      ],
      "metadata": {
        "id": "CslubVjQYsK8"
      },
      "execution_count": 107,
      "outputs": []
    },
    {
      "cell_type": "code",
      "source": [
        "# criar modelo multinomial\n",
        "mnb = MultinomialNB()\n",
        "\n",
        "# treinar o modelo multinomial\n",
        "mnb.fit(X_train_vectors, y_train)\n"
      ],
      "metadata": {
        "colab": {
          "base_uri": "https://localhost:8080/",
          "height": 74
        },
        "id": "tuzSg1U9aKdC",
        "outputId": "5d959144-c595-463c-99a9-6a7522172327"
      },
      "execution_count": 108,
      "outputs": [
        {
          "output_type": "execute_result",
          "data": {
            "text/plain": [
              "MultinomialNB()"
            ],
            "text/html": [
              "<style>#sk-container-id-6 {color: black;background-color: white;}#sk-container-id-6 pre{padding: 0;}#sk-container-id-6 div.sk-toggleable {background-color: white;}#sk-container-id-6 label.sk-toggleable__label {cursor: pointer;display: block;width: 100%;margin-bottom: 0;padding: 0.3em;box-sizing: border-box;text-align: center;}#sk-container-id-6 label.sk-toggleable__label-arrow:before {content: \"▸\";float: left;margin-right: 0.25em;color: #696969;}#sk-container-id-6 label.sk-toggleable__label-arrow:hover:before {color: black;}#sk-container-id-6 div.sk-estimator:hover label.sk-toggleable__label-arrow:before {color: black;}#sk-container-id-6 div.sk-toggleable__content {max-height: 0;max-width: 0;overflow: hidden;text-align: left;background-color: #f0f8ff;}#sk-container-id-6 div.sk-toggleable__content pre {margin: 0.2em;color: black;border-radius: 0.25em;background-color: #f0f8ff;}#sk-container-id-6 input.sk-toggleable__control:checked~div.sk-toggleable__content {max-height: 200px;max-width: 100%;overflow: auto;}#sk-container-id-6 input.sk-toggleable__control:checked~label.sk-toggleable__label-arrow:before {content: \"▾\";}#sk-container-id-6 div.sk-estimator input.sk-toggleable__control:checked~label.sk-toggleable__label {background-color: #d4ebff;}#sk-container-id-6 div.sk-label input.sk-toggleable__control:checked~label.sk-toggleable__label {background-color: #d4ebff;}#sk-container-id-6 input.sk-hidden--visually {border: 0;clip: rect(1px 1px 1px 1px);clip: rect(1px, 1px, 1px, 1px);height: 1px;margin: -1px;overflow: hidden;padding: 0;position: absolute;width: 1px;}#sk-container-id-6 div.sk-estimator {font-family: monospace;background-color: #f0f8ff;border: 1px dotted black;border-radius: 0.25em;box-sizing: border-box;margin-bottom: 0.5em;}#sk-container-id-6 div.sk-estimator:hover {background-color: #d4ebff;}#sk-container-id-6 div.sk-parallel-item::after {content: \"\";width: 100%;border-bottom: 1px solid gray;flex-grow: 1;}#sk-container-id-6 div.sk-label:hover label.sk-toggleable__label {background-color: #d4ebff;}#sk-container-id-6 div.sk-serial::before {content: \"\";position: absolute;border-left: 1px solid gray;box-sizing: border-box;top: 0;bottom: 0;left: 50%;z-index: 0;}#sk-container-id-6 div.sk-serial {display: flex;flex-direction: column;align-items: center;background-color: white;padding-right: 0.2em;padding-left: 0.2em;position: relative;}#sk-container-id-6 div.sk-item {position: relative;z-index: 1;}#sk-container-id-6 div.sk-parallel {display: flex;align-items: stretch;justify-content: center;background-color: white;position: relative;}#sk-container-id-6 div.sk-item::before, #sk-container-id-6 div.sk-parallel-item::before {content: \"\";position: absolute;border-left: 1px solid gray;box-sizing: border-box;top: 0;bottom: 0;left: 50%;z-index: -1;}#sk-container-id-6 div.sk-parallel-item {display: flex;flex-direction: column;z-index: 1;position: relative;background-color: white;}#sk-container-id-6 div.sk-parallel-item:first-child::after {align-self: flex-end;width: 50%;}#sk-container-id-6 div.sk-parallel-item:last-child::after {align-self: flex-start;width: 50%;}#sk-container-id-6 div.sk-parallel-item:only-child::after {width: 0;}#sk-container-id-6 div.sk-dashed-wrapped {border: 1px dashed gray;margin: 0 0.4em 0.5em 0.4em;box-sizing: border-box;padding-bottom: 0.4em;background-color: white;}#sk-container-id-6 div.sk-label label {font-family: monospace;font-weight: bold;display: inline-block;line-height: 1.2em;}#sk-container-id-6 div.sk-label-container {text-align: center;}#sk-container-id-6 div.sk-container {/* jupyter's `normalize.less` sets `[hidden] { display: none; }` but bootstrap.min.css set `[hidden] { display: none !important; }` so we also need the `!important` here to be able to override the default hidden behavior on the sphinx rendered scikit-learn.org. See: https://github.com/scikit-learn/scikit-learn/issues/21755 */display: inline-block !important;position: relative;}#sk-container-id-6 div.sk-text-repr-fallback {display: none;}</style><div id=\"sk-container-id-6\" class=\"sk-top-container\"><div class=\"sk-text-repr-fallback\"><pre>MultinomialNB()</pre><b>In a Jupyter environment, please rerun this cell to show the HTML representation or trust the notebook. <br />On GitHub, the HTML representation is unable to render, please try loading this page with nbviewer.org.</b></div><div class=\"sk-container\" hidden><div class=\"sk-item\"><div class=\"sk-estimator sk-toggleable\"><input class=\"sk-toggleable__control sk-hidden--visually\" id=\"sk-estimator-id-6\" type=\"checkbox\" checked><label for=\"sk-estimator-id-6\" class=\"sk-toggleable__label sk-toggleable__label-arrow\">MultinomialNB</label><div class=\"sk-toggleable__content\"><pre>MultinomialNB()</pre></div></div></div></div></div>"
            ]
          },
          "metadata": {},
          "execution_count": 108
        }
      ]
    },
    {
      "cell_type": "code",
      "source": [
        "# fazer previsões no conjunto de teste\n",
        "y_pred_mnb = mnb.predict(X_test_vectors)\n",
        "\n",
        "# imprimir relatório de classificação\n",
        "print(classification_report(y_test, y_pred_mnb))\n"
      ],
      "metadata": {
        "colab": {
          "base_uri": "https://localhost:8080/"
        },
        "id": "HggfMNicXIa6",
        "outputId": "32d55168-de83-49b8-868e-7feacc2b24ca"
      },
      "execution_count": 109,
      "outputs": [
        {
          "output_type": "stream",
          "name": "stdout",
          "text": [
            "              precision    recall  f1-score   support\n",
            "\n",
            "    Negativo       0.41      0.93      0.57        15\n",
            "      Neutro       1.00      0.93      0.96       382\n",
            "    Positivo       0.00      0.00      0.00         3\n",
            "\n",
            "    accuracy                           0.92       400\n",
            "   macro avg       0.47      0.62      0.51       400\n",
            "weighted avg       0.97      0.92      0.94       400\n",
            "\n"
          ]
        }
      ]
    },
    {
      "cell_type": "code",
      "source": [
        "metrics.accuracy_score(y_test, y_pred_mnb)"
      ],
      "metadata": {
        "colab": {
          "base_uri": "https://localhost:8080/"
        },
        "id": "lNMvEfYjaY7-",
        "outputId": "402d21ae-05af-481f-e22e-e458b47a13c6"
      },
      "execution_count": 110,
      "outputs": [
        {
          "output_type": "execute_result",
          "data": {
            "text/plain": [
              "0.92"
            ]
          },
          "metadata": {},
          "execution_count": 110
        }
      ]
    },
    {
      "cell_type": "code",
      "source": [
        "print(pd.crosstab(y_test, y_pred_mnb, rownames = [\"Real\"], colnames=[\"Predito\"], margins=True))"
      ],
      "metadata": {
        "colab": {
          "base_uri": "https://localhost:8080/"
        },
        "id": "xuEeC258bWel",
        "outputId": "da1b8744-46b1-42a1-f1ec-72037876372a"
      },
      "execution_count": 111,
      "outputs": [
        {
          "output_type": "stream",
          "name": "stdout",
          "text": [
            "Predito   Negativo  Neutro  Positivo  All\n",
            "Real                                     \n",
            "Negativo        14       0         1   15\n",
            "Neutro          18     354        10  382\n",
            "Positivo         2       1         0    3\n",
            "All             34     355        11  400\n"
          ]
        }
      ]
    },
    {
      "cell_type": "markdown",
      "source": [
        "## Multinomial usando Bigramas"
      ],
      "metadata": {
        "id": "aHktpl4GYSma"
      }
    },
    {
      "cell_type": "code",
      "source": [
        "#usando melhoria com Bigrams\n",
        "vectorizer = CountVectorizer(ngram_range = (1, 2),analyzer = \"word\", tokenizer = None, preprocessor = None,stop_words = stop_words, max_features = 5000)\n",
        "\n",
        "X_train_mnb2_vectors = vectorizer.fit_transform(X_train)\n",
        "X_test_mnb2_vectors = vectorizer.transform(X_test)\n",
        "\n",
        "modelo = MultinomialNB()\n",
        "# treinar o modelo multinomial\n",
        "modelo.fit(X_train_mnb2_vectors, y_train)\n"
      ],
      "metadata": {
        "colab": {
          "base_uri": "https://localhost:8080/",
          "height": 74
        },
        "id": "yJQcuobmb4ZQ",
        "outputId": "f59bf37b-03fc-4b12-9177-4f57ff75724e"
      },
      "execution_count": 112,
      "outputs": [
        {
          "output_type": "execute_result",
          "data": {
            "text/plain": [
              "MultinomialNB()"
            ],
            "text/html": [
              "<style>#sk-container-id-7 {color: black;background-color: white;}#sk-container-id-7 pre{padding: 0;}#sk-container-id-7 div.sk-toggleable {background-color: white;}#sk-container-id-7 label.sk-toggleable__label {cursor: pointer;display: block;width: 100%;margin-bottom: 0;padding: 0.3em;box-sizing: border-box;text-align: center;}#sk-container-id-7 label.sk-toggleable__label-arrow:before {content: \"▸\";float: left;margin-right: 0.25em;color: #696969;}#sk-container-id-7 label.sk-toggleable__label-arrow:hover:before {color: black;}#sk-container-id-7 div.sk-estimator:hover label.sk-toggleable__label-arrow:before {color: black;}#sk-container-id-7 div.sk-toggleable__content {max-height: 0;max-width: 0;overflow: hidden;text-align: left;background-color: #f0f8ff;}#sk-container-id-7 div.sk-toggleable__content pre {margin: 0.2em;color: black;border-radius: 0.25em;background-color: #f0f8ff;}#sk-container-id-7 input.sk-toggleable__control:checked~div.sk-toggleable__content {max-height: 200px;max-width: 100%;overflow: auto;}#sk-container-id-7 input.sk-toggleable__control:checked~label.sk-toggleable__label-arrow:before {content: \"▾\";}#sk-container-id-7 div.sk-estimator input.sk-toggleable__control:checked~label.sk-toggleable__label {background-color: #d4ebff;}#sk-container-id-7 div.sk-label input.sk-toggleable__control:checked~label.sk-toggleable__label {background-color: #d4ebff;}#sk-container-id-7 input.sk-hidden--visually {border: 0;clip: rect(1px 1px 1px 1px);clip: rect(1px, 1px, 1px, 1px);height: 1px;margin: -1px;overflow: hidden;padding: 0;position: absolute;width: 1px;}#sk-container-id-7 div.sk-estimator {font-family: monospace;background-color: #f0f8ff;border: 1px dotted black;border-radius: 0.25em;box-sizing: border-box;margin-bottom: 0.5em;}#sk-container-id-7 div.sk-estimator:hover {background-color: #d4ebff;}#sk-container-id-7 div.sk-parallel-item::after {content: \"\";width: 100%;border-bottom: 1px solid gray;flex-grow: 1;}#sk-container-id-7 div.sk-label:hover label.sk-toggleable__label {background-color: #d4ebff;}#sk-container-id-7 div.sk-serial::before {content: \"\";position: absolute;border-left: 1px solid gray;box-sizing: border-box;top: 0;bottom: 0;left: 50%;z-index: 0;}#sk-container-id-7 div.sk-serial {display: flex;flex-direction: column;align-items: center;background-color: white;padding-right: 0.2em;padding-left: 0.2em;position: relative;}#sk-container-id-7 div.sk-item {position: relative;z-index: 1;}#sk-container-id-7 div.sk-parallel {display: flex;align-items: stretch;justify-content: center;background-color: white;position: relative;}#sk-container-id-7 div.sk-item::before, #sk-container-id-7 div.sk-parallel-item::before {content: \"\";position: absolute;border-left: 1px solid gray;box-sizing: border-box;top: 0;bottom: 0;left: 50%;z-index: -1;}#sk-container-id-7 div.sk-parallel-item {display: flex;flex-direction: column;z-index: 1;position: relative;background-color: white;}#sk-container-id-7 div.sk-parallel-item:first-child::after {align-self: flex-end;width: 50%;}#sk-container-id-7 div.sk-parallel-item:last-child::after {align-self: flex-start;width: 50%;}#sk-container-id-7 div.sk-parallel-item:only-child::after {width: 0;}#sk-container-id-7 div.sk-dashed-wrapped {border: 1px dashed gray;margin: 0 0.4em 0.5em 0.4em;box-sizing: border-box;padding-bottom: 0.4em;background-color: white;}#sk-container-id-7 div.sk-label label {font-family: monospace;font-weight: bold;display: inline-block;line-height: 1.2em;}#sk-container-id-7 div.sk-label-container {text-align: center;}#sk-container-id-7 div.sk-container {/* jupyter's `normalize.less` sets `[hidden] { display: none; }` but bootstrap.min.css set `[hidden] { display: none !important; }` so we also need the `!important` here to be able to override the default hidden behavior on the sphinx rendered scikit-learn.org. See: https://github.com/scikit-learn/scikit-learn/issues/21755 */display: inline-block !important;position: relative;}#sk-container-id-7 div.sk-text-repr-fallback {display: none;}</style><div id=\"sk-container-id-7\" class=\"sk-top-container\"><div class=\"sk-text-repr-fallback\"><pre>MultinomialNB()</pre><b>In a Jupyter environment, please rerun this cell to show the HTML representation or trust the notebook. <br />On GitHub, the HTML representation is unable to render, please try loading this page with nbviewer.org.</b></div><div class=\"sk-container\" hidden><div class=\"sk-item\"><div class=\"sk-estimator sk-toggleable\"><input class=\"sk-toggleable__control sk-hidden--visually\" id=\"sk-estimator-id-7\" type=\"checkbox\" checked><label for=\"sk-estimator-id-7\" class=\"sk-toggleable__label sk-toggleable__label-arrow\">MultinomialNB</label><div class=\"sk-toggleable__content\"><pre>MultinomialNB()</pre></div></div></div></div></div>"
            ]
          },
          "metadata": {},
          "execution_count": 112
        }
      ]
    },
    {
      "cell_type": "code",
      "source": [
        "# fazer previsões no conjunto de teste\n",
        "y_pred_mnb2 = modelo.predict(X_test_mnb2_vectors)\n",
        "\n",
        "# imprimir relatório de classificação\n",
        "print(classification_report(y_test, y_pred_mnb2))"
      ],
      "metadata": {
        "colab": {
          "base_uri": "https://localhost:8080/"
        },
        "id": "4Inn6b6uYroE",
        "outputId": "48cd7f4d-dab4-4e0a-8718-4db97a102d83"
      },
      "execution_count": 113,
      "outputs": [
        {
          "output_type": "stream",
          "name": "stdout",
          "text": [
            "              precision    recall  f1-score   support\n",
            "\n",
            "    Negativo       0.42      0.87      0.57        15\n",
            "      Neutro       1.00      0.92      0.95       382\n",
            "    Positivo       0.00      0.00      0.00         3\n",
            "\n",
            "    accuracy                           0.91       400\n",
            "   macro avg       0.47      0.59      0.51       400\n",
            "weighted avg       0.97      0.91      0.93       400\n",
            "\n"
          ]
        }
      ]
    },
    {
      "cell_type": "code",
      "source": [
        "metrics.accuracy_score(y_test, y_pred_mnb2)"
      ],
      "metadata": {
        "colab": {
          "base_uri": "https://localhost:8080/"
        },
        "id": "4NgUslUuYteo",
        "outputId": "315b7ca2-9e33-4b1e-b385-41e16941eb08"
      },
      "execution_count": 114,
      "outputs": [
        {
          "output_type": "execute_result",
          "data": {
            "text/plain": [
              "0.9075"
            ]
          },
          "metadata": {},
          "execution_count": 114
        }
      ]
    },
    {
      "cell_type": "code",
      "source": [
        "print(pd.crosstab(y_test, y_pred_mnb2, rownames = [\"Real\"], colnames=[\"Predito\"], margins=True))"
      ],
      "metadata": {
        "colab": {
          "base_uri": "https://localhost:8080/"
        },
        "id": "O42dAkvAYtSm",
        "outputId": "e88cd704-67c9-4ad2-c104-d257b4a621d5"
      },
      "execution_count": 115,
      "outputs": [
        {
          "output_type": "stream",
          "name": "stdout",
          "text": [
            "Predito   Negativo  Neutro  Positivo  All\n",
            "Real                                     \n",
            "Negativo        13       0         2   15\n",
            "Neutro          16     350        16  382\n",
            "Positivo         2       1         0    3\n",
            "All             31     351        18  400\n"
          ]
        }
      ]
    },
    {
      "cell_type": "markdown",
      "source": [
        "## Modelo Randow Forest"
      ],
      "metadata": {
        "id": "E2q7ZMijeWZL"
      }
    },
    {
      "cell_type": "code",
      "source": [
        "vectorizer = CountVectorizer(analyzer = \"word\", tokenizer = None, preprocessor = None,stop_words = stop_words, max_features = 5000)"
      ],
      "metadata": {
        "id": "2h_qMjAReOID"
      },
      "execution_count": 116,
      "outputs": []
    },
    {
      "cell_type": "code",
      "source": [
        "train_data_features = vectorizer.fit_transform(X_train)\n",
        "train_data_features"
      ],
      "metadata": {
        "colab": {
          "base_uri": "https://localhost:8080/"
        },
        "id": "Io2ctfFregu3",
        "outputId": "a437d12b-f97c-4566-a56a-20caa23d7e25"
      },
      "execution_count": 117,
      "outputs": [
        {
          "output_type": "execute_result",
          "data": {
            "text/plain": [
              "<1600x1289 sparse matrix of type '<class 'numpy.int64'>'\n",
              "\twith 18057 stored elements in Compressed Sparse Row format>"
            ]
          },
          "metadata": {},
          "execution_count": 117
        }
      ]
    },
    {
      "cell_type": "code",
      "source": [
        "forest = RandomForestClassifier(n_estimators = 100)\n",
        "forest"
      ],
      "metadata": {
        "colab": {
          "base_uri": "https://localhost:8080/",
          "height": 74
        },
        "id": "v9q2PPMyelPd",
        "outputId": "5a61a2ac-8c13-41de-fd57-981d03140ddc"
      },
      "execution_count": 118,
      "outputs": [
        {
          "output_type": "execute_result",
          "data": {
            "text/plain": [
              "RandomForestClassifier()"
            ],
            "text/html": [
              "<style>#sk-container-id-8 {color: black;background-color: white;}#sk-container-id-8 pre{padding: 0;}#sk-container-id-8 div.sk-toggleable {background-color: white;}#sk-container-id-8 label.sk-toggleable__label {cursor: pointer;display: block;width: 100%;margin-bottom: 0;padding: 0.3em;box-sizing: border-box;text-align: center;}#sk-container-id-8 label.sk-toggleable__label-arrow:before {content: \"▸\";float: left;margin-right: 0.25em;color: #696969;}#sk-container-id-8 label.sk-toggleable__label-arrow:hover:before {color: black;}#sk-container-id-8 div.sk-estimator:hover label.sk-toggleable__label-arrow:before {color: black;}#sk-container-id-8 div.sk-toggleable__content {max-height: 0;max-width: 0;overflow: hidden;text-align: left;background-color: #f0f8ff;}#sk-container-id-8 div.sk-toggleable__content pre {margin: 0.2em;color: black;border-radius: 0.25em;background-color: #f0f8ff;}#sk-container-id-8 input.sk-toggleable__control:checked~div.sk-toggleable__content {max-height: 200px;max-width: 100%;overflow: auto;}#sk-container-id-8 input.sk-toggleable__control:checked~label.sk-toggleable__label-arrow:before {content: \"▾\";}#sk-container-id-8 div.sk-estimator input.sk-toggleable__control:checked~label.sk-toggleable__label {background-color: #d4ebff;}#sk-container-id-8 div.sk-label input.sk-toggleable__control:checked~label.sk-toggleable__label {background-color: #d4ebff;}#sk-container-id-8 input.sk-hidden--visually {border: 0;clip: rect(1px 1px 1px 1px);clip: rect(1px, 1px, 1px, 1px);height: 1px;margin: -1px;overflow: hidden;padding: 0;position: absolute;width: 1px;}#sk-container-id-8 div.sk-estimator {font-family: monospace;background-color: #f0f8ff;border: 1px dotted black;border-radius: 0.25em;box-sizing: border-box;margin-bottom: 0.5em;}#sk-container-id-8 div.sk-estimator:hover {background-color: #d4ebff;}#sk-container-id-8 div.sk-parallel-item::after {content: \"\";width: 100%;border-bottom: 1px solid gray;flex-grow: 1;}#sk-container-id-8 div.sk-label:hover label.sk-toggleable__label {background-color: #d4ebff;}#sk-container-id-8 div.sk-serial::before {content: \"\";position: absolute;border-left: 1px solid gray;box-sizing: border-box;top: 0;bottom: 0;left: 50%;z-index: 0;}#sk-container-id-8 div.sk-serial {display: flex;flex-direction: column;align-items: center;background-color: white;padding-right: 0.2em;padding-left: 0.2em;position: relative;}#sk-container-id-8 div.sk-item {position: relative;z-index: 1;}#sk-container-id-8 div.sk-parallel {display: flex;align-items: stretch;justify-content: center;background-color: white;position: relative;}#sk-container-id-8 div.sk-item::before, #sk-container-id-8 div.sk-parallel-item::before {content: \"\";position: absolute;border-left: 1px solid gray;box-sizing: border-box;top: 0;bottom: 0;left: 50%;z-index: -1;}#sk-container-id-8 div.sk-parallel-item {display: flex;flex-direction: column;z-index: 1;position: relative;background-color: white;}#sk-container-id-8 div.sk-parallel-item:first-child::after {align-self: flex-end;width: 50%;}#sk-container-id-8 div.sk-parallel-item:last-child::after {align-self: flex-start;width: 50%;}#sk-container-id-8 div.sk-parallel-item:only-child::after {width: 0;}#sk-container-id-8 div.sk-dashed-wrapped {border: 1px dashed gray;margin: 0 0.4em 0.5em 0.4em;box-sizing: border-box;padding-bottom: 0.4em;background-color: white;}#sk-container-id-8 div.sk-label label {font-family: monospace;font-weight: bold;display: inline-block;line-height: 1.2em;}#sk-container-id-8 div.sk-label-container {text-align: center;}#sk-container-id-8 div.sk-container {/* jupyter's `normalize.less` sets `[hidden] { display: none; }` but bootstrap.min.css set `[hidden] { display: none !important; }` so we also need the `!important` here to be able to override the default hidden behavior on the sphinx rendered scikit-learn.org. See: https://github.com/scikit-learn/scikit-learn/issues/21755 */display: inline-block !important;position: relative;}#sk-container-id-8 div.sk-text-repr-fallback {display: none;}</style><div id=\"sk-container-id-8\" class=\"sk-top-container\"><div class=\"sk-text-repr-fallback\"><pre>RandomForestClassifier()</pre><b>In a Jupyter environment, please rerun this cell to show the HTML representation or trust the notebook. <br />On GitHub, the HTML representation is unable to render, please try loading this page with nbviewer.org.</b></div><div class=\"sk-container\" hidden><div class=\"sk-item\"><div class=\"sk-estimator sk-toggleable\"><input class=\"sk-toggleable__control sk-hidden--visually\" id=\"sk-estimator-id-8\" type=\"checkbox\" checked><label for=\"sk-estimator-id-8\" class=\"sk-toggleable__label sk-toggleable__label-arrow\">RandomForestClassifier</label><div class=\"sk-toggleable__content\"><pre>RandomForestClassifier()</pre></div></div></div></div></div>"
            ]
          },
          "metadata": {},
          "execution_count": 118
        }
      ]
    },
    {
      "cell_type": "code",
      "source": [
        "class_sentimentos = y_train.values\n",
        "class_sentimentos"
      ],
      "metadata": {
        "colab": {
          "base_uri": "https://localhost:8080/"
        },
        "id": "gkz05OX1erjw",
        "outputId": "c79c8889-3a9c-4c09-cbe8-c58a24e70160"
      },
      "execution_count": 119,
      "outputs": [
        {
          "output_type": "execute_result",
          "data": {
            "text/plain": [
              "array(['Neutro', 'Neutro', 'Neutro', ..., 'Neutro', 'Neutro', 'Negativo'],\n",
              "      dtype=object)"
            ]
          },
          "metadata": {},
          "execution_count": 119
        }
      ]
    },
    {
      "cell_type": "code",
      "source": [
        "forest = forest.fit(train_data_features, class_sentimentos)\n",
        "forest"
      ],
      "metadata": {
        "colab": {
          "base_uri": "https://localhost:8080/",
          "height": 74
        },
        "id": "WM2bRBLFfT2h",
        "outputId": "ea10e1bf-70c1-44e5-dfca-198dbcc14c82"
      },
      "execution_count": 120,
      "outputs": [
        {
          "output_type": "execute_result",
          "data": {
            "text/plain": [
              "RandomForestClassifier()"
            ],
            "text/html": [
              "<style>#sk-container-id-9 {color: black;background-color: white;}#sk-container-id-9 pre{padding: 0;}#sk-container-id-9 div.sk-toggleable {background-color: white;}#sk-container-id-9 label.sk-toggleable__label {cursor: pointer;display: block;width: 100%;margin-bottom: 0;padding: 0.3em;box-sizing: border-box;text-align: center;}#sk-container-id-9 label.sk-toggleable__label-arrow:before {content: \"▸\";float: left;margin-right: 0.25em;color: #696969;}#sk-container-id-9 label.sk-toggleable__label-arrow:hover:before {color: black;}#sk-container-id-9 div.sk-estimator:hover label.sk-toggleable__label-arrow:before {color: black;}#sk-container-id-9 div.sk-toggleable__content {max-height: 0;max-width: 0;overflow: hidden;text-align: left;background-color: #f0f8ff;}#sk-container-id-9 div.sk-toggleable__content pre {margin: 0.2em;color: black;border-radius: 0.25em;background-color: #f0f8ff;}#sk-container-id-9 input.sk-toggleable__control:checked~div.sk-toggleable__content {max-height: 200px;max-width: 100%;overflow: auto;}#sk-container-id-9 input.sk-toggleable__control:checked~label.sk-toggleable__label-arrow:before {content: \"▾\";}#sk-container-id-9 div.sk-estimator input.sk-toggleable__control:checked~label.sk-toggleable__label {background-color: #d4ebff;}#sk-container-id-9 div.sk-label input.sk-toggleable__control:checked~label.sk-toggleable__label {background-color: #d4ebff;}#sk-container-id-9 input.sk-hidden--visually {border: 0;clip: rect(1px 1px 1px 1px);clip: rect(1px, 1px, 1px, 1px);height: 1px;margin: -1px;overflow: hidden;padding: 0;position: absolute;width: 1px;}#sk-container-id-9 div.sk-estimator {font-family: monospace;background-color: #f0f8ff;border: 1px dotted black;border-radius: 0.25em;box-sizing: border-box;margin-bottom: 0.5em;}#sk-container-id-9 div.sk-estimator:hover {background-color: #d4ebff;}#sk-container-id-9 div.sk-parallel-item::after {content: \"\";width: 100%;border-bottom: 1px solid gray;flex-grow: 1;}#sk-container-id-9 div.sk-label:hover label.sk-toggleable__label {background-color: #d4ebff;}#sk-container-id-9 div.sk-serial::before {content: \"\";position: absolute;border-left: 1px solid gray;box-sizing: border-box;top: 0;bottom: 0;left: 50%;z-index: 0;}#sk-container-id-9 div.sk-serial {display: flex;flex-direction: column;align-items: center;background-color: white;padding-right: 0.2em;padding-left: 0.2em;position: relative;}#sk-container-id-9 div.sk-item {position: relative;z-index: 1;}#sk-container-id-9 div.sk-parallel {display: flex;align-items: stretch;justify-content: center;background-color: white;position: relative;}#sk-container-id-9 div.sk-item::before, #sk-container-id-9 div.sk-parallel-item::before {content: \"\";position: absolute;border-left: 1px solid gray;box-sizing: border-box;top: 0;bottom: 0;left: 50%;z-index: -1;}#sk-container-id-9 div.sk-parallel-item {display: flex;flex-direction: column;z-index: 1;position: relative;background-color: white;}#sk-container-id-9 div.sk-parallel-item:first-child::after {align-self: flex-end;width: 50%;}#sk-container-id-9 div.sk-parallel-item:last-child::after {align-self: flex-start;width: 50%;}#sk-container-id-9 div.sk-parallel-item:only-child::after {width: 0;}#sk-container-id-9 div.sk-dashed-wrapped {border: 1px dashed gray;margin: 0 0.4em 0.5em 0.4em;box-sizing: border-box;padding-bottom: 0.4em;background-color: white;}#sk-container-id-9 div.sk-label label {font-family: monospace;font-weight: bold;display: inline-block;line-height: 1.2em;}#sk-container-id-9 div.sk-label-container {text-align: center;}#sk-container-id-9 div.sk-container {/* jupyter's `normalize.less` sets `[hidden] { display: none; }` but bootstrap.min.css set `[hidden] { display: none !important; }` so we also need the `!important` here to be able to override the default hidden behavior on the sphinx rendered scikit-learn.org. See: https://github.com/scikit-learn/scikit-learn/issues/21755 */display: inline-block !important;position: relative;}#sk-container-id-9 div.sk-text-repr-fallback {display: none;}</style><div id=\"sk-container-id-9\" class=\"sk-top-container\"><div class=\"sk-text-repr-fallback\"><pre>RandomForestClassifier()</pre><b>In a Jupyter environment, please rerun this cell to show the HTML representation or trust the notebook. <br />On GitHub, the HTML representation is unable to render, please try loading this page with nbviewer.org.</b></div><div class=\"sk-container\" hidden><div class=\"sk-item\"><div class=\"sk-estimator sk-toggleable\"><input class=\"sk-toggleable__control sk-hidden--visually\" id=\"sk-estimator-id-9\" type=\"checkbox\" checked><label for=\"sk-estimator-id-9\" class=\"sk-toggleable__label sk-toggleable__label-arrow\">RandomForestClassifier</label><div class=\"sk-toggleable__content\"><pre>RandomForestClassifier()</pre></div></div></div></div></div>"
            ]
          },
          "metadata": {},
          "execution_count": 120
        }
      ]
    },
    {
      "cell_type": "code",
      "source": [
        "test_data_features_resultados = vectorizer.transform(X_test)\n",
        "test_data_features_resultados"
      ],
      "metadata": {
        "colab": {
          "base_uri": "https://localhost:8080/"
        },
        "id": "nf--fe5JfarX",
        "outputId": "2329f6fc-8cca-48f9-9bbd-c436b569a2e1"
      },
      "execution_count": 121,
      "outputs": [
        {
          "output_type": "execute_result",
          "data": {
            "text/plain": [
              "<400x1289 sparse matrix of type '<class 'numpy.int64'>'\n",
              "\twith 4323 stored elements in Compressed Sparse Row format>"
            ]
          },
          "metadata": {},
          "execution_count": 121
        }
      ]
    },
    {
      "cell_type": "code",
      "source": [
        "resultados = forest.predict(test_data_features_resultados)\n",
        "resultados"
      ],
      "metadata": {
        "colab": {
          "base_uri": "https://localhost:8080/"
        },
        "id": "N3rBlZa5frrL",
        "outputId": "7b9d3180-197a-453c-c00b-aa9eee18d280"
      },
      "execution_count": 122,
      "outputs": [
        {
          "output_type": "execute_result",
          "data": {
            "text/plain": [
              "array(['Neutro', 'Neutro', 'Neutro', 'Neutro', 'Neutro', 'Neutro',\n",
              "       'Neutro', 'Neutro', 'Neutro', 'Neutro', 'Neutro', 'Neutro',\n",
              "       'Neutro', 'Neutro', 'Neutro', 'Neutro', 'Neutro', 'Neutro',\n",
              "       'Neutro', 'Neutro', 'Neutro', 'Neutro', 'Neutro', 'Neutro',\n",
              "       'Neutro', 'Neutro', 'Neutro', 'Neutro', 'Neutro', 'Neutro',\n",
              "       'Neutro', 'Neutro', 'Neutro', 'Neutro', 'Neutro', 'Neutro',\n",
              "       'Neutro', 'Neutro', 'Neutro', 'Neutro', 'Neutro', 'Neutro',\n",
              "       'Neutro', 'Neutro', 'Neutro', 'Neutro', 'Neutro', 'Neutro',\n",
              "       'Neutro', 'Neutro', 'Neutro', 'Neutro', 'Neutro', 'Neutro',\n",
              "       'Neutro', 'Neutro', 'Neutro', 'Negativo', 'Neutro', 'Neutro',\n",
              "       'Neutro', 'Neutro', 'Neutro', 'Neutro', 'Neutro', 'Neutro',\n",
              "       'Neutro', 'Neutro', 'Negativo', 'Neutro', 'Neutro', 'Neutro',\n",
              "       'Neutro', 'Neutro', 'Neutro', 'Neutro', 'Neutro', 'Neutro',\n",
              "       'Neutro', 'Neutro', 'Neutro', 'Neutro', 'Neutro', 'Neutro',\n",
              "       'Neutro', 'Neutro', 'Neutro', 'Neutro', 'Neutro', 'Neutro',\n",
              "       'Neutro', 'Neutro', 'Neutro', 'Neutro', 'Neutro', 'Neutro',\n",
              "       'Neutro', 'Neutro', 'Neutro', 'Neutro', 'Neutro', 'Neutro',\n",
              "       'Neutro', 'Neutro', 'Neutro', 'Negativo', 'Neutro', 'Neutro',\n",
              "       'Neutro', 'Neutro', 'Neutro', 'Neutro', 'Neutro', 'Neutro',\n",
              "       'Neutro', 'Neutro', 'Neutro', 'Negativo', 'Neutro', 'Neutro',\n",
              "       'Neutro', 'Neutro', 'Neutro', 'Neutro', 'Neutro', 'Neutro',\n",
              "       'Neutro', 'Neutro', 'Neutro', 'Neutro', 'Neutro', 'Neutro',\n",
              "       'Neutro', 'Neutro', 'Neutro', 'Neutro', 'Neutro', 'Neutro',\n",
              "       'Neutro', 'Neutro', 'Neutro', 'Neutro', 'Neutro', 'Neutro',\n",
              "       'Neutro', 'Neutro', 'Neutro', 'Neutro', 'Neutro', 'Neutro',\n",
              "       'Neutro', 'Neutro', 'Neutro', 'Negativo', 'Neutro', 'Neutro',\n",
              "       'Neutro', 'Neutro', 'Neutro', 'Neutro', 'Neutro', 'Neutro',\n",
              "       'Neutro', 'Neutro', 'Neutro', 'Neutro', 'Neutro', 'Neutro',\n",
              "       'Neutro', 'Neutro', 'Neutro', 'Neutro', 'Neutro', 'Neutro',\n",
              "       'Neutro', 'Neutro', 'Negativo', 'Neutro', 'Negativo', 'Neutro',\n",
              "       'Negativo', 'Neutro', 'Neutro', 'Neutro', 'Neutro', 'Neutro',\n",
              "       'Neutro', 'Neutro', 'Neutro', 'Neutro', 'Neutro', 'Neutro',\n",
              "       'Neutro', 'Neutro', 'Neutro', 'Neutro', 'Neutro', 'Neutro',\n",
              "       'Neutro', 'Neutro', 'Neutro', 'Neutro', 'Negativo', 'Neutro',\n",
              "       'Neutro', 'Neutro', 'Neutro', 'Neutro', 'Neutro', 'Neutro',\n",
              "       'Neutro', 'Neutro', 'Neutro', 'Neutro', 'Neutro', 'Neutro',\n",
              "       'Neutro', 'Neutro', 'Neutro', 'Neutro', 'Neutro', 'Neutro',\n",
              "       'Neutro', 'Neutro', 'Neutro', 'Neutro', 'Neutro', 'Neutro',\n",
              "       'Neutro', 'Neutro', 'Neutro', 'Neutro', 'Neutro', 'Neutro',\n",
              "       'Negativo', 'Neutro', 'Neutro', 'Neutro', 'Neutro', 'Neutro',\n",
              "       'Neutro', 'Neutro', 'Neutro', 'Neutro', 'Neutro', 'Neutro',\n",
              "       'Neutro', 'Neutro', 'Neutro', 'Neutro', 'Neutro', 'Neutro',\n",
              "       'Neutro', 'Neutro', 'Neutro', 'Neutro', 'Neutro', 'Neutro',\n",
              "       'Neutro', 'Neutro', 'Neutro', 'Neutro', 'Neutro', 'Neutro',\n",
              "       'Neutro', 'Neutro', 'Neutro', 'Neutro', 'Neutro', 'Neutro',\n",
              "       'Neutro', 'Neutro', 'Neutro', 'Neutro', 'Neutro', 'Neutro',\n",
              "       'Neutro', 'Neutro', 'Neutro', 'Neutro', 'Neutro', 'Neutro',\n",
              "       'Neutro', 'Neutro', 'Negativo', 'Neutro', 'Neutro', 'Neutro',\n",
              "       'Neutro', 'Neutro', 'Neutro', 'Neutro', 'Neutro', 'Neutro',\n",
              "       'Neutro', 'Neutro', 'Neutro', 'Neutro', 'Neutro', 'Neutro',\n",
              "       'Neutro', 'Neutro', 'Neutro', 'Neutro', 'Neutro', 'Neutro',\n",
              "       'Neutro', 'Neutro', 'Neutro', 'Neutro', 'Neutro', 'Neutro',\n",
              "       'Neutro', 'Neutro', 'Neutro', 'Neutro', 'Neutro', 'Neutro',\n",
              "       'Neutro', 'Neutro', 'Neutro', 'Neutro', 'Neutro', 'Neutro',\n",
              "       'Neutro', 'Neutro', 'Neutro', 'Neutro', 'Neutro', 'Neutro',\n",
              "       'Neutro', 'Neutro', 'Neutro', 'Neutro', 'Neutro', 'Neutro',\n",
              "       'Neutro', 'Neutro', 'Neutro', 'Neutro', 'Neutro', 'Neutro',\n",
              "       'Neutro', 'Neutro', 'Neutro', 'Neutro', 'Neutro', 'Neutro',\n",
              "       'Neutro', 'Neutro', 'Neutro', 'Neutro', 'Neutro', 'Neutro',\n",
              "       'Neutro', 'Neutro', 'Neutro', 'Neutro', 'Neutro', 'Neutro',\n",
              "       'Neutro', 'Neutro', 'Neutro', 'Neutro', 'Neutro', 'Neutro',\n",
              "       'Neutro', 'Neutro', 'Neutro', 'Neutro', 'Neutro', 'Neutro',\n",
              "       'Neutro', 'Neutro', 'Neutro', 'Neutro', 'Neutro', 'Neutro',\n",
              "       'Neutro', 'Neutro', 'Neutro', 'Neutro', 'Neutro', 'Neutro',\n",
              "       'Neutro', 'Neutro', 'Neutro', 'Neutro', 'Neutro', 'Neutro',\n",
              "       'Neutro', 'Neutro', 'Neutro', 'Neutro', 'Neutro', 'Neutro',\n",
              "       'Neutro', 'Neutro', 'Neutro', 'Neutro'], dtype=object)"
            ]
          },
          "metadata": {},
          "execution_count": 122
        }
      ]
    },
    {
      "cell_type": "code",
      "source": [
        "metrics.accuracy_score(y_test, resultados)"
      ],
      "metadata": {
        "colab": {
          "base_uri": "https://localhost:8080/"
        },
        "id": "brsaLoWRf1tj",
        "outputId": "a49efbad-2dad-4878-bf93-4b54b1c64580"
      },
      "execution_count": 123,
      "outputs": [
        {
          "output_type": "execute_result",
          "data": {
            "text/plain": [
              "0.9825"
            ]
          },
          "metadata": {},
          "execution_count": 123
        }
      ]
    },
    {
      "cell_type": "code",
      "source": [
        "print(metrics.classification_report(y_test, resultados))"
      ],
      "metadata": {
        "colab": {
          "base_uri": "https://localhost:8080/"
        },
        "id": "ySWV4D4jf3VA",
        "outputId": "41fe4eb0-f82b-4f2f-cb18-016b54525112"
      },
      "execution_count": 124,
      "outputs": [
        {
          "output_type": "stream",
          "name": "stdout",
          "text": [
            "              precision    recall  f1-score   support\n",
            "\n",
            "    Negativo       1.00      0.73      0.85        15\n",
            "      Neutro       0.98      1.00      0.99       382\n",
            "    Positivo       0.00      0.00      0.00         3\n",
            "\n",
            "    accuracy                           0.98       400\n",
            "   macro avg       0.66      0.58      0.61       400\n",
            "weighted avg       0.98      0.98      0.98       400\n",
            "\n"
          ]
        },
        {
          "output_type": "stream",
          "name": "stderr",
          "text": [
            "/usr/local/lib/python3.9/dist-packages/sklearn/metrics/_classification.py:1344: UndefinedMetricWarning: Precision and F-score are ill-defined and being set to 0.0 in labels with no predicted samples. Use `zero_division` parameter to control this behavior.\n",
            "  _warn_prf(average, modifier, msg_start, len(result))\n",
            "/usr/local/lib/python3.9/dist-packages/sklearn/metrics/_classification.py:1344: UndefinedMetricWarning: Precision and F-score are ill-defined and being set to 0.0 in labels with no predicted samples. Use `zero_division` parameter to control this behavior.\n",
            "  _warn_prf(average, modifier, msg_start, len(result))\n",
            "/usr/local/lib/python3.9/dist-packages/sklearn/metrics/_classification.py:1344: UndefinedMetricWarning: Precision and F-score are ill-defined and being set to 0.0 in labels with no predicted samples. Use `zero_division` parameter to control this behavior.\n",
            "  _warn_prf(average, modifier, msg_start, len(result))\n"
          ]
        }
      ]
    },
    {
      "cell_type": "code",
      "source": [
        "print(pd.crosstab(y_test, resultados, rownames = [\"Real\"], colnames = [\"Predito\"], margins = True))"
      ],
      "metadata": {
        "colab": {
          "base_uri": "https://localhost:8080/"
        },
        "id": "4QUsARo1gK6z",
        "outputId": "7f9a7774-91d7-4d32-ff41-3435984cfab7"
      },
      "execution_count": 125,
      "outputs": [
        {
          "output_type": "stream",
          "name": "stdout",
          "text": [
            "Predito   Negativo  Neutro  All\n",
            "Real                           \n",
            "Negativo        11       4   15\n",
            "Neutro           0     382  382\n",
            "Positivo         0       3    3\n",
            "All             11     389  400\n"
          ]
        }
      ]
    },
    {
      "cell_type": "markdown",
      "source": [
        "## Support Vector Machine (SVM)"
      ],
      "metadata": {
        "id": "ySyp9OraRSbF"
      }
    },
    {
      "cell_type": "code",
      "source": [
        "#vectorizer = TfidfVectorizer( max_features=5000)\n",
        "vectorizer = CountVectorizer(analyzer = \"word\", tokenizer = None, preprocessor = None,stop_words = stop_words, max_features = 5000)"
      ],
      "metadata": {
        "id": "uRDwfrQCWBVB"
      },
      "execution_count": 126,
      "outputs": []
    },
    {
      "cell_type": "code",
      "source": [
        "X_train_svm_vectors = vectorizer.fit_transform(X_train)\n",
        "X_test_svm_vectors = vectorizer.transform(X_test)"
      ],
      "metadata": {
        "id": "XgkKfUOtbZOB"
      },
      "execution_count": 127,
      "outputs": []
    },
    {
      "cell_type": "code",
      "source": [
        "# criar modelo SVM\n",
        "svm = SVC(kernel='linear')\n",
        "# treinar o modelo SVM\n",
        "svm.fit(X_train_svm_vectors, y_train)"
      ],
      "metadata": {
        "colab": {
          "base_uri": "https://localhost:8080/",
          "height": 74
        },
        "id": "pMEhWEYNb0bq",
        "outputId": "89e67e4b-e8fb-43c3-eb0e-16af10a3c92f"
      },
      "execution_count": 128,
      "outputs": [
        {
          "output_type": "execute_result",
          "data": {
            "text/plain": [
              "SVC(kernel='linear')"
            ],
            "text/html": [
              "<style>#sk-container-id-10 {color: black;background-color: white;}#sk-container-id-10 pre{padding: 0;}#sk-container-id-10 div.sk-toggleable {background-color: white;}#sk-container-id-10 label.sk-toggleable__label {cursor: pointer;display: block;width: 100%;margin-bottom: 0;padding: 0.3em;box-sizing: border-box;text-align: center;}#sk-container-id-10 label.sk-toggleable__label-arrow:before {content: \"▸\";float: left;margin-right: 0.25em;color: #696969;}#sk-container-id-10 label.sk-toggleable__label-arrow:hover:before {color: black;}#sk-container-id-10 div.sk-estimator:hover label.sk-toggleable__label-arrow:before {color: black;}#sk-container-id-10 div.sk-toggleable__content {max-height: 0;max-width: 0;overflow: hidden;text-align: left;background-color: #f0f8ff;}#sk-container-id-10 div.sk-toggleable__content pre {margin: 0.2em;color: black;border-radius: 0.25em;background-color: #f0f8ff;}#sk-container-id-10 input.sk-toggleable__control:checked~div.sk-toggleable__content {max-height: 200px;max-width: 100%;overflow: auto;}#sk-container-id-10 input.sk-toggleable__control:checked~label.sk-toggleable__label-arrow:before {content: \"▾\";}#sk-container-id-10 div.sk-estimator input.sk-toggleable__control:checked~label.sk-toggleable__label {background-color: #d4ebff;}#sk-container-id-10 div.sk-label input.sk-toggleable__control:checked~label.sk-toggleable__label {background-color: #d4ebff;}#sk-container-id-10 input.sk-hidden--visually {border: 0;clip: rect(1px 1px 1px 1px);clip: rect(1px, 1px, 1px, 1px);height: 1px;margin: -1px;overflow: hidden;padding: 0;position: absolute;width: 1px;}#sk-container-id-10 div.sk-estimator {font-family: monospace;background-color: #f0f8ff;border: 1px dotted black;border-radius: 0.25em;box-sizing: border-box;margin-bottom: 0.5em;}#sk-container-id-10 div.sk-estimator:hover {background-color: #d4ebff;}#sk-container-id-10 div.sk-parallel-item::after {content: \"\";width: 100%;border-bottom: 1px solid gray;flex-grow: 1;}#sk-container-id-10 div.sk-label:hover label.sk-toggleable__label {background-color: #d4ebff;}#sk-container-id-10 div.sk-serial::before {content: \"\";position: absolute;border-left: 1px solid gray;box-sizing: border-box;top: 0;bottom: 0;left: 50%;z-index: 0;}#sk-container-id-10 div.sk-serial {display: flex;flex-direction: column;align-items: center;background-color: white;padding-right: 0.2em;padding-left: 0.2em;position: relative;}#sk-container-id-10 div.sk-item {position: relative;z-index: 1;}#sk-container-id-10 div.sk-parallel {display: flex;align-items: stretch;justify-content: center;background-color: white;position: relative;}#sk-container-id-10 div.sk-item::before, #sk-container-id-10 div.sk-parallel-item::before {content: \"\";position: absolute;border-left: 1px solid gray;box-sizing: border-box;top: 0;bottom: 0;left: 50%;z-index: -1;}#sk-container-id-10 div.sk-parallel-item {display: flex;flex-direction: column;z-index: 1;position: relative;background-color: white;}#sk-container-id-10 div.sk-parallel-item:first-child::after {align-self: flex-end;width: 50%;}#sk-container-id-10 div.sk-parallel-item:last-child::after {align-self: flex-start;width: 50%;}#sk-container-id-10 div.sk-parallel-item:only-child::after {width: 0;}#sk-container-id-10 div.sk-dashed-wrapped {border: 1px dashed gray;margin: 0 0.4em 0.5em 0.4em;box-sizing: border-box;padding-bottom: 0.4em;background-color: white;}#sk-container-id-10 div.sk-label label {font-family: monospace;font-weight: bold;display: inline-block;line-height: 1.2em;}#sk-container-id-10 div.sk-label-container {text-align: center;}#sk-container-id-10 div.sk-container {/* jupyter's `normalize.less` sets `[hidden] { display: none; }` but bootstrap.min.css set `[hidden] { display: none !important; }` so we also need the `!important` here to be able to override the default hidden behavior on the sphinx rendered scikit-learn.org. See: https://github.com/scikit-learn/scikit-learn/issues/21755 */display: inline-block !important;position: relative;}#sk-container-id-10 div.sk-text-repr-fallback {display: none;}</style><div id=\"sk-container-id-10\" class=\"sk-top-container\"><div class=\"sk-text-repr-fallback\"><pre>SVC(kernel=&#x27;linear&#x27;)</pre><b>In a Jupyter environment, please rerun this cell to show the HTML representation or trust the notebook. <br />On GitHub, the HTML representation is unable to render, please try loading this page with nbviewer.org.</b></div><div class=\"sk-container\" hidden><div class=\"sk-item\"><div class=\"sk-estimator sk-toggleable\"><input class=\"sk-toggleable__control sk-hidden--visually\" id=\"sk-estimator-id-10\" type=\"checkbox\" checked><label for=\"sk-estimator-id-10\" class=\"sk-toggleable__label sk-toggleable__label-arrow\">SVC</label><div class=\"sk-toggleable__content\"><pre>SVC(kernel=&#x27;linear&#x27;)</pre></div></div></div></div></div>"
            ]
          },
          "metadata": {},
          "execution_count": 128
        }
      ]
    },
    {
      "cell_type": "code",
      "source": [
        "# fazer previsões no conjunto de teste\n",
        "y_pred_svm = svm.predict(X_test_svm_vectors)\n",
        "\n",
        "# imprimir relatório de classificação\n",
        "print(classification_report(y_test, y_pred_svm))"
      ],
      "metadata": {
        "colab": {
          "base_uri": "https://localhost:8080/"
        },
        "id": "97pL0bAwb7Wv",
        "outputId": "fcfef779-a9e2-448b-a79f-566fdc784639"
      },
      "execution_count": 129,
      "outputs": [
        {
          "output_type": "stream",
          "name": "stdout",
          "text": [
            "              precision    recall  f1-score   support\n",
            "\n",
            "    Negativo       1.00      0.73      0.85        15\n",
            "      Neutro       0.99      1.00      0.99       382\n",
            "    Positivo       1.00      0.67      0.80         3\n",
            "\n",
            "    accuracy                           0.99       400\n",
            "   macro avg       1.00      0.80      0.88       400\n",
            "weighted avg       0.99      0.99      0.99       400\n",
            "\n"
          ]
        }
      ]
    },
    {
      "cell_type": "code",
      "source": [
        "print(pd.crosstab(y_test, y_pred_svm, rownames = [\"Real\"], colnames = [\"Predito\"], margins = True))"
      ],
      "metadata": {
        "colab": {
          "base_uri": "https://localhost:8080/"
        },
        "id": "SoY71Ewlf41R",
        "outputId": "2144891e-de1a-43d7-fac9-bfa7bdc2ee98"
      },
      "execution_count": 130,
      "outputs": [
        {
          "output_type": "stream",
          "name": "stdout",
          "text": [
            "Predito   Negativo  Neutro  Positivo  All\n",
            "Real                                     \n",
            "Negativo        11       4         0   15\n",
            "Neutro           0     382         0  382\n",
            "Positivo         0       1         2    3\n",
            "All             11     387         2  400\n"
          ]
        }
      ]
    },
    {
      "cell_type": "code",
      "source": [
        "metrics.accuracy_score(y_test, y_pred_svm)"
      ],
      "metadata": {
        "colab": {
          "base_uri": "https://localhost:8080/"
        },
        "id": "yJF_4tElmF6y",
        "outputId": "42d36361-b75f-4a71-9d19-4d6a53380e7b"
      },
      "execution_count": 131,
      "outputs": [
        {
          "output_type": "execute_result",
          "data": {
            "text/plain": [
              "0.9875"
            ]
          },
          "metadata": {},
          "execution_count": 131
        }
      ]
    }
  ]
}