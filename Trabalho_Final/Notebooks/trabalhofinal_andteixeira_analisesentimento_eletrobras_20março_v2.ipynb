{
  "nbformat": 4,
  "nbformat_minor": 0,
  "metadata": {
    "colab": {
      "provenance": []
    },
    "kernelspec": {
      "name": "python3",
      "display_name": "Python 3"
    },
    "language_info": {
      "name": "python"
    }
  },
  "cells": [
    {
      "cell_type": "markdown",
      "source": [
        "#  Introdução\n",
        "\n",
        "A extração de dados do Twitter pode ser uma ferramenta valiosa para as empresas públicas que buscam compreender melhor o sentimento e as necessidades dos cidadãos. Com bilhões de tweets sendo publicados diariamente, o Twitter oferece uma riqueza de informações que as empresas públicas podem usar para melhorar a visão e o objetivo da empresa para a sociedade.\n"
      ],
      "metadata": {
        "id": "p0S2NyDqUduh"
      }
    },
    {
      "cell_type": "markdown",
      "source": [
        "Importando as Bibliotecas necessárias para a extração dos dados, tratamento dos dados, análise dos dados e treinamento de modelos"
      ],
      "metadata": {
        "id": "UJwWiubSUu91"
      }
    },
    {
      "cell_type": "code",
      "execution_count": 1,
      "metadata": {
        "colab": {
          "base_uri": "https://localhost:8080/"
        },
        "id": "Z74rD0hgTfap",
        "outputId": "8bc90b9f-cd79-4a4c-fa4d-83268bab940d"
      },
      "outputs": [
        {
          "output_type": "stream",
          "name": "stdout",
          "text": [
            "Looking in indexes: https://pypi.org/simple, https://us-python.pkg.dev/colab-wheels/public/simple/\n",
            "Requirement already satisfied: tweepy in /usr/local/lib/python3.9/dist-packages (4.13.0)\n",
            "Requirement already satisfied: oauthlib<4,>=3.2.0 in /usr/local/lib/python3.9/dist-packages (from tweepy) (3.2.2)\n",
            "Requirement already satisfied: requests-oauthlib<2,>=1.2.0 in /usr/local/lib/python3.9/dist-packages (from tweepy) (1.3.1)\n",
            "Requirement already satisfied: requests<3,>=2.27.0 in /usr/local/lib/python3.9/dist-packages (from tweepy) (2.27.1)\n",
            "Requirement already satisfied: urllib3<1.27,>=1.21.1 in /usr/local/lib/python3.9/dist-packages (from requests<3,>=2.27.0->tweepy) (1.26.15)\n",
            "Requirement already satisfied: charset-normalizer~=2.0.0 in /usr/local/lib/python3.9/dist-packages (from requests<3,>=2.27.0->tweepy) (2.0.12)\n",
            "Requirement already satisfied: certifi>=2017.4.17 in /usr/local/lib/python3.9/dist-packages (from requests<3,>=2.27.0->tweepy) (2022.12.7)\n",
            "Requirement already satisfied: idna<4,>=2.5 in /usr/local/lib/python3.9/dist-packages (from requests<3,>=2.27.0->tweepy) (3.4)\n"
          ]
        }
      ],
      "source": [
        "!pip3 install tweepy --upgrade"
      ]
    },
    {
      "cell_type": "code",
      "source": [
        "!pip install nltk\n",
        "import nltk"
      ],
      "metadata": {
        "colab": {
          "base_uri": "https://localhost:8080/"
        },
        "id": "ocTqqzbZWwzB",
        "outputId": "57e9ff94-2071-4f65-ac8d-8c51570dec6d"
      },
      "execution_count": 2,
      "outputs": [
        {
          "output_type": "stream",
          "name": "stdout",
          "text": [
            "Looking in indexes: https://pypi.org/simple, https://us-python.pkg.dev/colab-wheels/public/simple/\n",
            "Requirement already satisfied: nltk in /usr/local/lib/python3.9/dist-packages (3.8.1)\n",
            "Requirement already satisfied: tqdm in /usr/local/lib/python3.9/dist-packages (from nltk) (4.65.0)\n",
            "Requirement already satisfied: regex>=2021.8.3 in /usr/local/lib/python3.9/dist-packages (from nltk) (2022.10.31)\n",
            "Requirement already satisfied: click in /usr/local/lib/python3.9/dist-packages (from nltk) (8.1.3)\n",
            "Requirement already satisfied: joblib in /usr/local/lib/python3.9/dist-packages (from nltk) (1.1.1)\n"
          ]
        }
      ]
    },
    {
      "cell_type": "code",
      "source": [
        "!pip install wordcloud\n",
        "from wordcloud import WordCloud"
      ],
      "metadata": {
        "colab": {
          "base_uri": "https://localhost:8080/"
        },
        "id": "1oFjPExAXa6_",
        "outputId": "753427e7-cb90-443c-d8e4-3ce0a45663fd"
      },
      "execution_count": 3,
      "outputs": [
        {
          "output_type": "stream",
          "name": "stdout",
          "text": [
            "Looking in indexes: https://pypi.org/simple, https://us-python.pkg.dev/colab-wheels/public/simple/\n",
            "Requirement already satisfied: wordcloud in /usr/local/lib/python3.9/dist-packages (1.8.2.2)\n",
            "Requirement already satisfied: pillow in /usr/local/lib/python3.9/dist-packages (from wordcloud) (8.4.0)\n",
            "Requirement already satisfied: matplotlib in /usr/local/lib/python3.9/dist-packages (from wordcloud) (3.7.1)\n",
            "Requirement already satisfied: numpy>=1.6.1 in /usr/local/lib/python3.9/dist-packages (from wordcloud) (1.22.4)\n",
            "Requirement already satisfied: importlib-resources>=3.2.0 in /usr/local/lib/python3.9/dist-packages (from matplotlib->wordcloud) (5.12.0)\n",
            "Requirement already satisfied: packaging>=20.0 in /usr/local/lib/python3.9/dist-packages (from matplotlib->wordcloud) (23.0)\n",
            "Requirement already satisfied: pyparsing>=2.3.1 in /usr/local/lib/python3.9/dist-packages (from matplotlib->wordcloud) (3.0.9)\n",
            "Requirement already satisfied: cycler>=0.10 in /usr/local/lib/python3.9/dist-packages (from matplotlib->wordcloud) (0.11.0)\n",
            "Requirement already satisfied: fonttools>=4.22.0 in /usr/local/lib/python3.9/dist-packages (from matplotlib->wordcloud) (4.39.0)\n",
            "Requirement already satisfied: python-dateutil>=2.7 in /usr/local/lib/python3.9/dist-packages (from matplotlib->wordcloud) (2.8.2)\n",
            "Requirement already satisfied: kiwisolver>=1.0.1 in /usr/local/lib/python3.9/dist-packages (from matplotlib->wordcloud) (1.4.4)\n",
            "Requirement already satisfied: contourpy>=1.0.1 in /usr/local/lib/python3.9/dist-packages (from matplotlib->wordcloud) (1.0.7)\n",
            "Requirement already satisfied: zipp>=3.1.0 in /usr/local/lib/python3.9/dist-packages (from importlib-resources>=3.2.0->matplotlib->wordcloud) (3.15.0)\n",
            "Requirement already satisfied: six>=1.5 in /usr/local/lib/python3.9/dist-packages (from python-dateutil>=2.7->matplotlib->wordcloud) (1.15.0)\n"
          ]
        }
      ]
    },
    {
      "cell_type": "code",
      "source": [
        "import tweepy\n",
        "import numpy as np\n",
        "import pandas as pd\n",
        "import re\n",
        "import string\n",
        "import matplotlib.pyplot as plt\n",
        "from textblob import TextBlob\n",
        "from sklearn.feature_extraction.text import CountVectorizer\n",
        "from sklearn.naive_bayes             import MultinomialNB\n",
        "from sklearn                         import metrics\n",
        "from sklearn.model_selection         import cross_val_predict\n",
        "from sklearn.ensemble                import RandomForestClassifier\n",
        "from google.colab                    import drive\n",
        "from nltk.corpus                     import stopwords\n",
        "nltk.download('punkt')\n",
        "from nltk.tokenize                   import word_tokenize\n",
        "import nltk\n",
        "nltk.download('vader_lexicon')\n",
        "from collections import Counter\n",
        "from nltk.tag import pos_tag"
      ],
      "metadata": {
        "id": "xskg2G2sTtq8",
        "colab": {
          "base_uri": "https://localhost:8080/"
        },
        "outputId": "ba67ed99-0efb-4956-e28e-b453bd68210d"
      },
      "execution_count": 4,
      "outputs": [
        {
          "output_type": "stream",
          "name": "stderr",
          "text": [
            "[nltk_data] Downloading package punkt to /root/nltk_data...\n",
            "[nltk_data]   Unzipping tokenizers/punkt.zip.\n",
            "[nltk_data] Downloading package vader_lexicon to /root/nltk_data...\n"
          ]
        }
      ]
    },
    {
      "cell_type": "markdown",
      "source": [
        "# Chave de acesso para extração de dados via API do Twitter\n"
      ],
      "metadata": {
        "id": "p1CXkDTXVM4O"
      }
    },
    {
      "cell_type": "code",
      "source": [
        "#Chave\n",
        "bearer_token = \"AAAAAAAAAAAAAAAAAAAAAGJrlgEAAAAAbwqHxRmdRHG1qqeZTzx7OrESAig%3D4QiKcBbjpuEmOXMRala40QU0D2QSEWEPIVyIRKcjlG29JDgACA\"\n",
        "\n",
        "client = tweepy.Client(bearer_token=bearer_token)"
      ],
      "metadata": {
        "id": "n97hZq-wT2IH"
      },
      "execution_count": 5,
      "outputs": []
    },
    {
      "cell_type": "code",
      "source": [
        "df2 = pd.DataFrame(columns=['ID', 'text'])"
      ],
      "metadata": {
        "id": "fh92u59ooxip"
      },
      "execution_count": 6,
      "outputs": []
    },
    {
      "cell_type": "markdown",
      "source": [
        "Método usado para extração dos dados do Twitter"
      ],
      "metadata": {
        "id": "BF4RQ3RfV2bp"
      }
    },
    {
      "cell_type": "code",
      "source": [
        "public_tweets = tweepy.Paginator(client.search_recent_tweets, query='eletrobras', \n",
        "                              max_results=100).flatten(limit=2000)"
      ],
      "metadata": {
        "id": "x0mt9aHPMgp3"
      },
      "execution_count": 7,
      "outputs": []
    },
    {
      "cell_type": "code",
      "source": [
        "analysis = None"
      ],
      "metadata": {
        "id": "rXLhRxa5Mql_"
      },
      "execution_count": 8,
      "outputs": []
    },
    {
      "cell_type": "code",
      "source": [
        "count = 0\n",
        "for tweet in public_tweets:\n",
        "  analysis = TextBlob(tweet.text)\n",
        "  \n",
        "  df2.loc[count] = [tweet.id]+[tweet.text]\n",
        "  \n",
        "  count += 1"
      ],
      "metadata": {
        "id": "rZTY-PFlncbB"
      },
      "execution_count": 9,
      "outputs": []
    },
    {
      "cell_type": "code",
      "source": [
        "df2.head(100)"
      ],
      "metadata": {
        "colab": {
          "base_uri": "https://localhost:8080/",
          "height": 423
        },
        "id": "dKAHh_0rMbQD",
        "outputId": "026bc229-6e71-47d6-9234-c9d54cc76ea2"
      },
      "execution_count": 10,
      "outputs": [
        {
          "output_type": "execute_result",
          "data": {
            "text/plain": [
              "                     ID                                               text\n",
              "0   1637984794729488386  Orgulho de completar mais um ano em Furnas , #...\n",
              "1   1637984618568728576  Estatais perderam R$ 67 bilhões em valor de me...\n",
              "2   1637984374401519616  TCU recomenda que governo avalie possibilidade...\n",
              "3   1637984038328717312  Lula diz que vai pedir revisão do contrato de ...\n",
              "4   1637983832660926465  Eletrobras anuncia processo seletivo para 832 ...\n",
              "..                  ...                                                ...\n",
              "95  1637950848864079874  @Bradesco Não faço ideia seno Fundo Eletrobras...\n",
              "96  1637950148692115457  RT @SalveAEnergia: Pela retomada da Eletrobras...\n",
              "97  1637950110649958400  RT @kakahmenina: Eletricitários defendem criaç...\n",
              "98  1637949601524203521  RT @A_MelhorNoticia: 🇧🇷 Brasil:\\nJanja é soció...\n",
              "99  1637947695959506947  RT @A_MelhorNoticia: 🇧🇷 Brasil:\\nJanja é soció...\n",
              "\n",
              "[100 rows x 2 columns]"
            ],
            "text/html": [
              "\n",
              "  <div id=\"df-e2117ebe-f02a-4e56-abe3-845fb23c35a5\">\n",
              "    <div class=\"colab-df-container\">\n",
              "      <div>\n",
              "<style scoped>\n",
              "    .dataframe tbody tr th:only-of-type {\n",
              "        vertical-align: middle;\n",
              "    }\n",
              "\n",
              "    .dataframe tbody tr th {\n",
              "        vertical-align: top;\n",
              "    }\n",
              "\n",
              "    .dataframe thead th {\n",
              "        text-align: right;\n",
              "    }\n",
              "</style>\n",
              "<table border=\"1\" class=\"dataframe\">\n",
              "  <thead>\n",
              "    <tr style=\"text-align: right;\">\n",
              "      <th></th>\n",
              "      <th>ID</th>\n",
              "      <th>text</th>\n",
              "    </tr>\n",
              "  </thead>\n",
              "  <tbody>\n",
              "    <tr>\n",
              "      <th>0</th>\n",
              "      <td>1637984794729488386</td>\n",
              "      <td>Orgulho de completar mais um ano em Furnas , #...</td>\n",
              "    </tr>\n",
              "    <tr>\n",
              "      <th>1</th>\n",
              "      <td>1637984618568728576</td>\n",
              "      <td>Estatais perderam R$ 67 bilhões em valor de me...</td>\n",
              "    </tr>\n",
              "    <tr>\n",
              "      <th>2</th>\n",
              "      <td>1637984374401519616</td>\n",
              "      <td>TCU recomenda que governo avalie possibilidade...</td>\n",
              "    </tr>\n",
              "    <tr>\n",
              "      <th>3</th>\n",
              "      <td>1637984038328717312</td>\n",
              "      <td>Lula diz que vai pedir revisão do contrato de ...</td>\n",
              "    </tr>\n",
              "    <tr>\n",
              "      <th>4</th>\n",
              "      <td>1637983832660926465</td>\n",
              "      <td>Eletrobras anuncia processo seletivo para 832 ...</td>\n",
              "    </tr>\n",
              "    <tr>\n",
              "      <th>...</th>\n",
              "      <td>...</td>\n",
              "      <td>...</td>\n",
              "    </tr>\n",
              "    <tr>\n",
              "      <th>95</th>\n",
              "      <td>1637950848864079874</td>\n",
              "      <td>@Bradesco Não faço ideia seno Fundo Eletrobras...</td>\n",
              "    </tr>\n",
              "    <tr>\n",
              "      <th>96</th>\n",
              "      <td>1637950148692115457</td>\n",
              "      <td>RT @SalveAEnergia: Pela retomada da Eletrobras...</td>\n",
              "    </tr>\n",
              "    <tr>\n",
              "      <th>97</th>\n",
              "      <td>1637950110649958400</td>\n",
              "      <td>RT @kakahmenina: Eletricitários defendem criaç...</td>\n",
              "    </tr>\n",
              "    <tr>\n",
              "      <th>98</th>\n",
              "      <td>1637949601524203521</td>\n",
              "      <td>RT @A_MelhorNoticia: 🇧🇷 Brasil:\\nJanja é soció...</td>\n",
              "    </tr>\n",
              "    <tr>\n",
              "      <th>99</th>\n",
              "      <td>1637947695959506947</td>\n",
              "      <td>RT @A_MelhorNoticia: 🇧🇷 Brasil:\\nJanja é soció...</td>\n",
              "    </tr>\n",
              "  </tbody>\n",
              "</table>\n",
              "<p>100 rows × 2 columns</p>\n",
              "</div>\n",
              "      <button class=\"colab-df-convert\" onclick=\"convertToInteractive('df-e2117ebe-f02a-4e56-abe3-845fb23c35a5')\"\n",
              "              title=\"Convert this dataframe to an interactive table.\"\n",
              "              style=\"display:none;\">\n",
              "        \n",
              "  <svg xmlns=\"http://www.w3.org/2000/svg\" height=\"24px\"viewBox=\"0 0 24 24\"\n",
              "       width=\"24px\">\n",
              "    <path d=\"M0 0h24v24H0V0z\" fill=\"none\"/>\n",
              "    <path d=\"M18.56 5.44l.94 2.06.94-2.06 2.06-.94-2.06-.94-.94-2.06-.94 2.06-2.06.94zm-11 1L8.5 8.5l.94-2.06 2.06-.94-2.06-.94L8.5 2.5l-.94 2.06-2.06.94zm10 10l.94 2.06.94-2.06 2.06-.94-2.06-.94-.94-2.06-.94 2.06-2.06.94z\"/><path d=\"M17.41 7.96l-1.37-1.37c-.4-.4-.92-.59-1.43-.59-.52 0-1.04.2-1.43.59L10.3 9.45l-7.72 7.72c-.78.78-.78 2.05 0 2.83L4 21.41c.39.39.9.59 1.41.59.51 0 1.02-.2 1.41-.59l7.78-7.78 2.81-2.81c.8-.78.8-2.07 0-2.86zM5.41 20L4 18.59l7.72-7.72 1.47 1.35L5.41 20z\"/>\n",
              "  </svg>\n",
              "      </button>\n",
              "      \n",
              "  <style>\n",
              "    .colab-df-container {\n",
              "      display:flex;\n",
              "      flex-wrap:wrap;\n",
              "      gap: 12px;\n",
              "    }\n",
              "\n",
              "    .colab-df-convert {\n",
              "      background-color: #E8F0FE;\n",
              "      border: none;\n",
              "      border-radius: 50%;\n",
              "      cursor: pointer;\n",
              "      display: none;\n",
              "      fill: #1967D2;\n",
              "      height: 32px;\n",
              "      padding: 0 0 0 0;\n",
              "      width: 32px;\n",
              "    }\n",
              "\n",
              "    .colab-df-convert:hover {\n",
              "      background-color: #E2EBFA;\n",
              "      box-shadow: 0px 1px 2px rgba(60, 64, 67, 0.3), 0px 1px 3px 1px rgba(60, 64, 67, 0.15);\n",
              "      fill: #174EA6;\n",
              "    }\n",
              "\n",
              "    [theme=dark] .colab-df-convert {\n",
              "      background-color: #3B4455;\n",
              "      fill: #D2E3FC;\n",
              "    }\n",
              "\n",
              "    [theme=dark] .colab-df-convert:hover {\n",
              "      background-color: #434B5C;\n",
              "      box-shadow: 0px 1px 3px 1px rgba(0, 0, 0, 0.15);\n",
              "      filter: drop-shadow(0px 1px 2px rgba(0, 0, 0, 0.3));\n",
              "      fill: #FFFFFF;\n",
              "    }\n",
              "  </style>\n",
              "\n",
              "      <script>\n",
              "        const buttonEl =\n",
              "          document.querySelector('#df-e2117ebe-f02a-4e56-abe3-845fb23c35a5 button.colab-df-convert');\n",
              "        buttonEl.style.display =\n",
              "          google.colab.kernel.accessAllowed ? 'block' : 'none';\n",
              "\n",
              "        async function convertToInteractive(key) {\n",
              "          const element = document.querySelector('#df-e2117ebe-f02a-4e56-abe3-845fb23c35a5');\n",
              "          const dataTable =\n",
              "            await google.colab.kernel.invokeFunction('convertToInteractive',\n",
              "                                                     [key], {});\n",
              "          if (!dataTable) return;\n",
              "\n",
              "          const docLinkHtml = 'Like what you see? Visit the ' +\n",
              "            '<a target=\"_blank\" href=https://colab.research.google.com/notebooks/data_table.ipynb>data table notebook</a>'\n",
              "            + ' to learn more about interactive tables.';\n",
              "          element.innerHTML = '';\n",
              "          dataTable['output_type'] = 'display_data';\n",
              "          await google.colab.output.renderOutput(dataTable, element);\n",
              "          const docLink = document.createElement('div');\n",
              "          docLink.innerHTML = docLinkHtml;\n",
              "          element.appendChild(docLink);\n",
              "        }\n",
              "      </script>\n",
              "    </div>\n",
              "  </div>\n",
              "  "
            ]
          },
          "metadata": {},
          "execution_count": 10
        }
      ]
    },
    {
      "cell_type": "markdown",
      "source": [
        "Expressão regular para remover toda a pontuação"
      ],
      "metadata": {
        "id": "eInLUDVtWHgE"
      }
    },
    {
      "cell_type": "code",
      "source": [
        "# Essa expressão regular remove toda a pontuação\n",
        "punc_re = lambda x: re.sub('[%s]' % re.escape(string.punctuation), ' ', x)\n",
        "df2['text'] = df2.text.map(punc_re)"
      ],
      "metadata": {
        "id": "oC2qKVBQMlp5"
      },
      "execution_count": 11,
      "outputs": []
    },
    {
      "cell_type": "markdown",
      "source": [
        "Expressão Regular para remoção de palavras com números e colocar as palavras em minúsculas"
      ],
      "metadata": {
        "id": "Ouy2uPOCXBt1"
      }
    },
    {
      "cell_type": "code",
      "source": [
        "# Essa expressão regular remove todas as palavras com números e também torna todas as palavras em minúsculas\n",
        "lower_alpha = lambda x: re.sub(r\"\"\"\\w*\\d\\w*\"\"\", ' ', x.lower())\n",
        "df2['text'] = df2.text.map(lower_alpha)"
      ],
      "metadata": {
        "id": "yXnViIbFW-XW"
      },
      "execution_count": 12,
      "outputs": []
    },
    {
      "cell_type": "markdown",
      "source": [
        "Tokenização"
      ],
      "metadata": {
        "id": "pTea318WWPUV"
      }
    },
    {
      "cell_type": "code",
      "source": [
        "#faz uso do nltk.download('punkt')\n",
        "#from nltk.tokenize import word_tokenize\n",
        "\n",
        "df2['tokens'] = df2.text.map(word_tokenize)\n",
        "df2.head()"
      ],
      "metadata": {
        "colab": {
          "base_uri": "https://localhost:8080/",
          "height": 206
        },
        "id": "cU5QTeyEMbGh",
        "outputId": "19e2d543-b7f4-44ab-c3ab-62ff065069c6"
      },
      "execution_count": 13,
      "outputs": [
        {
          "output_type": "execute_result",
          "data": {
            "text/plain": [
              "                    ID                                               text  \\\n",
              "0  1637984794729488386  orgulho de completar mais um ano em furnas    ...   \n",
              "1  1637984618568728576  estatais perderam r    bilhões em valor de mer...   \n",
              "2  1637984374401519616  tcu recomenda que governo avalie possibilidade...   \n",
              "3  1637984038328717312  lula diz que vai pedir revisão do contrato de ...   \n",
              "4  1637983832660926465  eletrobras anuncia processo seletivo para   va...   \n",
              "\n",
              "                                              tokens  \n",
              "0  [orgulho, de, completar, mais, um, ano, em, fu...  \n",
              "1  [estatais, perderam, r, bilhões, em, valor, de...  \n",
              "2  [tcu, recomenda, que, governo, avalie, possibi...  \n",
              "3  [lula, diz, que, vai, pedir, revisão, do, cont...  \n",
              "4  [eletrobras, anuncia, processo, seletivo, para...  "
            ],
            "text/html": [
              "\n",
              "  <div id=\"df-8f72dca8-1e96-4e2e-86aa-a89b34baab13\">\n",
              "    <div class=\"colab-df-container\">\n",
              "      <div>\n",
              "<style scoped>\n",
              "    .dataframe tbody tr th:only-of-type {\n",
              "        vertical-align: middle;\n",
              "    }\n",
              "\n",
              "    .dataframe tbody tr th {\n",
              "        vertical-align: top;\n",
              "    }\n",
              "\n",
              "    .dataframe thead th {\n",
              "        text-align: right;\n",
              "    }\n",
              "</style>\n",
              "<table border=\"1\" class=\"dataframe\">\n",
              "  <thead>\n",
              "    <tr style=\"text-align: right;\">\n",
              "      <th></th>\n",
              "      <th>ID</th>\n",
              "      <th>text</th>\n",
              "      <th>tokens</th>\n",
              "    </tr>\n",
              "  </thead>\n",
              "  <tbody>\n",
              "    <tr>\n",
              "      <th>0</th>\n",
              "      <td>1637984794729488386</td>\n",
              "      <td>orgulho de completar mais um ano em furnas    ...</td>\n",
              "      <td>[orgulho, de, completar, mais, um, ano, em, fu...</td>\n",
              "    </tr>\n",
              "    <tr>\n",
              "      <th>1</th>\n",
              "      <td>1637984618568728576</td>\n",
              "      <td>estatais perderam r    bilhões em valor de mer...</td>\n",
              "      <td>[estatais, perderam, r, bilhões, em, valor, de...</td>\n",
              "    </tr>\n",
              "    <tr>\n",
              "      <th>2</th>\n",
              "      <td>1637984374401519616</td>\n",
              "      <td>tcu recomenda que governo avalie possibilidade...</td>\n",
              "      <td>[tcu, recomenda, que, governo, avalie, possibi...</td>\n",
              "    </tr>\n",
              "    <tr>\n",
              "      <th>3</th>\n",
              "      <td>1637984038328717312</td>\n",
              "      <td>lula diz que vai pedir revisão do contrato de ...</td>\n",
              "      <td>[lula, diz, que, vai, pedir, revisão, do, cont...</td>\n",
              "    </tr>\n",
              "    <tr>\n",
              "      <th>4</th>\n",
              "      <td>1637983832660926465</td>\n",
              "      <td>eletrobras anuncia processo seletivo para   va...</td>\n",
              "      <td>[eletrobras, anuncia, processo, seletivo, para...</td>\n",
              "    </tr>\n",
              "  </tbody>\n",
              "</table>\n",
              "</div>\n",
              "      <button class=\"colab-df-convert\" onclick=\"convertToInteractive('df-8f72dca8-1e96-4e2e-86aa-a89b34baab13')\"\n",
              "              title=\"Convert this dataframe to an interactive table.\"\n",
              "              style=\"display:none;\">\n",
              "        \n",
              "  <svg xmlns=\"http://www.w3.org/2000/svg\" height=\"24px\"viewBox=\"0 0 24 24\"\n",
              "       width=\"24px\">\n",
              "    <path d=\"M0 0h24v24H0V0z\" fill=\"none\"/>\n",
              "    <path d=\"M18.56 5.44l.94 2.06.94-2.06 2.06-.94-2.06-.94-.94-2.06-.94 2.06-2.06.94zm-11 1L8.5 8.5l.94-2.06 2.06-.94-2.06-.94L8.5 2.5l-.94 2.06-2.06.94zm10 10l.94 2.06.94-2.06 2.06-.94-2.06-.94-.94-2.06-.94 2.06-2.06.94z\"/><path d=\"M17.41 7.96l-1.37-1.37c-.4-.4-.92-.59-1.43-.59-.52 0-1.04.2-1.43.59L10.3 9.45l-7.72 7.72c-.78.78-.78 2.05 0 2.83L4 21.41c.39.39.9.59 1.41.59.51 0 1.02-.2 1.41-.59l7.78-7.78 2.81-2.81c.8-.78.8-2.07 0-2.86zM5.41 20L4 18.59l7.72-7.72 1.47 1.35L5.41 20z\"/>\n",
              "  </svg>\n",
              "      </button>\n",
              "      \n",
              "  <style>\n",
              "    .colab-df-container {\n",
              "      display:flex;\n",
              "      flex-wrap:wrap;\n",
              "      gap: 12px;\n",
              "    }\n",
              "\n",
              "    .colab-df-convert {\n",
              "      background-color: #E8F0FE;\n",
              "      border: none;\n",
              "      border-radius: 50%;\n",
              "      cursor: pointer;\n",
              "      display: none;\n",
              "      fill: #1967D2;\n",
              "      height: 32px;\n",
              "      padding: 0 0 0 0;\n",
              "      width: 32px;\n",
              "    }\n",
              "\n",
              "    .colab-df-convert:hover {\n",
              "      background-color: #E2EBFA;\n",
              "      box-shadow: 0px 1px 2px rgba(60, 64, 67, 0.3), 0px 1px 3px 1px rgba(60, 64, 67, 0.15);\n",
              "      fill: #174EA6;\n",
              "    }\n",
              "\n",
              "    [theme=dark] .colab-df-convert {\n",
              "      background-color: #3B4455;\n",
              "      fill: #D2E3FC;\n",
              "    }\n",
              "\n",
              "    [theme=dark] .colab-df-convert:hover {\n",
              "      background-color: #434B5C;\n",
              "      box-shadow: 0px 1px 3px 1px rgba(0, 0, 0, 0.15);\n",
              "      filter: drop-shadow(0px 1px 2px rgba(0, 0, 0, 0.3));\n",
              "      fill: #FFFFFF;\n",
              "    }\n",
              "  </style>\n",
              "\n",
              "      <script>\n",
              "        const buttonEl =\n",
              "          document.querySelector('#df-8f72dca8-1e96-4e2e-86aa-a89b34baab13 button.colab-df-convert');\n",
              "        buttonEl.style.display =\n",
              "          google.colab.kernel.accessAllowed ? 'block' : 'none';\n",
              "\n",
              "        async function convertToInteractive(key) {\n",
              "          const element = document.querySelector('#df-8f72dca8-1e96-4e2e-86aa-a89b34baab13');\n",
              "          const dataTable =\n",
              "            await google.colab.kernel.invokeFunction('convertToInteractive',\n",
              "                                                     [key], {});\n",
              "          if (!dataTable) return;\n",
              "\n",
              "          const docLinkHtml = 'Like what you see? Visit the ' +\n",
              "            '<a target=\"_blank\" href=https://colab.research.google.com/notebooks/data_table.ipynb>data table notebook</a>'\n",
              "            + ' to learn more about interactive tables.';\n",
              "          element.innerHTML = '';\n",
              "          dataTable['output_type'] = 'display_data';\n",
              "          await google.colab.output.renderOutput(dataTable, element);\n",
              "          const docLink = document.createElement('div');\n",
              "          docLink.innerHTML = docLinkHtml;\n",
              "          element.appendChild(docLink);\n",
              "        }\n",
              "      </script>\n",
              "    </div>\n",
              "  </div>\n",
              "  "
            ]
          },
          "metadata": {},
          "execution_count": 13
        }
      ]
    },
    {
      "cell_type": "markdown",
      "source": [
        "# Análise de Sentimento"
      ],
      "metadata": {
        "id": "ehAPzUVeWSmt"
      }
    },
    {
      "cell_type": "code",
      "source": [
        "from nltk.sentiment import SentimentIntensityAnalyzer\n"
      ],
      "metadata": {
        "id": "sVvEaMcOSl5Y"
      },
      "execution_count": 14,
      "outputs": []
    },
    {
      "cell_type": "code",
      "source": [
        "import nltk\n",
        "nltk.download('vader_lexicon')"
      ],
      "metadata": {
        "colab": {
          "base_uri": "https://localhost:8080/"
        },
        "id": "DW_SxP9vS-vS",
        "outputId": "4b77612b-a97b-4eac-906e-8185a24a96ff"
      },
      "execution_count": 15,
      "outputs": [
        {
          "output_type": "stream",
          "name": "stderr",
          "text": [
            "[nltk_data] Downloading package vader_lexicon to /root/nltk_data...\n",
            "[nltk_data]   Package vader_lexicon is already up-to-date!\n"
          ]
        },
        {
          "output_type": "execute_result",
          "data": {
            "text/plain": [
              "True"
            ]
          },
          "metadata": {},
          "execution_count": 15
        }
      ]
    },
    {
      "cell_type": "code",
      "source": [
        "from nltk.tokenize import TweetTokenizer\n"
      ],
      "metadata": {
        "id": "6KX-7cXodJQ5"
      },
      "execution_count": 16,
      "outputs": []
    },
    {
      "cell_type": "code",
      "source": [
        "sia = SentimentIntensityAnalyzer()"
      ],
      "metadata": {
        "id": "oqJZDCHyS2lY"
      },
      "execution_count": 17,
      "outputs": []
    },
    {
      "cell_type": "code",
      "source": [
        "def analisar_sentimento2(texto):\n",
        "    tokens = TweetTokenizer(texto)\n",
        "    score = sia.polarity_scores(texto)\n",
        "    return score['compound']\n"
      ],
      "metadata": {
        "id": "Mcm5rUtmSaZ3"
      },
      "execution_count": 18,
      "outputs": []
    },
    {
      "cell_type": "code",
      "source": [
        "df2['Pontuacao2'] = df2['text'].apply(analisar_sentimento2)"
      ],
      "metadata": {
        "id": "eeQMX4VnSguP"
      },
      "execution_count": 19,
      "outputs": []
    },
    {
      "cell_type": "code",
      "source": [
        "df2.head(16)"
      ],
      "metadata": {
        "colab": {
          "base_uri": "https://localhost:8080/",
          "height": 551
        },
        "id": "46ThKz8NdNn9",
        "outputId": "df52c31c-b0eb-4b6c-b44e-3d1119e5e3ea"
      },
      "execution_count": 20,
      "outputs": [
        {
          "output_type": "execute_result",
          "data": {
            "text/plain": [
              "                     ID                                               text  \\\n",
              "0   1637984794729488386  orgulho de completar mais um ano em furnas    ...   \n",
              "1   1637984618568728576  estatais perderam r    bilhões em valor de mer...   \n",
              "2   1637984374401519616  tcu recomenda que governo avalie possibilidade...   \n",
              "3   1637984038328717312  lula diz que vai pedir revisão do contrato de ...   \n",
              "4   1637983832660926465  eletrobras anuncia processo seletivo para   va...   \n",
              "5   1637983708463480832  rt  a melhornoticia  🇧🇷 brasil \\njanja é soció...   \n",
              "6   1637983430607511552   senadorhumberto vc fez o l para a mentira  a ...   \n",
              "7   1637983390732263424  rt  a melhornoticia  🇧🇷 brasil \\njanja é soció...   \n",
              "8   1637981962441728001  rt  jucones   ivanvalente    reestatização da ...   \n",
              "9   1637981917659234304  rt  carrancaenergia      ivanvalente valorizou...   \n",
              "10  1637981858230050816  rt      ivanvalente  user   reestarização da e...   \n",
              "11  1637981777300946945  rt  carrancaenergia   ivanvalente deputado iva...   \n",
              "12  1637981752533610496  rt         ivanvalente lula  e a eletrobrás   ...   \n",
              "13  1637981741632704513  rt      ivanvalente foram mtas irregularidades...   \n",
              "14  1637981564163219457  rt     requião diz que sua questão com lula nã...   \n",
              "15  1637981215314657282   ilumina org  lulaoficial  haddad fernando  re...   \n",
              "\n",
              "                                               tokens  Pontuacao2  \n",
              "0   [orgulho, de, completar, mais, um, ano, em, fu...      0.4767  \n",
              "1   [estatais, perderam, r, bilhões, em, valor, de...     -0.3182  \n",
              "2   [tcu, recomenda, que, governo, avalie, possibi...     -0.6249  \n",
              "3   [lula, diz, que, vai, pedir, revisão, do, cont...      0.4404  \n",
              "4   [eletrobras, anuncia, processo, seletivo, para...     -0.6486  \n",
              "5   [rt, a, melhornoticia, 🇧🇷, brasil, janja, é, s...      0.0000  \n",
              "6   [senadorhumberto, vc, fez, o, l, para, a, ment...      0.0000  \n",
              "7   [rt, a, melhornoticia, 🇧🇷, brasil, janja, é, s...      0.0000  \n",
              "8   [rt, jucones, ivanvalente, reestatização, da, ...      0.0000  \n",
              "9   [rt, carrancaenergia, ivanvalente, valorizou, ...      0.0000  \n",
              "10  [rt, ivanvalente, user, reestarização, da, ele...      0.0000  \n",
              "11  [rt, carrancaenergia, ivanvalente, deputado, i...      0.0000  \n",
              "12  [rt, ivanvalente, lula, e, a, eletrobrás, rees...      0.0000  \n",
              "13  [rt, ivanvalente, foram, mtas, irregularidades...      0.0000  \n",
              "14  [rt, requião, diz, que, sua, questão, com, lul...      0.0000  \n",
              "15  [ilumina, org, lulaoficial, haddad, fernando, ...      0.0000  "
            ],
            "text/html": [
              "\n",
              "  <div id=\"df-ce7ea6ae-84eb-4419-a483-87b371650cac\">\n",
              "    <div class=\"colab-df-container\">\n",
              "      <div>\n",
              "<style scoped>\n",
              "    .dataframe tbody tr th:only-of-type {\n",
              "        vertical-align: middle;\n",
              "    }\n",
              "\n",
              "    .dataframe tbody tr th {\n",
              "        vertical-align: top;\n",
              "    }\n",
              "\n",
              "    .dataframe thead th {\n",
              "        text-align: right;\n",
              "    }\n",
              "</style>\n",
              "<table border=\"1\" class=\"dataframe\">\n",
              "  <thead>\n",
              "    <tr style=\"text-align: right;\">\n",
              "      <th></th>\n",
              "      <th>ID</th>\n",
              "      <th>text</th>\n",
              "      <th>tokens</th>\n",
              "      <th>Pontuacao2</th>\n",
              "    </tr>\n",
              "  </thead>\n",
              "  <tbody>\n",
              "    <tr>\n",
              "      <th>0</th>\n",
              "      <td>1637984794729488386</td>\n",
              "      <td>orgulho de completar mais um ano em furnas    ...</td>\n",
              "      <td>[orgulho, de, completar, mais, um, ano, em, fu...</td>\n",
              "      <td>0.4767</td>\n",
              "    </tr>\n",
              "    <tr>\n",
              "      <th>1</th>\n",
              "      <td>1637984618568728576</td>\n",
              "      <td>estatais perderam r    bilhões em valor de mer...</td>\n",
              "      <td>[estatais, perderam, r, bilhões, em, valor, de...</td>\n",
              "      <td>-0.3182</td>\n",
              "    </tr>\n",
              "    <tr>\n",
              "      <th>2</th>\n",
              "      <td>1637984374401519616</td>\n",
              "      <td>tcu recomenda que governo avalie possibilidade...</td>\n",
              "      <td>[tcu, recomenda, que, governo, avalie, possibi...</td>\n",
              "      <td>-0.6249</td>\n",
              "    </tr>\n",
              "    <tr>\n",
              "      <th>3</th>\n",
              "      <td>1637984038328717312</td>\n",
              "      <td>lula diz que vai pedir revisão do contrato de ...</td>\n",
              "      <td>[lula, diz, que, vai, pedir, revisão, do, cont...</td>\n",
              "      <td>0.4404</td>\n",
              "    </tr>\n",
              "    <tr>\n",
              "      <th>4</th>\n",
              "      <td>1637983832660926465</td>\n",
              "      <td>eletrobras anuncia processo seletivo para   va...</td>\n",
              "      <td>[eletrobras, anuncia, processo, seletivo, para...</td>\n",
              "      <td>-0.6486</td>\n",
              "    </tr>\n",
              "    <tr>\n",
              "      <th>5</th>\n",
              "      <td>1637983708463480832</td>\n",
              "      <td>rt  a melhornoticia  🇧🇷 brasil \\njanja é soció...</td>\n",
              "      <td>[rt, a, melhornoticia, 🇧🇷, brasil, janja, é, s...</td>\n",
              "      <td>0.0000</td>\n",
              "    </tr>\n",
              "    <tr>\n",
              "      <th>6</th>\n",
              "      <td>1637983430607511552</td>\n",
              "      <td>senadorhumberto vc fez o l para a mentira  a ...</td>\n",
              "      <td>[senadorhumberto, vc, fez, o, l, para, a, ment...</td>\n",
              "      <td>0.0000</td>\n",
              "    </tr>\n",
              "    <tr>\n",
              "      <th>7</th>\n",
              "      <td>1637983390732263424</td>\n",
              "      <td>rt  a melhornoticia  🇧🇷 brasil \\njanja é soció...</td>\n",
              "      <td>[rt, a, melhornoticia, 🇧🇷, brasil, janja, é, s...</td>\n",
              "      <td>0.0000</td>\n",
              "    </tr>\n",
              "    <tr>\n",
              "      <th>8</th>\n",
              "      <td>1637981962441728001</td>\n",
              "      <td>rt  jucones   ivanvalente    reestatização da ...</td>\n",
              "      <td>[rt, jucones, ivanvalente, reestatização, da, ...</td>\n",
              "      <td>0.0000</td>\n",
              "    </tr>\n",
              "    <tr>\n",
              "      <th>9</th>\n",
              "      <td>1637981917659234304</td>\n",
              "      <td>rt  carrancaenergia      ivanvalente valorizou...</td>\n",
              "      <td>[rt, carrancaenergia, ivanvalente, valorizou, ...</td>\n",
              "      <td>0.0000</td>\n",
              "    </tr>\n",
              "    <tr>\n",
              "      <th>10</th>\n",
              "      <td>1637981858230050816</td>\n",
              "      <td>rt      ivanvalente  user   reestarização da e...</td>\n",
              "      <td>[rt, ivanvalente, user, reestarização, da, ele...</td>\n",
              "      <td>0.0000</td>\n",
              "    </tr>\n",
              "    <tr>\n",
              "      <th>11</th>\n",
              "      <td>1637981777300946945</td>\n",
              "      <td>rt  carrancaenergia   ivanvalente deputado iva...</td>\n",
              "      <td>[rt, carrancaenergia, ivanvalente, deputado, i...</td>\n",
              "      <td>0.0000</td>\n",
              "    </tr>\n",
              "    <tr>\n",
              "      <th>12</th>\n",
              "      <td>1637981752533610496</td>\n",
              "      <td>rt         ivanvalente lula  e a eletrobrás   ...</td>\n",
              "      <td>[rt, ivanvalente, lula, e, a, eletrobrás, rees...</td>\n",
              "      <td>0.0000</td>\n",
              "    </tr>\n",
              "    <tr>\n",
              "      <th>13</th>\n",
              "      <td>1637981741632704513</td>\n",
              "      <td>rt      ivanvalente foram mtas irregularidades...</td>\n",
              "      <td>[rt, ivanvalente, foram, mtas, irregularidades...</td>\n",
              "      <td>0.0000</td>\n",
              "    </tr>\n",
              "    <tr>\n",
              "      <th>14</th>\n",
              "      <td>1637981564163219457</td>\n",
              "      <td>rt     requião diz que sua questão com lula nã...</td>\n",
              "      <td>[rt, requião, diz, que, sua, questão, com, lul...</td>\n",
              "      <td>0.0000</td>\n",
              "    </tr>\n",
              "    <tr>\n",
              "      <th>15</th>\n",
              "      <td>1637981215314657282</td>\n",
              "      <td>ilumina org  lulaoficial  haddad fernando  re...</td>\n",
              "      <td>[ilumina, org, lulaoficial, haddad, fernando, ...</td>\n",
              "      <td>0.0000</td>\n",
              "    </tr>\n",
              "  </tbody>\n",
              "</table>\n",
              "</div>\n",
              "      <button class=\"colab-df-convert\" onclick=\"convertToInteractive('df-ce7ea6ae-84eb-4419-a483-87b371650cac')\"\n",
              "              title=\"Convert this dataframe to an interactive table.\"\n",
              "              style=\"display:none;\">\n",
              "        \n",
              "  <svg xmlns=\"http://www.w3.org/2000/svg\" height=\"24px\"viewBox=\"0 0 24 24\"\n",
              "       width=\"24px\">\n",
              "    <path d=\"M0 0h24v24H0V0z\" fill=\"none\"/>\n",
              "    <path d=\"M18.56 5.44l.94 2.06.94-2.06 2.06-.94-2.06-.94-.94-2.06-.94 2.06-2.06.94zm-11 1L8.5 8.5l.94-2.06 2.06-.94-2.06-.94L8.5 2.5l-.94 2.06-2.06.94zm10 10l.94 2.06.94-2.06 2.06-.94-2.06-.94-.94-2.06-.94 2.06-2.06.94z\"/><path d=\"M17.41 7.96l-1.37-1.37c-.4-.4-.92-.59-1.43-.59-.52 0-1.04.2-1.43.59L10.3 9.45l-7.72 7.72c-.78.78-.78 2.05 0 2.83L4 21.41c.39.39.9.59 1.41.59.51 0 1.02-.2 1.41-.59l7.78-7.78 2.81-2.81c.8-.78.8-2.07 0-2.86zM5.41 20L4 18.59l7.72-7.72 1.47 1.35L5.41 20z\"/>\n",
              "  </svg>\n",
              "      </button>\n",
              "      \n",
              "  <style>\n",
              "    .colab-df-container {\n",
              "      display:flex;\n",
              "      flex-wrap:wrap;\n",
              "      gap: 12px;\n",
              "    }\n",
              "\n",
              "    .colab-df-convert {\n",
              "      background-color: #E8F0FE;\n",
              "      border: none;\n",
              "      border-radius: 50%;\n",
              "      cursor: pointer;\n",
              "      display: none;\n",
              "      fill: #1967D2;\n",
              "      height: 32px;\n",
              "      padding: 0 0 0 0;\n",
              "      width: 32px;\n",
              "    }\n",
              "\n",
              "    .colab-df-convert:hover {\n",
              "      background-color: #E2EBFA;\n",
              "      box-shadow: 0px 1px 2px rgba(60, 64, 67, 0.3), 0px 1px 3px 1px rgba(60, 64, 67, 0.15);\n",
              "      fill: #174EA6;\n",
              "    }\n",
              "\n",
              "    [theme=dark] .colab-df-convert {\n",
              "      background-color: #3B4455;\n",
              "      fill: #D2E3FC;\n",
              "    }\n",
              "\n",
              "    [theme=dark] .colab-df-convert:hover {\n",
              "      background-color: #434B5C;\n",
              "      box-shadow: 0px 1px 3px 1px rgba(0, 0, 0, 0.15);\n",
              "      filter: drop-shadow(0px 1px 2px rgba(0, 0, 0, 0.3));\n",
              "      fill: #FFFFFF;\n",
              "    }\n",
              "  </style>\n",
              "\n",
              "      <script>\n",
              "        const buttonEl =\n",
              "          document.querySelector('#df-ce7ea6ae-84eb-4419-a483-87b371650cac button.colab-df-convert');\n",
              "        buttonEl.style.display =\n",
              "          google.colab.kernel.accessAllowed ? 'block' : 'none';\n",
              "\n",
              "        async function convertToInteractive(key) {\n",
              "          const element = document.querySelector('#df-ce7ea6ae-84eb-4419-a483-87b371650cac');\n",
              "          const dataTable =\n",
              "            await google.colab.kernel.invokeFunction('convertToInteractive',\n",
              "                                                     [key], {});\n",
              "          if (!dataTable) return;\n",
              "\n",
              "          const docLinkHtml = 'Like what you see? Visit the ' +\n",
              "            '<a target=\"_blank\" href=https://colab.research.google.com/notebooks/data_table.ipynb>data table notebook</a>'\n",
              "            + ' to learn more about interactive tables.';\n",
              "          element.innerHTML = '';\n",
              "          dataTable['output_type'] = 'display_data';\n",
              "          await google.colab.output.renderOutput(dataTable, element);\n",
              "          const docLink = document.createElement('div');\n",
              "          docLink.innerHTML = docLinkHtml;\n",
              "          element.appendChild(docLink);\n",
              "        }\n",
              "      </script>\n",
              "    </div>\n",
              "  </div>\n",
              "  "
            ]
          },
          "metadata": {},
          "execution_count": 20
        }
      ]
    },
    {
      "cell_type": "markdown",
      "source": [
        "Função para rotular os resultados obtidos pela Pontuação"
      ],
      "metadata": {
        "id": "2y7kabkJWl-4"
      }
    },
    {
      "cell_type": "code",
      "source": [
        "# Define uma função de mapeamento\n",
        "def mapear_valor(valor):\n",
        "    if valor > 0:\n",
        "        return 'Positivo'\n",
        "    elif valor < 0:\n",
        "        return 'Negativo'\n",
        "    else:\n",
        "        return 'Neutro'\n"
      ],
      "metadata": {
        "id": "oKKWAhrLW3n9"
      },
      "execution_count": 21,
      "outputs": []
    },
    {
      "cell_type": "code",
      "source": [
        "df2['Pontuacao2'] = df2['Pontuacao2'].astype(float)"
      ],
      "metadata": {
        "id": "sjM4bmPfbg_l"
      },
      "execution_count": 22,
      "outputs": []
    },
    {
      "cell_type": "code",
      "source": [
        "df2.head()"
      ],
      "metadata": {
        "id": "cwgqHcnRbxaC",
        "colab": {
          "base_uri": "https://localhost:8080/",
          "height": 206
        },
        "outputId": "9de04742-2fa6-4602-d06b-7ceb2e68260d"
      },
      "execution_count": 23,
      "outputs": [
        {
          "output_type": "execute_result",
          "data": {
            "text/plain": [
              "                    ID                                               text  \\\n",
              "0  1637984794729488386  orgulho de completar mais um ano em furnas    ...   \n",
              "1  1637984618568728576  estatais perderam r    bilhões em valor de mer...   \n",
              "2  1637984374401519616  tcu recomenda que governo avalie possibilidade...   \n",
              "3  1637984038328717312  lula diz que vai pedir revisão do contrato de ...   \n",
              "4  1637983832660926465  eletrobras anuncia processo seletivo para   va...   \n",
              "\n",
              "                                              tokens  Pontuacao2  \n",
              "0  [orgulho, de, completar, mais, um, ano, em, fu...      0.4767  \n",
              "1  [estatais, perderam, r, bilhões, em, valor, de...     -0.3182  \n",
              "2  [tcu, recomenda, que, governo, avalie, possibi...     -0.6249  \n",
              "3  [lula, diz, que, vai, pedir, revisão, do, cont...      0.4404  \n",
              "4  [eletrobras, anuncia, processo, seletivo, para...     -0.6486  "
            ],
            "text/html": [
              "\n",
              "  <div id=\"df-017c5d95-1832-4b29-b06b-8a7f420b82d0\">\n",
              "    <div class=\"colab-df-container\">\n",
              "      <div>\n",
              "<style scoped>\n",
              "    .dataframe tbody tr th:only-of-type {\n",
              "        vertical-align: middle;\n",
              "    }\n",
              "\n",
              "    .dataframe tbody tr th {\n",
              "        vertical-align: top;\n",
              "    }\n",
              "\n",
              "    .dataframe thead th {\n",
              "        text-align: right;\n",
              "    }\n",
              "</style>\n",
              "<table border=\"1\" class=\"dataframe\">\n",
              "  <thead>\n",
              "    <tr style=\"text-align: right;\">\n",
              "      <th></th>\n",
              "      <th>ID</th>\n",
              "      <th>text</th>\n",
              "      <th>tokens</th>\n",
              "      <th>Pontuacao2</th>\n",
              "    </tr>\n",
              "  </thead>\n",
              "  <tbody>\n",
              "    <tr>\n",
              "      <th>0</th>\n",
              "      <td>1637984794729488386</td>\n",
              "      <td>orgulho de completar mais um ano em furnas    ...</td>\n",
              "      <td>[orgulho, de, completar, mais, um, ano, em, fu...</td>\n",
              "      <td>0.4767</td>\n",
              "    </tr>\n",
              "    <tr>\n",
              "      <th>1</th>\n",
              "      <td>1637984618568728576</td>\n",
              "      <td>estatais perderam r    bilhões em valor de mer...</td>\n",
              "      <td>[estatais, perderam, r, bilhões, em, valor, de...</td>\n",
              "      <td>-0.3182</td>\n",
              "    </tr>\n",
              "    <tr>\n",
              "      <th>2</th>\n",
              "      <td>1637984374401519616</td>\n",
              "      <td>tcu recomenda que governo avalie possibilidade...</td>\n",
              "      <td>[tcu, recomenda, que, governo, avalie, possibi...</td>\n",
              "      <td>-0.6249</td>\n",
              "    </tr>\n",
              "    <tr>\n",
              "      <th>3</th>\n",
              "      <td>1637984038328717312</td>\n",
              "      <td>lula diz que vai pedir revisão do contrato de ...</td>\n",
              "      <td>[lula, diz, que, vai, pedir, revisão, do, cont...</td>\n",
              "      <td>0.4404</td>\n",
              "    </tr>\n",
              "    <tr>\n",
              "      <th>4</th>\n",
              "      <td>1637983832660926465</td>\n",
              "      <td>eletrobras anuncia processo seletivo para   va...</td>\n",
              "      <td>[eletrobras, anuncia, processo, seletivo, para...</td>\n",
              "      <td>-0.6486</td>\n",
              "    </tr>\n",
              "  </tbody>\n",
              "</table>\n",
              "</div>\n",
              "      <button class=\"colab-df-convert\" onclick=\"convertToInteractive('df-017c5d95-1832-4b29-b06b-8a7f420b82d0')\"\n",
              "              title=\"Convert this dataframe to an interactive table.\"\n",
              "              style=\"display:none;\">\n",
              "        \n",
              "  <svg xmlns=\"http://www.w3.org/2000/svg\" height=\"24px\"viewBox=\"0 0 24 24\"\n",
              "       width=\"24px\">\n",
              "    <path d=\"M0 0h24v24H0V0z\" fill=\"none\"/>\n",
              "    <path d=\"M18.56 5.44l.94 2.06.94-2.06 2.06-.94-2.06-.94-.94-2.06-.94 2.06-2.06.94zm-11 1L8.5 8.5l.94-2.06 2.06-.94-2.06-.94L8.5 2.5l-.94 2.06-2.06.94zm10 10l.94 2.06.94-2.06 2.06-.94-2.06-.94-.94-2.06-.94 2.06-2.06.94z\"/><path d=\"M17.41 7.96l-1.37-1.37c-.4-.4-.92-.59-1.43-.59-.52 0-1.04.2-1.43.59L10.3 9.45l-7.72 7.72c-.78.78-.78 2.05 0 2.83L4 21.41c.39.39.9.59 1.41.59.51 0 1.02-.2 1.41-.59l7.78-7.78 2.81-2.81c.8-.78.8-2.07 0-2.86zM5.41 20L4 18.59l7.72-7.72 1.47 1.35L5.41 20z\"/>\n",
              "  </svg>\n",
              "      </button>\n",
              "      \n",
              "  <style>\n",
              "    .colab-df-container {\n",
              "      display:flex;\n",
              "      flex-wrap:wrap;\n",
              "      gap: 12px;\n",
              "    }\n",
              "\n",
              "    .colab-df-convert {\n",
              "      background-color: #E8F0FE;\n",
              "      border: none;\n",
              "      border-radius: 50%;\n",
              "      cursor: pointer;\n",
              "      display: none;\n",
              "      fill: #1967D2;\n",
              "      height: 32px;\n",
              "      padding: 0 0 0 0;\n",
              "      width: 32px;\n",
              "    }\n",
              "\n",
              "    .colab-df-convert:hover {\n",
              "      background-color: #E2EBFA;\n",
              "      box-shadow: 0px 1px 2px rgba(60, 64, 67, 0.3), 0px 1px 3px 1px rgba(60, 64, 67, 0.15);\n",
              "      fill: #174EA6;\n",
              "    }\n",
              "\n",
              "    [theme=dark] .colab-df-convert {\n",
              "      background-color: #3B4455;\n",
              "      fill: #D2E3FC;\n",
              "    }\n",
              "\n",
              "    [theme=dark] .colab-df-convert:hover {\n",
              "      background-color: #434B5C;\n",
              "      box-shadow: 0px 1px 3px 1px rgba(0, 0, 0, 0.15);\n",
              "      filter: drop-shadow(0px 1px 2px rgba(0, 0, 0, 0.3));\n",
              "      fill: #FFFFFF;\n",
              "    }\n",
              "  </style>\n",
              "\n",
              "      <script>\n",
              "        const buttonEl =\n",
              "          document.querySelector('#df-017c5d95-1832-4b29-b06b-8a7f420b82d0 button.colab-df-convert');\n",
              "        buttonEl.style.display =\n",
              "          google.colab.kernel.accessAllowed ? 'block' : 'none';\n",
              "\n",
              "        async function convertToInteractive(key) {\n",
              "          const element = document.querySelector('#df-017c5d95-1832-4b29-b06b-8a7f420b82d0');\n",
              "          const dataTable =\n",
              "            await google.colab.kernel.invokeFunction('convertToInteractive',\n",
              "                                                     [key], {});\n",
              "          if (!dataTable) return;\n",
              "\n",
              "          const docLinkHtml = 'Like what you see? Visit the ' +\n",
              "            '<a target=\"_blank\" href=https://colab.research.google.com/notebooks/data_table.ipynb>data table notebook</a>'\n",
              "            + ' to learn more about interactive tables.';\n",
              "          element.innerHTML = '';\n",
              "          dataTable['output_type'] = 'display_data';\n",
              "          await google.colab.output.renderOutput(dataTable, element);\n",
              "          const docLink = document.createElement('div');\n",
              "          docLink.innerHTML = docLinkHtml;\n",
              "          element.appendChild(docLink);\n",
              "        }\n",
              "      </script>\n",
              "    </div>\n",
              "  </div>\n",
              "  "
            ]
          },
          "metadata": {},
          "execution_count": 23
        }
      ]
    },
    {
      "cell_type": "code",
      "source": [
        "df2['rotulos'] = df2['Pontuacao2'].apply(mapear_valor)"
      ],
      "metadata": {
        "id": "S_zZWPW6Zk9D"
      },
      "execution_count": 24,
      "outputs": []
    },
    {
      "cell_type": "code",
      "source": [
        "df2.head()"
      ],
      "metadata": {
        "colab": {
          "base_uri": "https://localhost:8080/",
          "height": 206
        },
        "id": "Cpvy_9f6dY7A",
        "outputId": "0034aa06-3f5a-490b-98e1-cd20ea174bf6"
      },
      "execution_count": 25,
      "outputs": [
        {
          "output_type": "execute_result",
          "data": {
            "text/plain": [
              "                    ID                                               text  \\\n",
              "0  1637984794729488386  orgulho de completar mais um ano em furnas    ...   \n",
              "1  1637984618568728576  estatais perderam r    bilhões em valor de mer...   \n",
              "2  1637984374401519616  tcu recomenda que governo avalie possibilidade...   \n",
              "3  1637984038328717312  lula diz que vai pedir revisão do contrato de ...   \n",
              "4  1637983832660926465  eletrobras anuncia processo seletivo para   va...   \n",
              "\n",
              "                                              tokens  Pontuacao2   rotulos  \n",
              "0  [orgulho, de, completar, mais, um, ano, em, fu...      0.4767  Positivo  \n",
              "1  [estatais, perderam, r, bilhões, em, valor, de...     -0.3182  Negativo  \n",
              "2  [tcu, recomenda, que, governo, avalie, possibi...     -0.6249  Negativo  \n",
              "3  [lula, diz, que, vai, pedir, revisão, do, cont...      0.4404  Positivo  \n",
              "4  [eletrobras, anuncia, processo, seletivo, para...     -0.6486  Negativo  "
            ],
            "text/html": [
              "\n",
              "  <div id=\"df-194cee1b-212e-4c7c-a53e-552e1524a66d\">\n",
              "    <div class=\"colab-df-container\">\n",
              "      <div>\n",
              "<style scoped>\n",
              "    .dataframe tbody tr th:only-of-type {\n",
              "        vertical-align: middle;\n",
              "    }\n",
              "\n",
              "    .dataframe tbody tr th {\n",
              "        vertical-align: top;\n",
              "    }\n",
              "\n",
              "    .dataframe thead th {\n",
              "        text-align: right;\n",
              "    }\n",
              "</style>\n",
              "<table border=\"1\" class=\"dataframe\">\n",
              "  <thead>\n",
              "    <tr style=\"text-align: right;\">\n",
              "      <th></th>\n",
              "      <th>ID</th>\n",
              "      <th>text</th>\n",
              "      <th>tokens</th>\n",
              "      <th>Pontuacao2</th>\n",
              "      <th>rotulos</th>\n",
              "    </tr>\n",
              "  </thead>\n",
              "  <tbody>\n",
              "    <tr>\n",
              "      <th>0</th>\n",
              "      <td>1637984794729488386</td>\n",
              "      <td>orgulho de completar mais um ano em furnas    ...</td>\n",
              "      <td>[orgulho, de, completar, mais, um, ano, em, fu...</td>\n",
              "      <td>0.4767</td>\n",
              "      <td>Positivo</td>\n",
              "    </tr>\n",
              "    <tr>\n",
              "      <th>1</th>\n",
              "      <td>1637984618568728576</td>\n",
              "      <td>estatais perderam r    bilhões em valor de mer...</td>\n",
              "      <td>[estatais, perderam, r, bilhões, em, valor, de...</td>\n",
              "      <td>-0.3182</td>\n",
              "      <td>Negativo</td>\n",
              "    </tr>\n",
              "    <tr>\n",
              "      <th>2</th>\n",
              "      <td>1637984374401519616</td>\n",
              "      <td>tcu recomenda que governo avalie possibilidade...</td>\n",
              "      <td>[tcu, recomenda, que, governo, avalie, possibi...</td>\n",
              "      <td>-0.6249</td>\n",
              "      <td>Negativo</td>\n",
              "    </tr>\n",
              "    <tr>\n",
              "      <th>3</th>\n",
              "      <td>1637984038328717312</td>\n",
              "      <td>lula diz que vai pedir revisão do contrato de ...</td>\n",
              "      <td>[lula, diz, que, vai, pedir, revisão, do, cont...</td>\n",
              "      <td>0.4404</td>\n",
              "      <td>Positivo</td>\n",
              "    </tr>\n",
              "    <tr>\n",
              "      <th>4</th>\n",
              "      <td>1637983832660926465</td>\n",
              "      <td>eletrobras anuncia processo seletivo para   va...</td>\n",
              "      <td>[eletrobras, anuncia, processo, seletivo, para...</td>\n",
              "      <td>-0.6486</td>\n",
              "      <td>Negativo</td>\n",
              "    </tr>\n",
              "  </tbody>\n",
              "</table>\n",
              "</div>\n",
              "      <button class=\"colab-df-convert\" onclick=\"convertToInteractive('df-194cee1b-212e-4c7c-a53e-552e1524a66d')\"\n",
              "              title=\"Convert this dataframe to an interactive table.\"\n",
              "              style=\"display:none;\">\n",
              "        \n",
              "  <svg xmlns=\"http://www.w3.org/2000/svg\" height=\"24px\"viewBox=\"0 0 24 24\"\n",
              "       width=\"24px\">\n",
              "    <path d=\"M0 0h24v24H0V0z\" fill=\"none\"/>\n",
              "    <path d=\"M18.56 5.44l.94 2.06.94-2.06 2.06-.94-2.06-.94-.94-2.06-.94 2.06-2.06.94zm-11 1L8.5 8.5l.94-2.06 2.06-.94-2.06-.94L8.5 2.5l-.94 2.06-2.06.94zm10 10l.94 2.06.94-2.06 2.06-.94-2.06-.94-.94-2.06-.94 2.06-2.06.94z\"/><path d=\"M17.41 7.96l-1.37-1.37c-.4-.4-.92-.59-1.43-.59-.52 0-1.04.2-1.43.59L10.3 9.45l-7.72 7.72c-.78.78-.78 2.05 0 2.83L4 21.41c.39.39.9.59 1.41.59.51 0 1.02-.2 1.41-.59l7.78-7.78 2.81-2.81c.8-.78.8-2.07 0-2.86zM5.41 20L4 18.59l7.72-7.72 1.47 1.35L5.41 20z\"/>\n",
              "  </svg>\n",
              "      </button>\n",
              "      \n",
              "  <style>\n",
              "    .colab-df-container {\n",
              "      display:flex;\n",
              "      flex-wrap:wrap;\n",
              "      gap: 12px;\n",
              "    }\n",
              "\n",
              "    .colab-df-convert {\n",
              "      background-color: #E8F0FE;\n",
              "      border: none;\n",
              "      border-radius: 50%;\n",
              "      cursor: pointer;\n",
              "      display: none;\n",
              "      fill: #1967D2;\n",
              "      height: 32px;\n",
              "      padding: 0 0 0 0;\n",
              "      width: 32px;\n",
              "    }\n",
              "\n",
              "    .colab-df-convert:hover {\n",
              "      background-color: #E2EBFA;\n",
              "      box-shadow: 0px 1px 2px rgba(60, 64, 67, 0.3), 0px 1px 3px 1px rgba(60, 64, 67, 0.15);\n",
              "      fill: #174EA6;\n",
              "    }\n",
              "\n",
              "    [theme=dark] .colab-df-convert {\n",
              "      background-color: #3B4455;\n",
              "      fill: #D2E3FC;\n",
              "    }\n",
              "\n",
              "    [theme=dark] .colab-df-convert:hover {\n",
              "      background-color: #434B5C;\n",
              "      box-shadow: 0px 1px 3px 1px rgba(0, 0, 0, 0.15);\n",
              "      filter: drop-shadow(0px 1px 2px rgba(0, 0, 0, 0.3));\n",
              "      fill: #FFFFFF;\n",
              "    }\n",
              "  </style>\n",
              "\n",
              "      <script>\n",
              "        const buttonEl =\n",
              "          document.querySelector('#df-194cee1b-212e-4c7c-a53e-552e1524a66d button.colab-df-convert');\n",
              "        buttonEl.style.display =\n",
              "          google.colab.kernel.accessAllowed ? 'block' : 'none';\n",
              "\n",
              "        async function convertToInteractive(key) {\n",
              "          const element = document.querySelector('#df-194cee1b-212e-4c7c-a53e-552e1524a66d');\n",
              "          const dataTable =\n",
              "            await google.colab.kernel.invokeFunction('convertToInteractive',\n",
              "                                                     [key], {});\n",
              "          if (!dataTable) return;\n",
              "\n",
              "          const docLinkHtml = 'Like what you see? Visit the ' +\n",
              "            '<a target=\"_blank\" href=https://colab.research.google.com/notebooks/data_table.ipynb>data table notebook</a>'\n",
              "            + ' to learn more about interactive tables.';\n",
              "          element.innerHTML = '';\n",
              "          dataTable['output_type'] = 'display_data';\n",
              "          await google.colab.output.renderOutput(dataTable, element);\n",
              "          const docLink = document.createElement('div');\n",
              "          docLink.innerHTML = docLinkHtml;\n",
              "          element.appendChild(docLink);\n",
              "        }\n",
              "      </script>\n",
              "    </div>\n",
              "  </div>\n",
              "  "
            ]
          },
          "metadata": {},
          "execution_count": 25
        }
      ]
    },
    {
      "cell_type": "code",
      "source": [
        "df2.iloc[4]"
      ],
      "metadata": {
        "colab": {
          "base_uri": "https://localhost:8080/"
        },
        "id": "kOZ368LrTYwB",
        "outputId": "f80d9341-008e-4c0b-ba11-b509370989c7"
      },
      "execution_count": 26,
      "outputs": [
        {
          "output_type": "execute_result",
          "data": {
            "text/plain": [
              "ID                                          1637983832660926465\n",
              "text          eletrobras anuncia processo seletivo para   va...\n",
              "tokens        [eletrobras, anuncia, processo, seletivo, para...\n",
              "Pontuacao2                                              -0.6486\n",
              "rotulos                                                Negativo\n",
              "Name: 4, dtype: object"
            ]
          },
          "metadata": {},
          "execution_count": 26
        }
      ]
    },
    {
      "cell_type": "code",
      "source": [],
      "metadata": {
        "id": "S5f3WlBAUJWx"
      },
      "execution_count": 26,
      "outputs": []
    },
    {
      "cell_type": "code",
      "source": [
        "df2.head()"
      ],
      "metadata": {
        "colab": {
          "base_uri": "https://localhost:8080/",
          "height": 206
        },
        "id": "lTDlPZ8EUln3",
        "outputId": "5eb466e5-36a6-46cd-88f9-2a2e9fd52abe"
      },
      "execution_count": 27,
      "outputs": [
        {
          "output_type": "execute_result",
          "data": {
            "text/plain": [
              "                    ID                                               text  \\\n",
              "0  1637984794729488386  orgulho de completar mais um ano em furnas    ...   \n",
              "1  1637984618568728576  estatais perderam r    bilhões em valor de mer...   \n",
              "2  1637984374401519616  tcu recomenda que governo avalie possibilidade...   \n",
              "3  1637984038328717312  lula diz que vai pedir revisão do contrato de ...   \n",
              "4  1637983832660926465  eletrobras anuncia processo seletivo para   va...   \n",
              "\n",
              "                                              tokens  Pontuacao2   rotulos  \n",
              "0  [orgulho, de, completar, mais, um, ano, em, fu...      0.4767  Positivo  \n",
              "1  [estatais, perderam, r, bilhões, em, valor, de...     -0.3182  Negativo  \n",
              "2  [tcu, recomenda, que, governo, avalie, possibi...     -0.6249  Negativo  \n",
              "3  [lula, diz, que, vai, pedir, revisão, do, cont...      0.4404  Positivo  \n",
              "4  [eletrobras, anuncia, processo, seletivo, para...     -0.6486  Negativo  "
            ],
            "text/html": [
              "\n",
              "  <div id=\"df-6f3d68de-a2f7-4714-b606-212fe4cc5546\">\n",
              "    <div class=\"colab-df-container\">\n",
              "      <div>\n",
              "<style scoped>\n",
              "    .dataframe tbody tr th:only-of-type {\n",
              "        vertical-align: middle;\n",
              "    }\n",
              "\n",
              "    .dataframe tbody tr th {\n",
              "        vertical-align: top;\n",
              "    }\n",
              "\n",
              "    .dataframe thead th {\n",
              "        text-align: right;\n",
              "    }\n",
              "</style>\n",
              "<table border=\"1\" class=\"dataframe\">\n",
              "  <thead>\n",
              "    <tr style=\"text-align: right;\">\n",
              "      <th></th>\n",
              "      <th>ID</th>\n",
              "      <th>text</th>\n",
              "      <th>tokens</th>\n",
              "      <th>Pontuacao2</th>\n",
              "      <th>rotulos</th>\n",
              "    </tr>\n",
              "  </thead>\n",
              "  <tbody>\n",
              "    <tr>\n",
              "      <th>0</th>\n",
              "      <td>1637984794729488386</td>\n",
              "      <td>orgulho de completar mais um ano em furnas    ...</td>\n",
              "      <td>[orgulho, de, completar, mais, um, ano, em, fu...</td>\n",
              "      <td>0.4767</td>\n",
              "      <td>Positivo</td>\n",
              "    </tr>\n",
              "    <tr>\n",
              "      <th>1</th>\n",
              "      <td>1637984618568728576</td>\n",
              "      <td>estatais perderam r    bilhões em valor de mer...</td>\n",
              "      <td>[estatais, perderam, r, bilhões, em, valor, de...</td>\n",
              "      <td>-0.3182</td>\n",
              "      <td>Negativo</td>\n",
              "    </tr>\n",
              "    <tr>\n",
              "      <th>2</th>\n",
              "      <td>1637984374401519616</td>\n",
              "      <td>tcu recomenda que governo avalie possibilidade...</td>\n",
              "      <td>[tcu, recomenda, que, governo, avalie, possibi...</td>\n",
              "      <td>-0.6249</td>\n",
              "      <td>Negativo</td>\n",
              "    </tr>\n",
              "    <tr>\n",
              "      <th>3</th>\n",
              "      <td>1637984038328717312</td>\n",
              "      <td>lula diz que vai pedir revisão do contrato de ...</td>\n",
              "      <td>[lula, diz, que, vai, pedir, revisão, do, cont...</td>\n",
              "      <td>0.4404</td>\n",
              "      <td>Positivo</td>\n",
              "    </tr>\n",
              "    <tr>\n",
              "      <th>4</th>\n",
              "      <td>1637983832660926465</td>\n",
              "      <td>eletrobras anuncia processo seletivo para   va...</td>\n",
              "      <td>[eletrobras, anuncia, processo, seletivo, para...</td>\n",
              "      <td>-0.6486</td>\n",
              "      <td>Negativo</td>\n",
              "    </tr>\n",
              "  </tbody>\n",
              "</table>\n",
              "</div>\n",
              "      <button class=\"colab-df-convert\" onclick=\"convertToInteractive('df-6f3d68de-a2f7-4714-b606-212fe4cc5546')\"\n",
              "              title=\"Convert this dataframe to an interactive table.\"\n",
              "              style=\"display:none;\">\n",
              "        \n",
              "  <svg xmlns=\"http://www.w3.org/2000/svg\" height=\"24px\"viewBox=\"0 0 24 24\"\n",
              "       width=\"24px\">\n",
              "    <path d=\"M0 0h24v24H0V0z\" fill=\"none\"/>\n",
              "    <path d=\"M18.56 5.44l.94 2.06.94-2.06 2.06-.94-2.06-.94-.94-2.06-.94 2.06-2.06.94zm-11 1L8.5 8.5l.94-2.06 2.06-.94-2.06-.94L8.5 2.5l-.94 2.06-2.06.94zm10 10l.94 2.06.94-2.06 2.06-.94-2.06-.94-.94-2.06-.94 2.06-2.06.94z\"/><path d=\"M17.41 7.96l-1.37-1.37c-.4-.4-.92-.59-1.43-.59-.52 0-1.04.2-1.43.59L10.3 9.45l-7.72 7.72c-.78.78-.78 2.05 0 2.83L4 21.41c.39.39.9.59 1.41.59.51 0 1.02-.2 1.41-.59l7.78-7.78 2.81-2.81c.8-.78.8-2.07 0-2.86zM5.41 20L4 18.59l7.72-7.72 1.47 1.35L5.41 20z\"/>\n",
              "  </svg>\n",
              "      </button>\n",
              "      \n",
              "  <style>\n",
              "    .colab-df-container {\n",
              "      display:flex;\n",
              "      flex-wrap:wrap;\n",
              "      gap: 12px;\n",
              "    }\n",
              "\n",
              "    .colab-df-convert {\n",
              "      background-color: #E8F0FE;\n",
              "      border: none;\n",
              "      border-radius: 50%;\n",
              "      cursor: pointer;\n",
              "      display: none;\n",
              "      fill: #1967D2;\n",
              "      height: 32px;\n",
              "      padding: 0 0 0 0;\n",
              "      width: 32px;\n",
              "    }\n",
              "\n",
              "    .colab-df-convert:hover {\n",
              "      background-color: #E2EBFA;\n",
              "      box-shadow: 0px 1px 2px rgba(60, 64, 67, 0.3), 0px 1px 3px 1px rgba(60, 64, 67, 0.15);\n",
              "      fill: #174EA6;\n",
              "    }\n",
              "\n",
              "    [theme=dark] .colab-df-convert {\n",
              "      background-color: #3B4455;\n",
              "      fill: #D2E3FC;\n",
              "    }\n",
              "\n",
              "    [theme=dark] .colab-df-convert:hover {\n",
              "      background-color: #434B5C;\n",
              "      box-shadow: 0px 1px 3px 1px rgba(0, 0, 0, 0.15);\n",
              "      filter: drop-shadow(0px 1px 2px rgba(0, 0, 0, 0.3));\n",
              "      fill: #FFFFFF;\n",
              "    }\n",
              "  </style>\n",
              "\n",
              "      <script>\n",
              "        const buttonEl =\n",
              "          document.querySelector('#df-6f3d68de-a2f7-4714-b606-212fe4cc5546 button.colab-df-convert');\n",
              "        buttonEl.style.display =\n",
              "          google.colab.kernel.accessAllowed ? 'block' : 'none';\n",
              "\n",
              "        async function convertToInteractive(key) {\n",
              "          const element = document.querySelector('#df-6f3d68de-a2f7-4714-b606-212fe4cc5546');\n",
              "          const dataTable =\n",
              "            await google.colab.kernel.invokeFunction('convertToInteractive',\n",
              "                                                     [key], {});\n",
              "          if (!dataTable) return;\n",
              "\n",
              "          const docLinkHtml = 'Like what you see? Visit the ' +\n",
              "            '<a target=\"_blank\" href=https://colab.research.google.com/notebooks/data_table.ipynb>data table notebook</a>'\n",
              "            + ' to learn more about interactive tables.';\n",
              "          element.innerHTML = '';\n",
              "          dataTable['output_type'] = 'display_data';\n",
              "          await google.colab.output.renderOutput(dataTable, element);\n",
              "          const docLink = document.createElement('div');\n",
              "          docLink.innerHTML = docLinkHtml;\n",
              "          element.appendChild(docLink);\n",
              "        }\n",
              "      </script>\n",
              "    </div>\n",
              "  </div>\n",
              "  "
            ]
          },
          "metadata": {},
          "execution_count": 27
        }
      ]
    },
    {
      "cell_type": "code",
      "source": [
        "# Isso cria uma lista enorme combinando todos os valores de tokens\n",
        "word_list = sum(df2.tokens.tolist(), [])\n",
        "\n",
        "word_list[:10]"
      ],
      "metadata": {
        "colab": {
          "base_uri": "https://localhost:8080/"
        },
        "id": "sFIDNLetWSMR",
        "outputId": "3d87bf9f-4665-4a0e-aa28-26935d706a00"
      },
      "execution_count": 28,
      "outputs": [
        {
          "output_type": "execute_result",
          "data": {
            "text/plain": [
              "['orgulho',\n",
              " 'de',\n",
              " 'completar',\n",
              " 'mais',\n",
              " 'um',\n",
              " 'ano',\n",
              " 'em',\n",
              " 'furnas',\n",
              " 'eletrobras',\n",
              " 'publica']"
            ]
          },
          "metadata": {},
          "execution_count": 28
        }
      ]
    },
    {
      "cell_type": "code",
      "source": [
        "# Estas são as etapas para encontrar as palavras mais comuns\n",
        "\n",
        "#from collections import Counter\n",
        "\n",
        "# Converte a lista em um dicionário com contagem de valores\n",
        "word_counts = Counter(word_list)\n",
        "\n",
        "# Inverter a chave / valores no dicionário para classificarReverter a chave / valores no dicionário para classificar\n",
        "word_counts = list(zip(word_counts.values(), word_counts.keys()))\n",
        "\n",
        "# Classifique a lista por contagem\n",
        "word_counts = sorted(word_counts, reverse=True)\n",
        "\n",
        "# Imprime as 10 palavras mais comuns\n",
        "word_counts[:10]"
      ],
      "metadata": {
        "colab": {
          "base_uri": "https://localhost:8080/"
        },
        "id": "U0G7O54hWbJT",
        "outputId": "2775ca74-ea77-47d7-b3a0-c11fa71cd4bf"
      },
      "execution_count": 29,
      "outputs": [
        {
          "output_type": "execute_result",
          "data": {
            "text/plain": [
              "[(2618, 'a'),\n",
              " (2557, 'e'),\n",
              " (2222, 'na'),\n",
              " (2032, 'já'),\n",
              " (1711, 'eletrobras'),\n",
              " (1683, 'rt'),\n",
              " (1193, 'é'),\n",
              " (1139, 'brasil'),\n",
              " (1123, 'foi'),\n",
              " (1024, 'da')]"
            ]
          },
          "metadata": {},
          "execution_count": 29
        }
      ]
    },
    {
      "cell_type": "code",
      "source": [
        "# A distribuição dos comprimentos das palavras\n",
        "word_lengths = pd.Series([len(x) for x in word_list])\n",
        "\n",
        "ax = word_lengths.hist(bins=15)\n",
        "ax.set(xlabel='Word Lengths', ylabel='Frequency', title='Distribution of Word Length');"
      ],
      "metadata": {
        "colab": {
          "base_uri": "https://localhost:8080/",
          "height": 295
        },
        "id": "kY617f4PWpYP",
        "outputId": "9aa45687-9ac2-45d7-b976-3a01e7a14eed"
      },
      "execution_count": 30,
      "outputs": [
        {
          "output_type": "display_data",
          "data": {
            "text/plain": [
              "<Figure size 432x288 with 1 Axes>"
            ],
            "image/png": "[encoded data removed]"
          },
          "metadata": {
            "needs_background": "light"
          }
        }
      ]
    },
    {
      "cell_type": "code",
      "source": [
        "word_counts[:10]"
      ],
      "metadata": {
        "colab": {
          "base_uri": "https://localhost:8080/"
        },
        "id": "SylM_AaPRODb",
        "outputId": "45ca1197-ade8-4cc8-be03-44b259848c3b"
      },
      "execution_count": 31,
      "outputs": [
        {
          "output_type": "execute_result",
          "data": {
            "text/plain": [
              "[(2618, 'a'),\n",
              " (2557, 'e'),\n",
              " (2222, 'na'),\n",
              " (2032, 'já'),\n",
              " (1711, 'eletrobras'),\n",
              " (1683, 'rt'),\n",
              " (1193, 'é'),\n",
              " (1139, 'brasil'),\n",
              " (1123, 'foi'),\n",
              " (1024, 'da')]"
            ]
          },
          "metadata": {},
          "execution_count": 31
        }
      ]
    },
    {
      "cell_type": "markdown",
      "source": [
        "Uso de Stopwords para extração de palavras úteis na Wordcloud"
      ],
      "metadata": {
        "id": "ENceZ1sZXh8i"
      }
    },
    {
      "cell_type": "code",
      "source": [
        "# Remova as stop words\n",
        "from nltk.corpus import stopwords\n",
        "nltk.download(\"stopwords\")\n",
        "\n",
        "stop_words = stopwords.words('portuguese')\n",
        "stop_words.append('co')\n",
        "stop_words.append('t')\n",
        "stop_words.append('https')\n",
        "stop_words.append('rt')\n",
        "stop_words.append('a')\n",
        "stop_words.append('e')\n",
        "stop_words.append('o')\n",
        "stop_words.append('de')\n",
        "stop_words.append('com')\n",
        "\n",
        "stop_lambda = lambda x: [y for y in x if y not in stop_words]\n",
        "df2['tokens_stop'] = df2.tokens.apply(stop_lambda)\n",
        "df2.head()"
      ],
      "metadata": {
        "colab": {
          "base_uri": "https://localhost:8080/",
          "height": 371
        },
        "id": "KyPfLDIaXRS1",
        "outputId": "55538eef-4e46-43d2-b35d-c56c1a3af396"
      },
      "execution_count": 32,
      "outputs": [
        {
          "output_type": "stream",
          "name": "stderr",
          "text": [
            "[nltk_data] Downloading package stopwords to /root/nltk_data...\n",
            "[nltk_data]   Unzipping corpora/stopwords.zip.\n"
          ]
        },
        {
          "output_type": "execute_result",
          "data": {
            "text/plain": [
              "                    ID                                               text  \\\n",
              "0  1637984794729488386  orgulho de completar mais um ano em furnas    ...   \n",
              "1  1637984618568728576  estatais perderam r    bilhões em valor de mer...   \n",
              "2  1637984374401519616  tcu recomenda que governo avalie possibilidade...   \n",
              "3  1637984038328717312  lula diz que vai pedir revisão do contrato de ...   \n",
              "4  1637983832660926465  eletrobras anuncia processo seletivo para   va...   \n",
              "\n",
              "                                              tokens  Pontuacao2   rotulos  \\\n",
              "0  [orgulho, de, completar, mais, um, ano, em, fu...      0.4767  Positivo   \n",
              "1  [estatais, perderam, r, bilhões, em, valor, de...     -0.3182  Negativo   \n",
              "2  [tcu, recomenda, que, governo, avalie, possibi...     -0.6249  Negativo   \n",
              "3  [lula, diz, que, vai, pedir, revisão, do, cont...      0.4404  Positivo   \n",
              "4  [eletrobras, anuncia, processo, seletivo, para...     -0.6486  Negativo   \n",
              "\n",
              "                                         tokens_stop  \n",
              "0  [orgulho, completar, ano, furnas, eletrobras, ...  \n",
              "1  [estatais, perderam, r, bilhões, valor, mercad...  \n",
              "2  [tcu, recomenda, governo, avalie, possibilidad...  \n",
              "3  [lula, diz, vai, pedir, revisão, contrato, pri...  \n",
              "4  [eletrobras, anuncia, processo, seletivo, vaga...  "
            ],
            "text/html": [
              "\n",
              "  <div id=\"df-1288f0eb-86fa-4616-b520-3dcca6f33228\">\n",
              "    <div class=\"colab-df-container\">\n",
              "      <div>\n",
              "<style scoped>\n",
              "    .dataframe tbody tr th:only-of-type {\n",
              "        vertical-align: middle;\n",
              "    }\n",
              "\n",
              "    .dataframe tbody tr th {\n",
              "        vertical-align: top;\n",
              "    }\n",
              "\n",
              "    .dataframe thead th {\n",
              "        text-align: right;\n",
              "    }\n",
              "</style>\n",
              "<table border=\"1\" class=\"dataframe\">\n",
              "  <thead>\n",
              "    <tr style=\"text-align: right;\">\n",
              "      <th></th>\n",
              "      <th>ID</th>\n",
              "      <th>text</th>\n",
              "      <th>tokens</th>\n",
              "      <th>Pontuacao2</th>\n",
              "      <th>rotulos</th>\n",
              "      <th>tokens_stop</th>\n",
              "    </tr>\n",
              "  </thead>\n",
              "  <tbody>\n",
              "    <tr>\n",
              "      <th>0</th>\n",
              "      <td>1637984794729488386</td>\n",
              "      <td>orgulho de completar mais um ano em furnas    ...</td>\n",
              "      <td>[orgulho, de, completar, mais, um, ano, em, fu...</td>\n",
              "      <td>0.4767</td>\n",
              "      <td>Positivo</td>\n",
              "      <td>[orgulho, completar, ano, furnas, eletrobras, ...</td>\n",
              "    </tr>\n",
              "    <tr>\n",
              "      <th>1</th>\n",
              "      <td>1637984618568728576</td>\n",
              "      <td>estatais perderam r    bilhões em valor de mer...</td>\n",
              "      <td>[estatais, perderam, r, bilhões, em, valor, de...</td>\n",
              "      <td>-0.3182</td>\n",
              "      <td>Negativo</td>\n",
              "      <td>[estatais, perderam, r, bilhões, valor, mercad...</td>\n",
              "    </tr>\n",
              "    <tr>\n",
              "      <th>2</th>\n",
              "      <td>1637984374401519616</td>\n",
              "      <td>tcu recomenda que governo avalie possibilidade...</td>\n",
              "      <td>[tcu, recomenda, que, governo, avalie, possibi...</td>\n",
              "      <td>-0.6249</td>\n",
              "      <td>Negativo</td>\n",
              "      <td>[tcu, recomenda, governo, avalie, possibilidad...</td>\n",
              "    </tr>\n",
              "    <tr>\n",
              "      <th>3</th>\n",
              "      <td>1637984038328717312</td>\n",
              "      <td>lula diz que vai pedir revisão do contrato de ...</td>\n",
              "      <td>[lula, diz, que, vai, pedir, revisão, do, cont...</td>\n",
              "      <td>0.4404</td>\n",
              "      <td>Positivo</td>\n",
              "      <td>[lula, diz, vai, pedir, revisão, contrato, pri...</td>\n",
              "    </tr>\n",
              "    <tr>\n",
              "      <th>4</th>\n",
              "      <td>1637983832660926465</td>\n",
              "      <td>eletrobras anuncia processo seletivo para   va...</td>\n",
              "      <td>[eletrobras, anuncia, processo, seletivo, para...</td>\n",
              "      <td>-0.6486</td>\n",
              "      <td>Negativo</td>\n",
              "      <td>[eletrobras, anuncia, processo, seletivo, vaga...</td>\n",
              "    </tr>\n",
              "  </tbody>\n",
              "</table>\n",
              "</div>\n",
              "      <button class=\"colab-df-convert\" onclick=\"convertToInteractive('df-1288f0eb-86fa-4616-b520-3dcca6f33228')\"\n",
              "              title=\"Convert this dataframe to an interactive table.\"\n",
              "              style=\"display:none;\">\n",
              "        \n",
              "  <svg xmlns=\"http://www.w3.org/2000/svg\" height=\"24px\"viewBox=\"0 0 24 24\"\n",
              "       width=\"24px\">\n",
              "    <path d=\"M0 0h24v24H0V0z\" fill=\"none\"/>\n",
              "    <path d=\"M18.56 5.44l.94 2.06.94-2.06 2.06-.94-2.06-.94-.94-2.06-.94 2.06-2.06.94zm-11 1L8.5 8.5l.94-2.06 2.06-.94-2.06-.94L8.5 2.5l-.94 2.06-2.06.94zm10 10l.94 2.06.94-2.06 2.06-.94-2.06-.94-.94-2.06-.94 2.06-2.06.94z\"/><path d=\"M17.41 7.96l-1.37-1.37c-.4-.4-.92-.59-1.43-.59-.52 0-1.04.2-1.43.59L10.3 9.45l-7.72 7.72c-.78.78-.78 2.05 0 2.83L4 21.41c.39.39.9.59 1.41.59.51 0 1.02-.2 1.41-.59l7.78-7.78 2.81-2.81c.8-.78.8-2.07 0-2.86zM5.41 20L4 18.59l7.72-7.72 1.47 1.35L5.41 20z\"/>\n",
              "  </svg>\n",
              "      </button>\n",
              "      \n",
              "  <style>\n",
              "    .colab-df-container {\n",
              "      display:flex;\n",
              "      flex-wrap:wrap;\n",
              "      gap: 12px;\n",
              "    }\n",
              "\n",
              "    .colab-df-convert {\n",
              "      background-color: #E8F0FE;\n",
              "      border: none;\n",
              "      border-radius: 50%;\n",
              "      cursor: pointer;\n",
              "      display: none;\n",
              "      fill: #1967D2;\n",
              "      height: 32px;\n",
              "      padding: 0 0 0 0;\n",
              "      width: 32px;\n",
              "    }\n",
              "\n",
              "    .colab-df-convert:hover {\n",
              "      background-color: #E2EBFA;\n",
              "      box-shadow: 0px 1px 2px rgba(60, 64, 67, 0.3), 0px 1px 3px 1px rgba(60, 64, 67, 0.15);\n",
              "      fill: #174EA6;\n",
              "    }\n",
              "\n",
              "    [theme=dark] .colab-df-convert {\n",
              "      background-color: #3B4455;\n",
              "      fill: #D2E3FC;\n",
              "    }\n",
              "\n",
              "    [theme=dark] .colab-df-convert:hover {\n",
              "      background-color: #434B5C;\n",
              "      box-shadow: 0px 1px 3px 1px rgba(0, 0, 0, 0.15);\n",
              "      filter: drop-shadow(0px 1px 2px rgba(0, 0, 0, 0.3));\n",
              "      fill: #FFFFFF;\n",
              "    }\n",
              "  </style>\n",
              "\n",
              "      <script>\n",
              "        const buttonEl =\n",
              "          document.querySelector('#df-1288f0eb-86fa-4616-b520-3dcca6f33228 button.colab-df-convert');\n",
              "        buttonEl.style.display =\n",
              "          google.colab.kernel.accessAllowed ? 'block' : 'none';\n",
              "\n",
              "        async function convertToInteractive(key) {\n",
              "          const element = document.querySelector('#df-1288f0eb-86fa-4616-b520-3dcca6f33228');\n",
              "          const dataTable =\n",
              "            await google.colab.kernel.invokeFunction('convertToInteractive',\n",
              "                                                     [key], {});\n",
              "          if (!dataTable) return;\n",
              "\n",
              "          const docLinkHtml = 'Like what you see? Visit the ' +\n",
              "            '<a target=\"_blank\" href=https://colab.research.google.com/notebooks/data_table.ipynb>data table notebook</a>'\n",
              "            + ' to learn more about interactive tables.';\n",
              "          element.innerHTML = '';\n",
              "          dataTable['output_type'] = 'display_data';\n",
              "          await google.colab.output.renderOutput(dataTable, element);\n",
              "          const docLink = document.createElement('div');\n",
              "          docLink.innerHTML = docLinkHtml;\n",
              "          element.appendChild(docLink);\n",
              "        }\n",
              "      </script>\n",
              "    </div>\n",
              "  </div>\n",
              "  "
            ]
          },
          "metadata": {},
          "execution_count": 32
        }
      ]
    },
    {
      "cell_type": "code",
      "source": [
        "word_list_stop = sum(df2.tokens_stop.tolist(), [])"
      ],
      "metadata": {
        "id": "al8WcAUuSI78"
      },
      "execution_count": 33,
      "outputs": []
    },
    {
      "cell_type": "code",
      "source": [
        "word_list_stop[:10]"
      ],
      "metadata": {
        "colab": {
          "base_uri": "https://localhost:8080/"
        },
        "id": "eKzD7AS0SSGd",
        "outputId": "d260e89f-492a-4e44-b036-30110ef4e9ca"
      },
      "execution_count": 34,
      "outputs": [
        {
          "output_type": "execute_result",
          "data": {
            "text/plain": [
              "['orgulho',\n",
              " 'completar',\n",
              " 'ano',\n",
              " 'furnas',\n",
              " 'eletrobras',\n",
              " 'publica',\n",
              " 'proud',\n",
              " 'estatais',\n",
              " 'perderam',\n",
              " 'r']"
            ]
          },
          "metadata": {},
          "execution_count": 34
        }
      ]
    },
    {
      "cell_type": "code",
      "source": [
        "# partes de speech tagging\n",
        "from nltk.tag import pos_tag\n",
        "nltk.download('averaged_perceptron_tagger')\n",
        "pos_lambda = lambda x: nltk.pos_tag(x)\n",
        "df2['tokens_pos'] = (df2.tokens_stop.apply(pos_lambda))\n",
        "df2.head()"
      ],
      "metadata": {
        "colab": {
          "base_uri": "https://localhost:8080/",
          "height": 389
        },
        "id": "-5E4OKoxXmER",
        "outputId": "5c1762f7-39a6-4148-b3eb-7bb9c0a6be7d"
      },
      "execution_count": 35,
      "outputs": [
        {
          "output_type": "stream",
          "name": "stderr",
          "text": [
            "[nltk_data] Downloading package averaged_perceptron_tagger to\n",
            "[nltk_data]     /root/nltk_data...\n",
            "[nltk_data]   Unzipping taggers/averaged_perceptron_tagger.zip.\n"
          ]
        },
        {
          "output_type": "execute_result",
          "data": {
            "text/plain": [
              "                    ID                                               text  \\\n",
              "0  1637984794729488386  orgulho de completar mais um ano em furnas    ...   \n",
              "1  1637984618568728576  estatais perderam r    bilhões em valor de mer...   \n",
              "2  1637984374401519616  tcu recomenda que governo avalie possibilidade...   \n",
              "3  1637984038328717312  lula diz que vai pedir revisão do contrato de ...   \n",
              "4  1637983832660926465  eletrobras anuncia processo seletivo para   va...   \n",
              "\n",
              "                                              tokens  Pontuacao2   rotulos  \\\n",
              "0  [orgulho, de, completar, mais, um, ano, em, fu...      0.4767  Positivo   \n",
              "1  [estatais, perderam, r, bilhões, em, valor, de...     -0.3182  Negativo   \n",
              "2  [tcu, recomenda, que, governo, avalie, possibi...     -0.6249  Negativo   \n",
              "3  [lula, diz, que, vai, pedir, revisão, do, cont...      0.4404  Positivo   \n",
              "4  [eletrobras, anuncia, processo, seletivo, para...     -0.6486  Negativo   \n",
              "\n",
              "                                         tokens_stop  \\\n",
              "0  [orgulho, completar, ano, furnas, eletrobras, ...   \n",
              "1  [estatais, perderam, r, bilhões, valor, mercad...   \n",
              "2  [tcu, recomenda, governo, avalie, possibilidad...   \n",
              "3  [lula, diz, vai, pedir, revisão, contrato, pri...   \n",
              "4  [eletrobras, anuncia, processo, seletivo, vaga...   \n",
              "\n",
              "                                          tokens_pos  \n",
              "0  [(orgulho, JJ), (completar, NN), (ano, NN), (f...  \n",
              "1  [(estatais, NN), (perderam, NN), (r, NN), (bil...  \n",
              "2  [(tcu, NN), (recomenda, NN), (governo, NN), (a...  \n",
              "3  [(lula, NN), (diz, NN), (vai, NN), (pedir, NN)...  \n",
              "4  [(eletrobras, NNS), (anuncia, VBP), (processo,...  "
            ],
            "text/html": [
              "\n",
              "  <div id=\"df-75741424-2f6f-4a23-94fe-64c8ee3cc910\">\n",
              "    <div class=\"colab-df-container\">\n",
              "      <div>\n",
              "<style scoped>\n",
              "    .dataframe tbody tr th:only-of-type {\n",
              "        vertical-align: middle;\n",
              "    }\n",
              "\n",
              "    .dataframe tbody tr th {\n",
              "        vertical-align: top;\n",
              "    }\n",
              "\n",
              "    .dataframe thead th {\n",
              "        text-align: right;\n",
              "    }\n",
              "</style>\n",
              "<table border=\"1\" class=\"dataframe\">\n",
              "  <thead>\n",
              "    <tr style=\"text-align: right;\">\n",
              "      <th></th>\n",
              "      <th>ID</th>\n",
              "      <th>text</th>\n",
              "      <th>tokens</th>\n",
              "      <th>Pontuacao2</th>\n",
              "      <th>rotulos</th>\n",
              "      <th>tokens_stop</th>\n",
              "      <th>tokens_pos</th>\n",
              "    </tr>\n",
              "  </thead>\n",
              "  <tbody>\n",
              "    <tr>\n",
              "      <th>0</th>\n",
              "      <td>1637984794729488386</td>\n",
              "      <td>orgulho de completar mais um ano em furnas    ...</td>\n",
              "      <td>[orgulho, de, completar, mais, um, ano, em, fu...</td>\n",
              "      <td>0.4767</td>\n",
              "      <td>Positivo</td>\n",
              "      <td>[orgulho, completar, ano, furnas, eletrobras, ...</td>\n",
              "      <td>[(orgulho, JJ), (completar, NN), (ano, NN), (f...</td>\n",
              "    </tr>\n",
              "    <tr>\n",
              "      <th>1</th>\n",
              "      <td>1637984618568728576</td>\n",
              "      <td>estatais perderam r    bilhões em valor de mer...</td>\n",
              "      <td>[estatais, perderam, r, bilhões, em, valor, de...</td>\n",
              "      <td>-0.3182</td>\n",
              "      <td>Negativo</td>\n",
              "      <td>[estatais, perderam, r, bilhões, valor, mercad...</td>\n",
              "      <td>[(estatais, NN), (perderam, NN), (r, NN), (bil...</td>\n",
              "    </tr>\n",
              "    <tr>\n",
              "      <th>2</th>\n",
              "      <td>1637984374401519616</td>\n",
              "      <td>tcu recomenda que governo avalie possibilidade...</td>\n",
              "      <td>[tcu, recomenda, que, governo, avalie, possibi...</td>\n",
              "      <td>-0.6249</td>\n",
              "      <td>Negativo</td>\n",
              "      <td>[tcu, recomenda, governo, avalie, possibilidad...</td>\n",
              "      <td>[(tcu, NN), (recomenda, NN), (governo, NN), (a...</td>\n",
              "    </tr>\n",
              "    <tr>\n",
              "      <th>3</th>\n",
              "      <td>1637984038328717312</td>\n",
              "      <td>lula diz que vai pedir revisão do contrato de ...</td>\n",
              "      <td>[lula, diz, que, vai, pedir, revisão, do, cont...</td>\n",
              "      <td>0.4404</td>\n",
              "      <td>Positivo</td>\n",
              "      <td>[lula, diz, vai, pedir, revisão, contrato, pri...</td>\n",
              "      <td>[(lula, NN), (diz, NN), (vai, NN), (pedir, NN)...</td>\n",
              "    </tr>\n",
              "    <tr>\n",
              "      <th>4</th>\n",
              "      <td>1637983832660926465</td>\n",
              "      <td>eletrobras anuncia processo seletivo para   va...</td>\n",
              "      <td>[eletrobras, anuncia, processo, seletivo, para...</td>\n",
              "      <td>-0.6486</td>\n",
              "      <td>Negativo</td>\n",
              "      <td>[eletrobras, anuncia, processo, seletivo, vaga...</td>\n",
              "      <td>[(eletrobras, NNS), (anuncia, VBP), (processo,...</td>\n",
              "    </tr>\n",
              "  </tbody>\n",
              "</table>\n",
              "</div>\n",
              "      <button class=\"colab-df-convert\" onclick=\"convertToInteractive('df-75741424-2f6f-4a23-94fe-64c8ee3cc910')\"\n",
              "              title=\"Convert this dataframe to an interactive table.\"\n",
              "              style=\"display:none;\">\n",
              "        \n",
              "  <svg xmlns=\"http://www.w3.org/2000/svg\" height=\"24px\"viewBox=\"0 0 24 24\"\n",
              "       width=\"24px\">\n",
              "    <path d=\"M0 0h24v24H0V0z\" fill=\"none\"/>\n",
              "    <path d=\"M18.56 5.44l.94 2.06.94-2.06 2.06-.94-2.06-.94-.94-2.06-.94 2.06-2.06.94zm-11 1L8.5 8.5l.94-2.06 2.06-.94-2.06-.94L8.5 2.5l-.94 2.06-2.06.94zm10 10l.94 2.06.94-2.06 2.06-.94-2.06-.94-.94-2.06-.94 2.06-2.06.94z\"/><path d=\"M17.41 7.96l-1.37-1.37c-.4-.4-.92-.59-1.43-.59-.52 0-1.04.2-1.43.59L10.3 9.45l-7.72 7.72c-.78.78-.78 2.05 0 2.83L4 21.41c.39.39.9.59 1.41.59.51 0 1.02-.2 1.41-.59l7.78-7.78 2.81-2.81c.8-.78.8-2.07 0-2.86zM5.41 20L4 18.59l7.72-7.72 1.47 1.35L5.41 20z\"/>\n",
              "  </svg>\n",
              "      </button>\n",
              "      \n",
              "  <style>\n",
              "    .colab-df-container {\n",
              "      display:flex;\n",
              "      flex-wrap:wrap;\n",
              "      gap: 12px;\n",
              "    }\n",
              "\n",
              "    .colab-df-convert {\n",
              "      background-color: #E8F0FE;\n",
              "      border: none;\n",
              "      border-radius: 50%;\n",
              "      cursor: pointer;\n",
              "      display: none;\n",
              "      fill: #1967D2;\n",
              "      height: 32px;\n",
              "      padding: 0 0 0 0;\n",
              "      width: 32px;\n",
              "    }\n",
              "\n",
              "    .colab-df-convert:hover {\n",
              "      background-color: #E2EBFA;\n",
              "      box-shadow: 0px 1px 2px rgba(60, 64, 67, 0.3), 0px 1px 3px 1px rgba(60, 64, 67, 0.15);\n",
              "      fill: #174EA6;\n",
              "    }\n",
              "\n",
              "    [theme=dark] .colab-df-convert {\n",
              "      background-color: #3B4455;\n",
              "      fill: #D2E3FC;\n",
              "    }\n",
              "\n",
              "    [theme=dark] .colab-df-convert:hover {\n",
              "      background-color: #434B5C;\n",
              "      box-shadow: 0px 1px 3px 1px rgba(0, 0, 0, 0.15);\n",
              "      filter: drop-shadow(0px 1px 2px rgba(0, 0, 0, 0.3));\n",
              "      fill: #FFFFFF;\n",
              "    }\n",
              "  </style>\n",
              "\n",
              "      <script>\n",
              "        const buttonEl =\n",
              "          document.querySelector('#df-75741424-2f6f-4a23-94fe-64c8ee3cc910 button.colab-df-convert');\n",
              "        buttonEl.style.display =\n",
              "          google.colab.kernel.accessAllowed ? 'block' : 'none';\n",
              "\n",
              "        async function convertToInteractive(key) {\n",
              "          const element = document.querySelector('#df-75741424-2f6f-4a23-94fe-64c8ee3cc910');\n",
              "          const dataTable =\n",
              "            await google.colab.kernel.invokeFunction('convertToInteractive',\n",
              "                                                     [key], {});\n",
              "          if (!dataTable) return;\n",
              "\n",
              "          const docLinkHtml = 'Like what you see? Visit the ' +\n",
              "            '<a target=\"_blank\" href=https://colab.research.google.com/notebooks/data_table.ipynb>data table notebook</a>'\n",
              "            + ' to learn more about interactive tables.';\n",
              "          element.innerHTML = '';\n",
              "          dataTable['output_type'] = 'display_data';\n",
              "          await google.colab.output.renderOutput(dataTable, element);\n",
              "          const docLink = document.createElement('div');\n",
              "          docLink.innerHTML = docLinkHtml;\n",
              "          element.appendChild(docLink);\n",
              "        }\n",
              "      </script>\n",
              "    </div>\n",
              "  </div>\n",
              "  "
            ]
          },
          "metadata": {},
          "execution_count": 35
        }
      ]
    },
    {
      "cell_type": "code",
      "source": [
        "from collections import Counter\n",
        "\n",
        "# Converte a lista em um dicionário com contagem de valores (usando o stop)\n",
        "word_counts_stop = Counter(word_list_stop)\n",
        "a = word_counts_stop\n",
        "\n",
        "# Inverta a chave / valores no dicionário para classificar\n",
        "word_counts_stop = list(zip(word_counts_stop.values(), word_counts_stop.keys()))\n",
        "\n",
        "# Classifique a lista por contagem\n",
        "word_counts_stop = sorted(word_counts_stop, reverse=True)\n",
        "\n",
        "# Imprime as 10 palavras mais comuns\n",
        "word_counts_stop[:10]"
      ],
      "metadata": {
        "colab": {
          "base_uri": "https://localhost:8080/"
        },
        "id": "CrBkYBfwYgrx",
        "outputId": "747ecfe8-0e78-4e07-a2af-c85bcecc610f"
      },
      "execution_count": 36,
      "outputs": [
        {
          "output_type": "execute_result",
          "data": {
            "text/plain": [
              "[(1711, 'eletrobras'),\n",
              " (1139, 'brasil'),\n",
              " (1010, 'itaipu'),\n",
              " (984, 'melhornoticia'),\n",
              " (983, 'trabalhou'),\n",
              " (976, '🇧🇷'),\n",
              " (972, 'socióloga'),\n",
              " (969, 'janja'),\n",
              " (968, 'professora'),\n",
              " (964, 'universitária')]"
            ]
          },
          "metadata": {},
          "execution_count": 36
        }
      ]
    },
    {
      "cell_type": "markdown",
      "source": [
        "Nuvem de Palavras "
      ],
      "metadata": {
        "id": "oSJl2qW8XxOp"
      }
    },
    {
      "cell_type": "code",
      "source": [
        "text = word_list_stop\n",
        "wordcloud = WordCloud(width=1600, height=800, max_font_size=200).fit_words(a)\n",
        "# wordcloud = WordCloud(width=1600, height=800, max_font_size=200).generate(text)\n",
        "plt.figure(figsize=(12,10))\n",
        "plt.imshow(wordcloud, interpolation='bilinear')\n",
        "plt.axis(\"off\")\n",
        "plt.show()"
      ],
      "metadata": {
        "colab": {
          "base_uri": "https://localhost:8080/",
          "height": 366
        },
        "id": "I4sWIPxVY6yU",
        "outputId": "0e0429ba-3a31-483c-f236-790ee950cfa9"
      },
      "execution_count": 37,
      "outputs": [
        {
          "output_type": "display_data",
          "data": {
            "text/plain": [
              "<Figure size 864x720 with 1 Axes>"
            ],
            "image/png": "[encoded data removed]"
          },
          "metadata": {
            "needs_background": "light"
          }
        }
      ]
    },
    {
      "cell_type": "markdown",
      "source": [
        "Extração de dados em um excel"
      ],
      "metadata": {
        "id": "eu8-gS7lX2vB"
      }
    },
    {
      "cell_type": "code",
      "source": [
        "file_name = 'Basededados_twitter_eletrobras.xlsx'\n",
        "df2.to_excel(file_name)"
      ],
      "metadata": {
        "id": "X8eRIb3hZ7zM"
      },
      "execution_count": 38,
      "outputs": []
    },
    {
      "cell_type": "markdown",
      "source": [
        "# Modelagem"
      ],
      "metadata": {
        "id": "Eqm8RAWaX9t5"
      }
    },
    {
      "cell_type": "code",
      "source": [
        "comentarios = df2[\"text\"].values\n",
        "comentarios"
      ],
      "metadata": {
        "colab": {
          "base_uri": "https://localhost:8080/"
        },
        "id": "uibGuxDhYJrQ",
        "outputId": "03c939c1-9188-4159-ae6c-eab72865fb11"
      },
      "execution_count": 39,
      "outputs": [
        {
          "output_type": "execute_result",
          "data": {
            "text/plain": [
              "array(['orgulho de completar mais um ano em furnas    eletrobras  publica  proud',\n",
              "       'estatais perderam r    bilhões em valor de mercado desde as eleições  mas ibovespa acumula alta  inclusive perdas na eletrobrás  lost',\n",
              "       'tcu recomenda que governo avalie possibilidade de não contratar térmicas impostas por lei da eletrobras\\n  worst',\n",
              "       ...,\n",
              "       'rt  ivanvalente  a eletrobras produz um terço da energia elétrica do brasil e é responsável por    da distribuição de energia  foi privati…',\n",
              "       'rt  a melhornoticia  🇧🇷 brasil \\njanja é socióloga  já foi professora universitária  já trabalhou na itaipu e na eletrobras  e a micheque  t…',\n",
              "       'rt  a melhornoticia  🇧🇷 brasil \\njanja é socióloga  já foi professora universitária  já trabalhou na itaipu e na eletrobras  e a micheque  t…'],\n",
              "      dtype=object)"
            ]
          },
          "metadata": {},
          "execution_count": 39
        }
      ]
    },
    {
      "cell_type": "code",
      "source": [
        "classes = df2[\"rotulos\"].values\n",
        "classes"
      ],
      "metadata": {
        "colab": {
          "base_uri": "https://localhost:8080/"
        },
        "id": "SLyTl_0cYY9z",
        "outputId": "a3d1f362-3ae5-4ae3-8147-f59797aeba49"
      },
      "execution_count": 40,
      "outputs": [
        {
          "output_type": "execute_result",
          "data": {
            "text/plain": [
              "array(['Positivo', 'Negativo', 'Negativo', ..., 'Neutro', 'Neutro',\n",
              "       'Neutro'], dtype=object)"
            ]
          },
          "metadata": {},
          "execution_count": 40
        }
      ]
    },
    {
      "cell_type": "markdown",
      "source": [
        "Multinomial"
      ],
      "metadata": {
        "id": "t8SXOPvkYNMv"
      }
    },
    {
      "cell_type": "code",
      "source": [
        "vectorizer = CountVectorizer(analyzer = \"word\")\n",
        "freq_comentarios = vectorizer.fit_transform(comentarios)\n",
        "modelo = MultinomialNB()\n",
        "modelo.fit(freq_comentarios, classes)\n",
        "\n"
      ],
      "metadata": {
        "colab": {
          "base_uri": "https://localhost:8080/",
          "height": 74
        },
        "id": "CslubVjQYsK8",
        "outputId": "ba30d0e7-292a-4ff4-cb60-3cd46e33c9c0"
      },
      "execution_count": 41,
      "outputs": [
        {
          "output_type": "execute_result",
          "data": {
            "text/plain": [
              "MultinomialNB()"
            ],
            "text/html": [
              "<style>#sk-container-id-1 {color: black;background-color: white;}#sk-container-id-1 pre{padding: 0;}#sk-container-id-1 div.sk-toggleable {background-color: white;}#sk-container-id-1 label.sk-toggleable__label {cursor: pointer;display: block;width: 100%;margin-bottom: 0;padding: 0.3em;box-sizing: border-box;text-align: center;}#sk-container-id-1 label.sk-toggleable__label-arrow:before {content: \"▸\";float: left;margin-right: 0.25em;color: #696969;}#sk-container-id-1 label.sk-toggleable__label-arrow:hover:before {color: black;}#sk-container-id-1 div.sk-estimator:hover label.sk-toggleable__label-arrow:before {color: black;}#sk-container-id-1 div.sk-toggleable__content {max-height: 0;max-width: 0;overflow: hidden;text-align: left;background-color: #f0f8ff;}#sk-container-id-1 div.sk-toggleable__content pre {margin: 0.2em;color: black;border-radius: 0.25em;background-color: #f0f8ff;}#sk-container-id-1 input.sk-toggleable__control:checked~div.sk-toggleable__content {max-height: 200px;max-width: 100%;overflow: auto;}#sk-container-id-1 input.sk-toggleable__control:checked~label.sk-toggleable__label-arrow:before {content: \"▾\";}#sk-container-id-1 div.sk-estimator input.sk-toggleable__control:checked~label.sk-toggleable__label {background-color: #d4ebff;}#sk-container-id-1 div.sk-label input.sk-toggleable__control:checked~label.sk-toggleable__label {background-color: #d4ebff;}#sk-container-id-1 input.sk-hidden--visually {border: 0;clip: rect(1px 1px 1px 1px);clip: rect(1px, 1px, 1px, 1px);height: 1px;margin: -1px;overflow: hidden;padding: 0;position: absolute;width: 1px;}#sk-container-id-1 div.sk-estimator {font-family: monospace;background-color: #f0f8ff;border: 1px dotted black;border-radius: 0.25em;box-sizing: border-box;margin-bottom: 0.5em;}#sk-container-id-1 div.sk-estimator:hover {background-color: #d4ebff;}#sk-container-id-1 div.sk-parallel-item::after {content: \"\";width: 100%;border-bottom: 1px solid gray;flex-grow: 1;}#sk-container-id-1 div.sk-label:hover label.sk-toggleable__label {background-color: #d4ebff;}#sk-container-id-1 div.sk-serial::before {content: \"\";position: absolute;border-left: 1px solid gray;box-sizing: border-box;top: 0;bottom: 0;left: 50%;z-index: 0;}#sk-container-id-1 div.sk-serial {display: flex;flex-direction: column;align-items: center;background-color: white;padding-right: 0.2em;padding-left: 0.2em;position: relative;}#sk-container-id-1 div.sk-item {position: relative;z-index: 1;}#sk-container-id-1 div.sk-parallel {display: flex;align-items: stretch;justify-content: center;background-color: white;position: relative;}#sk-container-id-1 div.sk-item::before, #sk-container-id-1 div.sk-parallel-item::before {content: \"\";position: absolute;border-left: 1px solid gray;box-sizing: border-box;top: 0;bottom: 0;left: 50%;z-index: -1;}#sk-container-id-1 div.sk-parallel-item {display: flex;flex-direction: column;z-index: 1;position: relative;background-color: white;}#sk-container-id-1 div.sk-parallel-item:first-child::after {align-self: flex-end;width: 50%;}#sk-container-id-1 div.sk-parallel-item:last-child::after {align-self: flex-start;width: 50%;}#sk-container-id-1 div.sk-parallel-item:only-child::after {width: 0;}#sk-container-id-1 div.sk-dashed-wrapped {border: 1px dashed gray;margin: 0 0.4em 0.5em 0.4em;box-sizing: border-box;padding-bottom: 0.4em;background-color: white;}#sk-container-id-1 div.sk-label label {font-family: monospace;font-weight: bold;display: inline-block;line-height: 1.2em;}#sk-container-id-1 div.sk-label-container {text-align: center;}#sk-container-id-1 div.sk-container {/* jupyter's `normalize.less` sets `[hidden] { display: none; }` but bootstrap.min.css set `[hidden] { display: none !important; }` so we also need the `!important` here to be able to override the default hidden behavior on the sphinx rendered scikit-learn.org. See: https://github.com/scikit-learn/scikit-learn/issues/21755 */display: inline-block !important;position: relative;}#sk-container-id-1 div.sk-text-repr-fallback {display: none;}</style><div id=\"sk-container-id-1\" class=\"sk-top-container\"><div class=\"sk-text-repr-fallback\"><pre>MultinomialNB()</pre><b>In a Jupyter environment, please rerun this cell to show the HTML representation or trust the notebook. <br />On GitHub, the HTML representation is unable to render, please try loading this page with nbviewer.org.</b></div><div class=\"sk-container\" hidden><div class=\"sk-item\"><div class=\"sk-estimator sk-toggleable\"><input class=\"sk-toggleable__control sk-hidden--visually\" id=\"sk-estimator-id-1\" type=\"checkbox\" checked><label for=\"sk-estimator-id-1\" class=\"sk-toggleable__label sk-toggleable__label-arrow\">MultinomialNB</label><div class=\"sk-toggleable__content\"><pre>MultinomialNB()</pre></div></div></div></div></div>"
            ]
          },
          "metadata": {},
          "execution_count": 41
        }
      ]
    },
    {
      "cell_type": "code",
      "source": [
        "resultados = cross_val_predict(modelo, freq_comentarios, classes, cv = 10)\n",
        "resultados"
      ],
      "metadata": {
        "colab": {
          "base_uri": "https://localhost:8080/"
        },
        "id": "tuzSg1U9aKdC",
        "outputId": "28e09a87-4ba7-4308-c363-bb112d2b4723"
      },
      "execution_count": 43,
      "outputs": [
        {
          "output_type": "execute_result",
          "data": {
            "text/plain": [
              "array(['Negativo', 'Negativo', 'Negativo', ..., 'Neutro', 'Neutro',\n",
              "       'Neutro'], dtype='<U8')"
            ]
          },
          "metadata": {},
          "execution_count": 43
        }
      ]
    },
    {
      "cell_type": "code",
      "source": [
        "metrics.accuracy_score(classes, resultados)"
      ],
      "metadata": {
        "colab": {
          "base_uri": "https://localhost:8080/"
        },
        "id": "lNMvEfYjaY7-",
        "outputId": "142e8000-0b03-442b-d5dd-e8991812210a"
      },
      "execution_count": 44,
      "outputs": [
        {
          "output_type": "execute_result",
          "data": {
            "text/plain": [
              "0.9065"
            ]
          },
          "metadata": {},
          "execution_count": 44
        }
      ]
    },
    {
      "cell_type": "code",
      "source": [
        "##sentimentos = [\"positivo\",\"neutro\",\"negativo\"]"
      ],
      "metadata": {
        "id": "6KUjRLa9c63S"
      },
      "execution_count": 45,
      "outputs": []
    },
    {
      "cell_type": "code",
      "source": [
        "print(metrics.classification_report(classes, resultados))"
      ],
      "metadata": {
        "colab": {
          "base_uri": "https://localhost:8080/"
        },
        "id": "IONl2u0BakEB",
        "outputId": "a058c953-6284-4e52-c681-96be8c5c1e2f"
      },
      "execution_count": 46,
      "outputs": [
        {
          "output_type": "stream",
          "name": "stdout",
          "text": [
            "              precision    recall  f1-score   support\n",
            "\n",
            "    Negativo       0.32      0.98      0.49        87\n",
            "      Neutro       1.00      0.91      0.95      1903\n",
            "    Positivo       0.29      0.20      0.24        10\n",
            "\n",
            "    accuracy                           0.91      2000\n",
            "   macro avg       0.54      0.69      0.56      2000\n",
            "weighted avg       0.96      0.91      0.93      2000\n",
            "\n"
          ]
        }
      ]
    },
    {
      "cell_type": "code",
      "source": [
        "print(pd.crosstab(classes, resultados, rownames = [\"Real\"], colnames=[\"Predito\"], margins=True))"
      ],
      "metadata": {
        "colab": {
          "base_uri": "https://localhost:8080/"
        },
        "id": "xuEeC258bWel",
        "outputId": "e12d167d-12d9-43d3-b71c-dd487e34e1cc"
      },
      "execution_count": 47,
      "outputs": [
        {
          "output_type": "stream",
          "name": "stdout",
          "text": [
            "Predito   Negativo  Neutro  Positivo   All\n",
            "Real                                      \n",
            "Negativo        85       2         0    87\n",
            "Neutro         172    1726         5  1903\n",
            "Positivo         6       2         2    10\n",
            "All            263    1730         7  2000\n"
          ]
        }
      ]
    },
    {
      "cell_type": "markdown",
      "source": [
        "Multinomial usando Bigramas"
      ],
      "metadata": {
        "id": "aHktpl4GYSma"
      }
    },
    {
      "cell_type": "code",
      "source": [
        "#usando melhoria com Bigrams\n",
        "vectorizer = CountVectorizer(ngram_range = (1, 2))\n",
        "freq_comentarios = vectorizer.fit_transform(comentarios)\n",
        "\n",
        "modelo = MultinomialNB()\n",
        "modelo.fit(freq_comentarios, classes)"
      ],
      "metadata": {
        "colab": {
          "base_uri": "https://localhost:8080/",
          "height": 74
        },
        "id": "yJQcuobmb4ZQ",
        "outputId": "8154c829-64a8-4d27-9b7a-b405af17f44a"
      },
      "execution_count": 48,
      "outputs": [
        {
          "output_type": "execute_result",
          "data": {
            "text/plain": [
              "MultinomialNB()"
            ],
            "text/html": [
              "<style>#sk-container-id-2 {color: black;background-color: white;}#sk-container-id-2 pre{padding: 0;}#sk-container-id-2 div.sk-toggleable {background-color: white;}#sk-container-id-2 label.sk-toggleable__label {cursor: pointer;display: block;width: 100%;margin-bottom: 0;padding: 0.3em;box-sizing: border-box;text-align: center;}#sk-container-id-2 label.sk-toggleable__label-arrow:before {content: \"▸\";float: left;margin-right: 0.25em;color: #696969;}#sk-container-id-2 label.sk-toggleable__label-arrow:hover:before {color: black;}#sk-container-id-2 div.sk-estimator:hover label.sk-toggleable__label-arrow:before {color: black;}#sk-container-id-2 div.sk-toggleable__content {max-height: 0;max-width: 0;overflow: hidden;text-align: left;background-color: #f0f8ff;}#sk-container-id-2 div.sk-toggleable__content pre {margin: 0.2em;color: black;border-radius: 0.25em;background-color: #f0f8ff;}#sk-container-id-2 input.sk-toggleable__control:checked~div.sk-toggleable__content {max-height: 200px;max-width: 100%;overflow: auto;}#sk-container-id-2 input.sk-toggleable__control:checked~label.sk-toggleable__label-arrow:before {content: \"▾\";}#sk-container-id-2 div.sk-estimator input.sk-toggleable__control:checked~label.sk-toggleable__label {background-color: #d4ebff;}#sk-container-id-2 div.sk-label input.sk-toggleable__control:checked~label.sk-toggleable__label {background-color: #d4ebff;}#sk-container-id-2 input.sk-hidden--visually {border: 0;clip: rect(1px 1px 1px 1px);clip: rect(1px, 1px, 1px, 1px);height: 1px;margin: -1px;overflow: hidden;padding: 0;position: absolute;width: 1px;}#sk-container-id-2 div.sk-estimator {font-family: monospace;background-color: #f0f8ff;border: 1px dotted black;border-radius: 0.25em;box-sizing: border-box;margin-bottom: 0.5em;}#sk-container-id-2 div.sk-estimator:hover {background-color: #d4ebff;}#sk-container-id-2 div.sk-parallel-item::after {content: \"\";width: 100%;border-bottom: 1px solid gray;flex-grow: 1;}#sk-container-id-2 div.sk-label:hover label.sk-toggleable__label {background-color: #d4ebff;}#sk-container-id-2 div.sk-serial::before {content: \"\";position: absolute;border-left: 1px solid gray;box-sizing: border-box;top: 0;bottom: 0;left: 50%;z-index: 0;}#sk-container-id-2 div.sk-serial {display: flex;flex-direction: column;align-items: center;background-color: white;padding-right: 0.2em;padding-left: 0.2em;position: relative;}#sk-container-id-2 div.sk-item {position: relative;z-index: 1;}#sk-container-id-2 div.sk-parallel {display: flex;align-items: stretch;justify-content: center;background-color: white;position: relative;}#sk-container-id-2 div.sk-item::before, #sk-container-id-2 div.sk-parallel-item::before {content: \"\";position: absolute;border-left: 1px solid gray;box-sizing: border-box;top: 0;bottom: 0;left: 50%;z-index: -1;}#sk-container-id-2 div.sk-parallel-item {display: flex;flex-direction: column;z-index: 1;position: relative;background-color: white;}#sk-container-id-2 div.sk-parallel-item:first-child::after {align-self: flex-end;width: 50%;}#sk-container-id-2 div.sk-parallel-item:last-child::after {align-self: flex-start;width: 50%;}#sk-container-id-2 div.sk-parallel-item:only-child::after {width: 0;}#sk-container-id-2 div.sk-dashed-wrapped {border: 1px dashed gray;margin: 0 0.4em 0.5em 0.4em;box-sizing: border-box;padding-bottom: 0.4em;background-color: white;}#sk-container-id-2 div.sk-label label {font-family: monospace;font-weight: bold;display: inline-block;line-height: 1.2em;}#sk-container-id-2 div.sk-label-container {text-align: center;}#sk-container-id-2 div.sk-container {/* jupyter's `normalize.less` sets `[hidden] { display: none; }` but bootstrap.min.css set `[hidden] { display: none !important; }` so we also need the `!important` here to be able to override the default hidden behavior on the sphinx rendered scikit-learn.org. See: https://github.com/scikit-learn/scikit-learn/issues/21755 */display: inline-block !important;position: relative;}#sk-container-id-2 div.sk-text-repr-fallback {display: none;}</style><div id=\"sk-container-id-2\" class=\"sk-top-container\"><div class=\"sk-text-repr-fallback\"><pre>MultinomialNB()</pre><b>In a Jupyter environment, please rerun this cell to show the HTML representation or trust the notebook. <br />On GitHub, the HTML representation is unable to render, please try loading this page with nbviewer.org.</b></div><div class=\"sk-container\" hidden><div class=\"sk-item\"><div class=\"sk-estimator sk-toggleable\"><input class=\"sk-toggleable__control sk-hidden--visually\" id=\"sk-estimator-id-2\" type=\"checkbox\" checked><label for=\"sk-estimator-id-2\" class=\"sk-toggleable__label sk-toggleable__label-arrow\">MultinomialNB</label><div class=\"sk-toggleable__content\"><pre>MultinomialNB()</pre></div></div></div></div></div>"
            ]
          },
          "metadata": {},
          "execution_count": 48
        }
      ]
    },
    {
      "cell_type": "code",
      "source": [
        "resultados = cross_val_predict(modelo, freq_comentarios, classes, cv = 10)\n",
        "resultados"
      ],
      "metadata": {
        "colab": {
          "base_uri": "https://localhost:8080/"
        },
        "id": "OefoFL0Gb_8E",
        "outputId": "157a02ca-0e15-4911-d8d9-877ca26fc057"
      },
      "execution_count": 49,
      "outputs": [
        {
          "output_type": "execute_result",
          "data": {
            "text/plain": [
              "array(['Negativo', 'Positivo', 'Negativo', ..., 'Neutro', 'Neutro',\n",
              "       'Neutro'], dtype='<U8')"
            ]
          },
          "metadata": {},
          "execution_count": 49
        }
      ]
    },
    {
      "cell_type": "code",
      "source": [
        "metrics.accuracy_score(classes, resultados)"
      ],
      "metadata": {
        "colab": {
          "base_uri": "https://localhost:8080/"
        },
        "id": "ikDW8QPgcJG2",
        "outputId": "a29f6040-527d-4767-d458-8ca4b1203523"
      },
      "execution_count": 50,
      "outputs": [
        {
          "output_type": "execute_result",
          "data": {
            "text/plain": [
              "0.874"
            ]
          },
          "metadata": {},
          "execution_count": 50
        }
      ]
    },
    {
      "cell_type": "code",
      "source": [
        "print(metrics.classification_report(classes, resultados))"
      ],
      "metadata": {
        "colab": {
          "base_uri": "https://localhost:8080/"
        },
        "id": "8RVtzZGKcQRz",
        "outputId": "61f03be5-8896-4bac-b51f-dea14afc6862"
      },
      "execution_count": 51,
      "outputs": [
        {
          "output_type": "stream",
          "name": "stdout",
          "text": [
            "              precision    recall  f1-score   support\n",
            "\n",
            "    Negativo       0.27      0.92      0.42        87\n",
            "      Neutro       1.00      0.87      0.93      1903\n",
            "    Positivo       0.08      0.30      0.12        10\n",
            "\n",
            "    accuracy                           0.87      2000\n",
            "   macro avg       0.45      0.70      0.49      2000\n",
            "weighted avg       0.96      0.87      0.91      2000\n",
            "\n"
          ]
        }
      ]
    },
    {
      "cell_type": "markdown",
      "source": [
        " Modelo Randow Forest"
      ],
      "metadata": {
        "id": "E2q7ZMijeWZL"
      }
    },
    {
      "cell_type": "code",
      "source": [
        "vectorizer = CountVectorizer(analyzer = \"word\", tokenizer = None, preprocessor = None,stop_words = stop_words, max_features = 5000)"
      ],
      "metadata": {
        "id": "2h_qMjAReOID"
      },
      "execution_count": 52,
      "outputs": []
    },
    {
      "cell_type": "code",
      "source": [
        "train_data_features = vectorizer.fit_transform(comentarios)\n",
        "train_data_features"
      ],
      "metadata": {
        "colab": {
          "base_uri": "https://localhost:8080/"
        },
        "id": "Io2ctfFregu3",
        "outputId": "69b8a462-fa40-4971-911d-ed9a73df1e6a"
      },
      "execution_count": 53,
      "outputs": [
        {
          "output_type": "execute_result",
          "data": {
            "text/plain": [
              "<2000x1940 sparse matrix of type '<class 'numpy.int64'>'\n",
              "\twith 21034 stored elements in Compressed Sparse Row format>"
            ]
          },
          "metadata": {},
          "execution_count": 53
        }
      ]
    },
    {
      "cell_type": "code",
      "source": [
        "forest = RandomForestClassifier(n_estimators = 100)\n",
        "forest"
      ],
      "metadata": {
        "colab": {
          "base_uri": "https://localhost:8080/",
          "height": 74
        },
        "id": "v9q2PPMyelPd",
        "outputId": "be29919d-22ef-49ef-ca1b-e500349a09fe"
      },
      "execution_count": 54,
      "outputs": [
        {
          "output_type": "execute_result",
          "data": {
            "text/plain": [
              "RandomForestClassifier()"
            ],
            "text/html": [
              "<style>#sk-container-id-3 {color: black;background-color: white;}#sk-container-id-3 pre{padding: 0;}#sk-container-id-3 div.sk-toggleable {background-color: white;}#sk-container-id-3 label.sk-toggleable__label {cursor: pointer;display: block;width: 100%;margin-bottom: 0;padding: 0.3em;box-sizing: border-box;text-align: center;}#sk-container-id-3 label.sk-toggleable__label-arrow:before {content: \"▸\";float: left;margin-right: 0.25em;color: #696969;}#sk-container-id-3 label.sk-toggleable__label-arrow:hover:before {color: black;}#sk-container-id-3 div.sk-estimator:hover label.sk-toggleable__label-arrow:before {color: black;}#sk-container-id-3 div.sk-toggleable__content {max-height: 0;max-width: 0;overflow: hidden;text-align: left;background-color: #f0f8ff;}#sk-container-id-3 div.sk-toggleable__content pre {margin: 0.2em;color: black;border-radius: 0.25em;background-color: #f0f8ff;}#sk-container-id-3 input.sk-toggleable__control:checked~div.sk-toggleable__content {max-height: 200px;max-width: 100%;overflow: auto;}#sk-container-id-3 input.sk-toggleable__control:checked~label.sk-toggleable__label-arrow:before {content: \"▾\";}#sk-container-id-3 div.sk-estimator input.sk-toggleable__control:checked~label.sk-toggleable__label {background-color: #d4ebff;}#sk-container-id-3 div.sk-label input.sk-toggleable__control:checked~label.sk-toggleable__label {background-color: #d4ebff;}#sk-container-id-3 input.sk-hidden--visually {border: 0;clip: rect(1px 1px 1px 1px);clip: rect(1px, 1px, 1px, 1px);height: 1px;margin: -1px;overflow: hidden;padding: 0;position: absolute;width: 1px;}#sk-container-id-3 div.sk-estimator {font-family: monospace;background-color: #f0f8ff;border: 1px dotted black;border-radius: 0.25em;box-sizing: border-box;margin-bottom: 0.5em;}#sk-container-id-3 div.sk-estimator:hover {background-color: #d4ebff;}#sk-container-id-3 div.sk-parallel-item::after {content: \"\";width: 100%;border-bottom: 1px solid gray;flex-grow: 1;}#sk-container-id-3 div.sk-label:hover label.sk-toggleable__label {background-color: #d4ebff;}#sk-container-id-3 div.sk-serial::before {content: \"\";position: absolute;border-left: 1px solid gray;box-sizing: border-box;top: 0;bottom: 0;left: 50%;z-index: 0;}#sk-container-id-3 div.sk-serial {display: flex;flex-direction: column;align-items: center;background-color: white;padding-right: 0.2em;padding-left: 0.2em;position: relative;}#sk-container-id-3 div.sk-item {position: relative;z-index: 1;}#sk-container-id-3 div.sk-parallel {display: flex;align-items: stretch;justify-content: center;background-color: white;position: relative;}#sk-container-id-3 div.sk-item::before, #sk-container-id-3 div.sk-parallel-item::before {content: \"\";position: absolute;border-left: 1px solid gray;box-sizing: border-box;top: 0;bottom: 0;left: 50%;z-index: -1;}#sk-container-id-3 div.sk-parallel-item {display: flex;flex-direction: column;z-index: 1;position: relative;background-color: white;}#sk-container-id-3 div.sk-parallel-item:first-child::after {align-self: flex-end;width: 50%;}#sk-container-id-3 div.sk-parallel-item:last-child::after {align-self: flex-start;width: 50%;}#sk-container-id-3 div.sk-parallel-item:only-child::after {width: 0;}#sk-container-id-3 div.sk-dashed-wrapped {border: 1px dashed gray;margin: 0 0.4em 0.5em 0.4em;box-sizing: border-box;padding-bottom: 0.4em;background-color: white;}#sk-container-id-3 div.sk-label label {font-family: monospace;font-weight: bold;display: inline-block;line-height: 1.2em;}#sk-container-id-3 div.sk-label-container {text-align: center;}#sk-container-id-3 div.sk-container {/* jupyter's `normalize.less` sets `[hidden] { display: none; }` but bootstrap.min.css set `[hidden] { display: none !important; }` so we also need the `!important` here to be able to override the default hidden behavior on the sphinx rendered scikit-learn.org. See: https://github.com/scikit-learn/scikit-learn/issues/21755 */display: inline-block !important;position: relative;}#sk-container-id-3 div.sk-text-repr-fallback {display: none;}</style><div id=\"sk-container-id-3\" class=\"sk-top-container\"><div class=\"sk-text-repr-fallback\"><pre>RandomForestClassifier()</pre><b>In a Jupyter environment, please rerun this cell to show the HTML representation or trust the notebook. <br />On GitHub, the HTML representation is unable to render, please try loading this page with nbviewer.org.</b></div><div class=\"sk-container\" hidden><div class=\"sk-item\"><div class=\"sk-estimator sk-toggleable\"><input class=\"sk-toggleable__control sk-hidden--visually\" id=\"sk-estimator-id-3\" type=\"checkbox\" checked><label for=\"sk-estimator-id-3\" class=\"sk-toggleable__label sk-toggleable__label-arrow\">RandomForestClassifier</label><div class=\"sk-toggleable__content\"><pre>RandomForestClassifier()</pre></div></div></div></div></div>"
            ]
          },
          "metadata": {},
          "execution_count": 54
        }
      ]
    },
    {
      "cell_type": "code",
      "source": [
        "class_sentimentos = df2[\"rotulos\"].values\n",
        "class_sentimentos"
      ],
      "metadata": {
        "colab": {
          "base_uri": "https://localhost:8080/"
        },
        "id": "gkz05OX1erjw",
        "outputId": "22d85ca8-fe0e-4c96-dabb-46c474a65f2e"
      },
      "execution_count": 55,
      "outputs": [
        {
          "output_type": "execute_result",
          "data": {
            "text/plain": [
              "array(['Positivo', 'Negativo', 'Negativo', ..., 'Neutro', 'Neutro',\n",
              "       'Neutro'], dtype=object)"
            ]
          },
          "metadata": {},
          "execution_count": 55
        }
      ]
    },
    {
      "cell_type": "code",
      "source": [
        "forest = forest.fit(train_data_features, class_sentimentos)\n",
        "forest"
      ],
      "metadata": {
        "colab": {
          "base_uri": "https://localhost:8080/",
          "height": 74
        },
        "id": "WM2bRBLFfT2h",
        "outputId": "0f520a51-996a-44f7-e092-20323e0e9f9c"
      },
      "execution_count": 56,
      "outputs": [
        {
          "output_type": "execute_result",
          "data": {
            "text/plain": [
              "RandomForestClassifier()"
            ],
            "text/html": [
              "<style>#sk-container-id-4 {color: black;background-color: white;}#sk-container-id-4 pre{padding: 0;}#sk-container-id-4 div.sk-toggleable {background-color: white;}#sk-container-id-4 label.sk-toggleable__label {cursor: pointer;display: block;width: 100%;margin-bottom: 0;padding: 0.3em;box-sizing: border-box;text-align: center;}#sk-container-id-4 label.sk-toggleable__label-arrow:before {content: \"▸\";float: left;margin-right: 0.25em;color: #696969;}#sk-container-id-4 label.sk-toggleable__label-arrow:hover:before {color: black;}#sk-container-id-4 div.sk-estimator:hover label.sk-toggleable__label-arrow:before {color: black;}#sk-container-id-4 div.sk-toggleable__content {max-height: 0;max-width: 0;overflow: hidden;text-align: left;background-color: #f0f8ff;}#sk-container-id-4 div.sk-toggleable__content pre {margin: 0.2em;color: black;border-radius: 0.25em;background-color: #f0f8ff;}#sk-container-id-4 input.sk-toggleable__control:checked~div.sk-toggleable__content {max-height: 200px;max-width: 100%;overflow: auto;}#sk-container-id-4 input.sk-toggleable__control:checked~label.sk-toggleable__label-arrow:before {content: \"▾\";}#sk-container-id-4 div.sk-estimator input.sk-toggleable__control:checked~label.sk-toggleable__label {background-color: #d4ebff;}#sk-container-id-4 div.sk-label input.sk-toggleable__control:checked~label.sk-toggleable__label {background-color: #d4ebff;}#sk-container-id-4 input.sk-hidden--visually {border: 0;clip: rect(1px 1px 1px 1px);clip: rect(1px, 1px, 1px, 1px);height: 1px;margin: -1px;overflow: hidden;padding: 0;position: absolute;width: 1px;}#sk-container-id-4 div.sk-estimator {font-family: monospace;background-color: #f0f8ff;border: 1px dotted black;border-radius: 0.25em;box-sizing: border-box;margin-bottom: 0.5em;}#sk-container-id-4 div.sk-estimator:hover {background-color: #d4ebff;}#sk-container-id-4 div.sk-parallel-item::after {content: \"\";width: 100%;border-bottom: 1px solid gray;flex-grow: 1;}#sk-container-id-4 div.sk-label:hover label.sk-toggleable__label {background-color: #d4ebff;}#sk-container-id-4 div.sk-serial::before {content: \"\";position: absolute;border-left: 1px solid gray;box-sizing: border-box;top: 0;bottom: 0;left: 50%;z-index: 0;}#sk-container-id-4 div.sk-serial {display: flex;flex-direction: column;align-items: center;background-color: white;padding-right: 0.2em;padding-left: 0.2em;position: relative;}#sk-container-id-4 div.sk-item {position: relative;z-index: 1;}#sk-container-id-4 div.sk-parallel {display: flex;align-items: stretch;justify-content: center;background-color: white;position: relative;}#sk-container-id-4 div.sk-item::before, #sk-container-id-4 div.sk-parallel-item::before {content: \"\";position: absolute;border-left: 1px solid gray;box-sizing: border-box;top: 0;bottom: 0;left: 50%;z-index: -1;}#sk-container-id-4 div.sk-parallel-item {display: flex;flex-direction: column;z-index: 1;position: relative;background-color: white;}#sk-container-id-4 div.sk-parallel-item:first-child::after {align-self: flex-end;width: 50%;}#sk-container-id-4 div.sk-parallel-item:last-child::after {align-self: flex-start;width: 50%;}#sk-container-id-4 div.sk-parallel-item:only-child::after {width: 0;}#sk-container-id-4 div.sk-dashed-wrapped {border: 1px dashed gray;margin: 0 0.4em 0.5em 0.4em;box-sizing: border-box;padding-bottom: 0.4em;background-color: white;}#sk-container-id-4 div.sk-label label {font-family: monospace;font-weight: bold;display: inline-block;line-height: 1.2em;}#sk-container-id-4 div.sk-label-container {text-align: center;}#sk-container-id-4 div.sk-container {/* jupyter's `normalize.less` sets `[hidden] { display: none; }` but bootstrap.min.css set `[hidden] { display: none !important; }` so we also need the `!important` here to be able to override the default hidden behavior on the sphinx rendered scikit-learn.org. See: https://github.com/scikit-learn/scikit-learn/issues/21755 */display: inline-block !important;position: relative;}#sk-container-id-4 div.sk-text-repr-fallback {display: none;}</style><div id=\"sk-container-id-4\" class=\"sk-top-container\"><div class=\"sk-text-repr-fallback\"><pre>RandomForestClassifier()</pre><b>In a Jupyter environment, please rerun this cell to show the HTML representation or trust the notebook. <br />On GitHub, the HTML representation is unable to render, please try loading this page with nbviewer.org.</b></div><div class=\"sk-container\" hidden><div class=\"sk-item\"><div class=\"sk-estimator sk-toggleable\"><input class=\"sk-toggleable__control sk-hidden--visually\" id=\"sk-estimator-id-4\" type=\"checkbox\" checked><label for=\"sk-estimator-id-4\" class=\"sk-toggleable__label sk-toggleable__label-arrow\">RandomForestClassifier</label><div class=\"sk-toggleable__content\"><pre>RandomForestClassifier()</pre></div></div></div></div></div>"
            ]
          },
          "metadata": {},
          "execution_count": 56
        }
      ]
    },
    {
      "cell_type": "code",
      "source": [
        "test_data_features_resultados = vectorizer.transform(comentarios)\n",
        "test_data_features_resultados"
      ],
      "metadata": {
        "colab": {
          "base_uri": "https://localhost:8080/"
        },
        "id": "nf--fe5JfarX",
        "outputId": "75946853-7d0d-4534-d055-15c057a376b8"
      },
      "execution_count": 57,
      "outputs": [
        {
          "output_type": "execute_result",
          "data": {
            "text/plain": [
              "<2000x1940 sparse matrix of type '<class 'numpy.int64'>'\n",
              "\twith 21034 stored elements in Compressed Sparse Row format>"
            ]
          },
          "metadata": {},
          "execution_count": 57
        }
      ]
    },
    {
      "cell_type": "code",
      "source": [
        "resultados = forest.predict(test_data_features_resultados)\n",
        "resultados"
      ],
      "metadata": {
        "colab": {
          "base_uri": "https://localhost:8080/"
        },
        "id": "N3rBlZa5frrL",
        "outputId": "efbaa828-0b72-42a1-9ea9-3f5a44290624"
      },
      "execution_count": 58,
      "outputs": [
        {
          "output_type": "execute_result",
          "data": {
            "text/plain": [
              "array(['Positivo', 'Negativo', 'Negativo', ..., 'Neutro', 'Neutro',\n",
              "       'Neutro'], dtype=object)"
            ]
          },
          "metadata": {},
          "execution_count": 58
        }
      ]
    },
    {
      "cell_type": "code",
      "source": [
        "metrics.accuracy_score(classes, resultados)"
      ],
      "metadata": {
        "colab": {
          "base_uri": "https://localhost:8080/"
        },
        "id": "brsaLoWRf1tj",
        "outputId": "f4286985-6d9a-4ebe-e5f0-aaa4c77c54d0"
      },
      "execution_count": 59,
      "outputs": [
        {
          "output_type": "execute_result",
          "data": {
            "text/plain": [
              "1.0"
            ]
          },
          "metadata": {},
          "execution_count": 59
        }
      ]
    },
    {
      "cell_type": "code",
      "source": [
        "print(metrics.classification_report(classes, resultados))"
      ],
      "metadata": {
        "colab": {
          "base_uri": "https://localhost:8080/"
        },
        "id": "ySWV4D4jf3VA",
        "outputId": "7940ea4a-1908-4ae2-97ff-3680461d5e47"
      },
      "execution_count": 60,
      "outputs": [
        {
          "output_type": "stream",
          "name": "stdout",
          "text": [
            "              precision    recall  f1-score   support\n",
            "\n",
            "    Negativo       1.00      1.00      1.00        87\n",
            "      Neutro       1.00      1.00      1.00      1903\n",
            "    Positivo       1.00      1.00      1.00        10\n",
            "\n",
            "    accuracy                           1.00      2000\n",
            "   macro avg       1.00      1.00      1.00      2000\n",
            "weighted avg       1.00      1.00      1.00      2000\n",
            "\n"
          ]
        }
      ]
    },
    {
      "cell_type": "code",
      "source": [
        "print(pd.crosstab(classes, resultados, rownames = [\"Real\"], colnames = [\"Predito\"], margins = True))"
      ],
      "metadata": {
        "colab": {
          "base_uri": "https://localhost:8080/"
        },
        "id": "4QUsARo1gK6z",
        "outputId": "69218bb0-cabc-4405-b8d5-e2336c300fb2"
      },
      "execution_count": 61,
      "outputs": [
        {
          "output_type": "stream",
          "name": "stdout",
          "text": [
            "Predito   Negativo  Neutro  Positivo   All\n",
            "Real                                      \n",
            "Negativo        87       0         0    87\n",
            "Neutro           0    1903         0  1903\n",
            "Positivo         0       0        10    10\n",
            "All             87    1903        10  2000\n"
          ]
        }
      ]
    }
  ]
}