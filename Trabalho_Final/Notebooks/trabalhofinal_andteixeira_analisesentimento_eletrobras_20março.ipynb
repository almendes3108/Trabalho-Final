{
  "nbformat": 4,
  "nbformat_minor": 0,
  "metadata": {
    "colab": {
      "provenance": []
    },
    "kernelspec": {
      "name": "python3",
      "display_name": "Python 3"
    },
    "language_info": {
      "name": "python"
    }
  },
  "cells": [
    {
      "cell_type": "code",
      "execution_count": 1,
      "metadata": {
        "colab": {
          "base_uri": "https://localhost:8080/"
        },
        "id": "Z74rD0hgTfap",
        "outputId": "44bcb85e-2a6e-4fbb-85f1-657cff5407cd"
      },
      "outputs": [
        {
          "output_type": "stream",
          "name": "stdout",
          "text": [
            "Looking in indexes: https://pypi.org/simple, https://us-python.pkg.dev/colab-wheels/public/simple/\n",
            "Requirement already satisfied: tweepy in /usr/local/lib/python3.9/dist-packages (4.13.0)\n",
            "Requirement already satisfied: oauthlib<4,>=3.2.0 in /usr/local/lib/python3.9/dist-packages (from tweepy) (3.2.2)\n",
            "Requirement already satisfied: requests-oauthlib<2,>=1.2.0 in /usr/local/lib/python3.9/dist-packages (from tweepy) (1.3.1)\n",
            "Requirement already satisfied: requests<3,>=2.27.0 in /usr/local/lib/python3.9/dist-packages (from tweepy) (2.27.1)\n",
            "Requirement already satisfied: idna<4,>=2.5 in /usr/local/lib/python3.9/dist-packages (from requests<3,>=2.27.0->tweepy) (3.4)\n",
            "Requirement already satisfied: charset-normalizer~=2.0.0 in /usr/local/lib/python3.9/dist-packages (from requests<3,>=2.27.0->tweepy) (2.0.12)\n",
            "Requirement already satisfied: urllib3<1.27,>=1.21.1 in /usr/local/lib/python3.9/dist-packages (from requests<3,>=2.27.0->tweepy) (1.26.15)\n",
            "Requirement already satisfied: certifi>=2017.4.17 in /usr/local/lib/python3.9/dist-packages (from requests<3,>=2.27.0->tweepy) (2022.12.7)\n"
          ]
        }
      ],
      "source": [
        "!pip3 install tweepy --upgrade"
      ]
    },
    {
      "cell_type": "code",
      "source": [
        "!pip install nltk\n",
        "import nltk"
      ],
      "metadata": {
        "colab": {
          "base_uri": "https://localhost:8080/"
        },
        "id": "ocTqqzbZWwzB",
        "outputId": "370623a0-9986-4684-c334-250f2f79ffef"
      },
      "execution_count": 2,
      "outputs": [
        {
          "output_type": "stream",
          "name": "stdout",
          "text": [
            "Looking in indexes: https://pypi.org/simple, https://us-python.pkg.dev/colab-wheels/public/simple/\n",
            "Requirement already satisfied: nltk in /usr/local/lib/python3.9/dist-packages (3.8.1)\n",
            "Requirement already satisfied: joblib in /usr/local/lib/python3.9/dist-packages (from nltk) (1.1.1)\n",
            "Requirement already satisfied: regex>=2021.8.3 in /usr/local/lib/python3.9/dist-packages (from nltk) (2022.10.31)\n",
            "Requirement already satisfied: tqdm in /usr/local/lib/python3.9/dist-packages (from nltk) (4.65.0)\n",
            "Requirement already satisfied: click in /usr/local/lib/python3.9/dist-packages (from nltk) (8.1.3)\n"
          ]
        }
      ]
    },
    {
      "cell_type": "code",
      "source": [
        "!pip install wordcloud\n",
        "from wordcloud import WordCloud"
      ],
      "metadata": {
        "colab": {
          "base_uri": "https://localhost:8080/"
        },
        "id": "1oFjPExAXa6_",
        "outputId": "d10b1dde-a743-455c-c074-6bfd3567f999"
      },
      "execution_count": 3,
      "outputs": [
        {
          "output_type": "stream",
          "name": "stdout",
          "text": [
            "Looking in indexes: https://pypi.org/simple, https://us-python.pkg.dev/colab-wheels/public/simple/\n",
            "Requirement already satisfied: wordcloud in /usr/local/lib/python3.9/dist-packages (1.8.2.2)\n",
            "Requirement already satisfied: matplotlib in /usr/local/lib/python3.9/dist-packages (from wordcloud) (3.7.1)\n",
            "Requirement already satisfied: pillow in /usr/local/lib/python3.9/dist-packages (from wordcloud) (8.4.0)\n",
            "Requirement already satisfied: numpy>=1.6.1 in /usr/local/lib/python3.9/dist-packages (from wordcloud) (1.22.4)\n",
            "Requirement already satisfied: python-dateutil>=2.7 in /usr/local/lib/python3.9/dist-packages (from matplotlib->wordcloud) (2.8.2)\n",
            "Requirement already satisfied: cycler>=0.10 in /usr/local/lib/python3.9/dist-packages (from matplotlib->wordcloud) (0.11.0)\n",
            "Requirement already satisfied: fonttools>=4.22.0 in /usr/local/lib/python3.9/dist-packages (from matplotlib->wordcloud) (4.39.0)\n",
            "Requirement already satisfied: importlib-resources>=3.2.0 in /usr/local/lib/python3.9/dist-packages (from matplotlib->wordcloud) (5.12.0)\n",
            "Requirement already satisfied: packaging>=20.0 in /usr/local/lib/python3.9/dist-packages (from matplotlib->wordcloud) (23.0)\n",
            "Requirement already satisfied: contourpy>=1.0.1 in /usr/local/lib/python3.9/dist-packages (from matplotlib->wordcloud) (1.0.7)\n",
            "Requirement already satisfied: pyparsing>=2.3.1 in /usr/local/lib/python3.9/dist-packages (from matplotlib->wordcloud) (3.0.9)\n",
            "Requirement already satisfied: kiwisolver>=1.0.1 in /usr/local/lib/python3.9/dist-packages (from matplotlib->wordcloud) (1.4.4)\n",
            "Requirement already satisfied: zipp>=3.1.0 in /usr/local/lib/python3.9/dist-packages (from importlib-resources>=3.2.0->matplotlib->wordcloud) (3.15.0)\n",
            "Requirement already satisfied: six>=1.5 in /usr/local/lib/python3.9/dist-packages (from python-dateutil>=2.7->matplotlib->wordcloud) (1.15.0)\n"
          ]
        }
      ]
    },
    {
      "cell_type": "code",
      "source": [
        "import tweepy\n",
        "import numpy as np\n",
        "import pandas as pd\n",
        "import re\n",
        "import string\n",
        "import matplotlib.pyplot as plt\n",
        "from textblob import TextBlob\n",
        "from sklearn.feature_extraction.text import CountVectorizer\n",
        "from sklearn.naive_bayes             import MultinomialNB\n",
        "from sklearn                         import metrics\n",
        "from sklearn.model_selection         import cross_val_predict\n",
        "from sklearn.ensemble                import RandomForestClassifier\n",
        "from google.colab                    import drive\n",
        "from nltk.corpus                     import stopwords\n",
        "nltk.download('punkt')\n",
        "from nltk.tokenize                   import word_tokenize\n",
        "import nltk\n",
        "nltk.download('vader_lexicon')\n",
        "from collections import Counter\n",
        "from nltk.tag import pos_tag"
      ],
      "metadata": {
        "id": "xskg2G2sTtq8",
        "colab": {
          "base_uri": "https://localhost:8080/"
        },
        "outputId": "46562956-c1c8-4510-bbb0-8e5f5b49f4d3"
      },
      "execution_count": 4,
      "outputs": [
        {
          "output_type": "stream",
          "name": "stderr",
          "text": [
            "[nltk_data] Downloading package punkt to /root/nltk_data...\n",
            "[nltk_data]   Unzipping tokenizers/punkt.zip.\n",
            "[nltk_data] Downloading package vader_lexicon to /root/nltk_data...\n"
          ]
        }
      ]
    },
    {
      "cell_type": "code",
      "source": [
        "#Chave\n",
        "bearer_token = \"AAAAAAAAAAAAAAAAAAAAAGJrlgEAAAAAbwqHxRmdRHG1qqeZTzx7OrESAig%3D4QiKcBbjpuEmOXMRala40QU0D2QSEWEPIVyIRKcjlG29JDgACA\"\n",
        "\n",
        "client = tweepy.Client(bearer_token=bearer_token)"
      ],
      "metadata": {
        "id": "n97hZq-wT2IH"
      },
      "execution_count": 5,
      "outputs": []
    },
    {
      "cell_type": "code",
      "source": [
        "df2 = pd.DataFrame(columns=['ID', 'text'])"
      ],
      "metadata": {
        "id": "fh92u59ooxip"
      },
      "execution_count": 6,
      "outputs": []
    },
    {
      "cell_type": "code",
      "source": [
        "public_tweets = tweepy.Paginator(client.search_recent_tweets, query='eletrobras', \n",
        "                              max_results=100).flatten(limit=2000)"
      ],
      "metadata": {
        "id": "x0mt9aHPMgp3"
      },
      "execution_count": 7,
      "outputs": []
    },
    {
      "cell_type": "code",
      "source": [
        "analysis = None"
      ],
      "metadata": {
        "id": "rXLhRxa5Mql_"
      },
      "execution_count": 8,
      "outputs": []
    },
    {
      "cell_type": "code",
      "source": [
        "count = 0\n",
        "for tweet in public_tweets:\n",
        "  analysis = TextBlob(tweet.text)\n",
        "  \n",
        "  df2.loc[count] = [tweet.id]+[tweet.text]\n",
        "  \n",
        "  count += 1"
      ],
      "metadata": {
        "id": "rZTY-PFlncbB"
      },
      "execution_count": 9,
      "outputs": []
    },
    {
      "cell_type": "code",
      "source": [
        "df2.head(100)"
      ],
      "metadata": {
        "colab": {
          "base_uri": "https://localhost:8080/",
          "height": 423
        },
        "id": "dKAHh_0rMbQD",
        "outputId": "72b422fe-5641-40ec-8ef5-d00d3f341966"
      },
      "execution_count": 10,
      "outputs": [
        {
          "output_type": "execute_result",
          "data": {
            "text/plain": [
              "                     ID                                               text\n",
              "0   1637812051006353409  RT @A_MelhorNoticia: 🇧🇷 Brasil:\\nJanja é soció...\n",
              "1   1637812009239453698  RT @A_MelhorNoticia: 🇧🇷 Brasil:\\nJanja é soció...\n",
              "2   1637812007981178882  RT @A_MelhorNoticia: 🇧🇷 Brasil:\\nJanja é soció...\n",
              "3   1637811966889676802  RT @A_MelhorNoticia: 🇧🇷 Brasil:\\nJanja é soció...\n",
              "4   1637811934274674693  RT @A_MelhorNoticia: 🇧🇷 Brasil:\\nJanja é soció...\n",
              "..                  ...                                                ...\n",
              "95  1637795633695281153  RT @A_MelhorNoticia: 🇧🇷 Brasil:\\nJanja é soció...\n",
              "96  1637795248108601348  RT @A_MelhorNoticia: 🇧🇷 Brasil:\\nJanja é soció...\n",
              "97  1637795138121482243  @marcelogenuel @requiaooficial kkkkkkkkkkk Oh ...\n",
              "98  1637795069997510656  RT @A_MelhorNoticia: 🇧🇷 Brasil:\\nJanja é soció...\n",
              "99  1637794871892221952  Já certos políticos interessados nos cabides d...\n",
              "\n",
              "[100 rows x 2 columns]"
            ],
            "text/html": [
              "\n",
              "  <div id=\"df-98ba8ddc-58f6-42e6-a0ff-d68df25338bf\">\n",
              "    <div class=\"colab-df-container\">\n",
              "      <div>\n",
              "<style scoped>\n",
              "    .dataframe tbody tr th:only-of-type {\n",
              "        vertical-align: middle;\n",
              "    }\n",
              "\n",
              "    .dataframe tbody tr th {\n",
              "        vertical-align: top;\n",
              "    }\n",
              "\n",
              "    .dataframe thead th {\n",
              "        text-align: right;\n",
              "    }\n",
              "</style>\n",
              "<table border=\"1\" class=\"dataframe\">\n",
              "  <thead>\n",
              "    <tr style=\"text-align: right;\">\n",
              "      <th></th>\n",
              "      <th>ID</th>\n",
              "      <th>text</th>\n",
              "    </tr>\n",
              "  </thead>\n",
              "  <tbody>\n",
              "    <tr>\n",
              "      <th>0</th>\n",
              "      <td>1637812051006353409</td>\n",
              "      <td>RT @A_MelhorNoticia: 🇧🇷 Brasil:\\nJanja é soció...</td>\n",
              "    </tr>\n",
              "    <tr>\n",
              "      <th>1</th>\n",
              "      <td>1637812009239453698</td>\n",
              "      <td>RT @A_MelhorNoticia: 🇧🇷 Brasil:\\nJanja é soció...</td>\n",
              "    </tr>\n",
              "    <tr>\n",
              "      <th>2</th>\n",
              "      <td>1637812007981178882</td>\n",
              "      <td>RT @A_MelhorNoticia: 🇧🇷 Brasil:\\nJanja é soció...</td>\n",
              "    </tr>\n",
              "    <tr>\n",
              "      <th>3</th>\n",
              "      <td>1637811966889676802</td>\n",
              "      <td>RT @A_MelhorNoticia: 🇧🇷 Brasil:\\nJanja é soció...</td>\n",
              "    </tr>\n",
              "    <tr>\n",
              "      <th>4</th>\n",
              "      <td>1637811934274674693</td>\n",
              "      <td>RT @A_MelhorNoticia: 🇧🇷 Brasil:\\nJanja é soció...</td>\n",
              "    </tr>\n",
              "    <tr>\n",
              "      <th>...</th>\n",
              "      <td>...</td>\n",
              "      <td>...</td>\n",
              "    </tr>\n",
              "    <tr>\n",
              "      <th>95</th>\n",
              "      <td>1637795633695281153</td>\n",
              "      <td>RT @A_MelhorNoticia: 🇧🇷 Brasil:\\nJanja é soció...</td>\n",
              "    </tr>\n",
              "    <tr>\n",
              "      <th>96</th>\n",
              "      <td>1637795248108601348</td>\n",
              "      <td>RT @A_MelhorNoticia: 🇧🇷 Brasil:\\nJanja é soció...</td>\n",
              "    </tr>\n",
              "    <tr>\n",
              "      <th>97</th>\n",
              "      <td>1637795138121482243</td>\n",
              "      <td>@marcelogenuel @requiaooficial kkkkkkkkkkk Oh ...</td>\n",
              "    </tr>\n",
              "    <tr>\n",
              "      <th>98</th>\n",
              "      <td>1637795069997510656</td>\n",
              "      <td>RT @A_MelhorNoticia: 🇧🇷 Brasil:\\nJanja é soció...</td>\n",
              "    </tr>\n",
              "    <tr>\n",
              "      <th>99</th>\n",
              "      <td>1637794871892221952</td>\n",
              "      <td>Já certos políticos interessados nos cabides d...</td>\n",
              "    </tr>\n",
              "  </tbody>\n",
              "</table>\n",
              "<p>100 rows × 2 columns</p>\n",
              "</div>\n",
              "      <button class=\"colab-df-convert\" onclick=\"convertToInteractive('df-98ba8ddc-58f6-42e6-a0ff-d68df25338bf')\"\n",
              "              title=\"Convert this dataframe to an interactive table.\"\n",
              "              style=\"display:none;\">\n",
              "        \n",
              "  <svg xmlns=\"http://www.w3.org/2000/svg\" height=\"24px\"viewBox=\"0 0 24 24\"\n",
              "       width=\"24px\">\n",
              "    <path d=\"M0 0h24v24H0V0z\" fill=\"none\"/>\n",
              "    <path d=\"M18.56 5.44l.94 2.06.94-2.06 2.06-.94-2.06-.94-.94-2.06-.94 2.06-2.06.94zm-11 1L8.5 8.5l.94-2.06 2.06-.94-2.06-.94L8.5 2.5l-.94 2.06-2.06.94zm10 10l.94 2.06.94-2.06 2.06-.94-2.06-.94-.94-2.06-.94 2.06-2.06.94z\"/><path d=\"M17.41 7.96l-1.37-1.37c-.4-.4-.92-.59-1.43-.59-.52 0-1.04.2-1.43.59L10.3 9.45l-7.72 7.72c-.78.78-.78 2.05 0 2.83L4 21.41c.39.39.9.59 1.41.59.51 0 1.02-.2 1.41-.59l7.78-7.78 2.81-2.81c.8-.78.8-2.07 0-2.86zM5.41 20L4 18.59l7.72-7.72 1.47 1.35L5.41 20z\"/>\n",
              "  </svg>\n",
              "      </button>\n",
              "      \n",
              "  <style>\n",
              "    .colab-df-container {\n",
              "      display:flex;\n",
              "      flex-wrap:wrap;\n",
              "      gap: 12px;\n",
              "    }\n",
              "\n",
              "    .colab-df-convert {\n",
              "      background-color: #E8F0FE;\n",
              "      border: none;\n",
              "      border-radius: 50%;\n",
              "      cursor: pointer;\n",
              "      display: none;\n",
              "      fill: #1967D2;\n",
              "      height: 32px;\n",
              "      padding: 0 0 0 0;\n",
              "      width: 32px;\n",
              "    }\n",
              "\n",
              "    .colab-df-convert:hover {\n",
              "      background-color: #E2EBFA;\n",
              "      box-shadow: 0px 1px 2px rgba(60, 64, 67, 0.3), 0px 1px 3px 1px rgba(60, 64, 67, 0.15);\n",
              "      fill: #174EA6;\n",
              "    }\n",
              "\n",
              "    [theme=dark] .colab-df-convert {\n",
              "      background-color: #3B4455;\n",
              "      fill: #D2E3FC;\n",
              "    }\n",
              "\n",
              "    [theme=dark] .colab-df-convert:hover {\n",
              "      background-color: #434B5C;\n",
              "      box-shadow: 0px 1px 3px 1px rgba(0, 0, 0, 0.15);\n",
              "      filter: drop-shadow(0px 1px 2px rgba(0, 0, 0, 0.3));\n",
              "      fill: #FFFFFF;\n",
              "    }\n",
              "  </style>\n",
              "\n",
              "      <script>\n",
              "        const buttonEl =\n",
              "          document.querySelector('#df-98ba8ddc-58f6-42e6-a0ff-d68df25338bf button.colab-df-convert');\n",
              "        buttonEl.style.display =\n",
              "          google.colab.kernel.accessAllowed ? 'block' : 'none';\n",
              "\n",
              "        async function convertToInteractive(key) {\n",
              "          const element = document.querySelector('#df-98ba8ddc-58f6-42e6-a0ff-d68df25338bf');\n",
              "          const dataTable =\n",
              "            await google.colab.kernel.invokeFunction('convertToInteractive',\n",
              "                                                     [key], {});\n",
              "          if (!dataTable) return;\n",
              "\n",
              "          const docLinkHtml = 'Like what you see? Visit the ' +\n",
              "            '<a target=\"_blank\" href=https://colab.research.google.com/notebooks/data_table.ipynb>data table notebook</a>'\n",
              "            + ' to learn more about interactive tables.';\n",
              "          element.innerHTML = '';\n",
              "          dataTable['output_type'] = 'display_data';\n",
              "          await google.colab.output.renderOutput(dataTable, element);\n",
              "          const docLink = document.createElement('div');\n",
              "          docLink.innerHTML = docLinkHtml;\n",
              "          element.appendChild(docLink);\n",
              "        }\n",
              "      </script>\n",
              "    </div>\n",
              "  </div>\n",
              "  "
            ]
          },
          "metadata": {},
          "execution_count": 10
        }
      ]
    },
    {
      "cell_type": "code",
      "source": [
        "# Essa expressão regular remove toda a pontuação\n",
        "punc_re = lambda x: re.sub('[%s]' % re.escape(string.punctuation), ' ', x)\n",
        "df2['text'] = df2.text.map(punc_re)"
      ],
      "metadata": {
        "id": "oC2qKVBQMlp5"
      },
      "execution_count": 11,
      "outputs": []
    },
    {
      "cell_type": "code",
      "source": [
        "#faz uso do nltk.download('punkt')\n",
        "#from nltk.tokenize import word_tokenize\n",
        "\n",
        "df2['tokens'] = df2.text.map(word_tokenize)\n",
        "df2.head()"
      ],
      "metadata": {
        "colab": {
          "base_uri": "https://localhost:8080/",
          "height": 206
        },
        "id": "cU5QTeyEMbGh",
        "outputId": "38fe7523-6123-4c81-ea75-c3410b00b9ee"
      },
      "execution_count": 12,
      "outputs": [
        {
          "output_type": "execute_result",
          "data": {
            "text/plain": [
              "                    ID                                               text  \\\n",
              "0  1637812051006353409  RT  A MelhorNoticia  🇧🇷 Brasil \\nJanja é soció...   \n",
              "1  1637812009239453698  RT  A MelhorNoticia  🇧🇷 Brasil \\nJanja é soció...   \n",
              "2  1637812007981178882  RT  A MelhorNoticia  🇧🇷 Brasil \\nJanja é soció...   \n",
              "3  1637811966889676802  RT  A MelhorNoticia  🇧🇷 Brasil \\nJanja é soció...   \n",
              "4  1637811934274674693  RT  A MelhorNoticia  🇧🇷 Brasil \\nJanja é soció...   \n",
              "\n",
              "                                              tokens  \n",
              "0  [RT, A, MelhorNoticia, 🇧🇷, Brasil, Janja, é, s...  \n",
              "1  [RT, A, MelhorNoticia, 🇧🇷, Brasil, Janja, é, s...  \n",
              "2  [RT, A, MelhorNoticia, 🇧🇷, Brasil, Janja, é, s...  \n",
              "3  [RT, A, MelhorNoticia, 🇧🇷, Brasil, Janja, é, s...  \n",
              "4  [RT, A, MelhorNoticia, 🇧🇷, Brasil, Janja, é, s...  "
            ],
            "text/html": [
              "\n",
              "  <div id=\"df-2713cd09-fd96-4ddb-9c9a-19c96b8ab52e\">\n",
              "    <div class=\"colab-df-container\">\n",
              "      <div>\n",
              "<style scoped>\n",
              "    .dataframe tbody tr th:only-of-type {\n",
              "        vertical-align: middle;\n",
              "    }\n",
              "\n",
              "    .dataframe tbody tr th {\n",
              "        vertical-align: top;\n",
              "    }\n",
              "\n",
              "    .dataframe thead th {\n",
              "        text-align: right;\n",
              "    }\n",
              "</style>\n",
              "<table border=\"1\" class=\"dataframe\">\n",
              "  <thead>\n",
              "    <tr style=\"text-align: right;\">\n",
              "      <th></th>\n",
              "      <th>ID</th>\n",
              "      <th>text</th>\n",
              "      <th>tokens</th>\n",
              "    </tr>\n",
              "  </thead>\n",
              "  <tbody>\n",
              "    <tr>\n",
              "      <th>0</th>\n",
              "      <td>1637812051006353409</td>\n",
              "      <td>RT  A MelhorNoticia  🇧🇷 Brasil \\nJanja é soció...</td>\n",
              "      <td>[RT, A, MelhorNoticia, 🇧🇷, Brasil, Janja, é, s...</td>\n",
              "    </tr>\n",
              "    <tr>\n",
              "      <th>1</th>\n",
              "      <td>1637812009239453698</td>\n",
              "      <td>RT  A MelhorNoticia  🇧🇷 Brasil \\nJanja é soció...</td>\n",
              "      <td>[RT, A, MelhorNoticia, 🇧🇷, Brasil, Janja, é, s...</td>\n",
              "    </tr>\n",
              "    <tr>\n",
              "      <th>2</th>\n",
              "      <td>1637812007981178882</td>\n",
              "      <td>RT  A MelhorNoticia  🇧🇷 Brasil \\nJanja é soció...</td>\n",
              "      <td>[RT, A, MelhorNoticia, 🇧🇷, Brasil, Janja, é, s...</td>\n",
              "    </tr>\n",
              "    <tr>\n",
              "      <th>3</th>\n",
              "      <td>1637811966889676802</td>\n",
              "      <td>RT  A MelhorNoticia  🇧🇷 Brasil \\nJanja é soció...</td>\n",
              "      <td>[RT, A, MelhorNoticia, 🇧🇷, Brasil, Janja, é, s...</td>\n",
              "    </tr>\n",
              "    <tr>\n",
              "      <th>4</th>\n",
              "      <td>1637811934274674693</td>\n",
              "      <td>RT  A MelhorNoticia  🇧🇷 Brasil \\nJanja é soció...</td>\n",
              "      <td>[RT, A, MelhorNoticia, 🇧🇷, Brasil, Janja, é, s...</td>\n",
              "    </tr>\n",
              "  </tbody>\n",
              "</table>\n",
              "</div>\n",
              "      <button class=\"colab-df-convert\" onclick=\"convertToInteractive('df-2713cd09-fd96-4ddb-9c9a-19c96b8ab52e')\"\n",
              "              title=\"Convert this dataframe to an interactive table.\"\n",
              "              style=\"display:none;\">\n",
              "        \n",
              "  <svg xmlns=\"http://www.w3.org/2000/svg\" height=\"24px\"viewBox=\"0 0 24 24\"\n",
              "       width=\"24px\">\n",
              "    <path d=\"M0 0h24v24H0V0z\" fill=\"none\"/>\n",
              "    <path d=\"M18.56 5.44l.94 2.06.94-2.06 2.06-.94-2.06-.94-.94-2.06-.94 2.06-2.06.94zm-11 1L8.5 8.5l.94-2.06 2.06-.94-2.06-.94L8.5 2.5l-.94 2.06-2.06.94zm10 10l.94 2.06.94-2.06 2.06-.94-2.06-.94-.94-2.06-.94 2.06-2.06.94z\"/><path d=\"M17.41 7.96l-1.37-1.37c-.4-.4-.92-.59-1.43-.59-.52 0-1.04.2-1.43.59L10.3 9.45l-7.72 7.72c-.78.78-.78 2.05 0 2.83L4 21.41c.39.39.9.59 1.41.59.51 0 1.02-.2 1.41-.59l7.78-7.78 2.81-2.81c.8-.78.8-2.07 0-2.86zM5.41 20L4 18.59l7.72-7.72 1.47 1.35L5.41 20z\"/>\n",
              "  </svg>\n",
              "      </button>\n",
              "      \n",
              "  <style>\n",
              "    .colab-df-container {\n",
              "      display:flex;\n",
              "      flex-wrap:wrap;\n",
              "      gap: 12px;\n",
              "    }\n",
              "\n",
              "    .colab-df-convert {\n",
              "      background-color: #E8F0FE;\n",
              "      border: none;\n",
              "      border-radius: 50%;\n",
              "      cursor: pointer;\n",
              "      display: none;\n",
              "      fill: #1967D2;\n",
              "      height: 32px;\n",
              "      padding: 0 0 0 0;\n",
              "      width: 32px;\n",
              "    }\n",
              "\n",
              "    .colab-df-convert:hover {\n",
              "      background-color: #E2EBFA;\n",
              "      box-shadow: 0px 1px 2px rgba(60, 64, 67, 0.3), 0px 1px 3px 1px rgba(60, 64, 67, 0.15);\n",
              "      fill: #174EA6;\n",
              "    }\n",
              "\n",
              "    [theme=dark] .colab-df-convert {\n",
              "      background-color: #3B4455;\n",
              "      fill: #D2E3FC;\n",
              "    }\n",
              "\n",
              "    [theme=dark] .colab-df-convert:hover {\n",
              "      background-color: #434B5C;\n",
              "      box-shadow: 0px 1px 3px 1px rgba(0, 0, 0, 0.15);\n",
              "      filter: drop-shadow(0px 1px 2px rgba(0, 0, 0, 0.3));\n",
              "      fill: #FFFFFF;\n",
              "    }\n",
              "  </style>\n",
              "\n",
              "      <script>\n",
              "        const buttonEl =\n",
              "          document.querySelector('#df-2713cd09-fd96-4ddb-9c9a-19c96b8ab52e button.colab-df-convert');\n",
              "        buttonEl.style.display =\n",
              "          google.colab.kernel.accessAllowed ? 'block' : 'none';\n",
              "\n",
              "        async function convertToInteractive(key) {\n",
              "          const element = document.querySelector('#df-2713cd09-fd96-4ddb-9c9a-19c96b8ab52e');\n",
              "          const dataTable =\n",
              "            await google.colab.kernel.invokeFunction('convertToInteractive',\n",
              "                                                     [key], {});\n",
              "          if (!dataTable) return;\n",
              "\n",
              "          const docLinkHtml = 'Like what you see? Visit the ' +\n",
              "            '<a target=\"_blank\" href=https://colab.research.google.com/notebooks/data_table.ipynb>data table notebook</a>'\n",
              "            + ' to learn more about interactive tables.';\n",
              "          element.innerHTML = '';\n",
              "          dataTable['output_type'] = 'display_data';\n",
              "          await google.colab.output.renderOutput(dataTable, element);\n",
              "          const docLink = document.createElement('div');\n",
              "          docLink.innerHTML = docLinkHtml;\n",
              "          element.appendChild(docLink);\n",
              "        }\n",
              "      </script>\n",
              "    </div>\n",
              "  </div>\n",
              "  "
            ]
          },
          "metadata": {},
          "execution_count": 12
        }
      ]
    },
    {
      "cell_type": "code",
      "source": [
        "from nltk.sentiment import SentimentIntensityAnalyzer\n"
      ],
      "metadata": {
        "id": "sVvEaMcOSl5Y"
      },
      "execution_count": 13,
      "outputs": []
    },
    {
      "cell_type": "code",
      "source": [
        "import nltk\n",
        "nltk.download('vader_lexicon')"
      ],
      "metadata": {
        "colab": {
          "base_uri": "https://localhost:8080/"
        },
        "id": "DW_SxP9vS-vS",
        "outputId": "fd4ae324-aa44-48d1-c27c-9dc4051c0287"
      },
      "execution_count": 14,
      "outputs": [
        {
          "output_type": "stream",
          "name": "stderr",
          "text": [
            "[nltk_data] Downloading package vader_lexicon to /root/nltk_data...\n",
            "[nltk_data]   Package vader_lexicon is already up-to-date!\n"
          ]
        },
        {
          "output_type": "execute_result",
          "data": {
            "text/plain": [
              "True"
            ]
          },
          "metadata": {},
          "execution_count": 14
        }
      ]
    },
    {
      "cell_type": "code",
      "source": [
        "from nltk.tokenize import TweetTokenizer\n"
      ],
      "metadata": {
        "id": "6KX-7cXodJQ5"
      },
      "execution_count": 15,
      "outputs": []
    },
    {
      "cell_type": "code",
      "source": [
        "sia = SentimentIntensityAnalyzer()"
      ],
      "metadata": {
        "id": "oqJZDCHyS2lY"
      },
      "execution_count": 16,
      "outputs": []
    },
    {
      "cell_type": "code",
      "source": [
        "def analisar_sentimento2(texto):\n",
        "    tokens = TweetTokenizer(texto)\n",
        "    score = sia.polarity_scores(texto)\n",
        "    return score['compound']\n"
      ],
      "metadata": {
        "id": "Mcm5rUtmSaZ3"
      },
      "execution_count": 17,
      "outputs": []
    },
    {
      "cell_type": "code",
      "source": [
        "df2['Pontuacao2'] = df2['text'].apply(analisar_sentimento2)"
      ],
      "metadata": {
        "id": "eeQMX4VnSguP"
      },
      "execution_count": 18,
      "outputs": []
    },
    {
      "cell_type": "code",
      "source": [
        "df2.head(16)"
      ],
      "metadata": {
        "colab": {
          "base_uri": "https://localhost:8080/",
          "height": 872
        },
        "id": "46ThKz8NdNn9",
        "outputId": "195c308a-09f2-4298-c568-b9b276e8847e"
      },
      "execution_count": 19,
      "outputs": [
        {
          "output_type": "execute_result",
          "data": {
            "text/plain": [
              "                     ID                                               text  \\\n",
              "0   1637812051006353409  RT  A MelhorNoticia  🇧🇷 Brasil \\nJanja é soció...   \n",
              "1   1637812009239453698  RT  A MelhorNoticia  🇧🇷 Brasil \\nJanja é soció...   \n",
              "2   1637812007981178882  RT  A MelhorNoticia  🇧🇷 Brasil \\nJanja é soció...   \n",
              "3   1637811966889676802  RT  A MelhorNoticia  🇧🇷 Brasil \\nJanja é soció...   \n",
              "4   1637811934274674693  RT  A MelhorNoticia  🇧🇷 Brasil \\nJanja é soció...   \n",
              "5   1637811922014728195  RT  BitucaSalim  Lançamento da Frente Parlamen...   \n",
              "6   1637811857904881664  RT  jhzago  O Povo Brasileiro tem que exigir a...   \n",
              "7   1637811038849581056  RT  IvanValente  A Eletrobras produz um terço ...   \n",
              "8   1637810814278148100  RT  IvanValente  A Eletrobras produz um terço ...   \n",
              "9   1637810555913224197  RT  Shirlanlhp  Final do Governo Temer Equator...   \n",
              "10  1637810455040204804  RT  AlencarBraga13  A Eletrobras é patrimônio ...   \n",
              "11  1637810112961167360  RT  A MelhorNoticia  🇧🇷 Brasil \\nJanja é soció...   \n",
              "12  1637809832555167744  RT  A MelhorNoticia  🇧🇷 Brasil \\nJanja é soció...   \n",
              "13  1637809689302892544  RT  A MelhorNoticia  🇧🇷 Brasil \\nJanja é soció...   \n",
              "14  1637809393034047488  RT  A MelhorNoticia  🇧🇷 Brasil \\nJanja é soció...   \n",
              "15  1637809015932571648  RT  Sgt Pimenta4  Vamos comprar ações da  elet...   \n",
              "\n",
              "                                               tokens  Pontuacao2  \n",
              "0   [RT, A, MelhorNoticia, 🇧🇷, Brasil, Janja, é, s...       0.000  \n",
              "1   [RT, A, MelhorNoticia, 🇧🇷, Brasil, Janja, é, s...       0.000  \n",
              "2   [RT, A, MelhorNoticia, 🇧🇷, Brasil, Janja, é, s...       0.000  \n",
              "3   [RT, A, MelhorNoticia, 🇧🇷, Brasil, Janja, é, s...       0.000  \n",
              "4   [RT, A, MelhorNoticia, 🇧🇷, Brasil, Janja, é, s...       0.000  \n",
              "5   [RT, BitucaSalim, Lançamento, da, Frente, Parl...       0.000  \n",
              "6   [RT, jhzago, O, Povo, Brasileiro, tem, que, ex...       0.000  \n",
              "7   [RT, IvanValente, A, Eletrobras, produz, um, t...       0.000  \n",
              "8   [RT, IvanValente, A, Eletrobras, produz, um, t...       0.000  \n",
              "9   [RT, Shirlanlhp, Final, do, Governo, Temer, Eq...       0.000  \n",
              "10  [RT, AlencarBraga13, A, Eletrobras, é, patrimô...       0.000  \n",
              "11  [RT, A, MelhorNoticia, 🇧🇷, Brasil, Janja, é, s...       0.000  \n",
              "12  [RT, A, MelhorNoticia, 🇧🇷, Brasil, Janja, é, s...       0.000  \n",
              "13  [RT, A, MelhorNoticia, 🇧🇷, Brasil, Janja, é, s...       0.000  \n",
              "14  [RT, A, MelhorNoticia, 🇧🇷, Brasil, Janja, é, s...       0.000  \n",
              "15  [RT, Sgt, Pimenta4, Vamos, comprar, ações, da,...      -0.296  "
            ],
            "text/html": [
              "\n",
              "  <div id=\"df-d235bf4e-10d3-4c64-9b57-7f0d5f38b4fe\">\n",
              "    <div class=\"colab-df-container\">\n",
              "      <div>\n",
              "<style scoped>\n",
              "    .dataframe tbody tr th:only-of-type {\n",
              "        vertical-align: middle;\n",
              "    }\n",
              "\n",
              "    .dataframe tbody tr th {\n",
              "        vertical-align: top;\n",
              "    }\n",
              "\n",
              "    .dataframe thead th {\n",
              "        text-align: right;\n",
              "    }\n",
              "</style>\n",
              "<table border=\"1\" class=\"dataframe\">\n",
              "  <thead>\n",
              "    <tr style=\"text-align: right;\">\n",
              "      <th></th>\n",
              "      <th>ID</th>\n",
              "      <th>text</th>\n",
              "      <th>tokens</th>\n",
              "      <th>Pontuacao2</th>\n",
              "    </tr>\n",
              "  </thead>\n",
              "  <tbody>\n",
              "    <tr>\n",
              "      <th>0</th>\n",
              "      <td>1637812051006353409</td>\n",
              "      <td>RT  A MelhorNoticia  🇧🇷 Brasil \\nJanja é soció...</td>\n",
              "      <td>[RT, A, MelhorNoticia, 🇧🇷, Brasil, Janja, é, s...</td>\n",
              "      <td>0.000</td>\n",
              "    </tr>\n",
              "    <tr>\n",
              "      <th>1</th>\n",
              "      <td>1637812009239453698</td>\n",
              "      <td>RT  A MelhorNoticia  🇧🇷 Brasil \\nJanja é soció...</td>\n",
              "      <td>[RT, A, MelhorNoticia, 🇧🇷, Brasil, Janja, é, s...</td>\n",
              "      <td>0.000</td>\n",
              "    </tr>\n",
              "    <tr>\n",
              "      <th>2</th>\n",
              "      <td>1637812007981178882</td>\n",
              "      <td>RT  A MelhorNoticia  🇧🇷 Brasil \\nJanja é soció...</td>\n",
              "      <td>[RT, A, MelhorNoticia, 🇧🇷, Brasil, Janja, é, s...</td>\n",
              "      <td>0.000</td>\n",
              "    </tr>\n",
              "    <tr>\n",
              "      <th>3</th>\n",
              "      <td>1637811966889676802</td>\n",
              "      <td>RT  A MelhorNoticia  🇧🇷 Brasil \\nJanja é soció...</td>\n",
              "      <td>[RT, A, MelhorNoticia, 🇧🇷, Brasil, Janja, é, s...</td>\n",
              "      <td>0.000</td>\n",
              "    </tr>\n",
              "    <tr>\n",
              "      <th>4</th>\n",
              "      <td>1637811934274674693</td>\n",
              "      <td>RT  A MelhorNoticia  🇧🇷 Brasil \\nJanja é soció...</td>\n",
              "      <td>[RT, A, MelhorNoticia, 🇧🇷, Brasil, Janja, é, s...</td>\n",
              "      <td>0.000</td>\n",
              "    </tr>\n",
              "    <tr>\n",
              "      <th>5</th>\n",
              "      <td>1637811922014728195</td>\n",
              "      <td>RT  BitucaSalim  Lançamento da Frente Parlamen...</td>\n",
              "      <td>[RT, BitucaSalim, Lançamento, da, Frente, Parl...</td>\n",
              "      <td>0.000</td>\n",
              "    </tr>\n",
              "    <tr>\n",
              "      <th>6</th>\n",
              "      <td>1637811857904881664</td>\n",
              "      <td>RT  jhzago  O Povo Brasileiro tem que exigir a...</td>\n",
              "      <td>[RT, jhzago, O, Povo, Brasileiro, tem, que, ex...</td>\n",
              "      <td>0.000</td>\n",
              "    </tr>\n",
              "    <tr>\n",
              "      <th>7</th>\n",
              "      <td>1637811038849581056</td>\n",
              "      <td>RT  IvanValente  A Eletrobras produz um terço ...</td>\n",
              "      <td>[RT, IvanValente, A, Eletrobras, produz, um, t...</td>\n",
              "      <td>0.000</td>\n",
              "    </tr>\n",
              "    <tr>\n",
              "      <th>8</th>\n",
              "      <td>1637810814278148100</td>\n",
              "      <td>RT  IvanValente  A Eletrobras produz um terço ...</td>\n",
              "      <td>[RT, IvanValente, A, Eletrobras, produz, um, t...</td>\n",
              "      <td>0.000</td>\n",
              "    </tr>\n",
              "    <tr>\n",
              "      <th>9</th>\n",
              "      <td>1637810555913224197</td>\n",
              "      <td>RT  Shirlanlhp  Final do Governo Temer Equator...</td>\n",
              "      <td>[RT, Shirlanlhp, Final, do, Governo, Temer, Eq...</td>\n",
              "      <td>0.000</td>\n",
              "    </tr>\n",
              "    <tr>\n",
              "      <th>10</th>\n",
              "      <td>1637810455040204804</td>\n",
              "      <td>RT  AlencarBraga13  A Eletrobras é patrimônio ...</td>\n",
              "      <td>[RT, AlencarBraga13, A, Eletrobras, é, patrimô...</td>\n",
              "      <td>0.000</td>\n",
              "    </tr>\n",
              "    <tr>\n",
              "      <th>11</th>\n",
              "      <td>1637810112961167360</td>\n",
              "      <td>RT  A MelhorNoticia  🇧🇷 Brasil \\nJanja é soció...</td>\n",
              "      <td>[RT, A, MelhorNoticia, 🇧🇷, Brasil, Janja, é, s...</td>\n",
              "      <td>0.000</td>\n",
              "    </tr>\n",
              "    <tr>\n",
              "      <th>12</th>\n",
              "      <td>1637809832555167744</td>\n",
              "      <td>RT  A MelhorNoticia  🇧🇷 Brasil \\nJanja é soció...</td>\n",
              "      <td>[RT, A, MelhorNoticia, 🇧🇷, Brasil, Janja, é, s...</td>\n",
              "      <td>0.000</td>\n",
              "    </tr>\n",
              "    <tr>\n",
              "      <th>13</th>\n",
              "      <td>1637809689302892544</td>\n",
              "      <td>RT  A MelhorNoticia  🇧🇷 Brasil \\nJanja é soció...</td>\n",
              "      <td>[RT, A, MelhorNoticia, 🇧🇷, Brasil, Janja, é, s...</td>\n",
              "      <td>0.000</td>\n",
              "    </tr>\n",
              "    <tr>\n",
              "      <th>14</th>\n",
              "      <td>1637809393034047488</td>\n",
              "      <td>RT  A MelhorNoticia  🇧🇷 Brasil \\nJanja é soció...</td>\n",
              "      <td>[RT, A, MelhorNoticia, 🇧🇷, Brasil, Janja, é, s...</td>\n",
              "      <td>0.000</td>\n",
              "    </tr>\n",
              "    <tr>\n",
              "      <th>15</th>\n",
              "      <td>1637809015932571648</td>\n",
              "      <td>RT  Sgt Pimenta4  Vamos comprar ações da  elet...</td>\n",
              "      <td>[RT, Sgt, Pimenta4, Vamos, comprar, ações, da,...</td>\n",
              "      <td>-0.296</td>\n",
              "    </tr>\n",
              "  </tbody>\n",
              "</table>\n",
              "</div>\n",
              "      <button class=\"colab-df-convert\" onclick=\"convertToInteractive('df-d235bf4e-10d3-4c64-9b57-7f0d5f38b4fe')\"\n",
              "              title=\"Convert this dataframe to an interactive table.\"\n",
              "              style=\"display:none;\">\n",
              "        \n",
              "  <svg xmlns=\"http://www.w3.org/2000/svg\" height=\"24px\"viewBox=\"0 0 24 24\"\n",
              "       width=\"24px\">\n",
              "    <path d=\"M0 0h24v24H0V0z\" fill=\"none\"/>\n",
              "    <path d=\"M18.56 5.44l.94 2.06.94-2.06 2.06-.94-2.06-.94-.94-2.06-.94 2.06-2.06.94zm-11 1L8.5 8.5l.94-2.06 2.06-.94-2.06-.94L8.5 2.5l-.94 2.06-2.06.94zm10 10l.94 2.06.94-2.06 2.06-.94-2.06-.94-.94-2.06-.94 2.06-2.06.94z\"/><path d=\"M17.41 7.96l-1.37-1.37c-.4-.4-.92-.59-1.43-.59-.52 0-1.04.2-1.43.59L10.3 9.45l-7.72 7.72c-.78.78-.78 2.05 0 2.83L4 21.41c.39.39.9.59 1.41.59.51 0 1.02-.2 1.41-.59l7.78-7.78 2.81-2.81c.8-.78.8-2.07 0-2.86zM5.41 20L4 18.59l7.72-7.72 1.47 1.35L5.41 20z\"/>\n",
              "  </svg>\n",
              "      </button>\n",
              "      \n",
              "  <style>\n",
              "    .colab-df-container {\n",
              "      display:flex;\n",
              "      flex-wrap:wrap;\n",
              "      gap: 12px;\n",
              "    }\n",
              "\n",
              "    .colab-df-convert {\n",
              "      background-color: #E8F0FE;\n",
              "      border: none;\n",
              "      border-radius: 50%;\n",
              "      cursor: pointer;\n",
              "      display: none;\n",
              "      fill: #1967D2;\n",
              "      height: 32px;\n",
              "      padding: 0 0 0 0;\n",
              "      width: 32px;\n",
              "    }\n",
              "\n",
              "    .colab-df-convert:hover {\n",
              "      background-color: #E2EBFA;\n",
              "      box-shadow: 0px 1px 2px rgba(60, 64, 67, 0.3), 0px 1px 3px 1px rgba(60, 64, 67, 0.15);\n",
              "      fill: #174EA6;\n",
              "    }\n",
              "\n",
              "    [theme=dark] .colab-df-convert {\n",
              "      background-color: #3B4455;\n",
              "      fill: #D2E3FC;\n",
              "    }\n",
              "\n",
              "    [theme=dark] .colab-df-convert:hover {\n",
              "      background-color: #434B5C;\n",
              "      box-shadow: 0px 1px 3px 1px rgba(0, 0, 0, 0.15);\n",
              "      filter: drop-shadow(0px 1px 2px rgba(0, 0, 0, 0.3));\n",
              "      fill: #FFFFFF;\n",
              "    }\n",
              "  </style>\n",
              "\n",
              "      <script>\n",
              "        const buttonEl =\n",
              "          document.querySelector('#df-d235bf4e-10d3-4c64-9b57-7f0d5f38b4fe button.colab-df-convert');\n",
              "        buttonEl.style.display =\n",
              "          google.colab.kernel.accessAllowed ? 'block' : 'none';\n",
              "\n",
              "        async function convertToInteractive(key) {\n",
              "          const element = document.querySelector('#df-d235bf4e-10d3-4c64-9b57-7f0d5f38b4fe');\n",
              "          const dataTable =\n",
              "            await google.colab.kernel.invokeFunction('convertToInteractive',\n",
              "                                                     [key], {});\n",
              "          if (!dataTable) return;\n",
              "\n",
              "          const docLinkHtml = 'Like what you see? Visit the ' +\n",
              "            '<a target=\"_blank\" href=https://colab.research.google.com/notebooks/data_table.ipynb>data table notebook</a>'\n",
              "            + ' to learn more about interactive tables.';\n",
              "          element.innerHTML = '';\n",
              "          dataTable['output_type'] = 'display_data';\n",
              "          await google.colab.output.renderOutput(dataTable, element);\n",
              "          const docLink = document.createElement('div');\n",
              "          docLink.innerHTML = docLinkHtml;\n",
              "          element.appendChild(docLink);\n",
              "        }\n",
              "      </script>\n",
              "    </div>\n",
              "  </div>\n",
              "  "
            ]
          },
          "metadata": {},
          "execution_count": 19
        }
      ]
    },
    {
      "cell_type": "code",
      "source": [
        "# Define uma função de mapeamento\n",
        "def mapear_valor(valor):\n",
        "    if valor > 0:\n",
        "        return 'Positivo'\n",
        "    elif valor < 0:\n",
        "        return 'Negativo'\n",
        "    else:\n",
        "        return 'Neutro'\n"
      ],
      "metadata": {
        "id": "oKKWAhrLW3n9"
      },
      "execution_count": 20,
      "outputs": []
    },
    {
      "cell_type": "code",
      "source": [
        "df2['Pontuacao2'] = df2['Pontuacao2'].astype(float)"
      ],
      "metadata": {
        "id": "sjM4bmPfbg_l"
      },
      "execution_count": 21,
      "outputs": []
    },
    {
      "cell_type": "code",
      "source": [
        "df2.head()"
      ],
      "metadata": {
        "id": "cwgqHcnRbxaC",
        "colab": {
          "base_uri": "https://localhost:8080/",
          "height": 337
        },
        "outputId": "037f08a0-7280-4666-ad55-54504652d1ea"
      },
      "execution_count": 22,
      "outputs": [
        {
          "output_type": "execute_result",
          "data": {
            "text/plain": [
              "                    ID                                               text  \\\n",
              "0  1637812051006353409  RT  A MelhorNoticia  🇧🇷 Brasil \\nJanja é soció...   \n",
              "1  1637812009239453698  RT  A MelhorNoticia  🇧🇷 Brasil \\nJanja é soció...   \n",
              "2  1637812007981178882  RT  A MelhorNoticia  🇧🇷 Brasil \\nJanja é soció...   \n",
              "3  1637811966889676802  RT  A MelhorNoticia  🇧🇷 Brasil \\nJanja é soció...   \n",
              "4  1637811934274674693  RT  A MelhorNoticia  🇧🇷 Brasil \\nJanja é soció...   \n",
              "\n",
              "                                              tokens  Pontuacao2  \n",
              "0  [RT, A, MelhorNoticia, 🇧🇷, Brasil, Janja, é, s...         0.0  \n",
              "1  [RT, A, MelhorNoticia, 🇧🇷, Brasil, Janja, é, s...         0.0  \n",
              "2  [RT, A, MelhorNoticia, 🇧🇷, Brasil, Janja, é, s...         0.0  \n",
              "3  [RT, A, MelhorNoticia, 🇧🇷, Brasil, Janja, é, s...         0.0  \n",
              "4  [RT, A, MelhorNoticia, 🇧🇷, Brasil, Janja, é, s...         0.0  "
            ],
            "text/html": [
              "\n",
              "  <div id=\"df-a9fcad24-cac3-4351-b7a0-acd510439df7\">\n",
              "    <div class=\"colab-df-container\">\n",
              "      <div>\n",
              "<style scoped>\n",
              "    .dataframe tbody tr th:only-of-type {\n",
              "        vertical-align: middle;\n",
              "    }\n",
              "\n",
              "    .dataframe tbody tr th {\n",
              "        vertical-align: top;\n",
              "    }\n",
              "\n",
              "    .dataframe thead th {\n",
              "        text-align: right;\n",
              "    }\n",
              "</style>\n",
              "<table border=\"1\" class=\"dataframe\">\n",
              "  <thead>\n",
              "    <tr style=\"text-align: right;\">\n",
              "      <th></th>\n",
              "      <th>ID</th>\n",
              "      <th>text</th>\n",
              "      <th>tokens</th>\n",
              "      <th>Pontuacao2</th>\n",
              "    </tr>\n",
              "  </thead>\n",
              "  <tbody>\n",
              "    <tr>\n",
              "      <th>0</th>\n",
              "      <td>1637812051006353409</td>\n",
              "      <td>RT  A MelhorNoticia  🇧🇷 Brasil \\nJanja é soció...</td>\n",
              "      <td>[RT, A, MelhorNoticia, 🇧🇷, Brasil, Janja, é, s...</td>\n",
              "      <td>0.0</td>\n",
              "    </tr>\n",
              "    <tr>\n",
              "      <th>1</th>\n",
              "      <td>1637812009239453698</td>\n",
              "      <td>RT  A MelhorNoticia  🇧🇷 Brasil \\nJanja é soció...</td>\n",
              "      <td>[RT, A, MelhorNoticia, 🇧🇷, Brasil, Janja, é, s...</td>\n",
              "      <td>0.0</td>\n",
              "    </tr>\n",
              "    <tr>\n",
              "      <th>2</th>\n",
              "      <td>1637812007981178882</td>\n",
              "      <td>RT  A MelhorNoticia  🇧🇷 Brasil \\nJanja é soció...</td>\n",
              "      <td>[RT, A, MelhorNoticia, 🇧🇷, Brasil, Janja, é, s...</td>\n",
              "      <td>0.0</td>\n",
              "    </tr>\n",
              "    <tr>\n",
              "      <th>3</th>\n",
              "      <td>1637811966889676802</td>\n",
              "      <td>RT  A MelhorNoticia  🇧🇷 Brasil \\nJanja é soció...</td>\n",
              "      <td>[RT, A, MelhorNoticia, 🇧🇷, Brasil, Janja, é, s...</td>\n",
              "      <td>0.0</td>\n",
              "    </tr>\n",
              "    <tr>\n",
              "      <th>4</th>\n",
              "      <td>1637811934274674693</td>\n",
              "      <td>RT  A MelhorNoticia  🇧🇷 Brasil \\nJanja é soció...</td>\n",
              "      <td>[RT, A, MelhorNoticia, 🇧🇷, Brasil, Janja, é, s...</td>\n",
              "      <td>0.0</td>\n",
              "    </tr>\n",
              "  </tbody>\n",
              "</table>\n",
              "</div>\n",
              "      <button class=\"colab-df-convert\" onclick=\"convertToInteractive('df-a9fcad24-cac3-4351-b7a0-acd510439df7')\"\n",
              "              title=\"Convert this dataframe to an interactive table.\"\n",
              "              style=\"display:none;\">\n",
              "        \n",
              "  <svg xmlns=\"http://www.w3.org/2000/svg\" height=\"24px\"viewBox=\"0 0 24 24\"\n",
              "       width=\"24px\">\n",
              "    <path d=\"M0 0h24v24H0V0z\" fill=\"none\"/>\n",
              "    <path d=\"M18.56 5.44l.94 2.06.94-2.06 2.06-.94-2.06-.94-.94-2.06-.94 2.06-2.06.94zm-11 1L8.5 8.5l.94-2.06 2.06-.94-2.06-.94L8.5 2.5l-.94 2.06-2.06.94zm10 10l.94 2.06.94-2.06 2.06-.94-2.06-.94-.94-2.06-.94 2.06-2.06.94z\"/><path d=\"M17.41 7.96l-1.37-1.37c-.4-.4-.92-.59-1.43-.59-.52 0-1.04.2-1.43.59L10.3 9.45l-7.72 7.72c-.78.78-.78 2.05 0 2.83L4 21.41c.39.39.9.59 1.41.59.51 0 1.02-.2 1.41-.59l7.78-7.78 2.81-2.81c.8-.78.8-2.07 0-2.86zM5.41 20L4 18.59l7.72-7.72 1.47 1.35L5.41 20z\"/>\n",
              "  </svg>\n",
              "      </button>\n",
              "      \n",
              "  <style>\n",
              "    .colab-df-container {\n",
              "      display:flex;\n",
              "      flex-wrap:wrap;\n",
              "      gap: 12px;\n",
              "    }\n",
              "\n",
              "    .colab-df-convert {\n",
              "      background-color: #E8F0FE;\n",
              "      border: none;\n",
              "      border-radius: 50%;\n",
              "      cursor: pointer;\n",
              "      display: none;\n",
              "      fill: #1967D2;\n",
              "      height: 32px;\n",
              "      padding: 0 0 0 0;\n",
              "      width: 32px;\n",
              "    }\n",
              "\n",
              "    .colab-df-convert:hover {\n",
              "      background-color: #E2EBFA;\n",
              "      box-shadow: 0px 1px 2px rgba(60, 64, 67, 0.3), 0px 1px 3px 1px rgba(60, 64, 67, 0.15);\n",
              "      fill: #174EA6;\n",
              "    }\n",
              "\n",
              "    [theme=dark] .colab-df-convert {\n",
              "      background-color: #3B4455;\n",
              "      fill: #D2E3FC;\n",
              "    }\n",
              "\n",
              "    [theme=dark] .colab-df-convert:hover {\n",
              "      background-color: #434B5C;\n",
              "      box-shadow: 0px 1px 3px 1px rgba(0, 0, 0, 0.15);\n",
              "      filter: drop-shadow(0px 1px 2px rgba(0, 0, 0, 0.3));\n",
              "      fill: #FFFFFF;\n",
              "    }\n",
              "  </style>\n",
              "\n",
              "      <script>\n",
              "        const buttonEl =\n",
              "          document.querySelector('#df-a9fcad24-cac3-4351-b7a0-acd510439df7 button.colab-df-convert');\n",
              "        buttonEl.style.display =\n",
              "          google.colab.kernel.accessAllowed ? 'block' : 'none';\n",
              "\n",
              "        async function convertToInteractive(key) {\n",
              "          const element = document.querySelector('#df-a9fcad24-cac3-4351-b7a0-acd510439df7');\n",
              "          const dataTable =\n",
              "            await google.colab.kernel.invokeFunction('convertToInteractive',\n",
              "                                                     [key], {});\n",
              "          if (!dataTable) return;\n",
              "\n",
              "          const docLinkHtml = 'Like what you see? Visit the ' +\n",
              "            '<a target=\"_blank\" href=https://colab.research.google.com/notebooks/data_table.ipynb>data table notebook</a>'\n",
              "            + ' to learn more about interactive tables.';\n",
              "          element.innerHTML = '';\n",
              "          dataTable['output_type'] = 'display_data';\n",
              "          await google.colab.output.renderOutput(dataTable, element);\n",
              "          const docLink = document.createElement('div');\n",
              "          docLink.innerHTML = docLinkHtml;\n",
              "          element.appendChild(docLink);\n",
              "        }\n",
              "      </script>\n",
              "    </div>\n",
              "  </div>\n",
              "  "
            ]
          },
          "metadata": {},
          "execution_count": 22
        }
      ]
    },
    {
      "cell_type": "code",
      "source": [
        "df2['rotulos'] = df2['Pontuacao2'].apply(mapear_valor)"
      ],
      "metadata": {
        "id": "S_zZWPW6Zk9D"
      },
      "execution_count": 23,
      "outputs": []
    },
    {
      "cell_type": "code",
      "source": [
        "df2.head()"
      ],
      "metadata": {
        "colab": {
          "base_uri": "https://localhost:8080/",
          "height": 337
        },
        "id": "Cpvy_9f6dY7A",
        "outputId": "a4f90831-e376-45f9-ee1f-a1c8edb6a074"
      },
      "execution_count": 24,
      "outputs": [
        {
          "output_type": "execute_result",
          "data": {
            "text/plain": [
              "                    ID                                               text  \\\n",
              "0  1637812051006353409  RT  A MelhorNoticia  🇧🇷 Brasil \\nJanja é soció...   \n",
              "1  1637812009239453698  RT  A MelhorNoticia  🇧🇷 Brasil \\nJanja é soció...   \n",
              "2  1637812007981178882  RT  A MelhorNoticia  🇧🇷 Brasil \\nJanja é soció...   \n",
              "3  1637811966889676802  RT  A MelhorNoticia  🇧🇷 Brasil \\nJanja é soció...   \n",
              "4  1637811934274674693  RT  A MelhorNoticia  🇧🇷 Brasil \\nJanja é soció...   \n",
              "\n",
              "                                              tokens  Pontuacao2 rotulos  \n",
              "0  [RT, A, MelhorNoticia, 🇧🇷, Brasil, Janja, é, s...         0.0  Neutro  \n",
              "1  [RT, A, MelhorNoticia, 🇧🇷, Brasil, Janja, é, s...         0.0  Neutro  \n",
              "2  [RT, A, MelhorNoticia, 🇧🇷, Brasil, Janja, é, s...         0.0  Neutro  \n",
              "3  [RT, A, MelhorNoticia, 🇧🇷, Brasil, Janja, é, s...         0.0  Neutro  \n",
              "4  [RT, A, MelhorNoticia, 🇧🇷, Brasil, Janja, é, s...         0.0  Neutro  "
            ],
            "text/html": [
              "\n",
              "  <div id=\"df-9d1132bd-49cc-4414-b0ce-258ea96e0aab\">\n",
              "    <div class=\"colab-df-container\">\n",
              "      <div>\n",
              "<style scoped>\n",
              "    .dataframe tbody tr th:only-of-type {\n",
              "        vertical-align: middle;\n",
              "    }\n",
              "\n",
              "    .dataframe tbody tr th {\n",
              "        vertical-align: top;\n",
              "    }\n",
              "\n",
              "    .dataframe thead th {\n",
              "        text-align: right;\n",
              "    }\n",
              "</style>\n",
              "<table border=\"1\" class=\"dataframe\">\n",
              "  <thead>\n",
              "    <tr style=\"text-align: right;\">\n",
              "      <th></th>\n",
              "      <th>ID</th>\n",
              "      <th>text</th>\n",
              "      <th>tokens</th>\n",
              "      <th>Pontuacao2</th>\n",
              "      <th>rotulos</th>\n",
              "    </tr>\n",
              "  </thead>\n",
              "  <tbody>\n",
              "    <tr>\n",
              "      <th>0</th>\n",
              "      <td>1637812051006353409</td>\n",
              "      <td>RT  A MelhorNoticia  🇧🇷 Brasil \\nJanja é soció...</td>\n",
              "      <td>[RT, A, MelhorNoticia, 🇧🇷, Brasil, Janja, é, s...</td>\n",
              "      <td>0.0</td>\n",
              "      <td>Neutro</td>\n",
              "    </tr>\n",
              "    <tr>\n",
              "      <th>1</th>\n",
              "      <td>1637812009239453698</td>\n",
              "      <td>RT  A MelhorNoticia  🇧🇷 Brasil \\nJanja é soció...</td>\n",
              "      <td>[RT, A, MelhorNoticia, 🇧🇷, Brasil, Janja, é, s...</td>\n",
              "      <td>0.0</td>\n",
              "      <td>Neutro</td>\n",
              "    </tr>\n",
              "    <tr>\n",
              "      <th>2</th>\n",
              "      <td>1637812007981178882</td>\n",
              "      <td>RT  A MelhorNoticia  🇧🇷 Brasil \\nJanja é soció...</td>\n",
              "      <td>[RT, A, MelhorNoticia, 🇧🇷, Brasil, Janja, é, s...</td>\n",
              "      <td>0.0</td>\n",
              "      <td>Neutro</td>\n",
              "    </tr>\n",
              "    <tr>\n",
              "      <th>3</th>\n",
              "      <td>1637811966889676802</td>\n",
              "      <td>RT  A MelhorNoticia  🇧🇷 Brasil \\nJanja é soció...</td>\n",
              "      <td>[RT, A, MelhorNoticia, 🇧🇷, Brasil, Janja, é, s...</td>\n",
              "      <td>0.0</td>\n",
              "      <td>Neutro</td>\n",
              "    </tr>\n",
              "    <tr>\n",
              "      <th>4</th>\n",
              "      <td>1637811934274674693</td>\n",
              "      <td>RT  A MelhorNoticia  🇧🇷 Brasil \\nJanja é soció...</td>\n",
              "      <td>[RT, A, MelhorNoticia, 🇧🇷, Brasil, Janja, é, s...</td>\n",
              "      <td>0.0</td>\n",
              "      <td>Neutro</td>\n",
              "    </tr>\n",
              "  </tbody>\n",
              "</table>\n",
              "</div>\n",
              "      <button class=\"colab-df-convert\" onclick=\"convertToInteractive('df-9d1132bd-49cc-4414-b0ce-258ea96e0aab')\"\n",
              "              title=\"Convert this dataframe to an interactive table.\"\n",
              "              style=\"display:none;\">\n",
              "        \n",
              "  <svg xmlns=\"http://www.w3.org/2000/svg\" height=\"24px\"viewBox=\"0 0 24 24\"\n",
              "       width=\"24px\">\n",
              "    <path d=\"M0 0h24v24H0V0z\" fill=\"none\"/>\n",
              "    <path d=\"M18.56 5.44l.94 2.06.94-2.06 2.06-.94-2.06-.94-.94-2.06-.94 2.06-2.06.94zm-11 1L8.5 8.5l.94-2.06 2.06-.94-2.06-.94L8.5 2.5l-.94 2.06-2.06.94zm10 10l.94 2.06.94-2.06 2.06-.94-2.06-.94-.94-2.06-.94 2.06-2.06.94z\"/><path d=\"M17.41 7.96l-1.37-1.37c-.4-.4-.92-.59-1.43-.59-.52 0-1.04.2-1.43.59L10.3 9.45l-7.72 7.72c-.78.78-.78 2.05 0 2.83L4 21.41c.39.39.9.59 1.41.59.51 0 1.02-.2 1.41-.59l7.78-7.78 2.81-2.81c.8-.78.8-2.07 0-2.86zM5.41 20L4 18.59l7.72-7.72 1.47 1.35L5.41 20z\"/>\n",
              "  </svg>\n",
              "      </button>\n",
              "      \n",
              "  <style>\n",
              "    .colab-df-container {\n",
              "      display:flex;\n",
              "      flex-wrap:wrap;\n",
              "      gap: 12px;\n",
              "    }\n",
              "\n",
              "    .colab-df-convert {\n",
              "      background-color: #E8F0FE;\n",
              "      border: none;\n",
              "      border-radius: 50%;\n",
              "      cursor: pointer;\n",
              "      display: none;\n",
              "      fill: #1967D2;\n",
              "      height: 32px;\n",
              "      padding: 0 0 0 0;\n",
              "      width: 32px;\n",
              "    }\n",
              "\n",
              "    .colab-df-convert:hover {\n",
              "      background-color: #E2EBFA;\n",
              "      box-shadow: 0px 1px 2px rgba(60, 64, 67, 0.3), 0px 1px 3px 1px rgba(60, 64, 67, 0.15);\n",
              "      fill: #174EA6;\n",
              "    }\n",
              "\n",
              "    [theme=dark] .colab-df-convert {\n",
              "      background-color: #3B4455;\n",
              "      fill: #D2E3FC;\n",
              "    }\n",
              "\n",
              "    [theme=dark] .colab-df-convert:hover {\n",
              "      background-color: #434B5C;\n",
              "      box-shadow: 0px 1px 3px 1px rgba(0, 0, 0, 0.15);\n",
              "      filter: drop-shadow(0px 1px 2px rgba(0, 0, 0, 0.3));\n",
              "      fill: #FFFFFF;\n",
              "    }\n",
              "  </style>\n",
              "\n",
              "      <script>\n",
              "        const buttonEl =\n",
              "          document.querySelector('#df-9d1132bd-49cc-4414-b0ce-258ea96e0aab button.colab-df-convert');\n",
              "        buttonEl.style.display =\n",
              "          google.colab.kernel.accessAllowed ? 'block' : 'none';\n",
              "\n",
              "        async function convertToInteractive(key) {\n",
              "          const element = document.querySelector('#df-9d1132bd-49cc-4414-b0ce-258ea96e0aab');\n",
              "          const dataTable =\n",
              "            await google.colab.kernel.invokeFunction('convertToInteractive',\n",
              "                                                     [key], {});\n",
              "          if (!dataTable) return;\n",
              "\n",
              "          const docLinkHtml = 'Like what you see? Visit the ' +\n",
              "            '<a target=\"_blank\" href=https://colab.research.google.com/notebooks/data_table.ipynb>data table notebook</a>'\n",
              "            + ' to learn more about interactive tables.';\n",
              "          element.innerHTML = '';\n",
              "          dataTable['output_type'] = 'display_data';\n",
              "          await google.colab.output.renderOutput(dataTable, element);\n",
              "          const docLink = document.createElement('div');\n",
              "          docLink.innerHTML = docLinkHtml;\n",
              "          element.appendChild(docLink);\n",
              "        }\n",
              "      </script>\n",
              "    </div>\n",
              "  </div>\n",
              "  "
            ]
          },
          "metadata": {},
          "execution_count": 24
        }
      ]
    },
    {
      "cell_type": "code",
      "source": [
        "df2.iloc[4]"
      ],
      "metadata": {
        "colab": {
          "base_uri": "https://localhost:8080/"
        },
        "id": "kOZ368LrTYwB",
        "outputId": "1436df33-27c0-416c-f86a-19a4715395dc"
      },
      "execution_count": 25,
      "outputs": [
        {
          "output_type": "execute_result",
          "data": {
            "text/plain": [
              "ID                                          1637811934274674693\n",
              "text          RT  A MelhorNoticia  🇧🇷 Brasil \\nJanja é soció...\n",
              "tokens        [RT, A, MelhorNoticia, 🇧🇷, Brasil, Janja, é, s...\n",
              "Pontuacao2                                                  0.0\n",
              "rotulos                                                  Neutro\n",
              "Name: 4, dtype: object"
            ]
          },
          "metadata": {},
          "execution_count": 25
        }
      ]
    },
    {
      "cell_type": "code",
      "source": [
        "# Essa expressão regular remove todas as palavras com números e também torna todas as palavras em minúsculas\n",
        "lower_alpha = lambda x: re.sub(r\"\"\"\\w*\\d\\w*\"\"\", ' ', x.lower())\n",
        "df2['text'] = df2.text.map(lower_alpha)"
      ],
      "metadata": {
        "id": "S5f3WlBAUJWx"
      },
      "execution_count": 26,
      "outputs": []
    },
    {
      "cell_type": "code",
      "source": [
        "df2.head()"
      ],
      "metadata": {
        "colab": {
          "base_uri": "https://localhost:8080/",
          "height": 337
        },
        "id": "lTDlPZ8EUln3",
        "outputId": "45f8693f-ca2d-42b5-d964-ebd9dd7ee054"
      },
      "execution_count": 27,
      "outputs": [
        {
          "output_type": "execute_result",
          "data": {
            "text/plain": [
              "                    ID                                               text  \\\n",
              "0  1637812051006353409  rt  a melhornoticia  🇧🇷 brasil \\njanja é soció...   \n",
              "1  1637812009239453698  rt  a melhornoticia  🇧🇷 brasil \\njanja é soció...   \n",
              "2  1637812007981178882  rt  a melhornoticia  🇧🇷 brasil \\njanja é soció...   \n",
              "3  1637811966889676802  rt  a melhornoticia  🇧🇷 brasil \\njanja é soció...   \n",
              "4  1637811934274674693  rt  a melhornoticia  🇧🇷 brasil \\njanja é soció...   \n",
              "\n",
              "                                              tokens  Pontuacao2 rotulos  \n",
              "0  [RT, A, MelhorNoticia, 🇧🇷, Brasil, Janja, é, s...         0.0  Neutro  \n",
              "1  [RT, A, MelhorNoticia, 🇧🇷, Brasil, Janja, é, s...         0.0  Neutro  \n",
              "2  [RT, A, MelhorNoticia, 🇧🇷, Brasil, Janja, é, s...         0.0  Neutro  \n",
              "3  [RT, A, MelhorNoticia, 🇧🇷, Brasil, Janja, é, s...         0.0  Neutro  \n",
              "4  [RT, A, MelhorNoticia, 🇧🇷, Brasil, Janja, é, s...         0.0  Neutro  "
            ],
            "text/html": [
              "\n",
              "  <div id=\"df-f1da3f2e-c4ad-4143-9418-b866c2ca26dd\">\n",
              "    <div class=\"colab-df-container\">\n",
              "      <div>\n",
              "<style scoped>\n",
              "    .dataframe tbody tr th:only-of-type {\n",
              "        vertical-align: middle;\n",
              "    }\n",
              "\n",
              "    .dataframe tbody tr th {\n",
              "        vertical-align: top;\n",
              "    }\n",
              "\n",
              "    .dataframe thead th {\n",
              "        text-align: right;\n",
              "    }\n",
              "</style>\n",
              "<table border=\"1\" class=\"dataframe\">\n",
              "  <thead>\n",
              "    <tr style=\"text-align: right;\">\n",
              "      <th></th>\n",
              "      <th>ID</th>\n",
              "      <th>text</th>\n",
              "      <th>tokens</th>\n",
              "      <th>Pontuacao2</th>\n",
              "      <th>rotulos</th>\n",
              "    </tr>\n",
              "  </thead>\n",
              "  <tbody>\n",
              "    <tr>\n",
              "      <th>0</th>\n",
              "      <td>1637812051006353409</td>\n",
              "      <td>rt  a melhornoticia  🇧🇷 brasil \\njanja é soció...</td>\n",
              "      <td>[RT, A, MelhorNoticia, 🇧🇷, Brasil, Janja, é, s...</td>\n",
              "      <td>0.0</td>\n",
              "      <td>Neutro</td>\n",
              "    </tr>\n",
              "    <tr>\n",
              "      <th>1</th>\n",
              "      <td>1637812009239453698</td>\n",
              "      <td>rt  a melhornoticia  🇧🇷 brasil \\njanja é soció...</td>\n",
              "      <td>[RT, A, MelhorNoticia, 🇧🇷, Brasil, Janja, é, s...</td>\n",
              "      <td>0.0</td>\n",
              "      <td>Neutro</td>\n",
              "    </tr>\n",
              "    <tr>\n",
              "      <th>2</th>\n",
              "      <td>1637812007981178882</td>\n",
              "      <td>rt  a melhornoticia  🇧🇷 brasil \\njanja é soció...</td>\n",
              "      <td>[RT, A, MelhorNoticia, 🇧🇷, Brasil, Janja, é, s...</td>\n",
              "      <td>0.0</td>\n",
              "      <td>Neutro</td>\n",
              "    </tr>\n",
              "    <tr>\n",
              "      <th>3</th>\n",
              "      <td>1637811966889676802</td>\n",
              "      <td>rt  a melhornoticia  🇧🇷 brasil \\njanja é soció...</td>\n",
              "      <td>[RT, A, MelhorNoticia, 🇧🇷, Brasil, Janja, é, s...</td>\n",
              "      <td>0.0</td>\n",
              "      <td>Neutro</td>\n",
              "    </tr>\n",
              "    <tr>\n",
              "      <th>4</th>\n",
              "      <td>1637811934274674693</td>\n",
              "      <td>rt  a melhornoticia  🇧🇷 brasil \\njanja é soció...</td>\n",
              "      <td>[RT, A, MelhorNoticia, 🇧🇷, Brasil, Janja, é, s...</td>\n",
              "      <td>0.0</td>\n",
              "      <td>Neutro</td>\n",
              "    </tr>\n",
              "  </tbody>\n",
              "</table>\n",
              "</div>\n",
              "      <button class=\"colab-df-convert\" onclick=\"convertToInteractive('df-f1da3f2e-c4ad-4143-9418-b866c2ca26dd')\"\n",
              "              title=\"Convert this dataframe to an interactive table.\"\n",
              "              style=\"display:none;\">\n",
              "        \n",
              "  <svg xmlns=\"http://www.w3.org/2000/svg\" height=\"24px\"viewBox=\"0 0 24 24\"\n",
              "       width=\"24px\">\n",
              "    <path d=\"M0 0h24v24H0V0z\" fill=\"none\"/>\n",
              "    <path d=\"M18.56 5.44l.94 2.06.94-2.06 2.06-.94-2.06-.94-.94-2.06-.94 2.06-2.06.94zm-11 1L8.5 8.5l.94-2.06 2.06-.94-2.06-.94L8.5 2.5l-.94 2.06-2.06.94zm10 10l.94 2.06.94-2.06 2.06-.94-2.06-.94-.94-2.06-.94 2.06-2.06.94z\"/><path d=\"M17.41 7.96l-1.37-1.37c-.4-.4-.92-.59-1.43-.59-.52 0-1.04.2-1.43.59L10.3 9.45l-7.72 7.72c-.78.78-.78 2.05 0 2.83L4 21.41c.39.39.9.59 1.41.59.51 0 1.02-.2 1.41-.59l7.78-7.78 2.81-2.81c.8-.78.8-2.07 0-2.86zM5.41 20L4 18.59l7.72-7.72 1.47 1.35L5.41 20z\"/>\n",
              "  </svg>\n",
              "      </button>\n",
              "      \n",
              "  <style>\n",
              "    .colab-df-container {\n",
              "      display:flex;\n",
              "      flex-wrap:wrap;\n",
              "      gap: 12px;\n",
              "    }\n",
              "\n",
              "    .colab-df-convert {\n",
              "      background-color: #E8F0FE;\n",
              "      border: none;\n",
              "      border-radius: 50%;\n",
              "      cursor: pointer;\n",
              "      display: none;\n",
              "      fill: #1967D2;\n",
              "      height: 32px;\n",
              "      padding: 0 0 0 0;\n",
              "      width: 32px;\n",
              "    }\n",
              "\n",
              "    .colab-df-convert:hover {\n",
              "      background-color: #E2EBFA;\n",
              "      box-shadow: 0px 1px 2px rgba(60, 64, 67, 0.3), 0px 1px 3px 1px rgba(60, 64, 67, 0.15);\n",
              "      fill: #174EA6;\n",
              "    }\n",
              "\n",
              "    [theme=dark] .colab-df-convert {\n",
              "      background-color: #3B4455;\n",
              "      fill: #D2E3FC;\n",
              "    }\n",
              "\n",
              "    [theme=dark] .colab-df-convert:hover {\n",
              "      background-color: #434B5C;\n",
              "      box-shadow: 0px 1px 3px 1px rgba(0, 0, 0, 0.15);\n",
              "      filter: drop-shadow(0px 1px 2px rgba(0, 0, 0, 0.3));\n",
              "      fill: #FFFFFF;\n",
              "    }\n",
              "  </style>\n",
              "\n",
              "      <script>\n",
              "        const buttonEl =\n",
              "          document.querySelector('#df-f1da3f2e-c4ad-4143-9418-b866c2ca26dd button.colab-df-convert');\n",
              "        buttonEl.style.display =\n",
              "          google.colab.kernel.accessAllowed ? 'block' : 'none';\n",
              "\n",
              "        async function convertToInteractive(key) {\n",
              "          const element = document.querySelector('#df-f1da3f2e-c4ad-4143-9418-b866c2ca26dd');\n",
              "          const dataTable =\n",
              "            await google.colab.kernel.invokeFunction('convertToInteractive',\n",
              "                                                     [key], {});\n",
              "          if (!dataTable) return;\n",
              "\n",
              "          const docLinkHtml = 'Like what you see? Visit the ' +\n",
              "            '<a target=\"_blank\" href=https://colab.research.google.com/notebooks/data_table.ipynb>data table notebook</a>'\n",
              "            + ' to learn more about interactive tables.';\n",
              "          element.innerHTML = '';\n",
              "          dataTable['output_type'] = 'display_data';\n",
              "          await google.colab.output.renderOutput(dataTable, element);\n",
              "          const docLink = document.createElement('div');\n",
              "          docLink.innerHTML = docLinkHtml;\n",
              "          element.appendChild(docLink);\n",
              "        }\n",
              "      </script>\n",
              "    </div>\n",
              "  </div>\n",
              "  "
            ]
          },
          "metadata": {},
          "execution_count": 27
        }
      ]
    },
    {
      "cell_type": "code",
      "source": [
        "# Isso cria uma lista enorme combinando todos os valores de tokens\n",
        "word_list = sum(df2.tokens.tolist(), [])\n",
        "\n",
        "word_list[:10]"
      ],
      "metadata": {
        "colab": {
          "base_uri": "https://localhost:8080/"
        },
        "id": "sFIDNLetWSMR",
        "outputId": "685c81d9-bbdc-4650-95df-addf17c64655"
      },
      "execution_count": 28,
      "outputs": [
        {
          "output_type": "execute_result",
          "data": {
            "text/plain": [
              "['RT',\n",
              " 'A',\n",
              " 'MelhorNoticia',\n",
              " '🇧🇷',\n",
              " 'Brasil',\n",
              " 'Janja',\n",
              " 'é',\n",
              " 'socióloga',\n",
              " 'já',\n",
              " 'foi']"
            ]
          },
          "metadata": {},
          "execution_count": 28
        }
      ]
    },
    {
      "cell_type": "code",
      "source": [
        "# Estas são as etapas para encontrar as palavras mais comuns\n",
        "\n",
        "#from collections import Counter\n",
        "\n",
        "# Converte a lista em um dicionário com contagem de valores\n",
        "word_counts = Counter(word_list)\n",
        "\n",
        "# Inverter a chave / valores no dicionário para classificarReverter a chave / valores no dicionário para classificar\n",
        "word_counts = list(zip(word_counts.values(), word_counts.keys()))\n",
        "\n",
        "# Classifique a lista por contagem\n",
        "word_counts = sorted(word_counts, reverse=True)\n",
        "\n",
        "# Imprime as 10 palavras mais comuns\n",
        "word_counts[:10]"
      ],
      "metadata": {
        "colab": {
          "base_uri": "https://localhost:8080/"
        },
        "id": "U0G7O54hWbJT",
        "outputId": "a17c94d5-f452-4624-83a2-a5faf29982dd"
      },
      "execution_count": 29,
      "outputs": [
        {
          "output_type": "execute_result",
          "data": {
            "text/plain": [
              "[(1803, 'na'),\n",
              " (1711, 'RT'),\n",
              " (1637, 'já'),\n",
              " (1615, 'Eletrobras'),\n",
              " (1598, 'e'),\n",
              " (1506, 'da'),\n",
              " (1313, 'é'),\n",
              " (1280, 'a'),\n",
              " (1256, 'A'),\n",
              " (1228, 'Brasil')]"
            ]
          },
          "metadata": {},
          "execution_count": 29
        }
      ]
    },
    {
      "cell_type": "code",
      "source": [
        "# A distribuição dos comprimentos das palavras\n",
        "word_lengths = pd.Series([len(x) for x in word_list])\n",
        "\n",
        "ax = word_lengths.hist(bins=15)\n",
        "ax.set(xlabel='Word Lengths', ylabel='Frequency', title='Distribution of Word Length');"
      ],
      "metadata": {
        "colab": {
          "base_uri": "https://localhost:8080/",
          "height": 295
        },
        "id": "kY617f4PWpYP",
        "outputId": "877eda1a-2c90-41a1-de27-a7743f435de6"
      },
      "execution_count": 30,
      "outputs": [
        {
          "output_type": "display_data",
          "data": {
            "text/plain": [
              "<Figure size 432x288 with 1 Axes>"
            ],
            "image/png": "[encoded data removed]"
          },
          "metadata": {
            "needs_background": "light"
          }
        }
      ]
    },
    {
      "cell_type": "code",
      "source": [
        "word_counts[:10]"
      ],
      "metadata": {
        "colab": {
          "base_uri": "https://localhost:8080/"
        },
        "id": "SylM_AaPRODb",
        "outputId": "26ed7bcc-e9d5-44a1-9386-e12567be5fd7"
      },
      "execution_count": 31,
      "outputs": [
        {
          "output_type": "execute_result",
          "data": {
            "text/plain": [
              "[(1803, 'na'),\n",
              " (1711, 'RT'),\n",
              " (1637, 'já'),\n",
              " (1615, 'Eletrobras'),\n",
              " (1598, 'e'),\n",
              " (1506, 'da'),\n",
              " (1313, 'é'),\n",
              " (1280, 'a'),\n",
              " (1256, 'A'),\n",
              " (1228, 'Brasil')]"
            ]
          },
          "metadata": {},
          "execution_count": 31
        }
      ]
    },
    {
      "cell_type": "code",
      "source": [
        "# Remova as stop words\n",
        "from nltk.corpus import stopwords\n",
        "nltk.download(\"stopwords\")\n",
        "\n",
        "stop_words = stopwords.words('portuguese')\n",
        "stop_words.append('co')\n",
        "stop_words.append('t')\n",
        "stop_words.append('https')\n",
        "stop_words.append('rt')\n",
        "stop_words.append('a')\n",
        "stop_words.append('e')\n",
        "stop_words.append('o')\n",
        "stop_words.append('de')\n",
        "stop_words.append('com')\n",
        "\n",
        "stop_lambda = lambda x: [y for y in x if y not in stop_words]\n",
        "df2['tokens_stop'] = df2.tokens.apply(stop_lambda)\n",
        "df2.head()"
      ],
      "metadata": {
        "colab": {
          "base_uri": "https://localhost:8080/",
          "height": 371
        },
        "id": "KyPfLDIaXRS1",
        "outputId": "616af851-3a56-4524-fe42-e7315e076b56"
      },
      "execution_count": 32,
      "outputs": [
        {
          "output_type": "stream",
          "name": "stderr",
          "text": [
            "[nltk_data] Downloading package stopwords to /root/nltk_data...\n",
            "[nltk_data]   Unzipping corpora/stopwords.zip.\n"
          ]
        },
        {
          "output_type": "execute_result",
          "data": {
            "text/plain": [
              "                    ID                                               text  \\\n",
              "0  1637812051006353409  rt  a melhornoticia  🇧🇷 brasil \\njanja é soció...   \n",
              "1  1637812009239453698  rt  a melhornoticia  🇧🇷 brasil \\njanja é soció...   \n",
              "2  1637812007981178882  rt  a melhornoticia  🇧🇷 brasil \\njanja é soció...   \n",
              "3  1637811966889676802  rt  a melhornoticia  🇧🇷 brasil \\njanja é soció...   \n",
              "4  1637811934274674693  rt  a melhornoticia  🇧🇷 brasil \\njanja é soció...   \n",
              "\n",
              "                                              tokens  Pontuacao2 rotulos  \\\n",
              "0  [RT, A, MelhorNoticia, 🇧🇷, Brasil, Janja, é, s...         0.0  Neutro   \n",
              "1  [RT, A, MelhorNoticia, 🇧🇷, Brasil, Janja, é, s...         0.0  Neutro   \n",
              "2  [RT, A, MelhorNoticia, 🇧🇷, Brasil, Janja, é, s...         0.0  Neutro   \n",
              "3  [RT, A, MelhorNoticia, 🇧🇷, Brasil, Janja, é, s...         0.0  Neutro   \n",
              "4  [RT, A, MelhorNoticia, 🇧🇷, Brasil, Janja, é, s...         0.0  Neutro   \n",
              "\n",
              "                                         tokens_stop  \n",
              "0  [RT, A, MelhorNoticia, 🇧🇷, Brasil, Janja, soci...  \n",
              "1  [RT, A, MelhorNoticia, 🇧🇷, Brasil, Janja, soci...  \n",
              "2  [RT, A, MelhorNoticia, 🇧🇷, Brasil, Janja, soci...  \n",
              "3  [RT, A, MelhorNoticia, 🇧🇷, Brasil, Janja, soci...  \n",
              "4  [RT, A, MelhorNoticia, 🇧🇷, Brasil, Janja, soci...  "
            ],
            "text/html": [
              "\n",
              "  <div id=\"df-8d5812b4-2153-4263-a784-674b709e10f2\">\n",
              "    <div class=\"colab-df-container\">\n",
              "      <div>\n",
              "<style scoped>\n",
              "    .dataframe tbody tr th:only-of-type {\n",
              "        vertical-align: middle;\n",
              "    }\n",
              "\n",
              "    .dataframe tbody tr th {\n",
              "        vertical-align: top;\n",
              "    }\n",
              "\n",
              "    .dataframe thead th {\n",
              "        text-align: right;\n",
              "    }\n",
              "</style>\n",
              "<table border=\"1\" class=\"dataframe\">\n",
              "  <thead>\n",
              "    <tr style=\"text-align: right;\">\n",
              "      <th></th>\n",
              "      <th>ID</th>\n",
              "      <th>text</th>\n",
              "      <th>tokens</th>\n",
              "      <th>Pontuacao2</th>\n",
              "      <th>rotulos</th>\n",
              "      <th>tokens_stop</th>\n",
              "    </tr>\n",
              "  </thead>\n",
              "  <tbody>\n",
              "    <tr>\n",
              "      <th>0</th>\n",
              "      <td>1637812051006353409</td>\n",
              "      <td>rt  a melhornoticia  🇧🇷 brasil \\njanja é soció...</td>\n",
              "      <td>[RT, A, MelhorNoticia, 🇧🇷, Brasil, Janja, é, s...</td>\n",
              "      <td>0.0</td>\n",
              "      <td>Neutro</td>\n",
              "      <td>[RT, A, MelhorNoticia, 🇧🇷, Brasil, Janja, soci...</td>\n",
              "    </tr>\n",
              "    <tr>\n",
              "      <th>1</th>\n",
              "      <td>1637812009239453698</td>\n",
              "      <td>rt  a melhornoticia  🇧🇷 brasil \\njanja é soció...</td>\n",
              "      <td>[RT, A, MelhorNoticia, 🇧🇷, Brasil, Janja, é, s...</td>\n",
              "      <td>0.0</td>\n",
              "      <td>Neutro</td>\n",
              "      <td>[RT, A, MelhorNoticia, 🇧🇷, Brasil, Janja, soci...</td>\n",
              "    </tr>\n",
              "    <tr>\n",
              "      <th>2</th>\n",
              "      <td>1637812007981178882</td>\n",
              "      <td>rt  a melhornoticia  🇧🇷 brasil \\njanja é soció...</td>\n",
              "      <td>[RT, A, MelhorNoticia, 🇧🇷, Brasil, Janja, é, s...</td>\n",
              "      <td>0.0</td>\n",
              "      <td>Neutro</td>\n",
              "      <td>[RT, A, MelhorNoticia, 🇧🇷, Brasil, Janja, soci...</td>\n",
              "    </tr>\n",
              "    <tr>\n",
              "      <th>3</th>\n",
              "      <td>1637811966889676802</td>\n",
              "      <td>rt  a melhornoticia  🇧🇷 brasil \\njanja é soció...</td>\n",
              "      <td>[RT, A, MelhorNoticia, 🇧🇷, Brasil, Janja, é, s...</td>\n",
              "      <td>0.0</td>\n",
              "      <td>Neutro</td>\n",
              "      <td>[RT, A, MelhorNoticia, 🇧🇷, Brasil, Janja, soci...</td>\n",
              "    </tr>\n",
              "    <tr>\n",
              "      <th>4</th>\n",
              "      <td>1637811934274674693</td>\n",
              "      <td>rt  a melhornoticia  🇧🇷 brasil \\njanja é soció...</td>\n",
              "      <td>[RT, A, MelhorNoticia, 🇧🇷, Brasil, Janja, é, s...</td>\n",
              "      <td>0.0</td>\n",
              "      <td>Neutro</td>\n",
              "      <td>[RT, A, MelhorNoticia, 🇧🇷, Brasil, Janja, soci...</td>\n",
              "    </tr>\n",
              "  </tbody>\n",
              "</table>\n",
              "</div>\n",
              "      <button class=\"colab-df-convert\" onclick=\"convertToInteractive('df-8d5812b4-2153-4263-a784-674b709e10f2')\"\n",
              "              title=\"Convert this dataframe to an interactive table.\"\n",
              "              style=\"display:none;\">\n",
              "        \n",
              "  <svg xmlns=\"http://www.w3.org/2000/svg\" height=\"24px\"viewBox=\"0 0 24 24\"\n",
              "       width=\"24px\">\n",
              "    <path d=\"M0 0h24v24H0V0z\" fill=\"none\"/>\n",
              "    <path d=\"M18.56 5.44l.94 2.06.94-2.06 2.06-.94-2.06-.94-.94-2.06-.94 2.06-2.06.94zm-11 1L8.5 8.5l.94-2.06 2.06-.94-2.06-.94L8.5 2.5l-.94 2.06-2.06.94zm10 10l.94 2.06.94-2.06 2.06-.94-2.06-.94-.94-2.06-.94 2.06-2.06.94z\"/><path d=\"M17.41 7.96l-1.37-1.37c-.4-.4-.92-.59-1.43-.59-.52 0-1.04.2-1.43.59L10.3 9.45l-7.72 7.72c-.78.78-.78 2.05 0 2.83L4 21.41c.39.39.9.59 1.41.59.51 0 1.02-.2 1.41-.59l7.78-7.78 2.81-2.81c.8-.78.8-2.07 0-2.86zM5.41 20L4 18.59l7.72-7.72 1.47 1.35L5.41 20z\"/>\n",
              "  </svg>\n",
              "      </button>\n",
              "      \n",
              "  <style>\n",
              "    .colab-df-container {\n",
              "      display:flex;\n",
              "      flex-wrap:wrap;\n",
              "      gap: 12px;\n",
              "    }\n",
              "\n",
              "    .colab-df-convert {\n",
              "      background-color: #E8F0FE;\n",
              "      border: none;\n",
              "      border-radius: 50%;\n",
              "      cursor: pointer;\n",
              "      display: none;\n",
              "      fill: #1967D2;\n",
              "      height: 32px;\n",
              "      padding: 0 0 0 0;\n",
              "      width: 32px;\n",
              "    }\n",
              "\n",
              "    .colab-df-convert:hover {\n",
              "      background-color: #E2EBFA;\n",
              "      box-shadow: 0px 1px 2px rgba(60, 64, 67, 0.3), 0px 1px 3px 1px rgba(60, 64, 67, 0.15);\n",
              "      fill: #174EA6;\n",
              "    }\n",
              "\n",
              "    [theme=dark] .colab-df-convert {\n",
              "      background-color: #3B4455;\n",
              "      fill: #D2E3FC;\n",
              "    }\n",
              "\n",
              "    [theme=dark] .colab-df-convert:hover {\n",
              "      background-color: #434B5C;\n",
              "      box-shadow: 0px 1px 3px 1px rgba(0, 0, 0, 0.15);\n",
              "      filter: drop-shadow(0px 1px 2px rgba(0, 0, 0, 0.3));\n",
              "      fill: #FFFFFF;\n",
              "    }\n",
              "  </style>\n",
              "\n",
              "      <script>\n",
              "        const buttonEl =\n",
              "          document.querySelector('#df-8d5812b4-2153-4263-a784-674b709e10f2 button.colab-df-convert');\n",
              "        buttonEl.style.display =\n",
              "          google.colab.kernel.accessAllowed ? 'block' : 'none';\n",
              "\n",
              "        async function convertToInteractive(key) {\n",
              "          const element = document.querySelector('#df-8d5812b4-2153-4263-a784-674b709e10f2');\n",
              "          const dataTable =\n",
              "            await google.colab.kernel.invokeFunction('convertToInteractive',\n",
              "                                                     [key], {});\n",
              "          if (!dataTable) return;\n",
              "\n",
              "          const docLinkHtml = 'Like what you see? Visit the ' +\n",
              "            '<a target=\"_blank\" href=https://colab.research.google.com/notebooks/data_table.ipynb>data table notebook</a>'\n",
              "            + ' to learn more about interactive tables.';\n",
              "          element.innerHTML = '';\n",
              "          dataTable['output_type'] = 'display_data';\n",
              "          await google.colab.output.renderOutput(dataTable, element);\n",
              "          const docLink = document.createElement('div');\n",
              "          docLink.innerHTML = docLinkHtml;\n",
              "          element.appendChild(docLink);\n",
              "        }\n",
              "      </script>\n",
              "    </div>\n",
              "  </div>\n",
              "  "
            ]
          },
          "metadata": {},
          "execution_count": 32
        }
      ]
    },
    {
      "cell_type": "code",
      "source": [
        "word_list_stop = sum(df2.tokens_stop.tolist(), [])"
      ],
      "metadata": {
        "id": "al8WcAUuSI78"
      },
      "execution_count": 33,
      "outputs": []
    },
    {
      "cell_type": "code",
      "source": [
        "word_list_stop[:10]"
      ],
      "metadata": {
        "colab": {
          "base_uri": "https://localhost:8080/"
        },
        "id": "eKzD7AS0SSGd",
        "outputId": "3d28a29b-b762-44cc-b95f-9f7e77dd0ba1"
      },
      "execution_count": 34,
      "outputs": [
        {
          "output_type": "execute_result",
          "data": {
            "text/plain": [
              "['RT',\n",
              " 'A',\n",
              " 'MelhorNoticia',\n",
              " '🇧🇷',\n",
              " 'Brasil',\n",
              " 'Janja',\n",
              " 'socióloga',\n",
              " 'professora',\n",
              " 'universitária',\n",
              " 'trabalhou']"
            ]
          },
          "metadata": {},
          "execution_count": 34
        }
      ]
    },
    {
      "cell_type": "code",
      "source": [
        "# partes de speech tagging\n",
        "from nltk.tag import pos_tag\n",
        "nltk.download('averaged_perceptron_tagger')\n",
        "pos_lambda = lambda x: nltk.pos_tag(x)\n",
        "df2['tokens_pos'] = (df2.tokens_stop.apply(pos_lambda))\n",
        "df2.head()"
      ],
      "metadata": {
        "colab": {
          "base_uri": "https://localhost:8080/",
          "height": 562
        },
        "id": "-5E4OKoxXmER",
        "outputId": "f3f7ac30-0c15-4b1a-efe7-c006837e7959"
      },
      "execution_count": 35,
      "outputs": [
        {
          "output_type": "stream",
          "name": "stderr",
          "text": [
            "[nltk_data] Downloading package averaged_perceptron_tagger to\n",
            "[nltk_data]     /root/nltk_data...\n",
            "[nltk_data]   Unzipping taggers/averaged_perceptron_tagger.zip.\n"
          ]
        },
        {
          "output_type": "execute_result",
          "data": {
            "text/plain": [
              "                    ID                                               text  \\\n",
              "0  1637812051006353409  rt  a melhornoticia  🇧🇷 brasil \\njanja é soció...   \n",
              "1  1637812009239453698  rt  a melhornoticia  🇧🇷 brasil \\njanja é soció...   \n",
              "2  1637812007981178882  rt  a melhornoticia  🇧🇷 brasil \\njanja é soció...   \n",
              "3  1637811966889676802  rt  a melhornoticia  🇧🇷 brasil \\njanja é soció...   \n",
              "4  1637811934274674693  rt  a melhornoticia  🇧🇷 brasil \\njanja é soció...   \n",
              "\n",
              "                                              tokens  Pontuacao2 rotulos  \\\n",
              "0  [RT, A, MelhorNoticia, 🇧🇷, Brasil, Janja, é, s...         0.0  Neutro   \n",
              "1  [RT, A, MelhorNoticia, 🇧🇷, Brasil, Janja, é, s...         0.0  Neutro   \n",
              "2  [RT, A, MelhorNoticia, 🇧🇷, Brasil, Janja, é, s...         0.0  Neutro   \n",
              "3  [RT, A, MelhorNoticia, 🇧🇷, Brasil, Janja, é, s...         0.0  Neutro   \n",
              "4  [RT, A, MelhorNoticia, 🇧🇷, Brasil, Janja, é, s...         0.0  Neutro   \n",
              "\n",
              "                                         tokens_stop  \\\n",
              "0  [RT, A, MelhorNoticia, 🇧🇷, Brasil, Janja, soci...   \n",
              "1  [RT, A, MelhorNoticia, 🇧🇷, Brasil, Janja, soci...   \n",
              "2  [RT, A, MelhorNoticia, 🇧🇷, Brasil, Janja, soci...   \n",
              "3  [RT, A, MelhorNoticia, 🇧🇷, Brasil, Janja, soci...   \n",
              "4  [RT, A, MelhorNoticia, 🇧🇷, Brasil, Janja, soci...   \n",
              "\n",
              "                                          tokens_pos  \n",
              "0  [(RT, VB), (A, DT), (MelhorNoticia, NNP), (🇧🇷,...  \n",
              "1  [(RT, VB), (A, DT), (MelhorNoticia, NNP), (🇧🇷,...  \n",
              "2  [(RT, VB), (A, DT), (MelhorNoticia, NNP), (🇧🇷,...  \n",
              "3  [(RT, VB), (A, DT), (MelhorNoticia, NNP), (🇧🇷,...  \n",
              "4  [(RT, VB), (A, DT), (MelhorNoticia, NNP), (🇧🇷,...  "
            ],
            "text/html": [
              "\n",
              "  <div id=\"df-091077a3-1070-4a7c-a0c7-ff6a7e85da6e\">\n",
              "    <div class=\"colab-df-container\">\n",
              "      <div>\n",
              "<style scoped>\n",
              "    .dataframe tbody tr th:only-of-type {\n",
              "        vertical-align: middle;\n",
              "    }\n",
              "\n",
              "    .dataframe tbody tr th {\n",
              "        vertical-align: top;\n",
              "    }\n",
              "\n",
              "    .dataframe thead th {\n",
              "        text-align: right;\n",
              "    }\n",
              "</style>\n",
              "<table border=\"1\" class=\"dataframe\">\n",
              "  <thead>\n",
              "    <tr style=\"text-align: right;\">\n",
              "      <th></th>\n",
              "      <th>ID</th>\n",
              "      <th>text</th>\n",
              "      <th>tokens</th>\n",
              "      <th>Pontuacao2</th>\n",
              "      <th>rotulos</th>\n",
              "      <th>tokens_stop</th>\n",
              "      <th>tokens_pos</th>\n",
              "    </tr>\n",
              "  </thead>\n",
              "  <tbody>\n",
              "    <tr>\n",
              "      <th>0</th>\n",
              "      <td>1637812051006353409</td>\n",
              "      <td>rt  a melhornoticia  🇧🇷 brasil \\njanja é soció...</td>\n",
              "      <td>[RT, A, MelhorNoticia, 🇧🇷, Brasil, Janja, é, s...</td>\n",
              "      <td>0.0</td>\n",
              "      <td>Neutro</td>\n",
              "      <td>[RT, A, MelhorNoticia, 🇧🇷, Brasil, Janja, soci...</td>\n",
              "      <td>[(RT, VB), (A, DT), (MelhorNoticia, NNP), (🇧🇷,...</td>\n",
              "    </tr>\n",
              "    <tr>\n",
              "      <th>1</th>\n",
              "      <td>1637812009239453698</td>\n",
              "      <td>rt  a melhornoticia  🇧🇷 brasil \\njanja é soció...</td>\n",
              "      <td>[RT, A, MelhorNoticia, 🇧🇷, Brasil, Janja, é, s...</td>\n",
              "      <td>0.0</td>\n",
              "      <td>Neutro</td>\n",
              "      <td>[RT, A, MelhorNoticia, 🇧🇷, Brasil, Janja, soci...</td>\n",
              "      <td>[(RT, VB), (A, DT), (MelhorNoticia, NNP), (🇧🇷,...</td>\n",
              "    </tr>\n",
              "    <tr>\n",
              "      <th>2</th>\n",
              "      <td>1637812007981178882</td>\n",
              "      <td>rt  a melhornoticia  🇧🇷 brasil \\njanja é soció...</td>\n",
              "      <td>[RT, A, MelhorNoticia, 🇧🇷, Brasil, Janja, é, s...</td>\n",
              "      <td>0.0</td>\n",
              "      <td>Neutro</td>\n",
              "      <td>[RT, A, MelhorNoticia, 🇧🇷, Brasil, Janja, soci...</td>\n",
              "      <td>[(RT, VB), (A, DT), (MelhorNoticia, NNP), (🇧🇷,...</td>\n",
              "    </tr>\n",
              "    <tr>\n",
              "      <th>3</th>\n",
              "      <td>1637811966889676802</td>\n",
              "      <td>rt  a melhornoticia  🇧🇷 brasil \\njanja é soció...</td>\n",
              "      <td>[RT, A, MelhorNoticia, 🇧🇷, Brasil, Janja, é, s...</td>\n",
              "      <td>0.0</td>\n",
              "      <td>Neutro</td>\n",
              "      <td>[RT, A, MelhorNoticia, 🇧🇷, Brasil, Janja, soci...</td>\n",
              "      <td>[(RT, VB), (A, DT), (MelhorNoticia, NNP), (🇧🇷,...</td>\n",
              "    </tr>\n",
              "    <tr>\n",
              "      <th>4</th>\n",
              "      <td>1637811934274674693</td>\n",
              "      <td>rt  a melhornoticia  🇧🇷 brasil \\njanja é soció...</td>\n",
              "      <td>[RT, A, MelhorNoticia, 🇧🇷, Brasil, Janja, é, s...</td>\n",
              "      <td>0.0</td>\n",
              "      <td>Neutro</td>\n",
              "      <td>[RT, A, MelhorNoticia, 🇧🇷, Brasil, Janja, soci...</td>\n",
              "      <td>[(RT, VB), (A, DT), (MelhorNoticia, NNP), (🇧🇷,...</td>\n",
              "    </tr>\n",
              "  </tbody>\n",
              "</table>\n",
              "</div>\n",
              "      <button class=\"colab-df-convert\" onclick=\"convertToInteractive('df-091077a3-1070-4a7c-a0c7-ff6a7e85da6e')\"\n",
              "              title=\"Convert this dataframe to an interactive table.\"\n",
              "              style=\"display:none;\">\n",
              "        \n",
              "  <svg xmlns=\"http://www.w3.org/2000/svg\" height=\"24px\"viewBox=\"0 0 24 24\"\n",
              "       width=\"24px\">\n",
              "    <path d=\"M0 0h24v24H0V0z\" fill=\"none\"/>\n",
              "    <path d=\"M18.56 5.44l.94 2.06.94-2.06 2.06-.94-2.06-.94-.94-2.06-.94 2.06-2.06.94zm-11 1L8.5 8.5l.94-2.06 2.06-.94-2.06-.94L8.5 2.5l-.94 2.06-2.06.94zm10 10l.94 2.06.94-2.06 2.06-.94-2.06-.94-.94-2.06-.94 2.06-2.06.94z\"/><path d=\"M17.41 7.96l-1.37-1.37c-.4-.4-.92-.59-1.43-.59-.52 0-1.04.2-1.43.59L10.3 9.45l-7.72 7.72c-.78.78-.78 2.05 0 2.83L4 21.41c.39.39.9.59 1.41.59.51 0 1.02-.2 1.41-.59l7.78-7.78 2.81-2.81c.8-.78.8-2.07 0-2.86zM5.41 20L4 18.59l7.72-7.72 1.47 1.35L5.41 20z\"/>\n",
              "  </svg>\n",
              "      </button>\n",
              "      \n",
              "  <style>\n",
              "    .colab-df-container {\n",
              "      display:flex;\n",
              "      flex-wrap:wrap;\n",
              "      gap: 12px;\n",
              "    }\n",
              "\n",
              "    .colab-df-convert {\n",
              "      background-color: #E8F0FE;\n",
              "      border: none;\n",
              "      border-radius: 50%;\n",
              "      cursor: pointer;\n",
              "      display: none;\n",
              "      fill: #1967D2;\n",
              "      height: 32px;\n",
              "      padding: 0 0 0 0;\n",
              "      width: 32px;\n",
              "    }\n",
              "\n",
              "    .colab-df-convert:hover {\n",
              "      background-color: #E2EBFA;\n",
              "      box-shadow: 0px 1px 2px rgba(60, 64, 67, 0.3), 0px 1px 3px 1px rgba(60, 64, 67, 0.15);\n",
              "      fill: #174EA6;\n",
              "    }\n",
              "\n",
              "    [theme=dark] .colab-df-convert {\n",
              "      background-color: #3B4455;\n",
              "      fill: #D2E3FC;\n",
              "    }\n",
              "\n",
              "    [theme=dark] .colab-df-convert:hover {\n",
              "      background-color: #434B5C;\n",
              "      box-shadow: 0px 1px 3px 1px rgba(0, 0, 0, 0.15);\n",
              "      filter: drop-shadow(0px 1px 2px rgba(0, 0, 0, 0.3));\n",
              "      fill: #FFFFFF;\n",
              "    }\n",
              "  </style>\n",
              "\n",
              "      <script>\n",
              "        const buttonEl =\n",
              "          document.querySelector('#df-091077a3-1070-4a7c-a0c7-ff6a7e85da6e button.colab-df-convert');\n",
              "        buttonEl.style.display =\n",
              "          google.colab.kernel.accessAllowed ? 'block' : 'none';\n",
              "\n",
              "        async function convertToInteractive(key) {\n",
              "          const element = document.querySelector('#df-091077a3-1070-4a7c-a0c7-ff6a7e85da6e');\n",
              "          const dataTable =\n",
              "            await google.colab.kernel.invokeFunction('convertToInteractive',\n",
              "                                                     [key], {});\n",
              "          if (!dataTable) return;\n",
              "\n",
              "          const docLinkHtml = 'Like what you see? Visit the ' +\n",
              "            '<a target=\"_blank\" href=https://colab.research.google.com/notebooks/data_table.ipynb>data table notebook</a>'\n",
              "            + ' to learn more about interactive tables.';\n",
              "          element.innerHTML = '';\n",
              "          dataTable['output_type'] = 'display_data';\n",
              "          await google.colab.output.renderOutput(dataTable, element);\n",
              "          const docLink = document.createElement('div');\n",
              "          docLink.innerHTML = docLinkHtml;\n",
              "          element.appendChild(docLink);\n",
              "        }\n",
              "      </script>\n",
              "    </div>\n",
              "  </div>\n",
              "  "
            ]
          },
          "metadata": {},
          "execution_count": 35
        }
      ]
    },
    {
      "cell_type": "code",
      "source": [
        "from collections import Counter\n",
        "\n",
        "# Converte a lista em um dicionário com contagem de valores (usando o stop)\n",
        "word_counts_stop = Counter(word_list_stop)\n",
        "a = word_counts_stop\n",
        "\n",
        "# Inverta a chave / valores no dicionário para classificar\n",
        "word_counts_stop = list(zip(word_counts_stop.values(), word_counts_stop.keys()))\n",
        "\n",
        "# Classifique a lista por contagem\n",
        "word_counts_stop = sorted(word_counts_stop, reverse=True)\n",
        "\n",
        "# Imprime as 10 palavras mais comuns\n",
        "word_counts_stop[:10]"
      ],
      "metadata": {
        "colab": {
          "base_uri": "https://localhost:8080/"
        },
        "id": "CrBkYBfwYgrx",
        "outputId": "d33c8f12-a5e7-48c5-e108-6aef6554fd38"
      },
      "execution_count": 36,
      "outputs": [
        {
          "output_type": "execute_result",
          "data": {
            "text/plain": [
              "[(1711, 'RT'),\n",
              " (1615, 'Eletrobras'),\n",
              " (1256, 'A'),\n",
              " (1228, 'Brasil'),\n",
              " (810, 'E'),\n",
              " (804, 'Itaipu'),\n",
              " (802, 'energia'),\n",
              " (797, '🇧🇷'),\n",
              " (797, 'MelhorNoticia'),\n",
              " (794, 't…')]"
            ]
          },
          "metadata": {},
          "execution_count": 36
        }
      ]
    },
    {
      "cell_type": "code",
      "source": [
        "text = word_list_stop\n",
        "wordcloud = WordCloud(width=1600, height=800, max_font_size=200).fit_words(a)\n",
        "# wordcloud = WordCloud(width=1600, height=800, max_font_size=200).generate(text)\n",
        "plt.figure(figsize=(12,10))\n",
        "plt.imshow(wordcloud, interpolation='bilinear')\n",
        "plt.axis(\"off\")\n",
        "plt.show()"
      ],
      "metadata": {
        "colab": {
          "base_uri": "https://localhost:8080/",
          "height": 366
        },
        "id": "I4sWIPxVY6yU",
        "outputId": "d4878be2-66f1-4c98-a5b4-5e9cd388345d"
      },
      "execution_count": 37,
      "outputs": [
        {
          "output_type": "display_data",
          "data": {
            "text/plain": [
              "<Figure size 864x720 with 1 Axes>"
            ],
            "image/png": "[encoded data removed]"
          },
          "metadata": {
            "needs_background": "light"
          }
        }
      ]
    },
    {
      "cell_type": "code",
      "source": [
        "file_name = 'Basededados_twitter.xlsx'\n",
        "df2.to_excel(file_name)"
      ],
      "metadata": {
        "id": "X8eRIb3hZ7zM"
      },
      "execution_count": 38,
      "outputs": []
    },
    {
      "cell_type": "code",
      "source": [
        "comentarios = df2[\"text\"].values\n",
        "comentarios"
      ],
      "metadata": {
        "colab": {
          "base_uri": "https://localhost:8080/"
        },
        "id": "uibGuxDhYJrQ",
        "outputId": "6dad393b-4059-4a05-b245-1005982e5f72"
      },
      "execution_count": 39,
      "outputs": [
        {
          "output_type": "execute_result",
          "data": {
            "text/plain": [
              "array(['rt  a melhornoticia  🇧🇷 brasil \\njanja é socióloga  já foi professora universitária  já trabalhou na itaipu e na eletrobras  e a micheque  t…',\n",
              "       'rt  a melhornoticia  🇧🇷 brasil \\njanja é socióloga  já foi professora universitária  já trabalhou na itaipu e na eletrobras  e a micheque  t…',\n",
              "       'rt  a melhornoticia  🇧🇷 brasil \\njanja é socióloga  já foi professora universitária  já trabalhou na itaipu e na eletrobras  e a micheque  t…',\n",
              "       ...,\n",
              "       'rt  ivanvalente  a eletrobras produz um terço da energia elétrica do brasil e é responsável por    da distribuição de energia  foi privati…',\n",
              "       'rt  ivanvalente  a eletrobras produz um terço da energia elétrica do brasil e é responsável por    da distribuição de energia  foi privati…',\n",
              "       'rt     requião diz que sua questão com lula não é pessoal  mas sim a retomada da petrobrás e da eletrobrás\\nhttps   t co  '],\n",
              "      dtype=object)"
            ]
          },
          "metadata": {},
          "execution_count": 39
        }
      ]
    },
    {
      "cell_type": "code",
      "source": [
        "classes = df2[\"rotulos\"].values\n",
        "classes"
      ],
      "metadata": {
        "colab": {
          "base_uri": "https://localhost:8080/"
        },
        "id": "SLyTl_0cYY9z",
        "outputId": "c7903b3a-b6d0-40b2-ce65-d7d2d177364b"
      },
      "execution_count": 40,
      "outputs": [
        {
          "output_type": "execute_result",
          "data": {
            "text/plain": [
              "array(['Neutro', 'Neutro', 'Neutro', ..., 'Neutro', 'Neutro', 'Neutro'],\n",
              "      dtype=object)"
            ]
          },
          "metadata": {},
          "execution_count": 40
        }
      ]
    },
    {
      "cell_type": "code",
      "source": [
        "vectorizer = CountVectorizer(analyzer = \"word\")\n",
        "freq_comentarios = vectorizer.fit_transform(comentarios)\n",
        "modelo = MultinomialNB()\n",
        "modelo.fit(freq_comentarios, classes)\n",
        "\n"
      ],
      "metadata": {
        "colab": {
          "base_uri": "https://localhost:8080/",
          "height": 74
        },
        "id": "CslubVjQYsK8",
        "outputId": "1fe3764e-423c-4a86-fc07-2f7fa35b965a"
      },
      "execution_count": 41,
      "outputs": [
        {
          "output_type": "execute_result",
          "data": {
            "text/plain": [
              "MultinomialNB()"
            ],
            "text/html": [
              "<style>#sk-container-id-1 {color: black;background-color: white;}#sk-container-id-1 pre{padding: 0;}#sk-container-id-1 div.sk-toggleable {background-color: white;}#sk-container-id-1 label.sk-toggleable__label {cursor: pointer;display: block;width: 100%;margin-bottom: 0;padding: 0.3em;box-sizing: border-box;text-align: center;}#sk-container-id-1 label.sk-toggleable__label-arrow:before {content: \"▸\";float: left;margin-right: 0.25em;color: #696969;}#sk-container-id-1 label.sk-toggleable__label-arrow:hover:before {color: black;}#sk-container-id-1 div.sk-estimator:hover label.sk-toggleable__label-arrow:before {color: black;}#sk-container-id-1 div.sk-toggleable__content {max-height: 0;max-width: 0;overflow: hidden;text-align: left;background-color: #f0f8ff;}#sk-container-id-1 div.sk-toggleable__content pre {margin: 0.2em;color: black;border-radius: 0.25em;background-color: #f0f8ff;}#sk-container-id-1 input.sk-toggleable__control:checked~div.sk-toggleable__content {max-height: 200px;max-width: 100%;overflow: auto;}#sk-container-id-1 input.sk-toggleable__control:checked~label.sk-toggleable__label-arrow:before {content: \"▾\";}#sk-container-id-1 div.sk-estimator input.sk-toggleable__control:checked~label.sk-toggleable__label {background-color: #d4ebff;}#sk-container-id-1 div.sk-label input.sk-toggleable__control:checked~label.sk-toggleable__label {background-color: #d4ebff;}#sk-container-id-1 input.sk-hidden--visually {border: 0;clip: rect(1px 1px 1px 1px);clip: rect(1px, 1px, 1px, 1px);height: 1px;margin: -1px;overflow: hidden;padding: 0;position: absolute;width: 1px;}#sk-container-id-1 div.sk-estimator {font-family: monospace;background-color: #f0f8ff;border: 1px dotted black;border-radius: 0.25em;box-sizing: border-box;margin-bottom: 0.5em;}#sk-container-id-1 div.sk-estimator:hover {background-color: #d4ebff;}#sk-container-id-1 div.sk-parallel-item::after {content: \"\";width: 100%;border-bottom: 1px solid gray;flex-grow: 1;}#sk-container-id-1 div.sk-label:hover label.sk-toggleable__label {background-color: #d4ebff;}#sk-container-id-1 div.sk-serial::before {content: \"\";position: absolute;border-left: 1px solid gray;box-sizing: border-box;top: 0;bottom: 0;left: 50%;z-index: 0;}#sk-container-id-1 div.sk-serial {display: flex;flex-direction: column;align-items: center;background-color: white;padding-right: 0.2em;padding-left: 0.2em;position: relative;}#sk-container-id-1 div.sk-item {position: relative;z-index: 1;}#sk-container-id-1 div.sk-parallel {display: flex;align-items: stretch;justify-content: center;background-color: white;position: relative;}#sk-container-id-1 div.sk-item::before, #sk-container-id-1 div.sk-parallel-item::before {content: \"\";position: absolute;border-left: 1px solid gray;box-sizing: border-box;top: 0;bottom: 0;left: 50%;z-index: -1;}#sk-container-id-1 div.sk-parallel-item {display: flex;flex-direction: column;z-index: 1;position: relative;background-color: white;}#sk-container-id-1 div.sk-parallel-item:first-child::after {align-self: flex-end;width: 50%;}#sk-container-id-1 div.sk-parallel-item:last-child::after {align-self: flex-start;width: 50%;}#sk-container-id-1 div.sk-parallel-item:only-child::after {width: 0;}#sk-container-id-1 div.sk-dashed-wrapped {border: 1px dashed gray;margin: 0 0.4em 0.5em 0.4em;box-sizing: border-box;padding-bottom: 0.4em;background-color: white;}#sk-container-id-1 div.sk-label label {font-family: monospace;font-weight: bold;display: inline-block;line-height: 1.2em;}#sk-container-id-1 div.sk-label-container {text-align: center;}#sk-container-id-1 div.sk-container {/* jupyter's `normalize.less` sets `[hidden] { display: none; }` but bootstrap.min.css set `[hidden] { display: none !important; }` so we also need the `!important` here to be able to override the default hidden behavior on the sphinx rendered scikit-learn.org. See: https://github.com/scikit-learn/scikit-learn/issues/21755 */display: inline-block !important;position: relative;}#sk-container-id-1 div.sk-text-repr-fallback {display: none;}</style><div id=\"sk-container-id-1\" class=\"sk-top-container\"><div class=\"sk-text-repr-fallback\"><pre>MultinomialNB()</pre><b>In a Jupyter environment, please rerun this cell to show the HTML representation or trust the notebook. <br />On GitHub, the HTML representation is unable to render, please try loading this page with nbviewer.org.</b></div><div class=\"sk-container\" hidden><div class=\"sk-item\"><div class=\"sk-estimator sk-toggleable\"><input class=\"sk-toggleable__control sk-hidden--visually\" id=\"sk-estimator-id-1\" type=\"checkbox\" checked><label for=\"sk-estimator-id-1\" class=\"sk-toggleable__label sk-toggleable__label-arrow\">MultinomialNB</label><div class=\"sk-toggleable__content\"><pre>MultinomialNB()</pre></div></div></div></div></div>"
            ]
          },
          "metadata": {},
          "execution_count": 41
        }
      ]
    },
    {
      "cell_type": "code",
      "source": [
        "#teste_modelo = ['querido']\n",
        "#freq_testes = vectorizer.transform(teste_modelo)\n",
        "#modelo.predict(freq_testes)"
      ],
      "metadata": {
        "id": "qwb1u_AZZoIe"
      },
      "execution_count": 42,
      "outputs": []
    },
    {
      "cell_type": "code",
      "source": [
        "resultados = cross_val_predict(modelo, freq_comentarios, classes, cv = 10)\n",
        "resultados"
      ],
      "metadata": {
        "colab": {
          "base_uri": "https://localhost:8080/"
        },
        "id": "tuzSg1U9aKdC",
        "outputId": "7d8208b5-4e8c-4c54-ad9e-6d3ec867fcc3"
      },
      "execution_count": 43,
      "outputs": [
        {
          "output_type": "stream",
          "name": "stderr",
          "text": [
            "/usr/local/lib/python3.9/dist-packages/sklearn/model_selection/_split.py:700: UserWarning: The least populated class in y has only 7 members, which is less than n_splits=10.\n",
            "  warnings.warn(\n"
          ]
        },
        {
          "output_type": "execute_result",
          "data": {
            "text/plain": [
              "array(['Neutro', 'Neutro', 'Neutro', ..., 'Neutro', 'Neutro', 'Neutro'],\n",
              "      dtype='<U8')"
            ]
          },
          "metadata": {},
          "execution_count": 43
        }
      ]
    },
    {
      "cell_type": "code",
      "source": [
        "metrics.accuracy_score(classes, resultados)"
      ],
      "metadata": {
        "colab": {
          "base_uri": "https://localhost:8080/"
        },
        "id": "lNMvEfYjaY7-",
        "outputId": "357c3a53-bc7e-4d7e-8fb0-3f8c1810114c"
      },
      "execution_count": 44,
      "outputs": [
        {
          "output_type": "execute_result",
          "data": {
            "text/plain": [
              "0.893"
            ]
          },
          "metadata": {},
          "execution_count": 44
        }
      ]
    },
    {
      "cell_type": "code",
      "source": [
        "##sentimentos = [\"positivo\",\"neutro\",\"negativo\"]"
      ],
      "metadata": {
        "id": "6KUjRLa9c63S"
      },
      "execution_count": 45,
      "outputs": []
    },
    {
      "cell_type": "code",
      "source": [
        "print(metrics.classification_report(classes, resultados))"
      ],
      "metadata": {
        "colab": {
          "base_uri": "https://localhost:8080/"
        },
        "id": "IONl2u0BakEB",
        "outputId": "b104bc28-4859-4366-f888-52ab90570b26"
      },
      "execution_count": 46,
      "outputs": [
        {
          "output_type": "stream",
          "name": "stdout",
          "text": [
            "              precision    recall  f1-score   support\n",
            "\n",
            "    Negativo       0.36      0.97      0.53       117\n",
            "      Neutro       1.00      0.89      0.94      1876\n",
            "    Positivo       0.12      0.29      0.17         7\n",
            "\n",
            "    accuracy                           0.89      2000\n",
            "   macro avg       0.50      0.72      0.55      2000\n",
            "weighted avg       0.96      0.89      0.92      2000\n",
            "\n"
          ]
        }
      ]
    },
    {
      "cell_type": "code",
      "source": [
        "print(pd.crosstab(classes, resultados, rownames = [\"Real\"], colnames=[\"Predito\"], margins=True))"
      ],
      "metadata": {
        "colab": {
          "base_uri": "https://localhost:8080/"
        },
        "id": "xuEeC258bWel",
        "outputId": "c5af1369-76c5-45eb-f6dc-64f8952fe64c"
      },
      "execution_count": 47,
      "outputs": [
        {
          "output_type": "stream",
          "name": "stdout",
          "text": [
            "Predito   Negativo  Neutro  Positivo   All\n",
            "Real                                      \n",
            "Negativo       114       0         3   117\n",
            "Neutro         195    1670        11  1876\n",
            "Positivo         5       0         2     7\n",
            "All            314    1670        16  2000\n"
          ]
        }
      ]
    },
    {
      "cell_type": "code",
      "source": [
        "#usando melhoria com Bigrams\n",
        "vectorizer = CountVectorizer(ngram_range = (1, 2))\n",
        "freq_comentarios = vectorizer.fit_transform(comentarios)\n",
        "\n",
        "modelo = MultinomialNB()\n",
        "modelo.fit(freq_comentarios, classes)"
      ],
      "metadata": {
        "colab": {
          "base_uri": "https://localhost:8080/",
          "height": 74
        },
        "id": "yJQcuobmb4ZQ",
        "outputId": "75a00803-ec41-4f99-e21b-367ceb6a00d0"
      },
      "execution_count": 48,
      "outputs": [
        {
          "output_type": "execute_result",
          "data": {
            "text/plain": [
              "MultinomialNB()"
            ],
            "text/html": [
              "<style>#sk-container-id-2 {color: black;background-color: white;}#sk-container-id-2 pre{padding: 0;}#sk-container-id-2 div.sk-toggleable {background-color: white;}#sk-container-id-2 label.sk-toggleable__label {cursor: pointer;display: block;width: 100%;margin-bottom: 0;padding: 0.3em;box-sizing: border-box;text-align: center;}#sk-container-id-2 label.sk-toggleable__label-arrow:before {content: \"▸\";float: left;margin-right: 0.25em;color: #696969;}#sk-container-id-2 label.sk-toggleable__label-arrow:hover:before {color: black;}#sk-container-id-2 div.sk-estimator:hover label.sk-toggleable__label-arrow:before {color: black;}#sk-container-id-2 div.sk-toggleable__content {max-height: 0;max-width: 0;overflow: hidden;text-align: left;background-color: #f0f8ff;}#sk-container-id-2 div.sk-toggleable__content pre {margin: 0.2em;color: black;border-radius: 0.25em;background-color: #f0f8ff;}#sk-container-id-2 input.sk-toggleable__control:checked~div.sk-toggleable__content {max-height: 200px;max-width: 100%;overflow: auto;}#sk-container-id-2 input.sk-toggleable__control:checked~label.sk-toggleable__label-arrow:before {content: \"▾\";}#sk-container-id-2 div.sk-estimator input.sk-toggleable__control:checked~label.sk-toggleable__label {background-color: #d4ebff;}#sk-container-id-2 div.sk-label input.sk-toggleable__control:checked~label.sk-toggleable__label {background-color: #d4ebff;}#sk-container-id-2 input.sk-hidden--visually {border: 0;clip: rect(1px 1px 1px 1px);clip: rect(1px, 1px, 1px, 1px);height: 1px;margin: -1px;overflow: hidden;padding: 0;position: absolute;width: 1px;}#sk-container-id-2 div.sk-estimator {font-family: monospace;background-color: #f0f8ff;border: 1px dotted black;border-radius: 0.25em;box-sizing: border-box;margin-bottom: 0.5em;}#sk-container-id-2 div.sk-estimator:hover {background-color: #d4ebff;}#sk-container-id-2 div.sk-parallel-item::after {content: \"\";width: 100%;border-bottom: 1px solid gray;flex-grow: 1;}#sk-container-id-2 div.sk-label:hover label.sk-toggleable__label {background-color: #d4ebff;}#sk-container-id-2 div.sk-serial::before {content: \"\";position: absolute;border-left: 1px solid gray;box-sizing: border-box;top: 0;bottom: 0;left: 50%;z-index: 0;}#sk-container-id-2 div.sk-serial {display: flex;flex-direction: column;align-items: center;background-color: white;padding-right: 0.2em;padding-left: 0.2em;position: relative;}#sk-container-id-2 div.sk-item {position: relative;z-index: 1;}#sk-container-id-2 div.sk-parallel {display: flex;align-items: stretch;justify-content: center;background-color: white;position: relative;}#sk-container-id-2 div.sk-item::before, #sk-container-id-2 div.sk-parallel-item::before {content: \"\";position: absolute;border-left: 1px solid gray;box-sizing: border-box;top: 0;bottom: 0;left: 50%;z-index: -1;}#sk-container-id-2 div.sk-parallel-item {display: flex;flex-direction: column;z-index: 1;position: relative;background-color: white;}#sk-container-id-2 div.sk-parallel-item:first-child::after {align-self: flex-end;width: 50%;}#sk-container-id-2 div.sk-parallel-item:last-child::after {align-self: flex-start;width: 50%;}#sk-container-id-2 div.sk-parallel-item:only-child::after {width: 0;}#sk-container-id-2 div.sk-dashed-wrapped {border: 1px dashed gray;margin: 0 0.4em 0.5em 0.4em;box-sizing: border-box;padding-bottom: 0.4em;background-color: white;}#sk-container-id-2 div.sk-label label {font-family: monospace;font-weight: bold;display: inline-block;line-height: 1.2em;}#sk-container-id-2 div.sk-label-container {text-align: center;}#sk-container-id-2 div.sk-container {/* jupyter's `normalize.less` sets `[hidden] { display: none; }` but bootstrap.min.css set `[hidden] { display: none !important; }` so we also need the `!important` here to be able to override the default hidden behavior on the sphinx rendered scikit-learn.org. See: https://github.com/scikit-learn/scikit-learn/issues/21755 */display: inline-block !important;position: relative;}#sk-container-id-2 div.sk-text-repr-fallback {display: none;}</style><div id=\"sk-container-id-2\" class=\"sk-top-container\"><div class=\"sk-text-repr-fallback\"><pre>MultinomialNB()</pre><b>In a Jupyter environment, please rerun this cell to show the HTML representation or trust the notebook. <br />On GitHub, the HTML representation is unable to render, please try loading this page with nbviewer.org.</b></div><div class=\"sk-container\" hidden><div class=\"sk-item\"><div class=\"sk-estimator sk-toggleable\"><input class=\"sk-toggleable__control sk-hidden--visually\" id=\"sk-estimator-id-2\" type=\"checkbox\" checked><label for=\"sk-estimator-id-2\" class=\"sk-toggleable__label sk-toggleable__label-arrow\">MultinomialNB</label><div class=\"sk-toggleable__content\"><pre>MultinomialNB()</pre></div></div></div></div></div>"
            ]
          },
          "metadata": {},
          "execution_count": 48
        }
      ]
    },
    {
      "cell_type": "code",
      "source": [
        "resultados = cross_val_predict(modelo, freq_comentarios, classes, cv = 10)\n",
        "resultados"
      ],
      "metadata": {
        "colab": {
          "base_uri": "https://localhost:8080/"
        },
        "id": "OefoFL0Gb_8E",
        "outputId": "2cd75851-88a4-40ae-8a48-1ab0ced6da84"
      },
      "execution_count": 49,
      "outputs": [
        {
          "output_type": "stream",
          "name": "stderr",
          "text": [
            "/usr/local/lib/python3.9/dist-packages/sklearn/model_selection/_split.py:700: UserWarning: The least populated class in y has only 7 members, which is less than n_splits=10.\n",
            "  warnings.warn(\n"
          ]
        },
        {
          "output_type": "execute_result",
          "data": {
            "text/plain": [
              "array(['Neutro', 'Neutro', 'Neutro', ..., 'Neutro', 'Neutro', 'Neutro'],\n",
              "      dtype='<U8')"
            ]
          },
          "metadata": {},
          "execution_count": 49
        }
      ]
    },
    {
      "cell_type": "code",
      "source": [
        "metrics.accuracy_score(classes, resultados)"
      ],
      "metadata": {
        "colab": {
          "base_uri": "https://localhost:8080/"
        },
        "id": "ikDW8QPgcJG2",
        "outputId": "d56e6497-1316-40c9-eadb-667c8f9bde78"
      },
      "execution_count": 50,
      "outputs": [
        {
          "output_type": "execute_result",
          "data": {
            "text/plain": [
              "0.831"
            ]
          },
          "metadata": {},
          "execution_count": 50
        }
      ]
    },
    {
      "cell_type": "code",
      "source": [
        "print(metrics.classification_report(classes, resultados))"
      ],
      "metadata": {
        "colab": {
          "base_uri": "https://localhost:8080/"
        },
        "id": "8RVtzZGKcQRz",
        "outputId": "753570c3-e2c5-4e83-8380-53bdd3a894af"
      },
      "execution_count": 51,
      "outputs": [
        {
          "output_type": "stream",
          "name": "stdout",
          "text": [
            "              precision    recall  f1-score   support\n",
            "\n",
            "    Negativo       0.31      0.84      0.45       117\n",
            "      Neutro       1.00      0.83      0.91      1876\n",
            "    Positivo       0.05      0.86      0.09         7\n",
            "\n",
            "    accuracy                           0.83      2000\n",
            "   macro avg       0.45      0.84      0.48      2000\n",
            "weighted avg       0.96      0.83      0.88      2000\n",
            "\n"
          ]
        }
      ]
    },
    {
      "cell_type": "markdown",
      "source": [
        " Modelo Com Randow Forest"
      ],
      "metadata": {
        "id": "E2q7ZMijeWZL"
      }
    },
    {
      "cell_type": "code",
      "source": [
        "vectorizer = CountVectorizer(analyzer = \"word\", tokenizer = None, preprocessor = None,stop_words = stop_words, max_features = 5000)"
      ],
      "metadata": {
        "id": "2h_qMjAReOID"
      },
      "execution_count": 52,
      "outputs": []
    },
    {
      "cell_type": "code",
      "source": [
        "train_data_features = vectorizer.fit_transform(comentarios)\n",
        "train_data_features"
      ],
      "metadata": {
        "colab": {
          "base_uri": "https://localhost:8080/"
        },
        "id": "Io2ctfFregu3",
        "outputId": "90d7cd66-e83b-4c7b-b778-9a2de9c2effb"
      },
      "execution_count": 53,
      "outputs": [
        {
          "output_type": "execute_result",
          "data": {
            "text/plain": [
              "<2000x1752 sparse matrix of type '<class 'numpy.int64'>'\n",
              "\twith 21306 stored elements in Compressed Sparse Row format>"
            ]
          },
          "metadata": {},
          "execution_count": 53
        }
      ]
    },
    {
      "cell_type": "code",
      "source": [
        "forest = RandomForestClassifier(n_estimators = 100)\n",
        "forest"
      ],
      "metadata": {
        "colab": {
          "base_uri": "https://localhost:8080/",
          "height": 74
        },
        "id": "v9q2PPMyelPd",
        "outputId": "a2ce3c11-99c4-4103-fbc9-58b17e35b679"
      },
      "execution_count": 54,
      "outputs": [
        {
          "output_type": "execute_result",
          "data": {
            "text/plain": [
              "RandomForestClassifier()"
            ],
            "text/html": [
              "<style>#sk-container-id-3 {color: black;background-color: white;}#sk-container-id-3 pre{padding: 0;}#sk-container-id-3 div.sk-toggleable {background-color: white;}#sk-container-id-3 label.sk-toggleable__label {cursor: pointer;display: block;width: 100%;margin-bottom: 0;padding: 0.3em;box-sizing: border-box;text-align: center;}#sk-container-id-3 label.sk-toggleable__label-arrow:before {content: \"▸\";float: left;margin-right: 0.25em;color: #696969;}#sk-container-id-3 label.sk-toggleable__label-arrow:hover:before {color: black;}#sk-container-id-3 div.sk-estimator:hover label.sk-toggleable__label-arrow:before {color: black;}#sk-container-id-3 div.sk-toggleable__content {max-height: 0;max-width: 0;overflow: hidden;text-align: left;background-color: #f0f8ff;}#sk-container-id-3 div.sk-toggleable__content pre {margin: 0.2em;color: black;border-radius: 0.25em;background-color: #f0f8ff;}#sk-container-id-3 input.sk-toggleable__control:checked~div.sk-toggleable__content {max-height: 200px;max-width: 100%;overflow: auto;}#sk-container-id-3 input.sk-toggleable__control:checked~label.sk-toggleable__label-arrow:before {content: \"▾\";}#sk-container-id-3 div.sk-estimator input.sk-toggleable__control:checked~label.sk-toggleable__label {background-color: #d4ebff;}#sk-container-id-3 div.sk-label input.sk-toggleable__control:checked~label.sk-toggleable__label {background-color: #d4ebff;}#sk-container-id-3 input.sk-hidden--visually {border: 0;clip: rect(1px 1px 1px 1px);clip: rect(1px, 1px, 1px, 1px);height: 1px;margin: -1px;overflow: hidden;padding: 0;position: absolute;width: 1px;}#sk-container-id-3 div.sk-estimator {font-family: monospace;background-color: #f0f8ff;border: 1px dotted black;border-radius: 0.25em;box-sizing: border-box;margin-bottom: 0.5em;}#sk-container-id-3 div.sk-estimator:hover {background-color: #d4ebff;}#sk-container-id-3 div.sk-parallel-item::after {content: \"\";width: 100%;border-bottom: 1px solid gray;flex-grow: 1;}#sk-container-id-3 div.sk-label:hover label.sk-toggleable__label {background-color: #d4ebff;}#sk-container-id-3 div.sk-serial::before {content: \"\";position: absolute;border-left: 1px solid gray;box-sizing: border-box;top: 0;bottom: 0;left: 50%;z-index: 0;}#sk-container-id-3 div.sk-serial {display: flex;flex-direction: column;align-items: center;background-color: white;padding-right: 0.2em;padding-left: 0.2em;position: relative;}#sk-container-id-3 div.sk-item {position: relative;z-index: 1;}#sk-container-id-3 div.sk-parallel {display: flex;align-items: stretch;justify-content: center;background-color: white;position: relative;}#sk-container-id-3 div.sk-item::before, #sk-container-id-3 div.sk-parallel-item::before {content: \"\";position: absolute;border-left: 1px solid gray;box-sizing: border-box;top: 0;bottom: 0;left: 50%;z-index: -1;}#sk-container-id-3 div.sk-parallel-item {display: flex;flex-direction: column;z-index: 1;position: relative;background-color: white;}#sk-container-id-3 div.sk-parallel-item:first-child::after {align-self: flex-end;width: 50%;}#sk-container-id-3 div.sk-parallel-item:last-child::after {align-self: flex-start;width: 50%;}#sk-container-id-3 div.sk-parallel-item:only-child::after {width: 0;}#sk-container-id-3 div.sk-dashed-wrapped {border: 1px dashed gray;margin: 0 0.4em 0.5em 0.4em;box-sizing: border-box;padding-bottom: 0.4em;background-color: white;}#sk-container-id-3 div.sk-label label {font-family: monospace;font-weight: bold;display: inline-block;line-height: 1.2em;}#sk-container-id-3 div.sk-label-container {text-align: center;}#sk-container-id-3 div.sk-container {/* jupyter's `normalize.less` sets `[hidden] { display: none; }` but bootstrap.min.css set `[hidden] { display: none !important; }` so we also need the `!important` here to be able to override the default hidden behavior on the sphinx rendered scikit-learn.org. See: https://github.com/scikit-learn/scikit-learn/issues/21755 */display: inline-block !important;position: relative;}#sk-container-id-3 div.sk-text-repr-fallback {display: none;}</style><div id=\"sk-container-id-3\" class=\"sk-top-container\"><div class=\"sk-text-repr-fallback\"><pre>RandomForestClassifier()</pre><b>In a Jupyter environment, please rerun this cell to show the HTML representation or trust the notebook. <br />On GitHub, the HTML representation is unable to render, please try loading this page with nbviewer.org.</b></div><div class=\"sk-container\" hidden><div class=\"sk-item\"><div class=\"sk-estimator sk-toggleable\"><input class=\"sk-toggleable__control sk-hidden--visually\" id=\"sk-estimator-id-3\" type=\"checkbox\" checked><label for=\"sk-estimator-id-3\" class=\"sk-toggleable__label sk-toggleable__label-arrow\">RandomForestClassifier</label><div class=\"sk-toggleable__content\"><pre>RandomForestClassifier()</pre></div></div></div></div></div>"
            ]
          },
          "metadata": {},
          "execution_count": 54
        }
      ]
    },
    {
      "cell_type": "code",
      "source": [
        "class_sentimentos = df2[\"rotulos\"].values\n",
        "class_sentimentos"
      ],
      "metadata": {
        "colab": {
          "base_uri": "https://localhost:8080/"
        },
        "id": "gkz05OX1erjw",
        "outputId": "21ba688d-ddb1-4b1f-c6c0-646db60ac5fe"
      },
      "execution_count": 55,
      "outputs": [
        {
          "output_type": "execute_result",
          "data": {
            "text/plain": [
              "array(['Neutro', 'Neutro', 'Neutro', ..., 'Neutro', 'Neutro', 'Neutro'],\n",
              "      dtype=object)"
            ]
          },
          "metadata": {},
          "execution_count": 55
        }
      ]
    },
    {
      "cell_type": "code",
      "source": [
        "forest = forest.fit(train_data_features, class_sentimentos)\n",
        "forest"
      ],
      "metadata": {
        "colab": {
          "base_uri": "https://localhost:8080/",
          "height": 74
        },
        "id": "WM2bRBLFfT2h",
        "outputId": "3a94c351-a8c8-4b4b-b2aa-ee660b3e18ad"
      },
      "execution_count": 56,
      "outputs": [
        {
          "output_type": "execute_result",
          "data": {
            "text/plain": [
              "RandomForestClassifier()"
            ],
            "text/html": [
              "<style>#sk-container-id-4 {color: black;background-color: white;}#sk-container-id-4 pre{padding: 0;}#sk-container-id-4 div.sk-toggleable {background-color: white;}#sk-container-id-4 label.sk-toggleable__label {cursor: pointer;display: block;width: 100%;margin-bottom: 0;padding: 0.3em;box-sizing: border-box;text-align: center;}#sk-container-id-4 label.sk-toggleable__label-arrow:before {content: \"▸\";float: left;margin-right: 0.25em;color: #696969;}#sk-container-id-4 label.sk-toggleable__label-arrow:hover:before {color: black;}#sk-container-id-4 div.sk-estimator:hover label.sk-toggleable__label-arrow:before {color: black;}#sk-container-id-4 div.sk-toggleable__content {max-height: 0;max-width: 0;overflow: hidden;text-align: left;background-color: #f0f8ff;}#sk-container-id-4 div.sk-toggleable__content pre {margin: 0.2em;color: black;border-radius: 0.25em;background-color: #f0f8ff;}#sk-container-id-4 input.sk-toggleable__control:checked~div.sk-toggleable__content {max-height: 200px;max-width: 100%;overflow: auto;}#sk-container-id-4 input.sk-toggleable__control:checked~label.sk-toggleable__label-arrow:before {content: \"▾\";}#sk-container-id-4 div.sk-estimator input.sk-toggleable__control:checked~label.sk-toggleable__label {background-color: #d4ebff;}#sk-container-id-4 div.sk-label input.sk-toggleable__control:checked~label.sk-toggleable__label {background-color: #d4ebff;}#sk-container-id-4 input.sk-hidden--visually {border: 0;clip: rect(1px 1px 1px 1px);clip: rect(1px, 1px, 1px, 1px);height: 1px;margin: -1px;overflow: hidden;padding: 0;position: absolute;width: 1px;}#sk-container-id-4 div.sk-estimator {font-family: monospace;background-color: #f0f8ff;border: 1px dotted black;border-radius: 0.25em;box-sizing: border-box;margin-bottom: 0.5em;}#sk-container-id-4 div.sk-estimator:hover {background-color: #d4ebff;}#sk-container-id-4 div.sk-parallel-item::after {content: \"\";width: 100%;border-bottom: 1px solid gray;flex-grow: 1;}#sk-container-id-4 div.sk-label:hover label.sk-toggleable__label {background-color: #d4ebff;}#sk-container-id-4 div.sk-serial::before {content: \"\";position: absolute;border-left: 1px solid gray;box-sizing: border-box;top: 0;bottom: 0;left: 50%;z-index: 0;}#sk-container-id-4 div.sk-serial {display: flex;flex-direction: column;align-items: center;background-color: white;padding-right: 0.2em;padding-left: 0.2em;position: relative;}#sk-container-id-4 div.sk-item {position: relative;z-index: 1;}#sk-container-id-4 div.sk-parallel {display: flex;align-items: stretch;justify-content: center;background-color: white;position: relative;}#sk-container-id-4 div.sk-item::before, #sk-container-id-4 div.sk-parallel-item::before {content: \"\";position: absolute;border-left: 1px solid gray;box-sizing: border-box;top: 0;bottom: 0;left: 50%;z-index: -1;}#sk-container-id-4 div.sk-parallel-item {display: flex;flex-direction: column;z-index: 1;position: relative;background-color: white;}#sk-container-id-4 div.sk-parallel-item:first-child::after {align-self: flex-end;width: 50%;}#sk-container-id-4 div.sk-parallel-item:last-child::after {align-self: flex-start;width: 50%;}#sk-container-id-4 div.sk-parallel-item:only-child::after {width: 0;}#sk-container-id-4 div.sk-dashed-wrapped {border: 1px dashed gray;margin: 0 0.4em 0.5em 0.4em;box-sizing: border-box;padding-bottom: 0.4em;background-color: white;}#sk-container-id-4 div.sk-label label {font-family: monospace;font-weight: bold;display: inline-block;line-height: 1.2em;}#sk-container-id-4 div.sk-label-container {text-align: center;}#sk-container-id-4 div.sk-container {/* jupyter's `normalize.less` sets `[hidden] { display: none; }` but bootstrap.min.css set `[hidden] { display: none !important; }` so we also need the `!important` here to be able to override the default hidden behavior on the sphinx rendered scikit-learn.org. See: https://github.com/scikit-learn/scikit-learn/issues/21755 */display: inline-block !important;position: relative;}#sk-container-id-4 div.sk-text-repr-fallback {display: none;}</style><div id=\"sk-container-id-4\" class=\"sk-top-container\"><div class=\"sk-text-repr-fallback\"><pre>RandomForestClassifier()</pre><b>In a Jupyter environment, please rerun this cell to show the HTML representation or trust the notebook. <br />On GitHub, the HTML representation is unable to render, please try loading this page with nbviewer.org.</b></div><div class=\"sk-container\" hidden><div class=\"sk-item\"><div class=\"sk-estimator sk-toggleable\"><input class=\"sk-toggleable__control sk-hidden--visually\" id=\"sk-estimator-id-4\" type=\"checkbox\" checked><label for=\"sk-estimator-id-4\" class=\"sk-toggleable__label sk-toggleable__label-arrow\">RandomForestClassifier</label><div class=\"sk-toggleable__content\"><pre>RandomForestClassifier()</pre></div></div></div></div></div>"
            ]
          },
          "metadata": {},
          "execution_count": 56
        }
      ]
    },
    {
      "cell_type": "code",
      "source": [
        "test_data_features_resultados = vectorizer.transform(comentarios)\n",
        "test_data_features_resultados"
      ],
      "metadata": {
        "colab": {
          "base_uri": "https://localhost:8080/"
        },
        "id": "nf--fe5JfarX",
        "outputId": "beb2fe43-41a8-4a8a-bc84-f7687439933a"
      },
      "execution_count": 57,
      "outputs": [
        {
          "output_type": "execute_result",
          "data": {
            "text/plain": [
              "<2000x1752 sparse matrix of type '<class 'numpy.int64'>'\n",
              "\twith 21306 stored elements in Compressed Sparse Row format>"
            ]
          },
          "metadata": {},
          "execution_count": 57
        }
      ]
    },
    {
      "cell_type": "code",
      "source": [
        "resultados = forest.predict(test_data_features_resultados)\n",
        "resultados"
      ],
      "metadata": {
        "colab": {
          "base_uri": "https://localhost:8080/"
        },
        "id": "N3rBlZa5frrL",
        "outputId": "6db11f51-07e0-497c-f0d6-8245870b7636"
      },
      "execution_count": 58,
      "outputs": [
        {
          "output_type": "execute_result",
          "data": {
            "text/plain": [
              "array(['Neutro', 'Neutro', 'Neutro', ..., 'Neutro', 'Neutro', 'Neutro'],\n",
              "      dtype=object)"
            ]
          },
          "metadata": {},
          "execution_count": 58
        }
      ]
    },
    {
      "cell_type": "code",
      "source": [
        "metrics.accuracy_score(classes, resultados)"
      ],
      "metadata": {
        "colab": {
          "base_uri": "https://localhost:8080/"
        },
        "id": "brsaLoWRf1tj",
        "outputId": "15518f67-89b5-4c5b-ac8b-450a4352ef6c"
      },
      "execution_count": 59,
      "outputs": [
        {
          "output_type": "execute_result",
          "data": {
            "text/plain": [
              "1.0"
            ]
          },
          "metadata": {},
          "execution_count": 59
        }
      ]
    },
    {
      "cell_type": "code",
      "source": [
        "print(metrics.classification_report(classes, resultados))"
      ],
      "metadata": {
        "colab": {
          "base_uri": "https://localhost:8080/"
        },
        "id": "ySWV4D4jf3VA",
        "outputId": "6c501bff-4919-43e2-82d8-7a4f348f509b"
      },
      "execution_count": 60,
      "outputs": [
        {
          "output_type": "stream",
          "name": "stdout",
          "text": [
            "              precision    recall  f1-score   support\n",
            "\n",
            "    Negativo       1.00      1.00      1.00       117\n",
            "      Neutro       1.00      1.00      1.00      1876\n",
            "    Positivo       1.00      1.00      1.00         7\n",
            "\n",
            "    accuracy                           1.00      2000\n",
            "   macro avg       1.00      1.00      1.00      2000\n",
            "weighted avg       1.00      1.00      1.00      2000\n",
            "\n"
          ]
        }
      ]
    },
    {
      "cell_type": "code",
      "source": [
        "print(pd.crosstab(classes, resultados, rownames = [\"Real\"], colnames = [\"Predito\"], margins = True))"
      ],
      "metadata": {
        "colab": {
          "base_uri": "https://localhost:8080/"
        },
        "id": "4QUsARo1gK6z",
        "outputId": "7686fe41-b59c-4bce-a2fe-5e422ec48188"
      },
      "execution_count": 61,
      "outputs": [
        {
          "output_type": "stream",
          "name": "stdout",
          "text": [
            "Predito   Negativo  Neutro  Positivo   All\n",
            "Real                                      \n",
            "Negativo       117       0         0   117\n",
            "Neutro           0    1876         0  1876\n",
            "Positivo         0       0         7     7\n",
            "All            117    1876         7  2000\n"
          ]
        }
      ]
    }
  ]
}