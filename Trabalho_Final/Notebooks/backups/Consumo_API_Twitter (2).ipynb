{
  "nbformat": 4,
  "nbformat_minor": 0,
  "metadata": {
    "colab": {
      "provenance": []
    },
    "kernelspec": {
      "name": "python3",
      "display_name": "Python 3"
    },
    "language_info": {
      "name": "python"
    }
  },
  "cells": [
    {
      "cell_type": "code",
      "execution_count": 1,
      "metadata": {
        "colab": {
          "base_uri": "https://localhost:8080/"
        },
        "id": "1h4tlDm2_whj",
        "outputId": "0ad2b211-7b57-40c4-c78d-6da566ccfc87"
      },
      "outputs": [
        {
          "output_type": "stream",
          "name": "stdout",
          "text": [
            "Looking in indexes: https://pypi.org/simple, https://us-python.pkg.dev/colab-wheels/public/simple/\n",
            "Requirement already satisfied: tweepy in /usr/local/lib/python3.8/dist-packages (3.10.0)\n",
            "Collecting tweepy\n",
            "  Downloading tweepy-4.12.1-py3-none-any.whl (101 kB)\n",
            "\u001b[2K     \u001b[90m━━━━━━━━━━━━━━━━━━━━━━━━━━━━━━━━━━━━━━━\u001b[0m \u001b[32m101.6/101.6 KB\u001b[0m \u001b[31m2.5 MB/s\u001b[0m eta \u001b[36m0:00:00\u001b[0m\n",
            "\u001b[?25hRequirement already satisfied: oauthlib<4,>=3.2.0 in /usr/local/lib/python3.8/dist-packages (from tweepy) (3.2.2)\n",
            "Requirement already satisfied: requests-oauthlib<2,>=1.2.0 in /usr/local/lib/python3.8/dist-packages (from tweepy) (1.3.1)\n",
            "Collecting requests<3,>=2.27.0\n",
            "  Downloading requests-2.28.2-py3-none-any.whl (62 kB)\n",
            "\u001b[2K     \u001b[90m━━━━━━━━━━━━━━━━━━━━━━━━━━━━━━━━━━━━━━━━\u001b[0m \u001b[32m62.8/62.8 KB\u001b[0m \u001b[31m3.6 MB/s\u001b[0m eta \u001b[36m0:00:00\u001b[0m\n",
            "\u001b[?25hRequirement already satisfied: charset-normalizer<4,>=2 in /usr/local/lib/python3.8/dist-packages (from requests<3,>=2.27.0->tweepy) (3.0.1)\n",
            "Requirement already satisfied: idna<4,>=2.5 in /usr/local/lib/python3.8/dist-packages (from requests<3,>=2.27.0->tweepy) (2.10)\n",
            "Requirement already satisfied: certifi>=2017.4.17 in /usr/local/lib/python3.8/dist-packages (from requests<3,>=2.27.0->tweepy) (2022.12.7)\n",
            "Requirement already satisfied: urllib3<1.27,>=1.21.1 in /usr/local/lib/python3.8/dist-packages (from requests<3,>=2.27.0->tweepy) (1.26.14)\n",
            "Installing collected packages: requests, tweepy\n",
            "  Attempting uninstall: requests\n",
            "    Found existing installation: requests 2.25.1\n",
            "    Uninstalling requests-2.25.1:\n",
            "      Successfully uninstalled requests-2.25.1\n",
            "  Attempting uninstall: tweepy\n",
            "    Found existing installation: tweepy 3.10.0\n",
            "    Uninstalling tweepy-3.10.0:\n",
            "      Successfully uninstalled tweepy-3.10.0\n",
            "Successfully installed requests-2.28.2 tweepy-4.12.1\n"
          ]
        }
      ],
      "source": [
        "!pip3 install tweepy --upgrade"
      ]
    },
    {
      "cell_type": "code",
      "source": [
        "import tweepy"
      ],
      "metadata": {
        "id": "w3LIJ-8qCUhn"
      },
      "execution_count": 2,
      "outputs": []
    },
    {
      "cell_type": "code",
      "source": [
        "#Chave\n",
        "bearer_token = \"AAAAAAAAAAAAAAAAAAAAAGJrlgEAAAAAvuMtZZ6TM%2F4f8TzUxK1EZPivdG0%3DyeqzQ60sxhoyFXiB5EznVnv7juJnwNsQiiqdA60IcjI70QLyvG\"\n",
        "\n",
        "client = tweepy.Client(bearer_token=bearer_token)\n",
        "\n",
        "\n",
        "# Search Recent Tweets\n",
        "\n",
        "# This endpoint/method returns Tweets from the last seven days\n",
        "\n",
        "#Buscando Eletrobras\n",
        "response = client.search_recent_tweets(\"eletrobras\")\n",
        "# The method returns a Response object, a named tuple with data, includes,\n",
        "# errors, and meta fields\n",
        "print(response.meta)\n",
        "\n",
        "# In this case, the data field of the Response returned is a list of Tweet\n",
        "# objects\n",
        "tweets = response.data\n",
        "\n",
        "# Each Tweet object has default ID and text fields\n",
        "for tweet in tweets:\n",
        "    print(tweet.id)\n",
        "    print(tweet.text)\n",
        "\n",
        "# By default, this endpoint/method returns 10 results\n",
        "# You can retrieve up to 100 Tweets by specifying max_results\n",
        "response = client.search_recent_tweets(\"eletrobras\", max_results=1000)"
      ],
      "metadata": {
        "colab": {
          "base_uri": "https://localhost:8080/",
          "height": 800
        },
        "id": "jZPe_i2G_7nh",
        "outputId": "bab02a56-9d26-42c1-b739-fb7123afc09e"
      },
      "execution_count": 13,
      "outputs": [
        {
          "output_type": "stream",
          "name": "stdout",
          "text": [
            "{'newest_id': '1630928011066236928', 'oldest_id': '1630925483222220801', 'result_count': 10, 'next_token': 'b26v89c19zqg8o3fqk9ywm1j5pk2xi9bd5gwco2p9lmd9'}\n",
            "1630928011066236928\n",
            "RT @Mariade21501765: @machado_mansur @ferarbex @Ricardo21768325 @OsmarinaSanto18 @SousaRe44206061 @EuEdsonJose @DVN_55 @FagundesTacilio @Le…\n",
            "1630927805536935936\n",
            "@Eletrobras @furnas Furnas é Gigante ❤️\n",
            "1630927239813406720\n",
            "RT @Glauber_Braga: Lula está correto: a privatização da Eletrobras foi um crime de lesa-pátria. Sua reestatização é fundamental! Essa luta…\n",
            "1630926891774275584\n",
            "RT @bourahli65: É dever do Estado Brasileiro de recuperar a Eletrobras!\n",
            "1630926730096459776\n",
            "@pauloguedesfc Qual foi o legado que você deixou? fim da aposentadoria, doação da BR distribuidora, Doação da Eletrobrás,etc.E de bom ao pivô Brasileiro?\n",
            "1630926572529016833\n",
            "RT @edu_nakayama: El subsidio al costo de la electricidad hizo que se incrementara la deuda de Itaipú a Eletrobras y la obra costara mucho…\n",
            "1630926486336094210\n",
            "RT @Sgt_Pimenta4: Depois das Americanas, de denúncias na AmBev, de incertezas na Light e do medo na @Eletrobras o 3G começa a vender imóvei…\n",
            "1630926470783614976\n",
            "RT @adina_corsi: @LulaOficial Ouça o povo, Lula lindo.\n",
            "Revogação da reforma da previdência e da reforma trabalhista.\n",
            "Revogação do NEM.\n",
            "Rees…\n",
            "1630925654043553793\n",
            "RT @Sgt_Pimenta4: Depois das Americanas, de denúncias na AmBev, de incertezas na Light e do medo na @Eletrobras o 3G começa a vender imóvei…\n",
            "1630925483222220801\n",
            "RT @Sgt_Pimenta4: Depois das Americanas, de denúncias na AmBev, de incertezas na Light e do medo na @Eletrobras o 3G começa a vender imóvei…\n"
          ]
        },
        {
          "output_type": "error",
          "ename": "BadRequest",
          "evalue": "ignored",
          "traceback": [
            "\u001b[0;31m---------------------------------------------------------------------------\u001b[0m",
            "\u001b[0;31mBadRequest\u001b[0m                                Traceback (most recent call last)",
            "\u001b[0;32m<ipython-input-13-022deac67c56>\u001b[0m in \u001b[0;36m<module>\u001b[0;34m\u001b[0m\n\u001b[1;32m     26\u001b[0m \u001b[0;31m# By default, this endpoint/method returns 10 results\u001b[0m\u001b[0;34m\u001b[0m\u001b[0;34m\u001b[0m\u001b[0;34m\u001b[0m\u001b[0m\n\u001b[1;32m     27\u001b[0m \u001b[0;31m# You can retrieve up to 100 Tweets by specifying max_results\u001b[0m\u001b[0;34m\u001b[0m\u001b[0;34m\u001b[0m\u001b[0;34m\u001b[0m\u001b[0m\n\u001b[0;32m---> 28\u001b[0;31m \u001b[0mresponse\u001b[0m \u001b[0;34m=\u001b[0m \u001b[0mclient\u001b[0m\u001b[0;34m.\u001b[0m\u001b[0msearch_recent_tweets\u001b[0m\u001b[0;34m(\u001b[0m\u001b[0;34m\"eletrobras\"\u001b[0m\u001b[0;34m,\u001b[0m \u001b[0mmax_results\u001b[0m\u001b[0;34m=\u001b[0m\u001b[0;36m1000\u001b[0m\u001b[0;34m)\u001b[0m\u001b[0;34m\u001b[0m\u001b[0;34m\u001b[0m\u001b[0m\n\u001b[0m",
            "\u001b[0;32m/usr/local/lib/python3.8/dist-packages/tweepy/client.py\u001b[0m in \u001b[0;36msearch_recent_tweets\u001b[0;34m(self, query, user_auth, **params)\u001b[0m\n\u001b[1;32m   1264\u001b[0m         \"\"\"\n\u001b[1;32m   1265\u001b[0m         \u001b[0mparams\u001b[0m\u001b[0;34m[\u001b[0m\u001b[0;34m\"query\"\u001b[0m\u001b[0;34m]\u001b[0m \u001b[0;34m=\u001b[0m \u001b[0mquery\u001b[0m\u001b[0;34m\u001b[0m\u001b[0;34m\u001b[0m\u001b[0m\n\u001b[0;32m-> 1266\u001b[0;31m         return self._make_request(\n\u001b[0m\u001b[1;32m   1267\u001b[0m             \u001b[0;34m\"GET\"\u001b[0m\u001b[0;34m,\u001b[0m \u001b[0;34m\"/2/tweets/search/recent\"\u001b[0m\u001b[0;34m,\u001b[0m \u001b[0mparams\u001b[0m\u001b[0;34m=\u001b[0m\u001b[0mparams\u001b[0m\u001b[0;34m,\u001b[0m\u001b[0;34m\u001b[0m\u001b[0;34m\u001b[0m\u001b[0m\n\u001b[1;32m   1268\u001b[0m             endpoint_parameters=(\n",
            "\u001b[0;32m/usr/local/lib/python3.8/dist-packages/tweepy/client.py\u001b[0m in \u001b[0;36m_make_request\u001b[0;34m(self, method, route, params, endpoint_parameters, json, data_type, user_auth)\u001b[0m\n\u001b[1;32m    127\u001b[0m         \u001b[0mrequest_params\u001b[0m \u001b[0;34m=\u001b[0m \u001b[0mself\u001b[0m\u001b[0;34m.\u001b[0m\u001b[0m_process_params\u001b[0m\u001b[0;34m(\u001b[0m\u001b[0mparams\u001b[0m\u001b[0;34m,\u001b[0m \u001b[0mendpoint_parameters\u001b[0m\u001b[0;34m)\u001b[0m\u001b[0;34m\u001b[0m\u001b[0;34m\u001b[0m\u001b[0m\n\u001b[1;32m    128\u001b[0m \u001b[0;34m\u001b[0m\u001b[0m\n\u001b[0;32m--> 129\u001b[0;31m         response = self.request(method, route, params=request_params,\n\u001b[0m\u001b[1;32m    130\u001b[0m                                 json=json, user_auth=user_auth)\n\u001b[1;32m    131\u001b[0m \u001b[0;34m\u001b[0m\u001b[0m\n",
            "\u001b[0;32m/usr/local/lib/python3.8/dist-packages/tweepy/client.py\u001b[0m in \u001b[0;36mrequest\u001b[0;34m(self, method, route, params, json, user_auth)\u001b[0m\n\u001b[1;32m     94\u001b[0m \u001b[0;34m\u001b[0m\u001b[0m\n\u001b[1;32m     95\u001b[0m             \u001b[0;32mif\u001b[0m \u001b[0mresponse\u001b[0m\u001b[0;34m.\u001b[0m\u001b[0mstatus_code\u001b[0m \u001b[0;34m==\u001b[0m \u001b[0;36m400\u001b[0m\u001b[0;34m:\u001b[0m\u001b[0;34m\u001b[0m\u001b[0;34m\u001b[0m\u001b[0m\n\u001b[0;32m---> 96\u001b[0;31m                 \u001b[0;32mraise\u001b[0m \u001b[0mBadRequest\u001b[0m\u001b[0;34m(\u001b[0m\u001b[0mresponse\u001b[0m\u001b[0;34m)\u001b[0m\u001b[0;34m\u001b[0m\u001b[0;34m\u001b[0m\u001b[0m\n\u001b[0m\u001b[1;32m     97\u001b[0m             \u001b[0;32mif\u001b[0m \u001b[0mresponse\u001b[0m\u001b[0;34m.\u001b[0m\u001b[0mstatus_code\u001b[0m \u001b[0;34m==\u001b[0m \u001b[0;36m401\u001b[0m\u001b[0;34m:\u001b[0m\u001b[0;34m\u001b[0m\u001b[0;34m\u001b[0m\u001b[0m\n\u001b[1;32m     98\u001b[0m                 \u001b[0;32mraise\u001b[0m \u001b[0mUnauthorized\u001b[0m\u001b[0;34m(\u001b[0m\u001b[0mresponse\u001b[0m\u001b[0;34m)\u001b[0m\u001b[0;34m\u001b[0m\u001b[0;34m\u001b[0m\u001b[0m\n",
            "\u001b[0;31mBadRequest\u001b[0m: 400 Bad Request\nThe `max_results` query parameter value [1000] is not between 10 and 100"
          ]
        }
      ]
    },
    {
      "cell_type": "code",
      "source": [
        "type(tweets)"
      ],
      "metadata": {
        "colab": {
          "base_uri": "https://localhost:8080/"
        },
        "id": "J4JKid1caL-P",
        "outputId": "0b5ff465-0234-4c31-f4ff-b82911899b4d"
      },
      "execution_count": 11,
      "outputs": [
        {
          "output_type": "execute_result",
          "data": {
            "text/plain": [
              "list"
            ]
          },
          "metadata": {},
          "execution_count": 11
        }
      ]
    },
    {
      "cell_type": "code",
      "source": [
        "results = []"
      ],
      "metadata": {
        "id": "82HKVH-MbXNH"
      },
      "execution_count": 14,
      "outputs": []
    },
    {
      "cell_type": "code",
      "source": [
        "for tweet in tweets:\n",
        "    print(tweet.id)\n",
        "    print(tweet.text)\n",
        "    results.append((tweet.id, tweet.text))"
      ],
      "metadata": {
        "colab": {
          "base_uri": "https://localhost:8080/"
        },
        "id": "gC1JMj_tffyA",
        "outputId": "f11b8a46-8f88-4247-bdad-82534ffcbe1a"
      },
      "execution_count": 15,
      "outputs": [
        {
          "output_type": "stream",
          "name": "stdout",
          "text": [
            "1630928011066236928\n",
            "RT @Mariade21501765: @machado_mansur @ferarbex @Ricardo21768325 @OsmarinaSanto18 @SousaRe44206061 @EuEdsonJose @DVN_55 @FagundesTacilio @Le…\n",
            "1630927805536935936\n",
            "@Eletrobras @furnas Furnas é Gigante ❤️\n",
            "1630927239813406720\n",
            "RT @Glauber_Braga: Lula está correto: a privatização da Eletrobras foi um crime de lesa-pátria. Sua reestatização é fundamental! Essa luta…\n",
            "1630926891774275584\n",
            "RT @bourahli65: É dever do Estado Brasileiro de recuperar a Eletrobras!\n",
            "1630926730096459776\n",
            "@pauloguedesfc Qual foi o legado que você deixou? fim da aposentadoria, doação da BR distribuidora, Doação da Eletrobrás,etc.E de bom ao pivô Brasileiro?\n",
            "1630926572529016833\n",
            "RT @edu_nakayama: El subsidio al costo de la electricidad hizo que se incrementara la deuda de Itaipú a Eletrobras y la obra costara mucho…\n",
            "1630926486336094210\n",
            "RT @Sgt_Pimenta4: Depois das Americanas, de denúncias na AmBev, de incertezas na Light e do medo na @Eletrobras o 3G começa a vender imóvei…\n",
            "1630926470783614976\n",
            "RT @adina_corsi: @LulaOficial Ouça o povo, Lula lindo.\n",
            "Revogação da reforma da previdência e da reforma trabalhista.\n",
            "Revogação do NEM.\n",
            "Rees…\n",
            "1630925654043553793\n",
            "RT @Sgt_Pimenta4: Depois das Americanas, de denúncias na AmBev, de incertezas na Light e do medo na @Eletrobras o 3G começa a vender imóvei…\n",
            "1630925483222220801\n",
            "RT @Sgt_Pimenta4: Depois das Americanas, de denúncias na AmBev, de incertezas na Light e do medo na @Eletrobras o 3G começa a vender imóvei…\n"
          ]
        }
      ]
    },
    {
      "cell_type": "code",
      "source": [
        "results"
      ],
      "metadata": {
        "colab": {
          "base_uri": "https://localhost:8080/"
        },
        "id": "Jwd_5dMDgJIt",
        "outputId": "7c1e72da-50e8-4d7d-e271-eb84e9acc22c"
      },
      "execution_count": 16,
      "outputs": [
        {
          "output_type": "execute_result",
          "data": {
            "text/plain": [
              "[(1630928011066236928,\n",
              "  'RT @Mariade21501765: @machado_mansur @ferarbex @Ricardo21768325 @OsmarinaSanto18 @SousaRe44206061 @EuEdsonJose @DVN_55 @FagundesTacilio @Le…'),\n",
              " (1630927805536935936, '@Eletrobras @furnas Furnas é Gigante ❤️'),\n",
              " (1630927239813406720,\n",
              "  'RT @Glauber_Braga: Lula está correto: a privatização da Eletrobras foi um crime de lesa-pátria. Sua reestatização é fundamental! Essa luta…'),\n",
              " (1630926891774275584,\n",
              "  'RT @bourahli65: É dever do Estado Brasileiro de recuperar a Eletrobras!'),\n",
              " (1630926730096459776,\n",
              "  '@pauloguedesfc Qual foi o legado que você deixou? fim da aposentadoria, doação da BR distribuidora, Doação da Eletrobrás,etc.E de bom ao pivô Brasileiro?'),\n",
              " (1630926572529016833,\n",
              "  'RT @edu_nakayama: El subsidio al costo de la electricidad hizo que se incrementara la deuda de Itaipú a Eletrobras y la obra costara mucho…'),\n",
              " (1630926486336094210,\n",
              "  'RT @Sgt_Pimenta4: Depois das Americanas, de denúncias na AmBev, de incertezas na Light e do medo na @Eletrobras o 3G começa a vender imóvei…'),\n",
              " (1630926470783614976,\n",
              "  'RT @adina_corsi: @LulaOficial Ouça o povo, Lula lindo.\\nRevogação da reforma da previdência e da reforma trabalhista.\\nRevogação do NEM.\\nRees…'),\n",
              " (1630925654043553793,\n",
              "  'RT @Sgt_Pimenta4: Depois das Americanas, de denúncias na AmBev, de incertezas na Light e do medo na @Eletrobras o 3G começa a vender imóvei…'),\n",
              " (1630925483222220801,\n",
              "  'RT @Sgt_Pimenta4: Depois das Americanas, de denúncias na AmBev, de incertezas na Light e do medo na @Eletrobras o 3G começa a vender imóvei…')]"
            ]
          },
          "metadata": {},
          "execution_count": 16
        }
      ]
    },
    {
      "cell_type": "code",
      "source": [
        "type(results)"
      ],
      "metadata": {
        "colab": {
          "base_uri": "https://localhost:8080/"
        },
        "id": "Omj4Q_silnrv",
        "outputId": "44bce195-9b19-44e8-cbce-a4d5c04dfe3c"
      },
      "execution_count": 17,
      "outputs": [
        {
          "output_type": "execute_result",
          "data": {
            "text/plain": [
              "list"
            ]
          },
          "metadata": {},
          "execution_count": 17
        }
      ]
    }
  ]
}