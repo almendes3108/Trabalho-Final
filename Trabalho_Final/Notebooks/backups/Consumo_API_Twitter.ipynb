{
  "nbformat": 4,
  "nbformat_minor": 0,
  "metadata": {
    "colab": {
      "provenance": []
    },
    "kernelspec": {
      "name": "python3",
      "display_name": "Python 3"
    },
    "language_info": {
      "name": "python"
    }
  },
  "cells": [
    {
      "cell_type": "code",
      "execution_count": 1,
      "metadata": {
        "colab": {
          "base_uri": "https://localhost:8080/"
        },
        "id": "1h4tlDm2_whj",
        "outputId": "dbd211d3-2097-49aa-ab90-f9f91e1064b3"
      },
      "outputs": [
        {
          "output_type": "stream",
          "name": "stdout",
          "text": [
            "Looking in indexes: https://pypi.org/simple, https://us-python.pkg.dev/colab-wheels/public/simple/\n",
            "Requirement already satisfied: tweepy in /usr/local/lib/python3.8/dist-packages (3.10.0)\n",
            "Collecting tweepy\n",
            "  Downloading tweepy-4.12.1-py3-none-any.whl (101 kB)\n",
            "\u001b[2K     \u001b[90m━━━━━━━━━━━━━━━━━━━━━━━━━━━━━━━━━━━━━━━\u001b[0m \u001b[32m101.6/101.6 KB\u001b[0m \u001b[31m5.2 MB/s\u001b[0m eta \u001b[36m0:00:00\u001b[0m\n",
            "\u001b[?25hRequirement already satisfied: requests-oauthlib<2,>=1.2.0 in /usr/local/lib/python3.8/dist-packages (from tweepy) (1.3.1)\n",
            "Collecting requests<3,>=2.27.0\n",
            "  Downloading requests-2.28.2-py3-none-any.whl (62 kB)\n",
            "\u001b[2K     \u001b[90m━━━━━━━━━━━━━━━━━━━━━━━━━━━━━━━━━━━━━━━━\u001b[0m \u001b[32m62.8/62.8 KB\u001b[0m \u001b[31m5.2 MB/s\u001b[0m eta \u001b[36m0:00:00\u001b[0m\n",
            "\u001b[?25hRequirement already satisfied: oauthlib<4,>=3.2.0 in /usr/local/lib/python3.8/dist-packages (from tweepy) (3.2.2)\n",
            "Requirement already satisfied: certifi>=2017.4.17 in /usr/local/lib/python3.8/dist-packages (from requests<3,>=2.27.0->tweepy) (2022.12.7)\n",
            "Requirement already satisfied: urllib3<1.27,>=1.21.1 in /usr/local/lib/python3.8/dist-packages (from requests<3,>=2.27.0->tweepy) (1.26.14)\n",
            "Requirement already satisfied: idna<4,>=2.5 in /usr/local/lib/python3.8/dist-packages (from requests<3,>=2.27.0->tweepy) (2.10)\n",
            "Requirement already satisfied: charset-normalizer<4,>=2 in /usr/local/lib/python3.8/dist-packages (from requests<3,>=2.27.0->tweepy) (3.0.1)\n",
            "Installing collected packages: requests, tweepy\n",
            "  Attempting uninstall: requests\n",
            "    Found existing installation: requests 2.25.1\n",
            "    Uninstalling requests-2.25.1:\n",
            "      Successfully uninstalled requests-2.25.1\n",
            "  Attempting uninstall: tweepy\n",
            "    Found existing installation: tweepy 3.10.0\n",
            "    Uninstalling tweepy-3.10.0:\n",
            "      Successfully uninstalled tweepy-3.10.0\n",
            "Successfully installed requests-2.28.2 tweepy-4.12.1\n"
          ]
        }
      ],
      "source": [
        "!pip3 install tweepy --upgrade"
      ]
    },
    {
      "cell_type": "code",
      "source": [
        "import tweepy"
      ],
      "metadata": {
        "id": "w3LIJ-8qCUhn"
      },
      "execution_count": 2,
      "outputs": []
    },
    {
      "cell_type": "code",
      "source": [
        "#Chave\n",
        "bearer_token = \"AAAAAAAAAAAAAAAAAAAAAGJrlgEAAAAAvuMtZZ6TM%2F4f8TzUxK1EZPivdG0%3DyeqzQ60sxhoyFXiB5EznVnv7juJnwNsQiiqdA60IcjI70QLyvG\"\n",
        "\n",
        "client = tweepy.Client(bearer_token=bearer_token)\n",
        "\n",
        "\n",
        "# Search Recent Tweets\n",
        "\n",
        "# This endpoint/method returns Tweets from the last seven days\n",
        "\n",
        "#Buscando Eletrobras\n",
        "response = client.search_recent_tweets(\"eletrobras\")\n",
        "# The method returns a Response object, a named tuple with data, includes,\n",
        "# errors, and meta fields\n",
        "print(response.meta)\n",
        "\n",
        "# In this case, the data field of the Response returned is a list of Tweet\n",
        "# objects\n",
        "tweets = response.data\n",
        "\n",
        "# Each Tweet object has default ID and text fields\n",
        "for tweet in tweets:\n",
        "    print(tweet.id)\n",
        "    print(tweet.text)\n",
        "\n",
        "# By default, this endpoint/method returns 10 results\n",
        "# You can retrieve up to 100 Tweets by specifying max_results\n",
        "response = client.search_recent_tweets(\"eletrobras\", max_results=100)"
      ],
      "metadata": {
        "colab": {
          "base_uri": "https://localhost:8080/"
        },
        "id": "jZPe_i2G_7nh",
        "outputId": "cb62c65a-8561-487f-e57e-cbecaa200470"
      },
      "execution_count": 3,
      "outputs": [
        {
          "output_type": "stream",
          "name": "stdout",
          "text": [
            "{'newest_id': '1630689959609761795', 'oldest_id': '1630682623893725184', 'result_count': 10, 'next_token': 'b26v89c19zqg8o3fqk9ywfp5bqh7p1x0a8fio4nqd44fx'}\n",
            "1630689959609761795\n",
            "Prof Fábio Bicalho da UFRJ e do Instituto Ilumina faz um paralelo entre escândalos recentes da história do Brasil.\n",
            "Ilumina - A Crise das Americanas e a ELETROBRAS\n",
            "#LulaReestatizaEletrobrasJá\n",
            "@LulaOficial @gleisi @AlencarBraga13 @erikakokay @asilveiramg   https://t.co/qSxx45bT59\n",
            "1630689573008289793\n",
            "RT @Glauber_Braga: Lula está correto: a privatização da Eletrobras foi um crime de lesa-pátria. Sua reestatização é fundamental! Essa luta…\n",
            "1630687993445974068\n",
            "RT @Glauber_Braga: Lula está correto: a privatização da Eletrobras foi um crime de lesa-pátria. Sua reestatização é fundamental! Essa luta…\n",
            "1630686787193524234\n",
            "RT @Glauber_Braga: Lula está correto: a privatização da Eletrobras foi um crime de lesa-pátria. Sua reestatização é fundamental! Essa luta…\n",
            "1630685657000452099\n",
            "RT @EdilsonJoseGabr: A privatização da Eletrobras, no governo Bolsonaro, foi uma atrocidade ao povo brasileiro. ENCARECEU a conta de luz e…\n",
            "1630684868005724165\n",
            "RT @CARLOSR86493600: A privatização da Eletrobras, no governo Bolsonaro, foi uma atrocidade ao povo brasileiro. ENCARECEU a conta de luz e…\n",
            "1630684845083852801\n",
            "@ptbrasil @BlogdoNoblat @Haddad_Fernando Tem que acabar o PPI e estatizar ELETROBRAS, REFINARIAS PETROBRAS dadas por preço de 🍌 e com índícios de malandragem/ILÍCITOS do Guedes/Coiso, da auditora PWC, e certos Bilionários. Votei por isso no PT,LULA,ESQUERDA.🤔\n",
            "1630684595069878273\n",
            "@nisia_trindade @LulaOficial @geraldoalckmin https://t.co/xXPhWLFfFk\n",
            "1630683467158544385\n",
            "RT @Sgt_Pimenta4: A Eletrobras foi roubada do povo brasileiro, eqto não houver uma lei que considere o investimento realizado pelo povo em…\n",
            "1630682623893725184\n",
            "RT @mariadorosario: A Eletrobras nunca poderia ter sido privatizada. Foi por bandidagem, como afirma nosso presidente @LulaOficial, por iss…\n"
          ]
        }
      ]
    }
  ]
}